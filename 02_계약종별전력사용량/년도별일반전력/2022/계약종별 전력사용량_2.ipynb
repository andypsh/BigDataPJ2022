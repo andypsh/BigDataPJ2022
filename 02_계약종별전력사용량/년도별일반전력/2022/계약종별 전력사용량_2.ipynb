{
 "cells": [
  {
   "cell_type": "markdown",
   "source": [],
   "metadata": {
    "collapsed": false,
    "pycharm": {
     "name": "#%% md\n"
    }
   }
  },
  {
   "cell_type": "code",
   "execution_count": 2,
   "outputs": [],
   "source": [
    "import pandas as pd\n",
    "\n",
    "\n",
    "pd.options.display.float_format = '{:.0f}'.format"
   ],
   "metadata": {
    "collapsed": false,
    "pycharm": {
     "name": "#%%\n"
    }
   }
  },
  {
   "cell_type": "code",
   "execution_count": 3,
   "outputs": [
    {
     "data": {
      "text/plain": "         계약종별 전력사용량 월별( 20220803 현재 ) Unnamed: 1     Unnamed: 2 Unnamed: 3  \\\n0     시도 : 서울특별시, 시군구 : 전체(시 / 군 / 구)        NaN            NaN        NaN   \n1         기간 : 2022년 01 월 ~ 2022년 05월        NaN            NaN        NaN   \n2                                  년월         시구            시군구       계약구분   \n3                              202201      서울특별시  전체(시 / 군 / 구)        주택용   \n4                              202201      서울특별시  전체(시 / 군 / 구)        일반용   \n...                               ...        ...            ...        ...   \n1031                           202205      서울특별시            중랑구        산업용   \n1032                           202205      서울특별시            중랑구        심 야   \n1033                           202205      서울특별시            중랑구        일반용   \n1034                           202205      서울특별시            중랑구        주택용   \n1035                           202205      서울특별시            중랑구         합계   \n\n      Unnamed: 4      Unnamed: 5        Unnamed: 6     Unnamed: 7  \n0            NaN             NaN               NaN            NaN  \n1            NaN             NaN               NaN            NaN  \n2        고객호수(호)        사용량(kWh)           전기요금(원)  평균판매단가(원/kWh)  \n3     2,884,708   1,303,987,955   156,687,439,742          120.2   \n4       553,491   2,500,834,252   328,390,432,066          131.3   \n...          ...             ...               ...            ...  \n1031      2,623       4,960,933       594,748,585          119.9   \n1032        355         265,625        18,031,733           67.9   \n1033     20,607      33,142,284     4,251,604,123          128.3   \n1034    142,088      39,828,077     4,243,795,819          106.6   \n1035    176,854      80,607,881     9,375,977,994          116.3   \n\n[1036 rows x 8 columns]",
      "text/html": "<div>\n<style scoped>\n    .dataframe tbody tr th:only-of-type {\n        vertical-align: middle;\n    }\n\n    .dataframe tbody tr th {\n        vertical-align: top;\n    }\n\n    .dataframe thead th {\n        text-align: right;\n    }\n</style>\n<table border=\"1\" class=\"dataframe\">\n  <thead>\n    <tr style=\"text-align: right;\">\n      <th></th>\n      <th>계약종별 전력사용량 월별( 20220803 현재 )</th>\n      <th>Unnamed: 1</th>\n      <th>Unnamed: 2</th>\n      <th>Unnamed: 3</th>\n      <th>Unnamed: 4</th>\n      <th>Unnamed: 5</th>\n      <th>Unnamed: 6</th>\n      <th>Unnamed: 7</th>\n    </tr>\n  </thead>\n  <tbody>\n    <tr>\n      <th>0</th>\n      <td>시도 : 서울특별시, 시군구 : 전체(시 / 군 / 구)</td>\n      <td>NaN</td>\n      <td>NaN</td>\n      <td>NaN</td>\n      <td>NaN</td>\n      <td>NaN</td>\n      <td>NaN</td>\n      <td>NaN</td>\n    </tr>\n    <tr>\n      <th>1</th>\n      <td>기간 : 2022년 01 월 ~ 2022년 05월</td>\n      <td>NaN</td>\n      <td>NaN</td>\n      <td>NaN</td>\n      <td>NaN</td>\n      <td>NaN</td>\n      <td>NaN</td>\n      <td>NaN</td>\n    </tr>\n    <tr>\n      <th>2</th>\n      <td>년월</td>\n      <td>시구</td>\n      <td>시군구</td>\n      <td>계약구분</td>\n      <td>고객호수(호)</td>\n      <td>사용량(kWh)</td>\n      <td>전기요금(원)</td>\n      <td>평균판매단가(원/kWh)</td>\n    </tr>\n    <tr>\n      <th>3</th>\n      <td>202201</td>\n      <td>서울특별시</td>\n      <td>전체(시 / 군 / 구)</td>\n      <td>주택용</td>\n      <td>2,884,708</td>\n      <td>1,303,987,955</td>\n      <td>156,687,439,742</td>\n      <td>120.2</td>\n    </tr>\n    <tr>\n      <th>4</th>\n      <td>202201</td>\n      <td>서울특별시</td>\n      <td>전체(시 / 군 / 구)</td>\n      <td>일반용</td>\n      <td>553,491</td>\n      <td>2,500,834,252</td>\n      <td>328,390,432,066</td>\n      <td>131.3</td>\n    </tr>\n    <tr>\n      <th>...</th>\n      <td>...</td>\n      <td>...</td>\n      <td>...</td>\n      <td>...</td>\n      <td>...</td>\n      <td>...</td>\n      <td>...</td>\n      <td>...</td>\n    </tr>\n    <tr>\n      <th>1031</th>\n      <td>202205</td>\n      <td>서울특별시</td>\n      <td>중랑구</td>\n      <td>산업용</td>\n      <td>2,623</td>\n      <td>4,960,933</td>\n      <td>594,748,585</td>\n      <td>119.9</td>\n    </tr>\n    <tr>\n      <th>1032</th>\n      <td>202205</td>\n      <td>서울특별시</td>\n      <td>중랑구</td>\n      <td>심 야</td>\n      <td>355</td>\n      <td>265,625</td>\n      <td>18,031,733</td>\n      <td>67.9</td>\n    </tr>\n    <tr>\n      <th>1033</th>\n      <td>202205</td>\n      <td>서울특별시</td>\n      <td>중랑구</td>\n      <td>일반용</td>\n      <td>20,607</td>\n      <td>33,142,284</td>\n      <td>4,251,604,123</td>\n      <td>128.3</td>\n    </tr>\n    <tr>\n      <th>1034</th>\n      <td>202205</td>\n      <td>서울특별시</td>\n      <td>중랑구</td>\n      <td>주택용</td>\n      <td>142,088</td>\n      <td>39,828,077</td>\n      <td>4,243,795,819</td>\n      <td>106.6</td>\n    </tr>\n    <tr>\n      <th>1035</th>\n      <td>202205</td>\n      <td>서울특별시</td>\n      <td>중랑구</td>\n      <td>합계</td>\n      <td>176,854</td>\n      <td>80,607,881</td>\n      <td>9,375,977,994</td>\n      <td>116.3</td>\n    </tr>\n  </tbody>\n</table>\n<p>1036 rows × 8 columns</p>\n</div>"
     },
     "execution_count": 3,
     "metadata": {},
     "output_type": "execute_result"
    }
   ],
   "source": [
    "df = pd.read_csv('서울특별시_계약종별_전력사용량_월별_2022.csv' , encoding='cp949')\n",
    "\n",
    "df\n",
    "#exchng=  pd.read_csv('지역별_전력거래량_20220803093050.csv' , encoding='cp949')"
   ],
   "metadata": {
    "collapsed": false,
    "pycharm": {
     "name": "#%%\n"
    }
   }
  },
  {
   "cell_type": "code",
   "execution_count": 4,
   "outputs": [],
   "source": [
    "df = df.drop([0,1 , 39] , axis = 0)"
   ],
   "metadata": {
    "collapsed": false,
    "pycharm": {
     "name": "#%%\n"
    }
   }
  },
  {
   "cell_type": "code",
   "execution_count": 5,
   "outputs": [],
   "source": [
    "a= df.loc[2].tolist()\n",
    "a\n",
    "df = df.drop([2] , axis = 0)"
   ],
   "metadata": {
    "collapsed": false,
    "pycharm": {
     "name": "#%%\n"
    }
   }
  },
  {
   "cell_type": "code",
   "execution_count": 6,
   "outputs": [
    {
     "data": {
      "text/plain": "          년월     시구            시군구 계약구분     고객호수(호)        사용량(kWh)  \\\n3     202201  서울특별시  전체(시 / 군 / 구)  주택용  2,884,708   1,303,987,955    \n4     202201  서울특별시  전체(시 / 군 / 구)  일반용    553,491   2,500,834,252    \n5     202201  서울특별시  전체(시 / 군 / 구)  교육용      2,602     206,767,204    \n6     202201  서울특별시  전체(시 / 군 / 구)  산업용     43,065     454,360,497    \n7     202201  서울특별시  전체(시 / 군 / 구)  농사용      1,952       2,385,867    \n...      ...    ...            ...  ...         ...             ...   \n1031  202205  서울특별시            중랑구  산업용      2,623       4,960,933    \n1032  202205  서울특별시            중랑구  심 야        355         265,625    \n1033  202205  서울특별시            중랑구  일반용     20,607      33,142,284    \n1034  202205  서울특별시            중랑구  주택용    142,088      39,828,077    \n1035  202205  서울특별시            중랑구   합계    176,854      80,607,881    \n\n               전기요금(원) 평균판매단가(원/kWh)  \n3     156,687,439,742         120.2   \n4     328,390,432,066         131.3   \n5      19,441,307,587          94.0   \n6      55,040,047,084         121.1   \n7         114,458,313          48.0   \n...                ...           ...  \n1031      594,748,585         119.9   \n1032       18,031,733          67.9   \n1033    4,251,604,123         128.3   \n1034    4,243,795,819         106.6   \n1035    9,375,977,994         116.3   \n\n[1032 rows x 8 columns]",
      "text/html": "<div>\n<style scoped>\n    .dataframe tbody tr th:only-of-type {\n        vertical-align: middle;\n    }\n\n    .dataframe tbody tr th {\n        vertical-align: top;\n    }\n\n    .dataframe thead th {\n        text-align: right;\n    }\n</style>\n<table border=\"1\" class=\"dataframe\">\n  <thead>\n    <tr style=\"text-align: right;\">\n      <th></th>\n      <th>년월</th>\n      <th>시구</th>\n      <th>시군구</th>\n      <th>계약구분</th>\n      <th>고객호수(호)</th>\n      <th>사용량(kWh)</th>\n      <th>전기요금(원)</th>\n      <th>평균판매단가(원/kWh)</th>\n    </tr>\n  </thead>\n  <tbody>\n    <tr>\n      <th>3</th>\n      <td>202201</td>\n      <td>서울특별시</td>\n      <td>전체(시 / 군 / 구)</td>\n      <td>주택용</td>\n      <td>2,884,708</td>\n      <td>1,303,987,955</td>\n      <td>156,687,439,742</td>\n      <td>120.2</td>\n    </tr>\n    <tr>\n      <th>4</th>\n      <td>202201</td>\n      <td>서울특별시</td>\n      <td>전체(시 / 군 / 구)</td>\n      <td>일반용</td>\n      <td>553,491</td>\n      <td>2,500,834,252</td>\n      <td>328,390,432,066</td>\n      <td>131.3</td>\n    </tr>\n    <tr>\n      <th>5</th>\n      <td>202201</td>\n      <td>서울특별시</td>\n      <td>전체(시 / 군 / 구)</td>\n      <td>교육용</td>\n      <td>2,602</td>\n      <td>206,767,204</td>\n      <td>19,441,307,587</td>\n      <td>94.0</td>\n    </tr>\n    <tr>\n      <th>6</th>\n      <td>202201</td>\n      <td>서울특별시</td>\n      <td>전체(시 / 군 / 구)</td>\n      <td>산업용</td>\n      <td>43,065</td>\n      <td>454,360,497</td>\n      <td>55,040,047,084</td>\n      <td>121.1</td>\n    </tr>\n    <tr>\n      <th>7</th>\n      <td>202201</td>\n      <td>서울특별시</td>\n      <td>전체(시 / 군 / 구)</td>\n      <td>농사용</td>\n      <td>1,952</td>\n      <td>2,385,867</td>\n      <td>114,458,313</td>\n      <td>48.0</td>\n    </tr>\n    <tr>\n      <th>...</th>\n      <td>...</td>\n      <td>...</td>\n      <td>...</td>\n      <td>...</td>\n      <td>...</td>\n      <td>...</td>\n      <td>...</td>\n      <td>...</td>\n    </tr>\n    <tr>\n      <th>1031</th>\n      <td>202205</td>\n      <td>서울특별시</td>\n      <td>중랑구</td>\n      <td>산업용</td>\n      <td>2,623</td>\n      <td>4,960,933</td>\n      <td>594,748,585</td>\n      <td>119.9</td>\n    </tr>\n    <tr>\n      <th>1032</th>\n      <td>202205</td>\n      <td>서울특별시</td>\n      <td>중랑구</td>\n      <td>심 야</td>\n      <td>355</td>\n      <td>265,625</td>\n      <td>18,031,733</td>\n      <td>67.9</td>\n    </tr>\n    <tr>\n      <th>1033</th>\n      <td>202205</td>\n      <td>서울특별시</td>\n      <td>중랑구</td>\n      <td>일반용</td>\n      <td>20,607</td>\n      <td>33,142,284</td>\n      <td>4,251,604,123</td>\n      <td>128.3</td>\n    </tr>\n    <tr>\n      <th>1034</th>\n      <td>202205</td>\n      <td>서울특별시</td>\n      <td>중랑구</td>\n      <td>주택용</td>\n      <td>142,088</td>\n      <td>39,828,077</td>\n      <td>4,243,795,819</td>\n      <td>106.6</td>\n    </tr>\n    <tr>\n      <th>1035</th>\n      <td>202205</td>\n      <td>서울특별시</td>\n      <td>중랑구</td>\n      <td>합계</td>\n      <td>176,854</td>\n      <td>80,607,881</td>\n      <td>9,375,977,994</td>\n      <td>116.3</td>\n    </tr>\n  </tbody>\n</table>\n<p>1032 rows × 8 columns</p>\n</div>"
     },
     "execution_count": 6,
     "metadata": {},
     "output_type": "execute_result"
    }
   ],
   "source": [
    "df.columns = a\n",
    "df"
   ],
   "metadata": {
    "collapsed": false,
    "pycharm": {
     "name": "#%%\n"
    }
   }
  },
  {
   "cell_type": "code",
   "execution_count": 7,
   "outputs": [
    {
     "data": {
      "text/plain": "        년월     시구            시군구 계약구분     고객호수(호)        사용량(kWh)  \\\n3   202201  서울특별시  전체(시 / 군 / 구)  주택용  2,884,708   1,303,987,955    \n4   202201  서울특별시  전체(시 / 군 / 구)  일반용    553,491   2,500,834,252    \n5   202201  서울특별시  전체(시 / 군 / 구)  교육용      2,602     206,767,204    \n6   202201  서울특별시  전체(시 / 군 / 구)  산업용     43,065     454,360,497    \n7   202201  서울특별시  전체(시 / 군 / 구)  농사용      1,952       2,385,867    \n8   202201  서울특별시  전체(시 / 군 / 구)  가로등    218,527      26,845,408    \n9   202201  서울특별시  전체(시 / 군 / 구)  심 야     12,260      22,836,284    \n10  202202  서울특별시  전체(시 / 군 / 구)  주택용  2,885,321   1,283,978,502    \n11  202202  서울특별시  전체(시 / 군 / 구)  일반용    554,337   2,370,563,890    \n12  202202  서울특별시  전체(시 / 군 / 구)  교육용      2,605     188,852,554    \n13  202202  서울특별시  전체(시 / 군 / 구)  산업용     43,053     433,826,306    \n14  202202  서울특별시  전체(시 / 군 / 구)  농사용      1,957       2,409,922    \n15  202202  서울특별시  전체(시 / 군 / 구)  가로등    218,819      25,056,386    \n16  202202  서울특별시  전체(시 / 군 / 구)  심 야     12,190      22,686,443    \n17  202203  서울특별시  전체(시 / 군 / 구)  주택용  2,886,065   1,137,991,446    \n18  202203  서울특별시  전체(시 / 군 / 구)  일반용    554,860   2,069,189,330    \n19  202203  서울특별시  전체(시 / 군 / 구)  교육용      2,608     163,317,699    \n20  202203  서울특별시  전체(시 / 군 / 구)  산업용     43,046     398,998,807    \n21  202203  서울특별시  전체(시 / 군 / 구)  농사용      2,216       2,099,533    \n22  202203  서울특별시  전체(시 / 군 / 구)  가로등    219,686      22,723,826    \n23  202203  서울특별시  전체(시 / 군 / 구)  심 야     12,145      18,682,210    \n24  202204  서울특별시  전체(시 / 군 / 구)  주택용  2,888,402   1,123,194,089    \n25  202204  서울특별시  전체(시 / 군 / 구)  일반용    555,604   1,891,608,151    \n26  202204  서울특별시  전체(시 / 군 / 구)  교육용      2,608     138,000,290    \n27  202204  서울특별시  전체(시 / 군 / 구)  산업용     43,015     388,596,924    \n28  202204  서울특별시  전체(시 / 군 / 구)  농사용      1,979       1,738,529    \n29  202204  서울특별시  전체(시 / 군 / 구)  가로등    229,771      21,850,148    \n30  202204  서울특별시  전체(시 / 군 / 구)  심 야     12,096      21,990,405    \n31  202205  서울특별시  전체(시 / 군 / 구)  주택용  2,887,111   1,065,676,206    \n32  202205  서울특별시  전체(시 / 군 / 구)  일반용    556,334   1,876,932,783    \n33  202205  서울특별시  전체(시 / 군 / 구)  교육용      2,606     111,789,293    \n34  202205  서울특별시  전체(시 / 군 / 구)  산업용     42,986     376,121,654    \n35  202205  서울특별시  전체(시 / 군 / 구)  농사용      1,989       1,597,310    \n36  202205  서울특별시  전체(시 / 군 / 구)  가로등    230,186      20,084,619    \n37  202205  서울특별시  전체(시 / 군 / 구)  심 야     12,036      32,081,288    \n38      합계     합계             합계   합계  18,622,236  19,729,656,010   \n\n              전기요금(원) 평균판매단가(원/kWh)  \n3    156,687,439,742         120.2   \n4    328,390,432,066         131.3   \n5     19,441,307,587          94.0   \n6     55,040,047,084         121.1   \n7        114,458,313          48.0   \n8      2,850,643,445         106.2   \n9      1,929,658,531          84.5   \n10   152,901,568,429         119.1   \n11   315,006,986,596         132.9   \n12    18,078,680,076          95.7   \n13    52,880,282,748         121.9   \n14       116,162,144          48.2   \n15     2,802,923,695         111.9   \n16     1,906,992,977          84.1   \n17   124,597,697,564         109.5   \n18   252,192,329,174         121.9   \n19    15,571,253,204          95.3   \n20    43,576,929,120         109.2   \n21       100,920,248          48.1   \n22     2,571,518,616         113.2   \n23     1,442,981,286          77.2   \n24   125,479,633,075         111.7   \n25   228,460,496,816         120.8   \n26    12,782,772,555          92.6   \n27    42,102,222,270         108.3   \n28        92,605,768          53.3   \n29     2,636,516,403         120.7   \n30     1,815,477,443          82.6   \n31   118,093,542,108         110.8   \n32   232,332,481,177         123.8   \n33    10,647,402,222          95.2   \n34    42,459,508,403         112.9   \n35        91,348,383          57.2   \n36     2,595,196,277         129.2   \n37     2,641,785,318          82.3   \n38  2,370,432,200,863         120.1  ",
      "text/html": "<div>\n<style scoped>\n    .dataframe tbody tr th:only-of-type {\n        vertical-align: middle;\n    }\n\n    .dataframe tbody tr th {\n        vertical-align: top;\n    }\n\n    .dataframe thead th {\n        text-align: right;\n    }\n</style>\n<table border=\"1\" class=\"dataframe\">\n  <thead>\n    <tr style=\"text-align: right;\">\n      <th></th>\n      <th>년월</th>\n      <th>시구</th>\n      <th>시군구</th>\n      <th>계약구분</th>\n      <th>고객호수(호)</th>\n      <th>사용량(kWh)</th>\n      <th>전기요금(원)</th>\n      <th>평균판매단가(원/kWh)</th>\n    </tr>\n  </thead>\n  <tbody>\n    <tr>\n      <th>3</th>\n      <td>202201</td>\n      <td>서울특별시</td>\n      <td>전체(시 / 군 / 구)</td>\n      <td>주택용</td>\n      <td>2,884,708</td>\n      <td>1,303,987,955</td>\n      <td>156,687,439,742</td>\n      <td>120.2</td>\n    </tr>\n    <tr>\n      <th>4</th>\n      <td>202201</td>\n      <td>서울특별시</td>\n      <td>전체(시 / 군 / 구)</td>\n      <td>일반용</td>\n      <td>553,491</td>\n      <td>2,500,834,252</td>\n      <td>328,390,432,066</td>\n      <td>131.3</td>\n    </tr>\n    <tr>\n      <th>5</th>\n      <td>202201</td>\n      <td>서울특별시</td>\n      <td>전체(시 / 군 / 구)</td>\n      <td>교육용</td>\n      <td>2,602</td>\n      <td>206,767,204</td>\n      <td>19,441,307,587</td>\n      <td>94.0</td>\n    </tr>\n    <tr>\n      <th>6</th>\n      <td>202201</td>\n      <td>서울특별시</td>\n      <td>전체(시 / 군 / 구)</td>\n      <td>산업용</td>\n      <td>43,065</td>\n      <td>454,360,497</td>\n      <td>55,040,047,084</td>\n      <td>121.1</td>\n    </tr>\n    <tr>\n      <th>7</th>\n      <td>202201</td>\n      <td>서울특별시</td>\n      <td>전체(시 / 군 / 구)</td>\n      <td>농사용</td>\n      <td>1,952</td>\n      <td>2,385,867</td>\n      <td>114,458,313</td>\n      <td>48.0</td>\n    </tr>\n    <tr>\n      <th>8</th>\n      <td>202201</td>\n      <td>서울특별시</td>\n      <td>전체(시 / 군 / 구)</td>\n      <td>가로등</td>\n      <td>218,527</td>\n      <td>26,845,408</td>\n      <td>2,850,643,445</td>\n      <td>106.2</td>\n    </tr>\n    <tr>\n      <th>9</th>\n      <td>202201</td>\n      <td>서울특별시</td>\n      <td>전체(시 / 군 / 구)</td>\n      <td>심 야</td>\n      <td>12,260</td>\n      <td>22,836,284</td>\n      <td>1,929,658,531</td>\n      <td>84.5</td>\n    </tr>\n    <tr>\n      <th>10</th>\n      <td>202202</td>\n      <td>서울특별시</td>\n      <td>전체(시 / 군 / 구)</td>\n      <td>주택용</td>\n      <td>2,885,321</td>\n      <td>1,283,978,502</td>\n      <td>152,901,568,429</td>\n      <td>119.1</td>\n    </tr>\n    <tr>\n      <th>11</th>\n      <td>202202</td>\n      <td>서울특별시</td>\n      <td>전체(시 / 군 / 구)</td>\n      <td>일반용</td>\n      <td>554,337</td>\n      <td>2,370,563,890</td>\n      <td>315,006,986,596</td>\n      <td>132.9</td>\n    </tr>\n    <tr>\n      <th>12</th>\n      <td>202202</td>\n      <td>서울특별시</td>\n      <td>전체(시 / 군 / 구)</td>\n      <td>교육용</td>\n      <td>2,605</td>\n      <td>188,852,554</td>\n      <td>18,078,680,076</td>\n      <td>95.7</td>\n    </tr>\n    <tr>\n      <th>13</th>\n      <td>202202</td>\n      <td>서울특별시</td>\n      <td>전체(시 / 군 / 구)</td>\n      <td>산업용</td>\n      <td>43,053</td>\n      <td>433,826,306</td>\n      <td>52,880,282,748</td>\n      <td>121.9</td>\n    </tr>\n    <tr>\n      <th>14</th>\n      <td>202202</td>\n      <td>서울특별시</td>\n      <td>전체(시 / 군 / 구)</td>\n      <td>농사용</td>\n      <td>1,957</td>\n      <td>2,409,922</td>\n      <td>116,162,144</td>\n      <td>48.2</td>\n    </tr>\n    <tr>\n      <th>15</th>\n      <td>202202</td>\n      <td>서울특별시</td>\n      <td>전체(시 / 군 / 구)</td>\n      <td>가로등</td>\n      <td>218,819</td>\n      <td>25,056,386</td>\n      <td>2,802,923,695</td>\n      <td>111.9</td>\n    </tr>\n    <tr>\n      <th>16</th>\n      <td>202202</td>\n      <td>서울특별시</td>\n      <td>전체(시 / 군 / 구)</td>\n      <td>심 야</td>\n      <td>12,190</td>\n      <td>22,686,443</td>\n      <td>1,906,992,977</td>\n      <td>84.1</td>\n    </tr>\n    <tr>\n      <th>17</th>\n      <td>202203</td>\n      <td>서울특별시</td>\n      <td>전체(시 / 군 / 구)</td>\n      <td>주택용</td>\n      <td>2,886,065</td>\n      <td>1,137,991,446</td>\n      <td>124,597,697,564</td>\n      <td>109.5</td>\n    </tr>\n    <tr>\n      <th>18</th>\n      <td>202203</td>\n      <td>서울특별시</td>\n      <td>전체(시 / 군 / 구)</td>\n      <td>일반용</td>\n      <td>554,860</td>\n      <td>2,069,189,330</td>\n      <td>252,192,329,174</td>\n      <td>121.9</td>\n    </tr>\n    <tr>\n      <th>19</th>\n      <td>202203</td>\n      <td>서울특별시</td>\n      <td>전체(시 / 군 / 구)</td>\n      <td>교육용</td>\n      <td>2,608</td>\n      <td>163,317,699</td>\n      <td>15,571,253,204</td>\n      <td>95.3</td>\n    </tr>\n    <tr>\n      <th>20</th>\n      <td>202203</td>\n      <td>서울특별시</td>\n      <td>전체(시 / 군 / 구)</td>\n      <td>산업용</td>\n      <td>43,046</td>\n      <td>398,998,807</td>\n      <td>43,576,929,120</td>\n      <td>109.2</td>\n    </tr>\n    <tr>\n      <th>21</th>\n      <td>202203</td>\n      <td>서울특별시</td>\n      <td>전체(시 / 군 / 구)</td>\n      <td>농사용</td>\n      <td>2,216</td>\n      <td>2,099,533</td>\n      <td>100,920,248</td>\n      <td>48.1</td>\n    </tr>\n    <tr>\n      <th>22</th>\n      <td>202203</td>\n      <td>서울특별시</td>\n      <td>전체(시 / 군 / 구)</td>\n      <td>가로등</td>\n      <td>219,686</td>\n      <td>22,723,826</td>\n      <td>2,571,518,616</td>\n      <td>113.2</td>\n    </tr>\n    <tr>\n      <th>23</th>\n      <td>202203</td>\n      <td>서울특별시</td>\n      <td>전체(시 / 군 / 구)</td>\n      <td>심 야</td>\n      <td>12,145</td>\n      <td>18,682,210</td>\n      <td>1,442,981,286</td>\n      <td>77.2</td>\n    </tr>\n    <tr>\n      <th>24</th>\n      <td>202204</td>\n      <td>서울특별시</td>\n      <td>전체(시 / 군 / 구)</td>\n      <td>주택용</td>\n      <td>2,888,402</td>\n      <td>1,123,194,089</td>\n      <td>125,479,633,075</td>\n      <td>111.7</td>\n    </tr>\n    <tr>\n      <th>25</th>\n      <td>202204</td>\n      <td>서울특별시</td>\n      <td>전체(시 / 군 / 구)</td>\n      <td>일반용</td>\n      <td>555,604</td>\n      <td>1,891,608,151</td>\n      <td>228,460,496,816</td>\n      <td>120.8</td>\n    </tr>\n    <tr>\n      <th>26</th>\n      <td>202204</td>\n      <td>서울특별시</td>\n      <td>전체(시 / 군 / 구)</td>\n      <td>교육용</td>\n      <td>2,608</td>\n      <td>138,000,290</td>\n      <td>12,782,772,555</td>\n      <td>92.6</td>\n    </tr>\n    <tr>\n      <th>27</th>\n      <td>202204</td>\n      <td>서울특별시</td>\n      <td>전체(시 / 군 / 구)</td>\n      <td>산업용</td>\n      <td>43,015</td>\n      <td>388,596,924</td>\n      <td>42,102,222,270</td>\n      <td>108.3</td>\n    </tr>\n    <tr>\n      <th>28</th>\n      <td>202204</td>\n      <td>서울특별시</td>\n      <td>전체(시 / 군 / 구)</td>\n      <td>농사용</td>\n      <td>1,979</td>\n      <td>1,738,529</td>\n      <td>92,605,768</td>\n      <td>53.3</td>\n    </tr>\n    <tr>\n      <th>29</th>\n      <td>202204</td>\n      <td>서울특별시</td>\n      <td>전체(시 / 군 / 구)</td>\n      <td>가로등</td>\n      <td>229,771</td>\n      <td>21,850,148</td>\n      <td>2,636,516,403</td>\n      <td>120.7</td>\n    </tr>\n    <tr>\n      <th>30</th>\n      <td>202204</td>\n      <td>서울특별시</td>\n      <td>전체(시 / 군 / 구)</td>\n      <td>심 야</td>\n      <td>12,096</td>\n      <td>21,990,405</td>\n      <td>1,815,477,443</td>\n      <td>82.6</td>\n    </tr>\n    <tr>\n      <th>31</th>\n      <td>202205</td>\n      <td>서울특별시</td>\n      <td>전체(시 / 군 / 구)</td>\n      <td>주택용</td>\n      <td>2,887,111</td>\n      <td>1,065,676,206</td>\n      <td>118,093,542,108</td>\n      <td>110.8</td>\n    </tr>\n    <tr>\n      <th>32</th>\n      <td>202205</td>\n      <td>서울특별시</td>\n      <td>전체(시 / 군 / 구)</td>\n      <td>일반용</td>\n      <td>556,334</td>\n      <td>1,876,932,783</td>\n      <td>232,332,481,177</td>\n      <td>123.8</td>\n    </tr>\n    <tr>\n      <th>33</th>\n      <td>202205</td>\n      <td>서울특별시</td>\n      <td>전체(시 / 군 / 구)</td>\n      <td>교육용</td>\n      <td>2,606</td>\n      <td>111,789,293</td>\n      <td>10,647,402,222</td>\n      <td>95.2</td>\n    </tr>\n    <tr>\n      <th>34</th>\n      <td>202205</td>\n      <td>서울특별시</td>\n      <td>전체(시 / 군 / 구)</td>\n      <td>산업용</td>\n      <td>42,986</td>\n      <td>376,121,654</td>\n      <td>42,459,508,403</td>\n      <td>112.9</td>\n    </tr>\n    <tr>\n      <th>35</th>\n      <td>202205</td>\n      <td>서울특별시</td>\n      <td>전체(시 / 군 / 구)</td>\n      <td>농사용</td>\n      <td>1,989</td>\n      <td>1,597,310</td>\n      <td>91,348,383</td>\n      <td>57.2</td>\n    </tr>\n    <tr>\n      <th>36</th>\n      <td>202205</td>\n      <td>서울특별시</td>\n      <td>전체(시 / 군 / 구)</td>\n      <td>가로등</td>\n      <td>230,186</td>\n      <td>20,084,619</td>\n      <td>2,595,196,277</td>\n      <td>129.2</td>\n    </tr>\n    <tr>\n      <th>37</th>\n      <td>202205</td>\n      <td>서울특별시</td>\n      <td>전체(시 / 군 / 구)</td>\n      <td>심 야</td>\n      <td>12,036</td>\n      <td>32,081,288</td>\n      <td>2,641,785,318</td>\n      <td>82.3</td>\n    </tr>\n    <tr>\n      <th>38</th>\n      <td>합계</td>\n      <td>합계</td>\n      <td>합계</td>\n      <td>합계</td>\n      <td>18,622,236</td>\n      <td>19,729,656,010</td>\n      <td>2,370,432,200,863</td>\n      <td>120.1</td>\n    </tr>\n  </tbody>\n</table>\n</div>"
     },
     "execution_count": 7,
     "metadata": {},
     "output_type": "execute_result"
    }
   ],
   "source": [
    "df_2 = df.loc[:38]\n",
    "df_2\n"
   ],
   "metadata": {
    "collapsed": false,
    "pycharm": {
     "name": "#%%\n"
    }
   }
  },
  {
   "cell_type": "code",
   "execution_count": 40,
   "outputs": [
    {
     "name": "stderr",
     "output_type": "stream",
     "text": [
      "C:\\Users\\user\\AppData\\Local\\Temp\\ipykernel_12332\\572849638.py:3: SettingWithCopyWarning: \n",
      "A value is trying to be set on a copy of a slice from a DataFrame\n",
      "\n",
      "See the caveats in the documentation: https://pandas.pydata.org/pandas-docs/stable/user_guide/indexing.html#returning-a-view-versus-a-copy\n",
      "  SEOUL1.drop(['시군구' ,'고객호수(호)' , '전기요금(원)' , '평균판매단가(원/kWh)'] , axis = 1 , inplace = True)\n"
     ]
    },
    {
     "data": {
      "text/plain": "        년월     시구 계약구분        사용량(kWh)\n4   202201  서울특별시  일반용  2,500,834,252 \n11  202202  서울특별시  일반용  2,370,563,890 \n18  202203  서울특별시  일반용  2,069,189,330 \n25  202204  서울특별시  일반용  1,891,608,151 \n32  202205  서울특별시  일반용  1,876,932,783 ",
      "text/html": "<div>\n<style scoped>\n    .dataframe tbody tr th:only-of-type {\n        vertical-align: middle;\n    }\n\n    .dataframe tbody tr th {\n        vertical-align: top;\n    }\n\n    .dataframe thead th {\n        text-align: right;\n    }\n</style>\n<table border=\"1\" class=\"dataframe\">\n  <thead>\n    <tr style=\"text-align: right;\">\n      <th></th>\n      <th>년월</th>\n      <th>시구</th>\n      <th>계약구분</th>\n      <th>사용량(kWh)</th>\n    </tr>\n  </thead>\n  <tbody>\n    <tr>\n      <th>4</th>\n      <td>202201</td>\n      <td>서울특별시</td>\n      <td>일반용</td>\n      <td>2,500,834,252</td>\n    </tr>\n    <tr>\n      <th>11</th>\n      <td>202202</td>\n      <td>서울특별시</td>\n      <td>일반용</td>\n      <td>2,370,563,890</td>\n    </tr>\n    <tr>\n      <th>18</th>\n      <td>202203</td>\n      <td>서울특별시</td>\n      <td>일반용</td>\n      <td>2,069,189,330</td>\n    </tr>\n    <tr>\n      <th>25</th>\n      <td>202204</td>\n      <td>서울특별시</td>\n      <td>일반용</td>\n      <td>1,891,608,151</td>\n    </tr>\n    <tr>\n      <th>32</th>\n      <td>202205</td>\n      <td>서울특별시</td>\n      <td>일반용</td>\n      <td>1,876,932,783</td>\n    </tr>\n  </tbody>\n</table>\n</div>"
     },
     "execution_count": 40,
     "metadata": {},
     "output_type": "execute_result"
    }
   ],
   "source": [
    "SEOUL1  = df_2.loc[(df_2['계약구분'] == '일반용')]\n",
    "#SEOUL = df_3.loc[(df_3['계약구분'] =='일반용')]\n",
    "SEOUL1.drop(['시군구' ,'고객호수(호)' , '전기요금(원)' , '평균판매단가(원/kWh)'] , axis = 1 , inplace = True)\n",
    "SEOUL1"
   ],
   "metadata": {
    "collapsed": false,
    "pycharm": {
     "name": "#%%\n"
    }
   }
  },
  {
   "cell_type": "code",
   "execution_count": 41,
   "outputs": [],
   "source": [
    "SEOUL1.to_csv(\"서울특별시_계약종별_전국_전력사용량_2022.csv\" , mode = 'w' , encoding= 'cp949')"
   ],
   "metadata": {
    "collapsed": false,
    "pycharm": {
     "name": "#%%\n"
    }
   }
  },
  {
   "cell_type": "code",
   "execution_count": 8,
   "outputs": [],
   "source": [
    "df_2.to_csv(\"서울특별시_계약종별_전국_전력사용량.csv\" , mode = 'w' , encoding= 'cp949')"
   ],
   "metadata": {
    "collapsed": false,
    "pycharm": {
     "name": "#%%\n"
    }
   }
  },
  {
   "cell_type": "code",
   "execution_count": 9,
   "outputs": [
    {
     "data": {
      "text/plain": "          년월     시구  시군구 계약구분   고객호수(호)     사용량(kWh)         전기요금(원)  \\\n41    202201  서울특별시  강남구  가로등   12,755    1,915,432     205,950,348    \n42    202201  서울특별시  강남구  교육용      124    6,189,717     596,553,794    \n43    202201  서울특별시  강남구  농사용      179      186,106       8,871,920    \n44    202201  서울특별시  강남구  산업용    1,048   31,394,053   3,669,618,901    \n45    202201  서울특별시  강남구  심 야      624    1,551,562     139,845,829    \n...      ...    ...  ...  ...       ...          ...             ...   \n1031  202205  서울특별시  중랑구  산업용    2,623    4,960,933     594,748,585    \n1032  202205  서울특별시  중랑구  심 야      355      265,625      18,031,733    \n1033  202205  서울특별시  중랑구  일반용   20,607   33,142,284   4,251,604,123    \n1034  202205  서울특별시  중랑구  주택용  142,088   39,828,077   4,243,795,819    \n1035  202205  서울특별시  중랑구   합계  176,854   80,607,881   9,375,977,994    \n\n     평균판매단가(원/kWh)  \n41          107.5   \n42           96.4   \n43           47.7   \n44          116.9   \n45           90.1   \n...            ...  \n1031        119.9   \n1032         67.9   \n1033        128.3   \n1034        106.6   \n1035        116.3   \n\n[995 rows x 8 columns]",
      "text/html": "<div>\n<style scoped>\n    .dataframe tbody tr th:only-of-type {\n        vertical-align: middle;\n    }\n\n    .dataframe tbody tr th {\n        vertical-align: top;\n    }\n\n    .dataframe thead th {\n        text-align: right;\n    }\n</style>\n<table border=\"1\" class=\"dataframe\">\n  <thead>\n    <tr style=\"text-align: right;\">\n      <th></th>\n      <th>년월</th>\n      <th>시구</th>\n      <th>시군구</th>\n      <th>계약구분</th>\n      <th>고객호수(호)</th>\n      <th>사용량(kWh)</th>\n      <th>전기요금(원)</th>\n      <th>평균판매단가(원/kWh)</th>\n    </tr>\n  </thead>\n  <tbody>\n    <tr>\n      <th>41</th>\n      <td>202201</td>\n      <td>서울특별시</td>\n      <td>강남구</td>\n      <td>가로등</td>\n      <td>12,755</td>\n      <td>1,915,432</td>\n      <td>205,950,348</td>\n      <td>107.5</td>\n    </tr>\n    <tr>\n      <th>42</th>\n      <td>202201</td>\n      <td>서울특별시</td>\n      <td>강남구</td>\n      <td>교육용</td>\n      <td>124</td>\n      <td>6,189,717</td>\n      <td>596,553,794</td>\n      <td>96.4</td>\n    </tr>\n    <tr>\n      <th>43</th>\n      <td>202201</td>\n      <td>서울특별시</td>\n      <td>강남구</td>\n      <td>농사용</td>\n      <td>179</td>\n      <td>186,106</td>\n      <td>8,871,920</td>\n      <td>47.7</td>\n    </tr>\n    <tr>\n      <th>44</th>\n      <td>202201</td>\n      <td>서울특별시</td>\n      <td>강남구</td>\n      <td>산업용</td>\n      <td>1,048</td>\n      <td>31,394,053</td>\n      <td>3,669,618,901</td>\n      <td>116.9</td>\n    </tr>\n    <tr>\n      <th>45</th>\n      <td>202201</td>\n      <td>서울특별시</td>\n      <td>강남구</td>\n      <td>심 야</td>\n      <td>624</td>\n      <td>1,551,562</td>\n      <td>139,845,829</td>\n      <td>90.1</td>\n    </tr>\n    <tr>\n      <th>...</th>\n      <td>...</td>\n      <td>...</td>\n      <td>...</td>\n      <td>...</td>\n      <td>...</td>\n      <td>...</td>\n      <td>...</td>\n      <td>...</td>\n    </tr>\n    <tr>\n      <th>1031</th>\n      <td>202205</td>\n      <td>서울특별시</td>\n      <td>중랑구</td>\n      <td>산업용</td>\n      <td>2,623</td>\n      <td>4,960,933</td>\n      <td>594,748,585</td>\n      <td>119.9</td>\n    </tr>\n    <tr>\n      <th>1032</th>\n      <td>202205</td>\n      <td>서울특별시</td>\n      <td>중랑구</td>\n      <td>심 야</td>\n      <td>355</td>\n      <td>265,625</td>\n      <td>18,031,733</td>\n      <td>67.9</td>\n    </tr>\n    <tr>\n      <th>1033</th>\n      <td>202205</td>\n      <td>서울특별시</td>\n      <td>중랑구</td>\n      <td>일반용</td>\n      <td>20,607</td>\n      <td>33,142,284</td>\n      <td>4,251,604,123</td>\n      <td>128.3</td>\n    </tr>\n    <tr>\n      <th>1034</th>\n      <td>202205</td>\n      <td>서울특별시</td>\n      <td>중랑구</td>\n      <td>주택용</td>\n      <td>142,088</td>\n      <td>39,828,077</td>\n      <td>4,243,795,819</td>\n      <td>106.6</td>\n    </tr>\n    <tr>\n      <th>1035</th>\n      <td>202205</td>\n      <td>서울특별시</td>\n      <td>중랑구</td>\n      <td>합계</td>\n      <td>176,854</td>\n      <td>80,607,881</td>\n      <td>9,375,977,994</td>\n      <td>116.3</td>\n    </tr>\n  </tbody>\n</table>\n<p>995 rows × 8 columns</p>\n</div>"
     },
     "execution_count": 9,
     "metadata": {},
     "output_type": "execute_result"
    }
   ],
   "source": [
    "df_3 = df.loc[41:]\n",
    "\n",
    "df_3"
   ],
   "metadata": {
    "collapsed": false,
    "pycharm": {
     "name": "#%%\n"
    }
   }
  },
  {
   "cell_type": "code",
   "execution_count": 11,
   "outputs": [
    {
     "data": {
      "text/plain": "['강남구',\n '강동구',\n '강북구',\n '강서구',\n '관악구',\n '광진구',\n '구로구',\n '금천구',\n '노원구',\n '도봉구',\n '동대문구',\n '동작구',\n '마포구',\n '서대문구',\n '서초구',\n '성동구',\n '성북구',\n '송파구',\n '양천구',\n '영등포구',\n '용산구',\n '은평구',\n '종로구',\n '중구',\n '중랑구']"
     },
     "execution_count": 11,
     "metadata": {},
     "output_type": "execute_result"
    }
   ],
   "source": [
    "Sigu = list(set(df_3['시군구'].tolist()))\n",
    "\n",
    "Sigu.sort()\n",
    "\n",
    "Sigu"
   ],
   "metadata": {
    "collapsed": false,
    "pycharm": {
     "name": "#%%\n"
    }
   }
  },
  {
   "cell_type": "code",
   "execution_count": 12,
   "outputs": [
    {
     "data": {
      "text/plain": "['202201', '202202', '202203', '202204', '202205']"
     },
     "execution_count": 12,
     "metadata": {},
     "output_type": "execute_result"
    }
   ],
   "source": [
    "YearMonth = list(set(df_3['년월'].tolist()))\n",
    "\n",
    "YearMonth.sort()\n",
    "YearMonth"
   ],
   "metadata": {
    "collapsed": false,
    "pycharm": {
     "name": "#%%\n"
    }
   }
  },
  {
   "cell_type": "code",
   "execution_count": 13,
   "outputs": [
    {
     "data": {
      "text/plain": "['가로등', '교육용', '농사용', '산업용', '심 야', '일반용', '주택용', '합계']"
     },
     "execution_count": 13,
     "metadata": {},
     "output_type": "execute_result"
    }
   ],
   "source": [
    "Gayeak = list(set(df_3['계약구분'].tolist()))\n",
    "\n",
    "Gayeak.sort()\n",
    "Gayeak"
   ],
   "metadata": {
    "collapsed": false,
    "pycharm": {
     "name": "#%%\n"
    }
   }
  },
  {
   "cell_type": "code",
   "execution_count": 35,
   "outputs": [
    {
     "name": "stderr",
     "output_type": "stream",
     "text": [
      "C:\\Users\\user\\AppData\\Local\\Temp\\ipykernel_12332\\1069619713.py:2: SettingWithCopyWarning: \n",
      "A value is trying to be set on a copy of a slice from a DataFrame\n",
      "\n",
      "See the caveats in the documentation: https://pandas.pydata.org/pandas-docs/stable/user_guide/indexing.html#returning-a-view-versus-a-copy\n",
      "  SEOUL.drop(['고객호수(호)' ,'전기요금(원)' , '평균판매단가(원/kWh)'] , axis = 1 , inplace = True)\n"
     ]
    },
    {
     "data": {
      "text/plain": "          년월     시구  시군구 계약구분      사용량(kWh)\n46    202201  서울특별시  강남구  일반용  339,015,601 \n54    202201  서울특별시  강동구  일반용   74,957,337 \n62    202201  서울특별시  강북구  일반용   41,200,356 \n70    202201  서울특별시  강서구  일반용  134,532,532 \n78    202201  서울특별시  관악구  일반용   71,189,701 \n...      ...    ...  ...  ...           ...\n1002  202205  서울특별시  용산구  일반용   62,605,922 \n1010  202205  서울특별시  은평구  일반용   38,178,400 \n1018  202205  서울특별시  종로구  일반용   87,152,665 \n1025  202205  서울특별시   중구  일반용  127,183,571 \n1033  202205  서울특별시  중랑구  일반용   33,142,284 \n\n[125 rows x 5 columns]",
      "text/html": "<div>\n<style scoped>\n    .dataframe tbody tr th:only-of-type {\n        vertical-align: middle;\n    }\n\n    .dataframe tbody tr th {\n        vertical-align: top;\n    }\n\n    .dataframe thead th {\n        text-align: right;\n    }\n</style>\n<table border=\"1\" class=\"dataframe\">\n  <thead>\n    <tr style=\"text-align: right;\">\n      <th></th>\n      <th>년월</th>\n      <th>시구</th>\n      <th>시군구</th>\n      <th>계약구분</th>\n      <th>사용량(kWh)</th>\n    </tr>\n  </thead>\n  <tbody>\n    <tr>\n      <th>46</th>\n      <td>202201</td>\n      <td>서울특별시</td>\n      <td>강남구</td>\n      <td>일반용</td>\n      <td>339,015,601</td>\n    </tr>\n    <tr>\n      <th>54</th>\n      <td>202201</td>\n      <td>서울특별시</td>\n      <td>강동구</td>\n      <td>일반용</td>\n      <td>74,957,337</td>\n    </tr>\n    <tr>\n      <th>62</th>\n      <td>202201</td>\n      <td>서울특별시</td>\n      <td>강북구</td>\n      <td>일반용</td>\n      <td>41,200,356</td>\n    </tr>\n    <tr>\n      <th>70</th>\n      <td>202201</td>\n      <td>서울특별시</td>\n      <td>강서구</td>\n      <td>일반용</td>\n      <td>134,532,532</td>\n    </tr>\n    <tr>\n      <th>78</th>\n      <td>202201</td>\n      <td>서울특별시</td>\n      <td>관악구</td>\n      <td>일반용</td>\n      <td>71,189,701</td>\n    </tr>\n    <tr>\n      <th>...</th>\n      <td>...</td>\n      <td>...</td>\n      <td>...</td>\n      <td>...</td>\n      <td>...</td>\n    </tr>\n    <tr>\n      <th>1002</th>\n      <td>202205</td>\n      <td>서울특별시</td>\n      <td>용산구</td>\n      <td>일반용</td>\n      <td>62,605,922</td>\n    </tr>\n    <tr>\n      <th>1010</th>\n      <td>202205</td>\n      <td>서울특별시</td>\n      <td>은평구</td>\n      <td>일반용</td>\n      <td>38,178,400</td>\n    </tr>\n    <tr>\n      <th>1018</th>\n      <td>202205</td>\n      <td>서울특별시</td>\n      <td>종로구</td>\n      <td>일반용</td>\n      <td>87,152,665</td>\n    </tr>\n    <tr>\n      <th>1025</th>\n      <td>202205</td>\n      <td>서울특별시</td>\n      <td>중구</td>\n      <td>일반용</td>\n      <td>127,183,571</td>\n    </tr>\n    <tr>\n      <th>1033</th>\n      <td>202205</td>\n      <td>서울특별시</td>\n      <td>중랑구</td>\n      <td>일반용</td>\n      <td>33,142,284</td>\n    </tr>\n  </tbody>\n</table>\n<p>125 rows × 5 columns</p>\n</div>"
     },
     "execution_count": 35,
     "metadata": {},
     "output_type": "execute_result"
    }
   ],
   "source": [
    "SEOUL = df_3.loc[(df_3['계약구분'] =='일반용')]\n",
    "SEOUL.drop(['고객호수(호)' ,'전기요금(원)' , '평균판매단가(원/kWh)'] , axis = 1 , inplace = True)\n",
    "#SEOUL.dtypes(['사용량(kWh)'])\n",
    "SEOUL"
   ],
   "metadata": {
    "collapsed": false,
    "pycharm": {
     "name": "#%%\n"
    }
   }
  },
  {
   "cell_type": "code",
   "execution_count": 36,
   "outputs": [],
   "source": [
    "#SEOUL.to_csv(\"서울특별시_일반용_전력사용량.csv\" , mode = 'w' , encoding= 'cp949')"
   ],
   "metadata": {
    "collapsed": false,
    "pycharm": {
     "name": "#%%\n"
    }
   }
  },
  {
   "cell_type": "code",
   "execution_count": 27,
   "outputs": [
    {
     "name": "stdout",
     "output_type": "stream",
     "text": [
      "년월               object\n",
      "시구               object\n",
      "시군구              object\n",
      "계약구분             object\n",
      "고객호수(호)          object\n",
      "사용량(kWh)         object\n",
      "전기요금(원)          object\n",
      "평균판매단가(원/kWh)    object\n",
      "dtype: object\n"
     ]
    },
    {
     "ename": "ValueError",
     "evalue": "could not convert string to float: '339,015,601 '",
     "output_type": "error",
     "traceback": [
      "\u001B[1;31m---------------------------------------------------------------------------\u001B[0m",
      "\u001B[1;31mValueError\u001B[0m                                Traceback (most recent call last)",
      "Input \u001B[1;32mIn [27]\u001B[0m, in \u001B[0;36m<cell line: 2>\u001B[1;34m()\u001B[0m\n\u001B[0;32m      1\u001B[0m \u001B[38;5;28mprint\u001B[39m(SEOUL\u001B[38;5;241m.\u001B[39mdtypes)\n\u001B[1;32m----> 2\u001B[0m SEOUL \u001B[38;5;241m=\u001B[39m \u001B[43mSEOUL\u001B[49m\u001B[38;5;241;43m.\u001B[39;49m\u001B[43mastype\u001B[49m\u001B[43m(\u001B[49m\u001B[43m{\u001B[49m\u001B[38;5;124;43m'\u001B[39;49m\u001B[38;5;124;43m사용량(kWh)\u001B[39;49m\u001B[38;5;124;43m'\u001B[39;49m\u001B[43m \u001B[49m\u001B[43m:\u001B[49m\u001B[43m \u001B[49m\u001B[38;5;124;43m'\u001B[39;49m\u001B[38;5;124;43mfloat\u001B[39;49m\u001B[38;5;124;43m'\u001B[39;49m\u001B[43m}\u001B[49m\u001B[43m)\u001B[49m\n",
      "File \u001B[1;32m~\\anaconda3\\lib\\site-packages\\pandas\\core\\generic.py:5898\u001B[0m, in \u001B[0;36mNDFrame.astype\u001B[1;34m(self, dtype, copy, errors)\u001B[0m\n\u001B[0;32m   5896\u001B[0m             res_col \u001B[38;5;241m=\u001B[39m col\u001B[38;5;241m.\u001B[39mcopy() \u001B[38;5;28;01mif\u001B[39;00m copy \u001B[38;5;28;01melse\u001B[39;00m col\n\u001B[0;32m   5897\u001B[0m         \u001B[38;5;28;01melse\u001B[39;00m:\n\u001B[1;32m-> 5898\u001B[0m             res_col \u001B[38;5;241m=\u001B[39m \u001B[43mcol\u001B[49m\u001B[38;5;241;43m.\u001B[39;49m\u001B[43mastype\u001B[49m\u001B[43m(\u001B[49m\u001B[43mdtype\u001B[49m\u001B[38;5;241;43m=\u001B[39;49m\u001B[43mcdt\u001B[49m\u001B[43m,\u001B[49m\u001B[43m \u001B[49m\u001B[43mcopy\u001B[49m\u001B[38;5;241;43m=\u001B[39;49m\u001B[43mcopy\u001B[49m\u001B[43m,\u001B[49m\u001B[43m \u001B[49m\u001B[43merrors\u001B[49m\u001B[38;5;241;43m=\u001B[39;49m\u001B[43merrors\u001B[49m\u001B[43m)\u001B[49m\n\u001B[0;32m   5899\u001B[0m         results\u001B[38;5;241m.\u001B[39mappend(res_col)\n\u001B[0;32m   5901\u001B[0m \u001B[38;5;28;01melif\u001B[39;00m is_extension_array_dtype(dtype) \u001B[38;5;129;01mand\u001B[39;00m \u001B[38;5;28mself\u001B[39m\u001B[38;5;241m.\u001B[39mndim \u001B[38;5;241m>\u001B[39m \u001B[38;5;241m1\u001B[39m:\n\u001B[0;32m   5902\u001B[0m     \u001B[38;5;66;03m# GH 18099/22869: columnwise conversion to extension dtype\u001B[39;00m\n\u001B[0;32m   5903\u001B[0m     \u001B[38;5;66;03m# GH 24704: use iloc to handle duplicate column names\u001B[39;00m\n\u001B[0;32m   5904\u001B[0m     \u001B[38;5;66;03m# TODO(EA2D): special case not needed with 2D EAs\u001B[39;00m\n",
      "File \u001B[1;32m~\\anaconda3\\lib\\site-packages\\pandas\\core\\generic.py:5912\u001B[0m, in \u001B[0;36mNDFrame.astype\u001B[1;34m(self, dtype, copy, errors)\u001B[0m\n\u001B[0;32m   5905\u001B[0m     results \u001B[38;5;241m=\u001B[39m [\n\u001B[0;32m   5906\u001B[0m         \u001B[38;5;28mself\u001B[39m\u001B[38;5;241m.\u001B[39miloc[:, i]\u001B[38;5;241m.\u001B[39mastype(dtype, copy\u001B[38;5;241m=\u001B[39mcopy)\n\u001B[0;32m   5907\u001B[0m         \u001B[38;5;28;01mfor\u001B[39;00m i \u001B[38;5;129;01min\u001B[39;00m \u001B[38;5;28mrange\u001B[39m(\u001B[38;5;28mlen\u001B[39m(\u001B[38;5;28mself\u001B[39m\u001B[38;5;241m.\u001B[39mcolumns))\n\u001B[0;32m   5908\u001B[0m     ]\n\u001B[0;32m   5910\u001B[0m \u001B[38;5;28;01melse\u001B[39;00m:\n\u001B[0;32m   5911\u001B[0m     \u001B[38;5;66;03m# else, only a single dtype is given\u001B[39;00m\n\u001B[1;32m-> 5912\u001B[0m     new_data \u001B[38;5;241m=\u001B[39m \u001B[38;5;28;43mself\u001B[39;49m\u001B[38;5;241;43m.\u001B[39;49m\u001B[43m_mgr\u001B[49m\u001B[38;5;241;43m.\u001B[39;49m\u001B[43mastype\u001B[49m\u001B[43m(\u001B[49m\u001B[43mdtype\u001B[49m\u001B[38;5;241;43m=\u001B[39;49m\u001B[43mdtype\u001B[49m\u001B[43m,\u001B[49m\u001B[43m \u001B[49m\u001B[43mcopy\u001B[49m\u001B[38;5;241;43m=\u001B[39;49m\u001B[43mcopy\u001B[49m\u001B[43m,\u001B[49m\u001B[43m \u001B[49m\u001B[43merrors\u001B[49m\u001B[38;5;241;43m=\u001B[39;49m\u001B[43merrors\u001B[49m\u001B[43m)\u001B[49m\n\u001B[0;32m   5913\u001B[0m     \u001B[38;5;28;01mreturn\u001B[39;00m \u001B[38;5;28mself\u001B[39m\u001B[38;5;241m.\u001B[39m_constructor(new_data)\u001B[38;5;241m.\u001B[39m__finalize__(\u001B[38;5;28mself\u001B[39m, method\u001B[38;5;241m=\u001B[39m\u001B[38;5;124m\"\u001B[39m\u001B[38;5;124mastype\u001B[39m\u001B[38;5;124m\"\u001B[39m)\n\u001B[0;32m   5915\u001B[0m \u001B[38;5;66;03m# GH 33113: handle empty frame or series\u001B[39;00m\n",
      "File \u001B[1;32m~\\anaconda3\\lib\\site-packages\\pandas\\core\\internals\\managers.py:419\u001B[0m, in \u001B[0;36mBaseBlockManager.astype\u001B[1;34m(self, dtype, copy, errors)\u001B[0m\n\u001B[0;32m    418\u001B[0m \u001B[38;5;28;01mdef\u001B[39;00m \u001B[38;5;21mastype\u001B[39m(\u001B[38;5;28mself\u001B[39m: T, dtype, copy: \u001B[38;5;28mbool\u001B[39m \u001B[38;5;241m=\u001B[39m \u001B[38;5;28;01mFalse\u001B[39;00m, errors: \u001B[38;5;28mstr\u001B[39m \u001B[38;5;241m=\u001B[39m \u001B[38;5;124m\"\u001B[39m\u001B[38;5;124mraise\u001B[39m\u001B[38;5;124m\"\u001B[39m) \u001B[38;5;241m-\u001B[39m\u001B[38;5;241m>\u001B[39m T:\n\u001B[1;32m--> 419\u001B[0m     \u001B[38;5;28;01mreturn\u001B[39;00m \u001B[38;5;28;43mself\u001B[39;49m\u001B[38;5;241;43m.\u001B[39;49m\u001B[43mapply\u001B[49m\u001B[43m(\u001B[49m\u001B[38;5;124;43m\"\u001B[39;49m\u001B[38;5;124;43mastype\u001B[39;49m\u001B[38;5;124;43m\"\u001B[39;49m\u001B[43m,\u001B[49m\u001B[43m \u001B[49m\u001B[43mdtype\u001B[49m\u001B[38;5;241;43m=\u001B[39;49m\u001B[43mdtype\u001B[49m\u001B[43m,\u001B[49m\u001B[43m \u001B[49m\u001B[43mcopy\u001B[49m\u001B[38;5;241;43m=\u001B[39;49m\u001B[43mcopy\u001B[49m\u001B[43m,\u001B[49m\u001B[43m \u001B[49m\u001B[43merrors\u001B[49m\u001B[38;5;241;43m=\u001B[39;49m\u001B[43merrors\u001B[49m\u001B[43m)\u001B[49m\n",
      "File \u001B[1;32m~\\anaconda3\\lib\\site-packages\\pandas\\core\\internals\\managers.py:304\u001B[0m, in \u001B[0;36mBaseBlockManager.apply\u001B[1;34m(self, f, align_keys, ignore_failures, **kwargs)\u001B[0m\n\u001B[0;32m    302\u001B[0m         applied \u001B[38;5;241m=\u001B[39m b\u001B[38;5;241m.\u001B[39mapply(f, \u001B[38;5;241m*\u001B[39m\u001B[38;5;241m*\u001B[39mkwargs)\n\u001B[0;32m    303\u001B[0m     \u001B[38;5;28;01melse\u001B[39;00m:\n\u001B[1;32m--> 304\u001B[0m         applied \u001B[38;5;241m=\u001B[39m \u001B[38;5;28mgetattr\u001B[39m(b, f)(\u001B[38;5;241m*\u001B[39m\u001B[38;5;241m*\u001B[39mkwargs)\n\u001B[0;32m    305\u001B[0m \u001B[38;5;28;01mexcept\u001B[39;00m (\u001B[38;5;167;01mTypeError\u001B[39;00m, \u001B[38;5;167;01mNotImplementedError\u001B[39;00m):\n\u001B[0;32m    306\u001B[0m     \u001B[38;5;28;01mif\u001B[39;00m \u001B[38;5;129;01mnot\u001B[39;00m ignore_failures:\n",
      "File \u001B[1;32m~\\anaconda3\\lib\\site-packages\\pandas\\core\\internals\\blocks.py:580\u001B[0m, in \u001B[0;36mBlock.astype\u001B[1;34m(self, dtype, copy, errors)\u001B[0m\n\u001B[0;32m    562\u001B[0m \u001B[38;5;124;03m\"\"\"\u001B[39;00m\n\u001B[0;32m    563\u001B[0m \u001B[38;5;124;03mCoerce to the new dtype.\u001B[39;00m\n\u001B[0;32m    564\u001B[0m \n\u001B[1;32m   (...)\u001B[0m\n\u001B[0;32m    576\u001B[0m \u001B[38;5;124;03mBlock\u001B[39;00m\n\u001B[0;32m    577\u001B[0m \u001B[38;5;124;03m\"\"\"\u001B[39;00m\n\u001B[0;32m    578\u001B[0m values \u001B[38;5;241m=\u001B[39m \u001B[38;5;28mself\u001B[39m\u001B[38;5;241m.\u001B[39mvalues\n\u001B[1;32m--> 580\u001B[0m new_values \u001B[38;5;241m=\u001B[39m \u001B[43mastype_array_safe\u001B[49m\u001B[43m(\u001B[49m\u001B[43mvalues\u001B[49m\u001B[43m,\u001B[49m\u001B[43m \u001B[49m\u001B[43mdtype\u001B[49m\u001B[43m,\u001B[49m\u001B[43m \u001B[49m\u001B[43mcopy\u001B[49m\u001B[38;5;241;43m=\u001B[39;49m\u001B[43mcopy\u001B[49m\u001B[43m,\u001B[49m\u001B[43m \u001B[49m\u001B[43merrors\u001B[49m\u001B[38;5;241;43m=\u001B[39;49m\u001B[43merrors\u001B[49m\u001B[43m)\u001B[49m\n\u001B[0;32m    582\u001B[0m new_values \u001B[38;5;241m=\u001B[39m maybe_coerce_values(new_values)\n\u001B[0;32m    583\u001B[0m newb \u001B[38;5;241m=\u001B[39m \u001B[38;5;28mself\u001B[39m\u001B[38;5;241m.\u001B[39mmake_block(new_values)\n",
      "File \u001B[1;32m~\\anaconda3\\lib\\site-packages\\pandas\\core\\dtypes\\cast.py:1292\u001B[0m, in \u001B[0;36mastype_array_safe\u001B[1;34m(values, dtype, copy, errors)\u001B[0m\n\u001B[0;32m   1289\u001B[0m     dtype \u001B[38;5;241m=\u001B[39m dtype\u001B[38;5;241m.\u001B[39mnumpy_dtype\n\u001B[0;32m   1291\u001B[0m \u001B[38;5;28;01mtry\u001B[39;00m:\n\u001B[1;32m-> 1292\u001B[0m     new_values \u001B[38;5;241m=\u001B[39m \u001B[43mastype_array\u001B[49m\u001B[43m(\u001B[49m\u001B[43mvalues\u001B[49m\u001B[43m,\u001B[49m\u001B[43m \u001B[49m\u001B[43mdtype\u001B[49m\u001B[43m,\u001B[49m\u001B[43m \u001B[49m\u001B[43mcopy\u001B[49m\u001B[38;5;241;43m=\u001B[39;49m\u001B[43mcopy\u001B[49m\u001B[43m)\u001B[49m\n\u001B[0;32m   1293\u001B[0m \u001B[38;5;28;01mexcept\u001B[39;00m (\u001B[38;5;167;01mValueError\u001B[39;00m, \u001B[38;5;167;01mTypeError\u001B[39;00m):\n\u001B[0;32m   1294\u001B[0m     \u001B[38;5;66;03m# e.g. astype_nansafe can fail on object-dtype of strings\u001B[39;00m\n\u001B[0;32m   1295\u001B[0m     \u001B[38;5;66;03m#  trying to convert to float\u001B[39;00m\n\u001B[0;32m   1296\u001B[0m     \u001B[38;5;28;01mif\u001B[39;00m errors \u001B[38;5;241m==\u001B[39m \u001B[38;5;124m\"\u001B[39m\u001B[38;5;124mignore\u001B[39m\u001B[38;5;124m\"\u001B[39m:\n",
      "File \u001B[1;32m~\\anaconda3\\lib\\site-packages\\pandas\\core\\dtypes\\cast.py:1237\u001B[0m, in \u001B[0;36mastype_array\u001B[1;34m(values, dtype, copy)\u001B[0m\n\u001B[0;32m   1234\u001B[0m     values \u001B[38;5;241m=\u001B[39m values\u001B[38;5;241m.\u001B[39mastype(dtype, copy\u001B[38;5;241m=\u001B[39mcopy)\n\u001B[0;32m   1236\u001B[0m \u001B[38;5;28;01melse\u001B[39;00m:\n\u001B[1;32m-> 1237\u001B[0m     values \u001B[38;5;241m=\u001B[39m \u001B[43mastype_nansafe\u001B[49m\u001B[43m(\u001B[49m\u001B[43mvalues\u001B[49m\u001B[43m,\u001B[49m\u001B[43m \u001B[49m\u001B[43mdtype\u001B[49m\u001B[43m,\u001B[49m\u001B[43m \u001B[49m\u001B[43mcopy\u001B[49m\u001B[38;5;241;43m=\u001B[39;49m\u001B[43mcopy\u001B[49m\u001B[43m)\u001B[49m\n\u001B[0;32m   1239\u001B[0m \u001B[38;5;66;03m# in pandas we don't store numpy str dtypes, so convert to object\u001B[39;00m\n\u001B[0;32m   1240\u001B[0m \u001B[38;5;28;01mif\u001B[39;00m \u001B[38;5;28misinstance\u001B[39m(dtype, np\u001B[38;5;241m.\u001B[39mdtype) \u001B[38;5;129;01mand\u001B[39;00m \u001B[38;5;28missubclass\u001B[39m(values\u001B[38;5;241m.\u001B[39mdtype\u001B[38;5;241m.\u001B[39mtype, \u001B[38;5;28mstr\u001B[39m):\n",
      "File \u001B[1;32m~\\anaconda3\\lib\\site-packages\\pandas\\core\\dtypes\\cast.py:1181\u001B[0m, in \u001B[0;36mastype_nansafe\u001B[1;34m(arr, dtype, copy, skipna)\u001B[0m\n\u001B[0;32m   1177\u001B[0m     \u001B[38;5;28;01mraise\u001B[39;00m \u001B[38;5;167;01mValueError\u001B[39;00m(msg)\n\u001B[0;32m   1179\u001B[0m \u001B[38;5;28;01mif\u001B[39;00m copy \u001B[38;5;129;01mor\u001B[39;00m is_object_dtype(arr\u001B[38;5;241m.\u001B[39mdtype) \u001B[38;5;129;01mor\u001B[39;00m is_object_dtype(dtype):\n\u001B[0;32m   1180\u001B[0m     \u001B[38;5;66;03m# Explicit copy, or required since NumPy can't view from / to object.\u001B[39;00m\n\u001B[1;32m-> 1181\u001B[0m     \u001B[38;5;28;01mreturn\u001B[39;00m \u001B[43marr\u001B[49m\u001B[38;5;241;43m.\u001B[39;49m\u001B[43mastype\u001B[49m\u001B[43m(\u001B[49m\u001B[43mdtype\u001B[49m\u001B[43m,\u001B[49m\u001B[43m \u001B[49m\u001B[43mcopy\u001B[49m\u001B[38;5;241;43m=\u001B[39;49m\u001B[38;5;28;43;01mTrue\u001B[39;49;00m\u001B[43m)\u001B[49m\n\u001B[0;32m   1183\u001B[0m \u001B[38;5;28;01mreturn\u001B[39;00m arr\u001B[38;5;241m.\u001B[39mastype(dtype, copy\u001B[38;5;241m=\u001B[39mcopy)\n",
      "\u001B[1;31mValueError\u001B[0m: could not convert string to float: '339,015,601 '"
     ]
    }
   ],
   "source": [
    "print(SEOUL.dtypes)\n",
    "SEOUL = SEOUL.astype({'사용량(kWh)' : 'float'})"
   ],
   "metadata": {
    "collapsed": false,
    "pycharm": {
     "name": "#%%\n"
    }
   }
  },
  {
   "cell_type": "code",
   "execution_count": null,
   "outputs": [],
   "source": [
    "SEOUL"
   ],
   "metadata": {
    "collapsed": false,
    "pycharm": {
     "name": "#%%\n"
    }
   }
  },
  {
   "cell_type": "code",
   "execution_count": 33,
   "outputs": [
    {
     "ename": "ValueError",
     "evalue": "invalid literal for int() with base 10: '339,015,601 '",
     "output_type": "error",
     "traceback": [
      "\u001B[1;31m---------------------------------------------------------------------------\u001B[0m",
      "\u001B[1;31mValueError\u001B[0m                                Traceback (most recent call last)",
      "Input \u001B[1;32mIn [33]\u001B[0m, in \u001B[0;36m<cell line: 4>\u001B[1;34m()\u001B[0m\n\u001B[0;32m      2\u001B[0m int_list \u001B[38;5;241m=\u001B[39m \u001B[38;5;28mmap\u001B[39m(\u001B[38;5;28mint\u001B[39m, a)\n\u001B[0;32m      3\u001B[0m b\u001B[38;5;241m=\u001B[39m\u001B[38;5;241m0\u001B[39m\n\u001B[1;32m----> 4\u001B[0m \u001B[38;5;28;01mfor\u001B[39;00m i \u001B[38;5;129;01min\u001B[39;00m int_list:\n\u001B[0;32m      5\u001B[0m     b\u001B[38;5;241m+\u001B[39m\u001B[38;5;241m=\u001B[39mi\n\u001B[0;32m      7\u001B[0m \u001B[38;5;28mprint\u001B[39m(b)\n",
      "\u001B[1;31mValueError\u001B[0m: invalid literal for int() with base 10: '339,015,601 '"
     ]
    }
   ],
   "source": [
    "a = SEOUL['사용량(kWh)'].tolist()\n",
    "int_list = map(int, a)\n",
    "b=0\n",
    "for i in int_list:\n",
    "    b+=i\n",
    "\n",
    "print(b)"
   ],
   "metadata": {
    "collapsed": false,
    "pycharm": {
     "name": "#%%\n"
    }
   }
  },
  {
   "cell_type": "code",
   "execution_count": null,
   "outputs": [],
   "source": [],
   "metadata": {
    "collapsed": false,
    "pycharm": {
     "name": "#%%\n"
    }
   }
  },
  {
   "cell_type": "code",
   "execution_count": null,
   "outputs": [],
   "source": [],
   "metadata": {
    "collapsed": false,
    "pycharm": {
     "name": "#%%\n"
    }
   }
  },
  {
   "cell_type": "code",
   "execution_count": null,
   "outputs": [],
   "source": [],
   "metadata": {
    "collapsed": false,
    "pycharm": {
     "name": "#%%\n"
    }
   }
  },
  {
   "cell_type": "code",
   "execution_count": null,
   "outputs": [],
   "source": [],
   "metadata": {
    "collapsed": false,
    "pycharm": {
     "name": "#%%\n"
    }
   }
  },
  {
   "cell_type": "code",
   "execution_count": null,
   "outputs": [],
   "source": [],
   "metadata": {
    "collapsed": false,
    "pycharm": {
     "name": "#%%\n"
    }
   }
  },
  {
   "cell_type": "code",
   "execution_count": 5,
   "outputs": [
    {
     "data": {
      "text/plain": "    지역별(1)         2012        2012.1         2013        2013.1         2014  \\\n0   지역별(1)  전력거래량 (GWh)  전력거래량 비율 (%)  전력거래량 (GWh)  전력거래량 비율 (%)  전력거래량 (GWh)   \n1       전국       471795           100       479541           100       490399   \n2      경기도        23567             5        28692             6        33053   \n3      강원도        10996           2.3        11631           2.4         9463   \n4     경상남도        59496          12.6        59730          12.5        56368   \n5     경상북도        66408          14.1        65007          13.6        73023   \n6     전라남도        60562          12.8        58081          12.1        63338   \n7     전라북도         7720           1.6         7637           1.6         7244   \n8     충청남도       108544            23       112811          23.5       108894   \n9     충청북도         1253           0.3         1249           0.3          877   \n10     제주도         2870           0.6         2964           0.6         2775   \n11      서울         1908           0.4         1603           0.3          770   \n12      인천        68214          14.5        73208          15.3        69097   \n13      대전          192             0          200             0          156   \n14      광주           41             0          449           0.1          396   \n15      대구          220             0          210             0          515   \n16      세종            8             0          618           0.1         2689   \n17      울산        12908           2.7        12659           2.6         9768   \n18      부산        46888           9.9        42790           8.9        51972   \n\n          2014.1         2015        2015.1         2016  ...         2017  \\\n0   전력거래량 비율 (%)  전력거래량 (GWh)  전력거래량 비율 (%)  전력거래량 (GWh)  ...  전력거래량 (GWh)   \n1            100       495361           100       509234  ...       520917   \n2            6.7        47342           9.6        53907  ...        58961   \n3            1.9         7581           1.5         9891  ...        19803   \n4           11.5        55843          11.3        55226  ...        52652   \n5           14.9        84168            17        77891  ...        79858   \n6           12.9        61013          12.3        63504  ...        60694   \n7            1.5         5944           1.2         8783  ...         8650   \n8           22.2       103645          20.9       104044  ...       122424   \n9            0.2          727           0.1         1019  ...         1096   \n10           0.6         2863           0.6         2935  ...         2944   \n11           0.2          742           0.1          836  ...          810   \n12          14.1        65179          13.2        62921  ...        59679   \n13             0          175             0          182  ...          203   \n14           0.1          356           0.1          381  ...          413   \n15           0.1         2815           0.6         3093  ...         2657   \n16           0.5         2787           0.6         2749  ...         2952   \n17             2         8741           1.8        11444  ...        19553   \n18          10.6        45438           9.2        50429  ...        27569   \n\n          2017.1         2018        2018.1      2019 p)     2019 p).1  \\\n0   전력거래량 비율 (%)  전력거래량 (GWh)  전력거래량 비율 (%)  전력거래량 (GWh)  전력거래량 비율 (%)   \n1            100       537061           100       529851           100   \n2           11.3        71010          13.2        72987          13.8   \n3            3.8        29474           5.5        26995           5.1   \n4           10.1        50336           9.4        45523           8.6   \n5           15.3        72015          13.4        75178          14.2   \n6           11.7        54295          10.1        50263           9.5   \n7            1.7        10367           1.9        10352             2   \n8           23.5       120715          22.5       114874          21.7   \n9            0.2         1349           0.3         1165           0.2   \n10           0.6         3215           0.6         3723           0.7   \n11           0.2          616           0.1         1776           0.3   \n12          11.5        59955          11.2        57443          10.8   \n13             0          196             0          174             0   \n14           0.1          422           0.1          429           0.1   \n15           0.5         2626           0.5         2835           0.5   \n16           0.6         3595           0.7         2371           0.4   \n17           3.8        19902           3.7        27826           5.3   \n18           5.3        36973           6.9        35938           6.8   \n\n        2020 p)     2020 p).1      2021 p)     2021 p).1  \n0   전력거래량 (GWh)  전력거래량 비율 (%)  전력거래량 (GWh)  전력거래량 비율 (%)  \n1        515983           100       537061           100  \n2         70924          13.7        80234          14.9  \n3         25593             5        27891           5.2  \n4         32762           6.3        41109           7.7  \n5         80581          15.6        75475          14.1  \n6         51713            10        54371          10.1  \n7          9871           1.9        10721             2  \n8        105447          20.4       102741          19.1  \n9          1551           0.3         1314           0.2  \n10         3829           0.7         4074           0.8  \n11         4956             1         5170             1  \n12        54608          10.6        58059          10.8  \n13          169             0          177             0  \n14          450           0.1          461           0.1  \n15         2511           0.5         2737           0.5  \n16         3425           0.7         3642           0.7  \n17        28611           5.5        30244           5.6  \n18        38982           7.6        38643           7.2  \n\n[19 rows x 21 columns]",
      "text/html": "<div>\n<style scoped>\n    .dataframe tbody tr th:only-of-type {\n        vertical-align: middle;\n    }\n\n    .dataframe tbody tr th {\n        vertical-align: top;\n    }\n\n    .dataframe thead th {\n        text-align: right;\n    }\n</style>\n<table border=\"1\" class=\"dataframe\">\n  <thead>\n    <tr style=\"text-align: right;\">\n      <th></th>\n      <th>지역별(1)</th>\n      <th>2012</th>\n      <th>2012.1</th>\n      <th>2013</th>\n      <th>2013.1</th>\n      <th>2014</th>\n      <th>2014.1</th>\n      <th>2015</th>\n      <th>2015.1</th>\n      <th>2016</th>\n      <th>...</th>\n      <th>2017</th>\n      <th>2017.1</th>\n      <th>2018</th>\n      <th>2018.1</th>\n      <th>2019 p)</th>\n      <th>2019 p).1</th>\n      <th>2020 p)</th>\n      <th>2020 p).1</th>\n      <th>2021 p)</th>\n      <th>2021 p).1</th>\n    </tr>\n  </thead>\n  <tbody>\n    <tr>\n      <th>0</th>\n      <td>지역별(1)</td>\n      <td>전력거래량 (GWh)</td>\n      <td>전력거래량 비율 (%)</td>\n      <td>전력거래량 (GWh)</td>\n      <td>전력거래량 비율 (%)</td>\n      <td>전력거래량 (GWh)</td>\n      <td>전력거래량 비율 (%)</td>\n      <td>전력거래량 (GWh)</td>\n      <td>전력거래량 비율 (%)</td>\n      <td>전력거래량 (GWh)</td>\n      <td>...</td>\n      <td>전력거래량 (GWh)</td>\n      <td>전력거래량 비율 (%)</td>\n      <td>전력거래량 (GWh)</td>\n      <td>전력거래량 비율 (%)</td>\n      <td>전력거래량 (GWh)</td>\n      <td>전력거래량 비율 (%)</td>\n      <td>전력거래량 (GWh)</td>\n      <td>전력거래량 비율 (%)</td>\n      <td>전력거래량 (GWh)</td>\n      <td>전력거래량 비율 (%)</td>\n    </tr>\n    <tr>\n      <th>1</th>\n      <td>전국</td>\n      <td>471795</td>\n      <td>100</td>\n      <td>479541</td>\n      <td>100</td>\n      <td>490399</td>\n      <td>100</td>\n      <td>495361</td>\n      <td>100</td>\n      <td>509234</td>\n      <td>...</td>\n      <td>520917</td>\n      <td>100</td>\n      <td>537061</td>\n      <td>100</td>\n      <td>529851</td>\n      <td>100</td>\n      <td>515983</td>\n      <td>100</td>\n      <td>537061</td>\n      <td>100</td>\n    </tr>\n    <tr>\n      <th>2</th>\n      <td>경기도</td>\n      <td>23567</td>\n      <td>5</td>\n      <td>28692</td>\n      <td>6</td>\n      <td>33053</td>\n      <td>6.7</td>\n      <td>47342</td>\n      <td>9.6</td>\n      <td>53907</td>\n      <td>...</td>\n      <td>58961</td>\n      <td>11.3</td>\n      <td>71010</td>\n      <td>13.2</td>\n      <td>72987</td>\n      <td>13.8</td>\n      <td>70924</td>\n      <td>13.7</td>\n      <td>80234</td>\n      <td>14.9</td>\n    </tr>\n    <tr>\n      <th>3</th>\n      <td>강원도</td>\n      <td>10996</td>\n      <td>2.3</td>\n      <td>11631</td>\n      <td>2.4</td>\n      <td>9463</td>\n      <td>1.9</td>\n      <td>7581</td>\n      <td>1.5</td>\n      <td>9891</td>\n      <td>...</td>\n      <td>19803</td>\n      <td>3.8</td>\n      <td>29474</td>\n      <td>5.5</td>\n      <td>26995</td>\n      <td>5.1</td>\n      <td>25593</td>\n      <td>5</td>\n      <td>27891</td>\n      <td>5.2</td>\n    </tr>\n    <tr>\n      <th>4</th>\n      <td>경상남도</td>\n      <td>59496</td>\n      <td>12.6</td>\n      <td>59730</td>\n      <td>12.5</td>\n      <td>56368</td>\n      <td>11.5</td>\n      <td>55843</td>\n      <td>11.3</td>\n      <td>55226</td>\n      <td>...</td>\n      <td>52652</td>\n      <td>10.1</td>\n      <td>50336</td>\n      <td>9.4</td>\n      <td>45523</td>\n      <td>8.6</td>\n      <td>32762</td>\n      <td>6.3</td>\n      <td>41109</td>\n      <td>7.7</td>\n    </tr>\n    <tr>\n      <th>5</th>\n      <td>경상북도</td>\n      <td>66408</td>\n      <td>14.1</td>\n      <td>65007</td>\n      <td>13.6</td>\n      <td>73023</td>\n      <td>14.9</td>\n      <td>84168</td>\n      <td>17</td>\n      <td>77891</td>\n      <td>...</td>\n      <td>79858</td>\n      <td>15.3</td>\n      <td>72015</td>\n      <td>13.4</td>\n      <td>75178</td>\n      <td>14.2</td>\n      <td>80581</td>\n      <td>15.6</td>\n      <td>75475</td>\n      <td>14.1</td>\n    </tr>\n    <tr>\n      <th>6</th>\n      <td>전라남도</td>\n      <td>60562</td>\n      <td>12.8</td>\n      <td>58081</td>\n      <td>12.1</td>\n      <td>63338</td>\n      <td>12.9</td>\n      <td>61013</td>\n      <td>12.3</td>\n      <td>63504</td>\n      <td>...</td>\n      <td>60694</td>\n      <td>11.7</td>\n      <td>54295</td>\n      <td>10.1</td>\n      <td>50263</td>\n      <td>9.5</td>\n      <td>51713</td>\n      <td>10</td>\n      <td>54371</td>\n      <td>10.1</td>\n    </tr>\n    <tr>\n      <th>7</th>\n      <td>전라북도</td>\n      <td>7720</td>\n      <td>1.6</td>\n      <td>7637</td>\n      <td>1.6</td>\n      <td>7244</td>\n      <td>1.5</td>\n      <td>5944</td>\n      <td>1.2</td>\n      <td>8783</td>\n      <td>...</td>\n      <td>8650</td>\n      <td>1.7</td>\n      <td>10367</td>\n      <td>1.9</td>\n      <td>10352</td>\n      <td>2</td>\n      <td>9871</td>\n      <td>1.9</td>\n      <td>10721</td>\n      <td>2</td>\n    </tr>\n    <tr>\n      <th>8</th>\n      <td>충청남도</td>\n      <td>108544</td>\n      <td>23</td>\n      <td>112811</td>\n      <td>23.5</td>\n      <td>108894</td>\n      <td>22.2</td>\n      <td>103645</td>\n      <td>20.9</td>\n      <td>104044</td>\n      <td>...</td>\n      <td>122424</td>\n      <td>23.5</td>\n      <td>120715</td>\n      <td>22.5</td>\n      <td>114874</td>\n      <td>21.7</td>\n      <td>105447</td>\n      <td>20.4</td>\n      <td>102741</td>\n      <td>19.1</td>\n    </tr>\n    <tr>\n      <th>9</th>\n      <td>충청북도</td>\n      <td>1253</td>\n      <td>0.3</td>\n      <td>1249</td>\n      <td>0.3</td>\n      <td>877</td>\n      <td>0.2</td>\n      <td>727</td>\n      <td>0.1</td>\n      <td>1019</td>\n      <td>...</td>\n      <td>1096</td>\n      <td>0.2</td>\n      <td>1349</td>\n      <td>0.3</td>\n      <td>1165</td>\n      <td>0.2</td>\n      <td>1551</td>\n      <td>0.3</td>\n      <td>1314</td>\n      <td>0.2</td>\n    </tr>\n    <tr>\n      <th>10</th>\n      <td>제주도</td>\n      <td>2870</td>\n      <td>0.6</td>\n      <td>2964</td>\n      <td>0.6</td>\n      <td>2775</td>\n      <td>0.6</td>\n      <td>2863</td>\n      <td>0.6</td>\n      <td>2935</td>\n      <td>...</td>\n      <td>2944</td>\n      <td>0.6</td>\n      <td>3215</td>\n      <td>0.6</td>\n      <td>3723</td>\n      <td>0.7</td>\n      <td>3829</td>\n      <td>0.7</td>\n      <td>4074</td>\n      <td>0.8</td>\n    </tr>\n    <tr>\n      <th>11</th>\n      <td>서울</td>\n      <td>1908</td>\n      <td>0.4</td>\n      <td>1603</td>\n      <td>0.3</td>\n      <td>770</td>\n      <td>0.2</td>\n      <td>742</td>\n      <td>0.1</td>\n      <td>836</td>\n      <td>...</td>\n      <td>810</td>\n      <td>0.2</td>\n      <td>616</td>\n      <td>0.1</td>\n      <td>1776</td>\n      <td>0.3</td>\n      <td>4956</td>\n      <td>1</td>\n      <td>5170</td>\n      <td>1</td>\n    </tr>\n    <tr>\n      <th>12</th>\n      <td>인천</td>\n      <td>68214</td>\n      <td>14.5</td>\n      <td>73208</td>\n      <td>15.3</td>\n      <td>69097</td>\n      <td>14.1</td>\n      <td>65179</td>\n      <td>13.2</td>\n      <td>62921</td>\n      <td>...</td>\n      <td>59679</td>\n      <td>11.5</td>\n      <td>59955</td>\n      <td>11.2</td>\n      <td>57443</td>\n      <td>10.8</td>\n      <td>54608</td>\n      <td>10.6</td>\n      <td>58059</td>\n      <td>10.8</td>\n    </tr>\n    <tr>\n      <th>13</th>\n      <td>대전</td>\n      <td>192</td>\n      <td>0</td>\n      <td>200</td>\n      <td>0</td>\n      <td>156</td>\n      <td>0</td>\n      <td>175</td>\n      <td>0</td>\n      <td>182</td>\n      <td>...</td>\n      <td>203</td>\n      <td>0</td>\n      <td>196</td>\n      <td>0</td>\n      <td>174</td>\n      <td>0</td>\n      <td>169</td>\n      <td>0</td>\n      <td>177</td>\n      <td>0</td>\n    </tr>\n    <tr>\n      <th>14</th>\n      <td>광주</td>\n      <td>41</td>\n      <td>0</td>\n      <td>449</td>\n      <td>0.1</td>\n      <td>396</td>\n      <td>0.1</td>\n      <td>356</td>\n      <td>0.1</td>\n      <td>381</td>\n      <td>...</td>\n      <td>413</td>\n      <td>0.1</td>\n      <td>422</td>\n      <td>0.1</td>\n      <td>429</td>\n      <td>0.1</td>\n      <td>450</td>\n      <td>0.1</td>\n      <td>461</td>\n      <td>0.1</td>\n    </tr>\n    <tr>\n      <th>15</th>\n      <td>대구</td>\n      <td>220</td>\n      <td>0</td>\n      <td>210</td>\n      <td>0</td>\n      <td>515</td>\n      <td>0.1</td>\n      <td>2815</td>\n      <td>0.6</td>\n      <td>3093</td>\n      <td>...</td>\n      <td>2657</td>\n      <td>0.5</td>\n      <td>2626</td>\n      <td>0.5</td>\n      <td>2835</td>\n      <td>0.5</td>\n      <td>2511</td>\n      <td>0.5</td>\n      <td>2737</td>\n      <td>0.5</td>\n    </tr>\n    <tr>\n      <th>16</th>\n      <td>세종</td>\n      <td>8</td>\n      <td>0</td>\n      <td>618</td>\n      <td>0.1</td>\n      <td>2689</td>\n      <td>0.5</td>\n      <td>2787</td>\n      <td>0.6</td>\n      <td>2749</td>\n      <td>...</td>\n      <td>2952</td>\n      <td>0.6</td>\n      <td>3595</td>\n      <td>0.7</td>\n      <td>2371</td>\n      <td>0.4</td>\n      <td>3425</td>\n      <td>0.7</td>\n      <td>3642</td>\n      <td>0.7</td>\n    </tr>\n    <tr>\n      <th>17</th>\n      <td>울산</td>\n      <td>12908</td>\n      <td>2.7</td>\n      <td>12659</td>\n      <td>2.6</td>\n      <td>9768</td>\n      <td>2</td>\n      <td>8741</td>\n      <td>1.8</td>\n      <td>11444</td>\n      <td>...</td>\n      <td>19553</td>\n      <td>3.8</td>\n      <td>19902</td>\n      <td>3.7</td>\n      <td>27826</td>\n      <td>5.3</td>\n      <td>28611</td>\n      <td>5.5</td>\n      <td>30244</td>\n      <td>5.6</td>\n    </tr>\n    <tr>\n      <th>18</th>\n      <td>부산</td>\n      <td>46888</td>\n      <td>9.9</td>\n      <td>42790</td>\n      <td>8.9</td>\n      <td>51972</td>\n      <td>10.6</td>\n      <td>45438</td>\n      <td>9.2</td>\n      <td>50429</td>\n      <td>...</td>\n      <td>27569</td>\n      <td>5.3</td>\n      <td>36973</td>\n      <td>6.9</td>\n      <td>35938</td>\n      <td>6.8</td>\n      <td>38982</td>\n      <td>7.6</td>\n      <td>38643</td>\n      <td>7.2</td>\n    </tr>\n  </tbody>\n</table>\n<p>19 rows × 21 columns</p>\n</div>"
     },
     "execution_count": 5,
     "metadata": {},
     "output_type": "execute_result"
    }
   ],
   "source": [
    "exchng"
   ],
   "metadata": {
    "collapsed": false,
    "pycharm": {
     "name": "#%%\n"
    }
   }
  },
  {
   "cell_type": "code",
   "execution_count": null,
   "outputs": [],
   "source": [],
   "metadata": {
    "collapsed": false,
    "pycharm": {
     "name": "#%%\n"
    }
   }
  }
 ],
 "metadata": {
  "kernelspec": {
   "display_name": "Python 3",
   "language": "python",
   "name": "python3"
  },
  "language_info": {
   "codemirror_mode": {
    "name": "ipython",
    "version": 2
   },
   "file_extension": ".py",
   "mimetype": "text/x-python",
   "name": "python",
   "nbconvert_exporter": "python",
   "pygments_lexer": "ipython2",
   "version": "2.7.6"
  }
 },
 "nbformat": 4,
 "nbformat_minor": 0
}