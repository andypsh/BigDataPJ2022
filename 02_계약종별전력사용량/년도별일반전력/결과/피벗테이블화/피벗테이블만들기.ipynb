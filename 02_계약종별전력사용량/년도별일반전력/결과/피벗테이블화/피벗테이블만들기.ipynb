{
 "cells": [
  {
   "cell_type": "code",
   "execution_count": 18,
   "id": "4ffdd45c",
   "metadata": {
    "pycharm": {
     "name": "#%%\n"
    }
   },
   "outputs": [],
   "source": [
    "import pandas as pd"
   ]
  },
  {
   "cell_type": "code",
   "execution_count": 19,
   "id": "e101bace",
   "metadata": {
    "pycharm": {
     "name": "#%%\n"
    }
   },
   "outputs": [
    {
     "data": {
      "text/plain": "           년월   시구  시군구 계약구분  고객호수(호)  사용량(kWh)         비율\n0      201207  경기도  가평군  일반용   7,891    1874059  49.904604\n1      201207  경기도  가평군   합계  53,913    3755282        NaN\n2      201208  경기도  가평군  일반용   8,001    2282783  52.520078\n3      201208  경기도  가평군   합계  54,194    4346497        NaN\n4      201209  경기도  가평군  일반용   8,067    1956103  47.929931\n...       ...  ...  ...  ...      ...       ...        ...\n55127  202204  강원도  횡성군   합계  61,878    5647351        NaN\n55128  202205  강원도  횡성군  일반용   5,505     917938  18.430195\n55129  202205  강원도  횡성군   합계  62,200    4980623        NaN\n55130  202206  강원도  횡성군  일반용   5,526     964330  19.673426\n55131  202206  강원도  횡성군   합계  62,396    4901688        NaN\n\n[55132 rows x 7 columns]",
      "text/html": "<div>\n<style scoped>\n    .dataframe tbody tr th:only-of-type {\n        vertical-align: middle;\n    }\n\n    .dataframe tbody tr th {\n        vertical-align: top;\n    }\n\n    .dataframe thead th {\n        text-align: right;\n    }\n</style>\n<table border=\"1\" class=\"dataframe\">\n  <thead>\n    <tr style=\"text-align: right;\">\n      <th></th>\n      <th>년월</th>\n      <th>시구</th>\n      <th>시군구</th>\n      <th>계약구분</th>\n      <th>고객호수(호)</th>\n      <th>사용량(kWh)</th>\n      <th>비율</th>\n    </tr>\n  </thead>\n  <tbody>\n    <tr>\n      <th>0</th>\n      <td>201207</td>\n      <td>경기도</td>\n      <td>가평군</td>\n      <td>일반용</td>\n      <td>7,891</td>\n      <td>1874059</td>\n      <td>49.904604</td>\n    </tr>\n    <tr>\n      <th>1</th>\n      <td>201207</td>\n      <td>경기도</td>\n      <td>가평군</td>\n      <td>합계</td>\n      <td>53,913</td>\n      <td>3755282</td>\n      <td>NaN</td>\n    </tr>\n    <tr>\n      <th>2</th>\n      <td>201208</td>\n      <td>경기도</td>\n      <td>가평군</td>\n      <td>일반용</td>\n      <td>8,001</td>\n      <td>2282783</td>\n      <td>52.520078</td>\n    </tr>\n    <tr>\n      <th>3</th>\n      <td>201208</td>\n      <td>경기도</td>\n      <td>가평군</td>\n      <td>합계</td>\n      <td>54,194</td>\n      <td>4346497</td>\n      <td>NaN</td>\n    </tr>\n    <tr>\n      <th>4</th>\n      <td>201209</td>\n      <td>경기도</td>\n      <td>가평군</td>\n      <td>일반용</td>\n      <td>8,067</td>\n      <td>1956103</td>\n      <td>47.929931</td>\n    </tr>\n    <tr>\n      <th>...</th>\n      <td>...</td>\n      <td>...</td>\n      <td>...</td>\n      <td>...</td>\n      <td>...</td>\n      <td>...</td>\n      <td>...</td>\n    </tr>\n    <tr>\n      <th>55127</th>\n      <td>202204</td>\n      <td>강원도</td>\n      <td>횡성군</td>\n      <td>합계</td>\n      <td>61,878</td>\n      <td>5647351</td>\n      <td>NaN</td>\n    </tr>\n    <tr>\n      <th>55128</th>\n      <td>202205</td>\n      <td>강원도</td>\n      <td>횡성군</td>\n      <td>일반용</td>\n      <td>5,505</td>\n      <td>917938</td>\n      <td>18.430195</td>\n    </tr>\n    <tr>\n      <th>55129</th>\n      <td>202205</td>\n      <td>강원도</td>\n      <td>횡성군</td>\n      <td>합계</td>\n      <td>62,200</td>\n      <td>4980623</td>\n      <td>NaN</td>\n    </tr>\n    <tr>\n      <th>55130</th>\n      <td>202206</td>\n      <td>강원도</td>\n      <td>횡성군</td>\n      <td>일반용</td>\n      <td>5,526</td>\n      <td>964330</td>\n      <td>19.673426</td>\n    </tr>\n    <tr>\n      <th>55131</th>\n      <td>202206</td>\n      <td>강원도</td>\n      <td>횡성군</td>\n      <td>합계</td>\n      <td>62,396</td>\n      <td>4901688</td>\n      <td>NaN</td>\n    </tr>\n  </tbody>\n</table>\n<p>55132 rows × 7 columns</p>\n</div>"
     },
     "execution_count": 19,
     "metadata": {},
     "output_type": "execute_result"
    }
   ],
   "source": [
    "df = pd.read_csv('2012-2022전국.csv')\n",
    "df"
   ]
  },
  {
   "cell_type": "code",
   "execution_count": 20,
   "id": "8e94c381",
   "metadata": {
    "pycharm": {
     "name": "#%%\n"
    }
   },
   "outputs": [],
   "source": [
    "df = df[df.isin({'시구' : ['서울특별시','부산광역시','울산광역시','대전광역시','대구광역시','인천광역시','광주광역시']})['시구']]"
   ]
  },
  {
   "cell_type": "code",
   "execution_count": 21,
   "id": "a6aa06cf",
   "metadata": {
    "pycharm": {
     "name": "#%%\n"
    }
   },
   "outputs": [
    {
     "data": {
      "text/plain": "           년월     시구   시군구 계약구분   고객호수(호)  사용량(kWh)         비율\n240    201207  서울특별시   강남구  일반용   46,932   32632251  74.842229\n241    201207  서울특별시   강남구   합계  193,462   43601389        NaN\n242    201208  서울특별시   강남구  일반용   47,024   36303620  73.135339\n243    201208  서울특별시   강남구   합계  193,705   49638958        NaN\n244    201209  서울특별시   강남구  일반용   47,041   30970230  74.779928\n...       ...    ...   ...  ...       ...       ...        ...\n53687  202204  부산광역시  해운대구   합계   94,877   14509470        NaN\n53688  202205  부산광역시  해운대구  일반용   15,180    6757300  47.339948\n53689  202205  부산광역시  해운대구   합계   94,626   14273991        NaN\n53690  202206  부산광역시  해운대구  일반용   15,173    7441709  49.167258\n53691  202206  부산광역시  해운대구   합계   94,550   15135499        NaN\n\n[17760 rows x 7 columns]",
      "text/html": "<div>\n<style scoped>\n    .dataframe tbody tr th:only-of-type {\n        vertical-align: middle;\n    }\n\n    .dataframe tbody tr th {\n        vertical-align: top;\n    }\n\n    .dataframe thead th {\n        text-align: right;\n    }\n</style>\n<table border=\"1\" class=\"dataframe\">\n  <thead>\n    <tr style=\"text-align: right;\">\n      <th></th>\n      <th>년월</th>\n      <th>시구</th>\n      <th>시군구</th>\n      <th>계약구분</th>\n      <th>고객호수(호)</th>\n      <th>사용량(kWh)</th>\n      <th>비율</th>\n    </tr>\n  </thead>\n  <tbody>\n    <tr>\n      <th>240</th>\n      <td>201207</td>\n      <td>서울특별시</td>\n      <td>강남구</td>\n      <td>일반용</td>\n      <td>46,932</td>\n      <td>32632251</td>\n      <td>74.842229</td>\n    </tr>\n    <tr>\n      <th>241</th>\n      <td>201207</td>\n      <td>서울특별시</td>\n      <td>강남구</td>\n      <td>합계</td>\n      <td>193,462</td>\n      <td>43601389</td>\n      <td>NaN</td>\n    </tr>\n    <tr>\n      <th>242</th>\n      <td>201208</td>\n      <td>서울특별시</td>\n      <td>강남구</td>\n      <td>일반용</td>\n      <td>47,024</td>\n      <td>36303620</td>\n      <td>73.135339</td>\n    </tr>\n    <tr>\n      <th>243</th>\n      <td>201208</td>\n      <td>서울특별시</td>\n      <td>강남구</td>\n      <td>합계</td>\n      <td>193,705</td>\n      <td>49638958</td>\n      <td>NaN</td>\n    </tr>\n    <tr>\n      <th>244</th>\n      <td>201209</td>\n      <td>서울특별시</td>\n      <td>강남구</td>\n      <td>일반용</td>\n      <td>47,041</td>\n      <td>30970230</td>\n      <td>74.779928</td>\n    </tr>\n    <tr>\n      <th>...</th>\n      <td>...</td>\n      <td>...</td>\n      <td>...</td>\n      <td>...</td>\n      <td>...</td>\n      <td>...</td>\n      <td>...</td>\n    </tr>\n    <tr>\n      <th>53687</th>\n      <td>202204</td>\n      <td>부산광역시</td>\n      <td>해운대구</td>\n      <td>합계</td>\n      <td>94,877</td>\n      <td>14509470</td>\n      <td>NaN</td>\n    </tr>\n    <tr>\n      <th>53688</th>\n      <td>202205</td>\n      <td>부산광역시</td>\n      <td>해운대구</td>\n      <td>일반용</td>\n      <td>15,180</td>\n      <td>6757300</td>\n      <td>47.339948</td>\n    </tr>\n    <tr>\n      <th>53689</th>\n      <td>202205</td>\n      <td>부산광역시</td>\n      <td>해운대구</td>\n      <td>합계</td>\n      <td>94,626</td>\n      <td>14273991</td>\n      <td>NaN</td>\n    </tr>\n    <tr>\n      <th>53690</th>\n      <td>202206</td>\n      <td>부산광역시</td>\n      <td>해운대구</td>\n      <td>일반용</td>\n      <td>15,173</td>\n      <td>7441709</td>\n      <td>49.167258</td>\n    </tr>\n    <tr>\n      <th>53691</th>\n      <td>202206</td>\n      <td>부산광역시</td>\n      <td>해운대구</td>\n      <td>합계</td>\n      <td>94,550</td>\n      <td>15135499</td>\n      <td>NaN</td>\n    </tr>\n  </tbody>\n</table>\n<p>17760 rows × 7 columns</p>\n</div>"
     },
     "execution_count": 21,
     "metadata": {},
     "output_type": "execute_result"
    }
   ],
   "source": [
    "df"
   ]
  },
  {
   "cell_type": "code",
   "execution_count": 22,
   "id": "c4b78f00",
   "metadata": {
    "pycharm": {
     "name": "#%%\n"
    }
   },
   "outputs": [],
   "source": [
    "df = df.groupby(['시구','년월','계약구분']).sum().reset_index()"
   ]
  },
  {
   "cell_type": "code",
   "execution_count": 23,
   "id": "39c39330",
   "metadata": {
    "pycharm": {
     "name": "#%%\n"
    }
   },
   "outputs": [
    {
     "data": {
      "text/plain": "         시구      년월 계약구분   사용량(kWh)          비율\n0     광주광역시  201207  일반용   22072448  209.325141\n1     광주광역시  201207   합계   66005895    0.000000\n2     광주광역시  201208  일반용   26125513  214.083330\n3     광주광역시  201208   합계   73488868    0.000000\n4     광주광역시  201209  일반용   22982728  210.112342\n...     ...     ...  ...        ...         ...\n1675  인천광역시  202204   합계  202133494    0.000000\n1676  인천광역시  202205  일반용   46264150  295.699852\n1677  인천광역시  202205   합계  194003617    0.000000\n1678  인천광역시  202206  일반용   51690657  308.649395\n1679  인천광역시  202206   합계  197025090    0.000000\n\n[1680 rows x 5 columns]",
      "text/html": "<div>\n<style scoped>\n    .dataframe tbody tr th:only-of-type {\n        vertical-align: middle;\n    }\n\n    .dataframe tbody tr th {\n        vertical-align: top;\n    }\n\n    .dataframe thead th {\n        text-align: right;\n    }\n</style>\n<table border=\"1\" class=\"dataframe\">\n  <thead>\n    <tr style=\"text-align: right;\">\n      <th></th>\n      <th>시구</th>\n      <th>년월</th>\n      <th>계약구분</th>\n      <th>사용량(kWh)</th>\n      <th>비율</th>\n    </tr>\n  </thead>\n  <tbody>\n    <tr>\n      <th>0</th>\n      <td>광주광역시</td>\n      <td>201207</td>\n      <td>일반용</td>\n      <td>22072448</td>\n      <td>209.325141</td>\n    </tr>\n    <tr>\n      <th>1</th>\n      <td>광주광역시</td>\n      <td>201207</td>\n      <td>합계</td>\n      <td>66005895</td>\n      <td>0.000000</td>\n    </tr>\n    <tr>\n      <th>2</th>\n      <td>광주광역시</td>\n      <td>201208</td>\n      <td>일반용</td>\n      <td>26125513</td>\n      <td>214.083330</td>\n    </tr>\n    <tr>\n      <th>3</th>\n      <td>광주광역시</td>\n      <td>201208</td>\n      <td>합계</td>\n      <td>73488868</td>\n      <td>0.000000</td>\n    </tr>\n    <tr>\n      <th>4</th>\n      <td>광주광역시</td>\n      <td>201209</td>\n      <td>일반용</td>\n      <td>22982728</td>\n      <td>210.112342</td>\n    </tr>\n    <tr>\n      <th>...</th>\n      <td>...</td>\n      <td>...</td>\n      <td>...</td>\n      <td>...</td>\n      <td>...</td>\n    </tr>\n    <tr>\n      <th>1675</th>\n      <td>인천광역시</td>\n      <td>202204</td>\n      <td>합계</td>\n      <td>202133494</td>\n      <td>0.000000</td>\n    </tr>\n    <tr>\n      <th>1676</th>\n      <td>인천광역시</td>\n      <td>202205</td>\n      <td>일반용</td>\n      <td>46264150</td>\n      <td>295.699852</td>\n    </tr>\n    <tr>\n      <th>1677</th>\n      <td>인천광역시</td>\n      <td>202205</td>\n      <td>합계</td>\n      <td>194003617</td>\n      <td>0.000000</td>\n    </tr>\n    <tr>\n      <th>1678</th>\n      <td>인천광역시</td>\n      <td>202206</td>\n      <td>일반용</td>\n      <td>51690657</td>\n      <td>308.649395</td>\n    </tr>\n    <tr>\n      <th>1679</th>\n      <td>인천광역시</td>\n      <td>202206</td>\n      <td>합계</td>\n      <td>197025090</td>\n      <td>0.000000</td>\n    </tr>\n  </tbody>\n</table>\n<p>1680 rows × 5 columns</p>\n</div>"
     },
     "execution_count": 23,
     "metadata": {},
     "output_type": "execute_result"
    }
   ],
   "source": [
    "df"
   ]
  },
  {
   "cell_type": "code",
   "execution_count": 24,
   "id": "1644c1ee",
   "metadata": {
    "pycharm": {
     "name": "#%%\n"
    }
   },
   "outputs": [
    {
     "data": {
      "text/plain": "계약구분      년월     시구        일반용         합계\n0     201207  광주광역시   22072448   66005895\n1     201207  대구광역시   36018365  121471972\n2     201207  대전광역시   27675935   75215776\n3     201207  부산광역시   52076565  167113544\n4     201207  서울특별시  228883105  407584733\n..       ...    ...        ...        ...\n835   202206  대전광역시   31489089   79308548\n836   202206  부산광역시   55733217  172300269\n837   202206  서울특별시  209920239  380786976\n838   202206  울산광역시   17524597  261037616\n839   202206  인천광역시   51690657  197025090\n\n[840 rows x 4 columns]",
      "text/html": "<div>\n<style scoped>\n    .dataframe tbody tr th:only-of-type {\n        vertical-align: middle;\n    }\n\n    .dataframe tbody tr th {\n        vertical-align: top;\n    }\n\n    .dataframe thead th {\n        text-align: right;\n    }\n</style>\n<table border=\"1\" class=\"dataframe\">\n  <thead>\n    <tr style=\"text-align: right;\">\n      <th>계약구분</th>\n      <th>년월</th>\n      <th>시구</th>\n      <th>일반용</th>\n      <th>합계</th>\n    </tr>\n  </thead>\n  <tbody>\n    <tr>\n      <th>0</th>\n      <td>201207</td>\n      <td>광주광역시</td>\n      <td>22072448</td>\n      <td>66005895</td>\n    </tr>\n    <tr>\n      <th>1</th>\n      <td>201207</td>\n      <td>대구광역시</td>\n      <td>36018365</td>\n      <td>121471972</td>\n    </tr>\n    <tr>\n      <th>2</th>\n      <td>201207</td>\n      <td>대전광역시</td>\n      <td>27675935</td>\n      <td>75215776</td>\n    </tr>\n    <tr>\n      <th>3</th>\n      <td>201207</td>\n      <td>부산광역시</td>\n      <td>52076565</td>\n      <td>167113544</td>\n    </tr>\n    <tr>\n      <th>4</th>\n      <td>201207</td>\n      <td>서울특별시</td>\n      <td>228883105</td>\n      <td>407584733</td>\n    </tr>\n    <tr>\n      <th>...</th>\n      <td>...</td>\n      <td>...</td>\n      <td>...</td>\n      <td>...</td>\n    </tr>\n    <tr>\n      <th>835</th>\n      <td>202206</td>\n      <td>대전광역시</td>\n      <td>31489089</td>\n      <td>79308548</td>\n    </tr>\n    <tr>\n      <th>836</th>\n      <td>202206</td>\n      <td>부산광역시</td>\n      <td>55733217</td>\n      <td>172300269</td>\n    </tr>\n    <tr>\n      <th>837</th>\n      <td>202206</td>\n      <td>서울특별시</td>\n      <td>209920239</td>\n      <td>380786976</td>\n    </tr>\n    <tr>\n      <th>838</th>\n      <td>202206</td>\n      <td>울산광역시</td>\n      <td>17524597</td>\n      <td>261037616</td>\n    </tr>\n    <tr>\n      <th>839</th>\n      <td>202206</td>\n      <td>인천광역시</td>\n      <td>51690657</td>\n      <td>197025090</td>\n    </tr>\n  </tbody>\n</table>\n<p>840 rows × 4 columns</p>\n</div>"
     },
     "execution_count": 24,
     "metadata": {},
     "output_type": "execute_result"
    }
   ],
   "source": [
    "df2 = pd.pivot_table(df, index = ['년월','시구'], columns = '계약구분', values='사용량(kWh)').reset_index()\n",
    "df2"
   ]
  },
  {
   "cell_type": "code",
   "execution_count": 25,
   "id": "7f7080ad",
   "metadata": {
    "pycharm": {
     "name": "#%%\n"
    }
   },
   "outputs": [
    {
     "data": {
      "text/plain": "계약구분      년월     시구        일반용         합계     비율    시군구\n0     201207  광주광역시   22072448   66005895  33.44  광주광역시\n1     201207  대구광역시   36018365  121471972  29.65  대구광역시\n2     201207  대전광역시   27675935   75215776  36.80  대전광역시\n3     201207  부산광역시   52076565  167113544  31.16  부산광역시\n4     201207  서울특별시  228883105  407584733  56.16  서울특별시\n..       ...    ...        ...        ...    ...    ...\n835   202206  대전광역시   31489089   79308548  39.70  대전광역시\n836   202206  부산광역시   55733217  172300269  32.35  부산광역시\n837   202206  서울특별시  209920239  380786976  55.13  서울특별시\n838   202206  울산광역시   17524597  261037616   6.71  울산광역시\n839   202206  인천광역시   51690657  197025090  26.24  인천광역시\n\n[840 rows x 6 columns]",
      "text/html": "<div>\n<style scoped>\n    .dataframe tbody tr th:only-of-type {\n        vertical-align: middle;\n    }\n\n    .dataframe tbody tr th {\n        vertical-align: top;\n    }\n\n    .dataframe thead th {\n        text-align: right;\n    }\n</style>\n<table border=\"1\" class=\"dataframe\">\n  <thead>\n    <tr style=\"text-align: right;\">\n      <th>계약구분</th>\n      <th>년월</th>\n      <th>시구</th>\n      <th>일반용</th>\n      <th>합계</th>\n      <th>비율</th>\n      <th>시군구</th>\n    </tr>\n  </thead>\n  <tbody>\n    <tr>\n      <th>0</th>\n      <td>201207</td>\n      <td>광주광역시</td>\n      <td>22072448</td>\n      <td>66005895</td>\n      <td>33.44</td>\n      <td>광주광역시</td>\n    </tr>\n    <tr>\n      <th>1</th>\n      <td>201207</td>\n      <td>대구광역시</td>\n      <td>36018365</td>\n      <td>121471972</td>\n      <td>29.65</td>\n      <td>대구광역시</td>\n    </tr>\n    <tr>\n      <th>2</th>\n      <td>201207</td>\n      <td>대전광역시</td>\n      <td>27675935</td>\n      <td>75215776</td>\n      <td>36.80</td>\n      <td>대전광역시</td>\n    </tr>\n    <tr>\n      <th>3</th>\n      <td>201207</td>\n      <td>부산광역시</td>\n      <td>52076565</td>\n      <td>167113544</td>\n      <td>31.16</td>\n      <td>부산광역시</td>\n    </tr>\n    <tr>\n      <th>4</th>\n      <td>201207</td>\n      <td>서울특별시</td>\n      <td>228883105</td>\n      <td>407584733</td>\n      <td>56.16</td>\n      <td>서울특별시</td>\n    </tr>\n    <tr>\n      <th>...</th>\n      <td>...</td>\n      <td>...</td>\n      <td>...</td>\n      <td>...</td>\n      <td>...</td>\n      <td>...</td>\n    </tr>\n    <tr>\n      <th>835</th>\n      <td>202206</td>\n      <td>대전광역시</td>\n      <td>31489089</td>\n      <td>79308548</td>\n      <td>39.70</td>\n      <td>대전광역시</td>\n    </tr>\n    <tr>\n      <th>836</th>\n      <td>202206</td>\n      <td>부산광역시</td>\n      <td>55733217</td>\n      <td>172300269</td>\n      <td>32.35</td>\n      <td>부산광역시</td>\n    </tr>\n    <tr>\n      <th>837</th>\n      <td>202206</td>\n      <td>서울특별시</td>\n      <td>209920239</td>\n      <td>380786976</td>\n      <td>55.13</td>\n      <td>서울특별시</td>\n    </tr>\n    <tr>\n      <th>838</th>\n      <td>202206</td>\n      <td>울산광역시</td>\n      <td>17524597</td>\n      <td>261037616</td>\n      <td>6.71</td>\n      <td>울산광역시</td>\n    </tr>\n    <tr>\n      <th>839</th>\n      <td>202206</td>\n      <td>인천광역시</td>\n      <td>51690657</td>\n      <td>197025090</td>\n      <td>26.24</td>\n      <td>인천광역시</td>\n    </tr>\n  </tbody>\n</table>\n<p>840 rows × 6 columns</p>\n</div>"
     },
     "execution_count": 25,
     "metadata": {},
     "output_type": "execute_result"
    }
   ],
   "source": [
    "df2['비율'] = round(df2['일반용']/df2['합계']*100,2)\n",
    "df2['시군구'] = df2['시구']\n",
    "df2"
   ]
  },
  {
   "cell_type": "code",
   "execution_count": 26,
   "id": "ea660fc0",
   "metadata": {
    "pycharm": {
     "name": "#%%\n"
    }
   },
   "outputs": [
    {
     "data": {
      "text/plain": "계약구분      년월     시구     비율    시군구\n0     201207  광주광역시  33.44  광주광역시\n1     201207  대구광역시  29.65  대구광역시\n2     201207  대전광역시  36.80  대전광역시\n3     201207  부산광역시  31.16  부산광역시\n4     201207  서울특별시  56.16  서울특별시\n..       ...    ...    ...    ...\n835   202206  대전광역시  39.70  대전광역시\n836   202206  부산광역시  32.35  부산광역시\n837   202206  서울특별시  55.13  서울특별시\n838   202206  울산광역시   6.71  울산광역시\n839   202206  인천광역시  26.24  인천광역시\n\n[840 rows x 4 columns]",
      "text/html": "<div>\n<style scoped>\n    .dataframe tbody tr th:only-of-type {\n        vertical-align: middle;\n    }\n\n    .dataframe tbody tr th {\n        vertical-align: top;\n    }\n\n    .dataframe thead th {\n        text-align: right;\n    }\n</style>\n<table border=\"1\" class=\"dataframe\">\n  <thead>\n    <tr style=\"text-align: right;\">\n      <th>계약구분</th>\n      <th>년월</th>\n      <th>시구</th>\n      <th>비율</th>\n      <th>시군구</th>\n    </tr>\n  </thead>\n  <tbody>\n    <tr>\n      <th>0</th>\n      <td>201207</td>\n      <td>광주광역시</td>\n      <td>33.44</td>\n      <td>광주광역시</td>\n    </tr>\n    <tr>\n      <th>1</th>\n      <td>201207</td>\n      <td>대구광역시</td>\n      <td>29.65</td>\n      <td>대구광역시</td>\n    </tr>\n    <tr>\n      <th>2</th>\n      <td>201207</td>\n      <td>대전광역시</td>\n      <td>36.80</td>\n      <td>대전광역시</td>\n    </tr>\n    <tr>\n      <th>3</th>\n      <td>201207</td>\n      <td>부산광역시</td>\n      <td>31.16</td>\n      <td>부산광역시</td>\n    </tr>\n    <tr>\n      <th>4</th>\n      <td>201207</td>\n      <td>서울특별시</td>\n      <td>56.16</td>\n      <td>서울특별시</td>\n    </tr>\n    <tr>\n      <th>...</th>\n      <td>...</td>\n      <td>...</td>\n      <td>...</td>\n      <td>...</td>\n    </tr>\n    <tr>\n      <th>835</th>\n      <td>202206</td>\n      <td>대전광역시</td>\n      <td>39.70</td>\n      <td>대전광역시</td>\n    </tr>\n    <tr>\n      <th>836</th>\n      <td>202206</td>\n      <td>부산광역시</td>\n      <td>32.35</td>\n      <td>부산광역시</td>\n    </tr>\n    <tr>\n      <th>837</th>\n      <td>202206</td>\n      <td>서울특별시</td>\n      <td>55.13</td>\n      <td>서울특별시</td>\n    </tr>\n    <tr>\n      <th>838</th>\n      <td>202206</td>\n      <td>울산광역시</td>\n      <td>6.71</td>\n      <td>울산광역시</td>\n    </tr>\n    <tr>\n      <th>839</th>\n      <td>202206</td>\n      <td>인천광역시</td>\n      <td>26.24</td>\n      <td>인천광역시</td>\n    </tr>\n  </tbody>\n</table>\n<p>840 rows × 4 columns</p>\n</div>"
     },
     "execution_count": 26,
     "metadata": {},
     "output_type": "execute_result"
    }
   ],
   "source": [
    "df2.drop(['일반용', '합계'], axis=1, inplace=True)\n",
    "df2"
   ]
  },
  {
   "cell_type": "code",
   "execution_count": 27,
   "id": "7c8ef075",
   "metadata": {
    "pycharm": {
     "name": "#%%\n"
    }
   },
   "outputs": [
    {
     "data": {
      "text/plain": "           년월   시구  시군구 계약구분  고객호수(호)  사용량(kWh)         비율\n0      201207  경기도  가평군  일반용   7,891    1874059  49.904604\n1      201207  경기도  가평군   합계  53,913    3755282        NaN\n2      201208  경기도  가평군  일반용   8,001    2282783  52.520078\n3      201208  경기도  가평군   합계  54,194    4346497        NaN\n4      201209  경기도  가평군  일반용   8,067    1956103  47.929931\n...       ...  ...  ...  ...      ...       ...        ...\n55127  202204  강원도  횡성군   합계  61,878    5647351        NaN\n55128  202205  강원도  횡성군  일반용   5,505     917938  18.430195\n55129  202205  강원도  횡성군   합계  62,200    4980623        NaN\n55130  202206  강원도  횡성군  일반용   5,526     964330  19.673426\n55131  202206  강원도  횡성군   합계  62,396    4901688        NaN\n\n[55132 rows x 7 columns]",
      "text/html": "<div>\n<style scoped>\n    .dataframe tbody tr th:only-of-type {\n        vertical-align: middle;\n    }\n\n    .dataframe tbody tr th {\n        vertical-align: top;\n    }\n\n    .dataframe thead th {\n        text-align: right;\n    }\n</style>\n<table border=\"1\" class=\"dataframe\">\n  <thead>\n    <tr style=\"text-align: right;\">\n      <th></th>\n      <th>년월</th>\n      <th>시구</th>\n      <th>시군구</th>\n      <th>계약구분</th>\n      <th>고객호수(호)</th>\n      <th>사용량(kWh)</th>\n      <th>비율</th>\n    </tr>\n  </thead>\n  <tbody>\n    <tr>\n      <th>0</th>\n      <td>201207</td>\n      <td>경기도</td>\n      <td>가평군</td>\n      <td>일반용</td>\n      <td>7,891</td>\n      <td>1874059</td>\n      <td>49.904604</td>\n    </tr>\n    <tr>\n      <th>1</th>\n      <td>201207</td>\n      <td>경기도</td>\n      <td>가평군</td>\n      <td>합계</td>\n      <td>53,913</td>\n      <td>3755282</td>\n      <td>NaN</td>\n    </tr>\n    <tr>\n      <th>2</th>\n      <td>201208</td>\n      <td>경기도</td>\n      <td>가평군</td>\n      <td>일반용</td>\n      <td>8,001</td>\n      <td>2282783</td>\n      <td>52.520078</td>\n    </tr>\n    <tr>\n      <th>3</th>\n      <td>201208</td>\n      <td>경기도</td>\n      <td>가평군</td>\n      <td>합계</td>\n      <td>54,194</td>\n      <td>4346497</td>\n      <td>NaN</td>\n    </tr>\n    <tr>\n      <th>4</th>\n      <td>201209</td>\n      <td>경기도</td>\n      <td>가평군</td>\n      <td>일반용</td>\n      <td>8,067</td>\n      <td>1956103</td>\n      <td>47.929931</td>\n    </tr>\n    <tr>\n      <th>...</th>\n      <td>...</td>\n      <td>...</td>\n      <td>...</td>\n      <td>...</td>\n      <td>...</td>\n      <td>...</td>\n      <td>...</td>\n    </tr>\n    <tr>\n      <th>55127</th>\n      <td>202204</td>\n      <td>강원도</td>\n      <td>횡성군</td>\n      <td>합계</td>\n      <td>61,878</td>\n      <td>5647351</td>\n      <td>NaN</td>\n    </tr>\n    <tr>\n      <th>55128</th>\n      <td>202205</td>\n      <td>강원도</td>\n      <td>횡성군</td>\n      <td>일반용</td>\n      <td>5,505</td>\n      <td>917938</td>\n      <td>18.430195</td>\n    </tr>\n    <tr>\n      <th>55129</th>\n      <td>202205</td>\n      <td>강원도</td>\n      <td>횡성군</td>\n      <td>합계</td>\n      <td>62,200</td>\n      <td>4980623</td>\n      <td>NaN</td>\n    </tr>\n    <tr>\n      <th>55130</th>\n      <td>202206</td>\n      <td>강원도</td>\n      <td>횡성군</td>\n      <td>일반용</td>\n      <td>5,526</td>\n      <td>964330</td>\n      <td>19.673426</td>\n    </tr>\n    <tr>\n      <th>55131</th>\n      <td>202206</td>\n      <td>강원도</td>\n      <td>횡성군</td>\n      <td>합계</td>\n      <td>62,396</td>\n      <td>4901688</td>\n      <td>NaN</td>\n    </tr>\n  </tbody>\n</table>\n<p>55132 rows × 7 columns</p>\n</div>"
     },
     "execution_count": 27,
     "metadata": {},
     "output_type": "execute_result"
    }
   ],
   "source": [
    "original = pd.read_csv('2012-2022전국.csv')\n",
    "original"
   ]
  },
  {
   "cell_type": "code",
   "execution_count": 28,
   "id": "9676db2c",
   "metadata": {
    "pycharm": {
     "name": "#%%\n"
    }
   },
   "outputs": [],
   "source": [
    "original = original[~original.isin({'시구' : ['서울특별시','부산광역시','울산광역시','대전광역시','대구광역시','인천광역시','광주광역시']})['시구']]"
   ]
  },
  {
   "cell_type": "code",
   "execution_count": 29,
   "id": "0b46685e",
   "metadata": {
    "pycharm": {
     "name": "#%%\n"
    }
   },
   "outputs": [
    {
     "data": {
      "text/plain": "           년월   시구  시군구 계약구분  고객호수(호)  사용량(kWh)         비율\n0      201207  경기도  가평군  일반용   7,891    1874059  49.904604\n1      201207  경기도  가평군   합계  53,913    3755282        NaN\n2      201208  경기도  가평군  일반용   8,001    2282783  52.520078\n3      201208  경기도  가평군   합계  54,194    4346497        NaN\n4      201209  경기도  가평군  일반용   8,067    1956103  47.929931\n...       ...  ...  ...  ...      ...       ...        ...\n55127  202204  강원도  횡성군   합계  61,878    5647351        NaN\n55128  202205  강원도  횡성군  일반용   5,505     917938  18.430195\n55129  202205  강원도  횡성군   합계  62,200    4980623        NaN\n55130  202206  강원도  횡성군  일반용   5,526     964330  19.673426\n55131  202206  강원도  횡성군   합계  62,396    4901688        NaN\n\n[37372 rows x 7 columns]",
      "text/html": "<div>\n<style scoped>\n    .dataframe tbody tr th:only-of-type {\n        vertical-align: middle;\n    }\n\n    .dataframe tbody tr th {\n        vertical-align: top;\n    }\n\n    .dataframe thead th {\n        text-align: right;\n    }\n</style>\n<table border=\"1\" class=\"dataframe\">\n  <thead>\n    <tr style=\"text-align: right;\">\n      <th></th>\n      <th>년월</th>\n      <th>시구</th>\n      <th>시군구</th>\n      <th>계약구분</th>\n      <th>고객호수(호)</th>\n      <th>사용량(kWh)</th>\n      <th>비율</th>\n    </tr>\n  </thead>\n  <tbody>\n    <tr>\n      <th>0</th>\n      <td>201207</td>\n      <td>경기도</td>\n      <td>가평군</td>\n      <td>일반용</td>\n      <td>7,891</td>\n      <td>1874059</td>\n      <td>49.904604</td>\n    </tr>\n    <tr>\n      <th>1</th>\n      <td>201207</td>\n      <td>경기도</td>\n      <td>가평군</td>\n      <td>합계</td>\n      <td>53,913</td>\n      <td>3755282</td>\n      <td>NaN</td>\n    </tr>\n    <tr>\n      <th>2</th>\n      <td>201208</td>\n      <td>경기도</td>\n      <td>가평군</td>\n      <td>일반용</td>\n      <td>8,001</td>\n      <td>2282783</td>\n      <td>52.520078</td>\n    </tr>\n    <tr>\n      <th>3</th>\n      <td>201208</td>\n      <td>경기도</td>\n      <td>가평군</td>\n      <td>합계</td>\n      <td>54,194</td>\n      <td>4346497</td>\n      <td>NaN</td>\n    </tr>\n    <tr>\n      <th>4</th>\n      <td>201209</td>\n      <td>경기도</td>\n      <td>가평군</td>\n      <td>일반용</td>\n      <td>8,067</td>\n      <td>1956103</td>\n      <td>47.929931</td>\n    </tr>\n    <tr>\n      <th>...</th>\n      <td>...</td>\n      <td>...</td>\n      <td>...</td>\n      <td>...</td>\n      <td>...</td>\n      <td>...</td>\n      <td>...</td>\n    </tr>\n    <tr>\n      <th>55127</th>\n      <td>202204</td>\n      <td>강원도</td>\n      <td>횡성군</td>\n      <td>합계</td>\n      <td>61,878</td>\n      <td>5647351</td>\n      <td>NaN</td>\n    </tr>\n    <tr>\n      <th>55128</th>\n      <td>202205</td>\n      <td>강원도</td>\n      <td>횡성군</td>\n      <td>일반용</td>\n      <td>5,505</td>\n      <td>917938</td>\n      <td>18.430195</td>\n    </tr>\n    <tr>\n      <th>55129</th>\n      <td>202205</td>\n      <td>강원도</td>\n      <td>횡성군</td>\n      <td>합계</td>\n      <td>62,200</td>\n      <td>4980623</td>\n      <td>NaN</td>\n    </tr>\n    <tr>\n      <th>55130</th>\n      <td>202206</td>\n      <td>강원도</td>\n      <td>횡성군</td>\n      <td>일반용</td>\n      <td>5,526</td>\n      <td>964330</td>\n      <td>19.673426</td>\n    </tr>\n    <tr>\n      <th>55131</th>\n      <td>202206</td>\n      <td>강원도</td>\n      <td>횡성군</td>\n      <td>합계</td>\n      <td>62,396</td>\n      <td>4901688</td>\n      <td>NaN</td>\n    </tr>\n  </tbody>\n</table>\n<p>37372 rows × 7 columns</p>\n</div>"
     },
     "execution_count": 29,
     "metadata": {},
     "output_type": "execute_result"
    }
   ],
   "source": [
    "original"
   ]
  },
  {
   "cell_type": "code",
   "execution_count": 30,
   "id": "1fdcf757",
   "metadata": {
    "pycharm": {
     "name": "#%%\n"
    }
   },
   "outputs": [
    {
     "data": {
      "text/plain": "         년월     시구    시군구 계약구분  고객호수(호)   사용량(kWh)         비율\n0    201207    경기도    가평군  일반용   7,891   1874059.0  49.904604\n1    201207    경기도    가평군   합계  53,913   3755282.0        NaN\n2    201208    경기도    가평군  일반용   8,001   2282783.0  52.520078\n3    201208    경기도    가평군   합계  54,194   4346497.0        NaN\n4    201209    경기도    가평군  일반용   8,067   1956103.0  47.929931\n..      ...    ...    ...  ...      ...        ...        ...\n835  202206  대전광역시  대전광역시  NaN      NaN        NaN  39.700000\n836  202206  부산광역시  부산광역시  NaN      NaN        NaN  32.350000\n837  202206  서울특별시  서울특별시  NaN      NaN        NaN  55.130000\n838  202206  울산광역시  울산광역시  NaN      NaN        NaN   6.710000\n839  202206  인천광역시  인천광역시  NaN      NaN        NaN  26.240000\n\n[38212 rows x 7 columns]",
      "text/html": "<div>\n<style scoped>\n    .dataframe tbody tr th:only-of-type {\n        vertical-align: middle;\n    }\n\n    .dataframe tbody tr th {\n        vertical-align: top;\n    }\n\n    .dataframe thead th {\n        text-align: right;\n    }\n</style>\n<table border=\"1\" class=\"dataframe\">\n  <thead>\n    <tr style=\"text-align: right;\">\n      <th></th>\n      <th>년월</th>\n      <th>시구</th>\n      <th>시군구</th>\n      <th>계약구분</th>\n      <th>고객호수(호)</th>\n      <th>사용량(kWh)</th>\n      <th>비율</th>\n    </tr>\n  </thead>\n  <tbody>\n    <tr>\n      <th>0</th>\n      <td>201207</td>\n      <td>경기도</td>\n      <td>가평군</td>\n      <td>일반용</td>\n      <td>7,891</td>\n      <td>1874059.0</td>\n      <td>49.904604</td>\n    </tr>\n    <tr>\n      <th>1</th>\n      <td>201207</td>\n      <td>경기도</td>\n      <td>가평군</td>\n      <td>합계</td>\n      <td>53,913</td>\n      <td>3755282.0</td>\n      <td>NaN</td>\n    </tr>\n    <tr>\n      <th>2</th>\n      <td>201208</td>\n      <td>경기도</td>\n      <td>가평군</td>\n      <td>일반용</td>\n      <td>8,001</td>\n      <td>2282783.0</td>\n      <td>52.520078</td>\n    </tr>\n    <tr>\n      <th>3</th>\n      <td>201208</td>\n      <td>경기도</td>\n      <td>가평군</td>\n      <td>합계</td>\n      <td>54,194</td>\n      <td>4346497.0</td>\n      <td>NaN</td>\n    </tr>\n    <tr>\n      <th>4</th>\n      <td>201209</td>\n      <td>경기도</td>\n      <td>가평군</td>\n      <td>일반용</td>\n      <td>8,067</td>\n      <td>1956103.0</td>\n      <td>47.929931</td>\n    </tr>\n    <tr>\n      <th>...</th>\n      <td>...</td>\n      <td>...</td>\n      <td>...</td>\n      <td>...</td>\n      <td>...</td>\n      <td>...</td>\n      <td>...</td>\n    </tr>\n    <tr>\n      <th>835</th>\n      <td>202206</td>\n      <td>대전광역시</td>\n      <td>대전광역시</td>\n      <td>NaN</td>\n      <td>NaN</td>\n      <td>NaN</td>\n      <td>39.700000</td>\n    </tr>\n    <tr>\n      <th>836</th>\n      <td>202206</td>\n      <td>부산광역시</td>\n      <td>부산광역시</td>\n      <td>NaN</td>\n      <td>NaN</td>\n      <td>NaN</td>\n      <td>32.350000</td>\n    </tr>\n    <tr>\n      <th>837</th>\n      <td>202206</td>\n      <td>서울특별시</td>\n      <td>서울특별시</td>\n      <td>NaN</td>\n      <td>NaN</td>\n      <td>NaN</td>\n      <td>55.130000</td>\n    </tr>\n    <tr>\n      <th>838</th>\n      <td>202206</td>\n      <td>울산광역시</td>\n      <td>울산광역시</td>\n      <td>NaN</td>\n      <td>NaN</td>\n      <td>NaN</td>\n      <td>6.710000</td>\n    </tr>\n    <tr>\n      <th>839</th>\n      <td>202206</td>\n      <td>인천광역시</td>\n      <td>인천광역시</td>\n      <td>NaN</td>\n      <td>NaN</td>\n      <td>NaN</td>\n      <td>26.240000</td>\n    </tr>\n  </tbody>\n</table>\n<p>38212 rows × 7 columns</p>\n</div>"
     },
     "execution_count": 30,
     "metadata": {},
     "output_type": "execute_result"
    }
   ],
   "source": [
    "final = pd.concat([original, df2])\n",
    "final"
   ]
  },
  {
   "cell_type": "code",
   "execution_count": 30,
   "outputs": [],
   "source": [],
   "metadata": {
    "collapsed": false,
    "pycharm": {
     "name": "#%%\n"
    }
   }
  },
  {
   "cell_type": "code",
   "execution_count": 31,
   "id": "629df010",
   "metadata": {
    "pycharm": {
     "name": "#%%\n"
    }
   },
   "outputs": [
    {
     "data": {
      "text/plain": "년월      201207     201208     201209     201210     201211     201212  \\\n시군구                                                                     \n가평군  49.904604  52.520078  47.929931  42.124389  38.668570  37.147787   \n강릉시  23.239734  28.461477  29.786887  24.208582  24.291332  24.457904   \n강진군  22.873028  23.430791  22.944297  22.073889  18.304564  22.394694   \n거제시  18.877278  22.532916  21.435366  19.109108  18.468690  19.658469   \n거창군  24.164292  26.507241  23.311054  22.275773  22.583569  24.282723   \n..         ...        ...        ...        ...        ...        ...   \n홍천군  40.752968  43.028532  37.213887  32.521297  30.604034  31.708668   \n화성시   9.563935  10.612643   9.982081   8.633315   8.757733   9.848500   \n화순군  28.391742  30.284665  28.163697  26.389090  24.748432  25.598917   \n화천군  52.037788  54.243887  50.563930  45.727610  41.960009  41.254759   \n횡성군  24.642118  27.449648  24.171232  20.652207  20.166188  22.865723   \n\n년월      201301     201302     201303     201304  ...     202109     202110  \\\n시군구                                              ...                         \n가평군  37.330245  37.212697  37.228394  38.165834  ...  53.321425  52.192104   \n강릉시  25.890283  26.754284  24.297519  22.681266  ...  32.135908  29.777082   \n강진군  23.317998  22.026713  21.611173  20.747734  ...  18.377672  17.824560   \n거제시  21.119714  21.932150  19.670099  20.034940  ...  23.131568  22.641530   \n거창군  24.793985  24.656547  22.648182  22.922625  ...  23.735099  23.980361   \n..         ...        ...        ...        ...  ...        ...        ...   \n홍천군  29.393393  28.649573  27.340232  27.726198  ...  36.546717  35.212492   \n화성시  11.045701  11.007507   9.841465   9.518011  ...  12.488215  12.083996   \n화순군  25.553348  25.078412  24.770617  24.691015  ...  30.773970  29.814763   \n화천군  40.992231  41.981783  41.147597  42.249996  ...  49.627244  46.649945   \n횡성군  19.977536  19.303456  18.552739  17.664387  ...  19.311780  18.271361   \n\n년월      202111     202112     202201     202202     202203     202204  \\\n시군구                                                                     \n가평군  50.799034  51.396716  52.697673  52.750232  51.491564  50.596097   \n강릉시  28.549365  28.846826  31.664158  32.218508  29.910974  27.419616   \n강진군  14.391787  13.585989  17.263214  16.757431  16.213430  16.796029   \n거제시  22.799548  22.487805  24.276450  25.359417  22.974697  22.844094   \n거창군  25.441676  27.541404  27.649651  27.549918  26.219157  25.823814   \n..         ...        ...        ...        ...        ...        ...   \n홍천군  33.313156  36.382464  35.591591  34.740827  32.549036  32.901422   \n화성시  11.758318  12.412801  13.625685  14.051310  12.856790  12.354155   \n화순군  25.296964  25.520254  25.767278  26.416325  27.418616  27.585808   \n화천군  45.300957  46.689361  48.043892  47.838186  46.872889  46.638046   \n횡성군  18.419022  21.101361  20.253565  19.801676  17.879036  17.433311   \n\n년월      202205     202206  \n시군구                        \n가평군  52.798831  55.178713  \n강릉시  25.828095  29.324267  \n강진군  17.849569  18.521212  \n거제시  22.912278  23.662738  \n거창군  25.844438  26.008739  \n..         ...        ...  \n홍천군  36.021392  38.846567  \n화성시  12.359557  13.115597  \n화순군  29.132586  30.631644  \n화천군  46.803573  49.491825  \n횡성군  18.430195  19.673426  \n\n[163 rows x 120 columns]",
      "text/html": "<div>\n<style scoped>\n    .dataframe tbody tr th:only-of-type {\n        vertical-align: middle;\n    }\n\n    .dataframe tbody tr th {\n        vertical-align: top;\n    }\n\n    .dataframe thead th {\n        text-align: right;\n    }\n</style>\n<table border=\"1\" class=\"dataframe\">\n  <thead>\n    <tr style=\"text-align: right;\">\n      <th>년월</th>\n      <th>201207</th>\n      <th>201208</th>\n      <th>201209</th>\n      <th>201210</th>\n      <th>201211</th>\n      <th>201212</th>\n      <th>201301</th>\n      <th>201302</th>\n      <th>201303</th>\n      <th>201304</th>\n      <th>...</th>\n      <th>202109</th>\n      <th>202110</th>\n      <th>202111</th>\n      <th>202112</th>\n      <th>202201</th>\n      <th>202202</th>\n      <th>202203</th>\n      <th>202204</th>\n      <th>202205</th>\n      <th>202206</th>\n    </tr>\n    <tr>\n      <th>시군구</th>\n      <th></th>\n      <th></th>\n      <th></th>\n      <th></th>\n      <th></th>\n      <th></th>\n      <th></th>\n      <th></th>\n      <th></th>\n      <th></th>\n      <th></th>\n      <th></th>\n      <th></th>\n      <th></th>\n      <th></th>\n      <th></th>\n      <th></th>\n      <th></th>\n      <th></th>\n      <th></th>\n      <th></th>\n    </tr>\n  </thead>\n  <tbody>\n    <tr>\n      <th>가평군</th>\n      <td>49.904604</td>\n      <td>52.520078</td>\n      <td>47.929931</td>\n      <td>42.124389</td>\n      <td>38.668570</td>\n      <td>37.147787</td>\n      <td>37.330245</td>\n      <td>37.212697</td>\n      <td>37.228394</td>\n      <td>38.165834</td>\n      <td>...</td>\n      <td>53.321425</td>\n      <td>52.192104</td>\n      <td>50.799034</td>\n      <td>51.396716</td>\n      <td>52.697673</td>\n      <td>52.750232</td>\n      <td>51.491564</td>\n      <td>50.596097</td>\n      <td>52.798831</td>\n      <td>55.178713</td>\n    </tr>\n    <tr>\n      <th>강릉시</th>\n      <td>23.239734</td>\n      <td>28.461477</td>\n      <td>29.786887</td>\n      <td>24.208582</td>\n      <td>24.291332</td>\n      <td>24.457904</td>\n      <td>25.890283</td>\n      <td>26.754284</td>\n      <td>24.297519</td>\n      <td>22.681266</td>\n      <td>...</td>\n      <td>32.135908</td>\n      <td>29.777082</td>\n      <td>28.549365</td>\n      <td>28.846826</td>\n      <td>31.664158</td>\n      <td>32.218508</td>\n      <td>29.910974</td>\n      <td>27.419616</td>\n      <td>25.828095</td>\n      <td>29.324267</td>\n    </tr>\n    <tr>\n      <th>강진군</th>\n      <td>22.873028</td>\n      <td>23.430791</td>\n      <td>22.944297</td>\n      <td>22.073889</td>\n      <td>18.304564</td>\n      <td>22.394694</td>\n      <td>23.317998</td>\n      <td>22.026713</td>\n      <td>21.611173</td>\n      <td>20.747734</td>\n      <td>...</td>\n      <td>18.377672</td>\n      <td>17.824560</td>\n      <td>14.391787</td>\n      <td>13.585989</td>\n      <td>17.263214</td>\n      <td>16.757431</td>\n      <td>16.213430</td>\n      <td>16.796029</td>\n      <td>17.849569</td>\n      <td>18.521212</td>\n    </tr>\n    <tr>\n      <th>거제시</th>\n      <td>18.877278</td>\n      <td>22.532916</td>\n      <td>21.435366</td>\n      <td>19.109108</td>\n      <td>18.468690</td>\n      <td>19.658469</td>\n      <td>21.119714</td>\n      <td>21.932150</td>\n      <td>19.670099</td>\n      <td>20.034940</td>\n      <td>...</td>\n      <td>23.131568</td>\n      <td>22.641530</td>\n      <td>22.799548</td>\n      <td>22.487805</td>\n      <td>24.276450</td>\n      <td>25.359417</td>\n      <td>22.974697</td>\n      <td>22.844094</td>\n      <td>22.912278</td>\n      <td>23.662738</td>\n    </tr>\n    <tr>\n      <th>거창군</th>\n      <td>24.164292</td>\n      <td>26.507241</td>\n      <td>23.311054</td>\n      <td>22.275773</td>\n      <td>22.583569</td>\n      <td>24.282723</td>\n      <td>24.793985</td>\n      <td>24.656547</td>\n      <td>22.648182</td>\n      <td>22.922625</td>\n      <td>...</td>\n      <td>23.735099</td>\n      <td>23.980361</td>\n      <td>25.441676</td>\n      <td>27.541404</td>\n      <td>27.649651</td>\n      <td>27.549918</td>\n      <td>26.219157</td>\n      <td>25.823814</td>\n      <td>25.844438</td>\n      <td>26.008739</td>\n    </tr>\n    <tr>\n      <th>...</th>\n      <td>...</td>\n      <td>...</td>\n      <td>...</td>\n      <td>...</td>\n      <td>...</td>\n      <td>...</td>\n      <td>...</td>\n      <td>...</td>\n      <td>...</td>\n      <td>...</td>\n      <td>...</td>\n      <td>...</td>\n      <td>...</td>\n      <td>...</td>\n      <td>...</td>\n      <td>...</td>\n      <td>...</td>\n      <td>...</td>\n      <td>...</td>\n      <td>...</td>\n      <td>...</td>\n    </tr>\n    <tr>\n      <th>홍천군</th>\n      <td>40.752968</td>\n      <td>43.028532</td>\n      <td>37.213887</td>\n      <td>32.521297</td>\n      <td>30.604034</td>\n      <td>31.708668</td>\n      <td>29.393393</td>\n      <td>28.649573</td>\n      <td>27.340232</td>\n      <td>27.726198</td>\n      <td>...</td>\n      <td>36.546717</td>\n      <td>35.212492</td>\n      <td>33.313156</td>\n      <td>36.382464</td>\n      <td>35.591591</td>\n      <td>34.740827</td>\n      <td>32.549036</td>\n      <td>32.901422</td>\n      <td>36.021392</td>\n      <td>38.846567</td>\n    </tr>\n    <tr>\n      <th>화성시</th>\n      <td>9.563935</td>\n      <td>10.612643</td>\n      <td>9.982081</td>\n      <td>8.633315</td>\n      <td>8.757733</td>\n      <td>9.848500</td>\n      <td>11.045701</td>\n      <td>11.007507</td>\n      <td>9.841465</td>\n      <td>9.518011</td>\n      <td>...</td>\n      <td>12.488215</td>\n      <td>12.083996</td>\n      <td>11.758318</td>\n      <td>12.412801</td>\n      <td>13.625685</td>\n      <td>14.051310</td>\n      <td>12.856790</td>\n      <td>12.354155</td>\n      <td>12.359557</td>\n      <td>13.115597</td>\n    </tr>\n    <tr>\n      <th>화순군</th>\n      <td>28.391742</td>\n      <td>30.284665</td>\n      <td>28.163697</td>\n      <td>26.389090</td>\n      <td>24.748432</td>\n      <td>25.598917</td>\n      <td>25.553348</td>\n      <td>25.078412</td>\n      <td>24.770617</td>\n      <td>24.691015</td>\n      <td>...</td>\n      <td>30.773970</td>\n      <td>29.814763</td>\n      <td>25.296964</td>\n      <td>25.520254</td>\n      <td>25.767278</td>\n      <td>26.416325</td>\n      <td>27.418616</td>\n      <td>27.585808</td>\n      <td>29.132586</td>\n      <td>30.631644</td>\n    </tr>\n    <tr>\n      <th>화천군</th>\n      <td>52.037788</td>\n      <td>54.243887</td>\n      <td>50.563930</td>\n      <td>45.727610</td>\n      <td>41.960009</td>\n      <td>41.254759</td>\n      <td>40.992231</td>\n      <td>41.981783</td>\n      <td>41.147597</td>\n      <td>42.249996</td>\n      <td>...</td>\n      <td>49.627244</td>\n      <td>46.649945</td>\n      <td>45.300957</td>\n      <td>46.689361</td>\n      <td>48.043892</td>\n      <td>47.838186</td>\n      <td>46.872889</td>\n      <td>46.638046</td>\n      <td>46.803573</td>\n      <td>49.491825</td>\n    </tr>\n    <tr>\n      <th>횡성군</th>\n      <td>24.642118</td>\n      <td>27.449648</td>\n      <td>24.171232</td>\n      <td>20.652207</td>\n      <td>20.166188</td>\n      <td>22.865723</td>\n      <td>19.977536</td>\n      <td>19.303456</td>\n      <td>18.552739</td>\n      <td>17.664387</td>\n      <td>...</td>\n      <td>19.311780</td>\n      <td>18.271361</td>\n      <td>18.419022</td>\n      <td>21.101361</td>\n      <td>20.253565</td>\n      <td>19.801676</td>\n      <td>17.879036</td>\n      <td>17.433311</td>\n      <td>18.430195</td>\n      <td>19.673426</td>\n    </tr>\n  </tbody>\n</table>\n<p>163 rows × 120 columns</p>\n</div>"
     },
     "execution_count": 31,
     "metadata": {},
     "output_type": "execute_result"
    }
   ],
   "source": [
    "final = pd.pivot_table(final, index = ['시군구'], columns = '년월', values='비율')\n",
    "final"
   ]
  },
  {
   "cell_type": "code",
   "execution_count": 31,
   "outputs": [],
   "source": [],
   "metadata": {
    "collapsed": false,
    "pycharm": {
     "name": "#%%\n"
    }
   }
  },
  {
   "cell_type": "code",
   "execution_count": 32,
   "id": "541a3c99",
   "metadata": {
    "pycharm": {
     "name": "#%%\n"
    }
   },
   "outputs": [],
   "source": [
    "aa = pd.read_csv('광케이블_시군.csv')['시군'].tolist()"
   ]
  },
  {
   "cell_type": "code",
   "execution_count": 33,
   "id": "e7a0fe27",
   "metadata": {
    "pycharm": {
     "name": "#%%\n"
    }
   },
   "outputs": [
    {
     "data": {
      "text/plain": "년월        201207     201208     201209     201210     201211     201212  \\\n시군구                                                                       \n서울특별시  56.160000  54.770000  54.590000  53.060000  52.470000  54.310000   \n부산광역시  31.160000  33.750000  32.160000  29.270000  27.440000  29.190000   \n대구광역시  29.650000  32.040000  30.530000  27.780000  26.630000  28.400000   \n인천광역시  23.080000  25.030000  23.210000  20.550000  20.250000  22.320000   \n광주광역시  33.440000  35.550000  34.250000  33.030000  31.040000  31.920000   \n...          ...        ...        ...        ...        ...        ...   \n의령군     9.356462  10.998588  10.074215   8.781770   9.104863   9.834543   \n함안군     4.217883   5.835179   4.591603   3.875660   3.993740   4.344711   \n창녕군    19.483865  21.378417  19.304198  18.925415  16.456108  15.590491   \n고성군    31.119688  34.504349  30.376161  28.107904  26.478927  25.881949   \n산청군    24.698464  26.331679  24.297954  22.554195  19.320396  19.803178   \n\n년월        201301     201302     201303     201304  ...     202109     202110  \\\n시군구                                                ...                         \n서울특별시  55.580000  54.380000  54.130000  52.710000  ...  52.420000  52.910000   \n부산광역시  30.920000  30.660000  28.560000  27.810000  ...  32.470000  31.600000   \n대구광역시  29.670000  29.870000  27.430000  26.560000  ...  30.760000  30.080000   \n인천광역시  23.730000  23.960000  21.440000  21.220000  ...  26.020000  24.630000   \n광주광역시  34.360000  34.550000  31.870000  31.430000  ...  34.550000  33.500000   \n...          ...        ...        ...        ...  ...        ...        ...   \n의령군    10.062800  10.529285   9.395696   9.536005  ...  14.675576  14.185667   \n함안군     4.837138   5.112820   3.934685   3.910877  ...   5.294509   5.032166   \n창녕군    15.512308  14.754685  15.252023  14.300677  ...  14.001607  13.372163   \n고성군    25.583604  25.660858  25.422292  25.497834  ...  30.367887  30.125214   \n산청군    19.333622  19.775306  20.040715  21.549784  ...  20.900789  20.841648   \n\n년월        202111     202112     202201     202202     202203     202204  \\\n시군구                                                                       \n서울특별시  52.120000  54.150000  55.350000  54.780000  54.270000  52.740000   \n부산광역시  29.930000  30.840000  32.510000  33.230000  30.490000  30.090000   \n대구광역시  28.460000  30.060000  31.860000  32.030000  29.720000  28.780000   \n인천광역시  24.090000  25.400000  27.260000  28.300000  25.080000  23.970000   \n광주광역시  31.520000  32.580000  34.630000  35.290000  33.040000  32.140000   \n...          ...        ...        ...        ...        ...        ...   \n의령군    13.604798  13.716445  13.798466  14.206236  13.230215  13.558505   \n함안군     4.497449   4.760096   5.226206   5.441316   4.253452   4.269901   \n창녕군    12.163713  12.276786  12.560260  13.329217  12.363098  12.171694   \n고성군    28.606246  29.865938  29.891701  30.700646  28.936219  28.265647   \n산청군    18.629690  19.389100  19.346689  19.850045  19.583820  20.467382   \n\n년월        202205     202206  \n시군구                          \n서울특별시  53.870000  55.130000  \n부산광역시  30.710000  32.350000  \n대구광역시  29.270000  31.230000  \n인천광역시  23.850000  26.240000  \n광주광역시  32.270000  34.160000  \n...          ...        ...  \n의령군    12.886080  13.218581  \n함안군     4.228233   4.775599  \n창녕군    13.451149  13.087783  \n고성군    29.146661  30.490865  \n산청군    20.590880  20.823695  \n\n[109 rows x 120 columns]",
      "text/html": "<div>\n<style scoped>\n    .dataframe tbody tr th:only-of-type {\n        vertical-align: middle;\n    }\n\n    .dataframe tbody tr th {\n        vertical-align: top;\n    }\n\n    .dataframe thead th {\n        text-align: right;\n    }\n</style>\n<table border=\"1\" class=\"dataframe\">\n  <thead>\n    <tr style=\"text-align: right;\">\n      <th>년월</th>\n      <th>201207</th>\n      <th>201208</th>\n      <th>201209</th>\n      <th>201210</th>\n      <th>201211</th>\n      <th>201212</th>\n      <th>201301</th>\n      <th>201302</th>\n      <th>201303</th>\n      <th>201304</th>\n      <th>...</th>\n      <th>202109</th>\n      <th>202110</th>\n      <th>202111</th>\n      <th>202112</th>\n      <th>202201</th>\n      <th>202202</th>\n      <th>202203</th>\n      <th>202204</th>\n      <th>202205</th>\n      <th>202206</th>\n    </tr>\n    <tr>\n      <th>시군구</th>\n      <th></th>\n      <th></th>\n      <th></th>\n      <th></th>\n      <th></th>\n      <th></th>\n      <th></th>\n      <th></th>\n      <th></th>\n      <th></th>\n      <th></th>\n      <th></th>\n      <th></th>\n      <th></th>\n      <th></th>\n      <th></th>\n      <th></th>\n      <th></th>\n      <th></th>\n      <th></th>\n      <th></th>\n    </tr>\n  </thead>\n  <tbody>\n    <tr>\n      <th>서울특별시</th>\n      <td>56.160000</td>\n      <td>54.770000</td>\n      <td>54.590000</td>\n      <td>53.060000</td>\n      <td>52.470000</td>\n      <td>54.310000</td>\n      <td>55.580000</td>\n      <td>54.380000</td>\n      <td>54.130000</td>\n      <td>52.710000</td>\n      <td>...</td>\n      <td>52.420000</td>\n      <td>52.910000</td>\n      <td>52.120000</td>\n      <td>54.150000</td>\n      <td>55.350000</td>\n      <td>54.780000</td>\n      <td>54.270000</td>\n      <td>52.740000</td>\n      <td>53.870000</td>\n      <td>55.130000</td>\n    </tr>\n    <tr>\n      <th>부산광역시</th>\n      <td>31.160000</td>\n      <td>33.750000</td>\n      <td>32.160000</td>\n      <td>29.270000</td>\n      <td>27.440000</td>\n      <td>29.190000</td>\n      <td>30.920000</td>\n      <td>30.660000</td>\n      <td>28.560000</td>\n      <td>27.810000</td>\n      <td>...</td>\n      <td>32.470000</td>\n      <td>31.600000</td>\n      <td>29.930000</td>\n      <td>30.840000</td>\n      <td>32.510000</td>\n      <td>33.230000</td>\n      <td>30.490000</td>\n      <td>30.090000</td>\n      <td>30.710000</td>\n      <td>32.350000</td>\n    </tr>\n    <tr>\n      <th>대구광역시</th>\n      <td>29.650000</td>\n      <td>32.040000</td>\n      <td>30.530000</td>\n      <td>27.780000</td>\n      <td>26.630000</td>\n      <td>28.400000</td>\n      <td>29.670000</td>\n      <td>29.870000</td>\n      <td>27.430000</td>\n      <td>26.560000</td>\n      <td>...</td>\n      <td>30.760000</td>\n      <td>30.080000</td>\n      <td>28.460000</td>\n      <td>30.060000</td>\n      <td>31.860000</td>\n      <td>32.030000</td>\n      <td>29.720000</td>\n      <td>28.780000</td>\n      <td>29.270000</td>\n      <td>31.230000</td>\n    </tr>\n    <tr>\n      <th>인천광역시</th>\n      <td>23.080000</td>\n      <td>25.030000</td>\n      <td>23.210000</td>\n      <td>20.550000</td>\n      <td>20.250000</td>\n      <td>22.320000</td>\n      <td>23.730000</td>\n      <td>23.960000</td>\n      <td>21.440000</td>\n      <td>21.220000</td>\n      <td>...</td>\n      <td>26.020000</td>\n      <td>24.630000</td>\n      <td>24.090000</td>\n      <td>25.400000</td>\n      <td>27.260000</td>\n      <td>28.300000</td>\n      <td>25.080000</td>\n      <td>23.970000</td>\n      <td>23.850000</td>\n      <td>26.240000</td>\n    </tr>\n    <tr>\n      <th>광주광역시</th>\n      <td>33.440000</td>\n      <td>35.550000</td>\n      <td>34.250000</td>\n      <td>33.030000</td>\n      <td>31.040000</td>\n      <td>31.920000</td>\n      <td>34.360000</td>\n      <td>34.550000</td>\n      <td>31.870000</td>\n      <td>31.430000</td>\n      <td>...</td>\n      <td>34.550000</td>\n      <td>33.500000</td>\n      <td>31.520000</td>\n      <td>32.580000</td>\n      <td>34.630000</td>\n      <td>35.290000</td>\n      <td>33.040000</td>\n      <td>32.140000</td>\n      <td>32.270000</td>\n      <td>34.160000</td>\n    </tr>\n    <tr>\n      <th>...</th>\n      <td>...</td>\n      <td>...</td>\n      <td>...</td>\n      <td>...</td>\n      <td>...</td>\n      <td>...</td>\n      <td>...</td>\n      <td>...</td>\n      <td>...</td>\n      <td>...</td>\n      <td>...</td>\n      <td>...</td>\n      <td>...</td>\n      <td>...</td>\n      <td>...</td>\n      <td>...</td>\n      <td>...</td>\n      <td>...</td>\n      <td>...</td>\n      <td>...</td>\n      <td>...</td>\n    </tr>\n    <tr>\n      <th>의령군</th>\n      <td>9.356462</td>\n      <td>10.998588</td>\n      <td>10.074215</td>\n      <td>8.781770</td>\n      <td>9.104863</td>\n      <td>9.834543</td>\n      <td>10.062800</td>\n      <td>10.529285</td>\n      <td>9.395696</td>\n      <td>9.536005</td>\n      <td>...</td>\n      <td>14.675576</td>\n      <td>14.185667</td>\n      <td>13.604798</td>\n      <td>13.716445</td>\n      <td>13.798466</td>\n      <td>14.206236</td>\n      <td>13.230215</td>\n      <td>13.558505</td>\n      <td>12.886080</td>\n      <td>13.218581</td>\n    </tr>\n    <tr>\n      <th>함안군</th>\n      <td>4.217883</td>\n      <td>5.835179</td>\n      <td>4.591603</td>\n      <td>3.875660</td>\n      <td>3.993740</td>\n      <td>4.344711</td>\n      <td>4.837138</td>\n      <td>5.112820</td>\n      <td>3.934685</td>\n      <td>3.910877</td>\n      <td>...</td>\n      <td>5.294509</td>\n      <td>5.032166</td>\n      <td>4.497449</td>\n      <td>4.760096</td>\n      <td>5.226206</td>\n      <td>5.441316</td>\n      <td>4.253452</td>\n      <td>4.269901</td>\n      <td>4.228233</td>\n      <td>4.775599</td>\n    </tr>\n    <tr>\n      <th>창녕군</th>\n      <td>19.483865</td>\n      <td>21.378417</td>\n      <td>19.304198</td>\n      <td>18.925415</td>\n      <td>16.456108</td>\n      <td>15.590491</td>\n      <td>15.512308</td>\n      <td>14.754685</td>\n      <td>15.252023</td>\n      <td>14.300677</td>\n      <td>...</td>\n      <td>14.001607</td>\n      <td>13.372163</td>\n      <td>12.163713</td>\n      <td>12.276786</td>\n      <td>12.560260</td>\n      <td>13.329217</td>\n      <td>12.363098</td>\n      <td>12.171694</td>\n      <td>13.451149</td>\n      <td>13.087783</td>\n    </tr>\n    <tr>\n      <th>고성군</th>\n      <td>31.119688</td>\n      <td>34.504349</td>\n      <td>30.376161</td>\n      <td>28.107904</td>\n      <td>26.478927</td>\n      <td>25.881949</td>\n      <td>25.583604</td>\n      <td>25.660858</td>\n      <td>25.422292</td>\n      <td>25.497834</td>\n      <td>...</td>\n      <td>30.367887</td>\n      <td>30.125214</td>\n      <td>28.606246</td>\n      <td>29.865938</td>\n      <td>29.891701</td>\n      <td>30.700646</td>\n      <td>28.936219</td>\n      <td>28.265647</td>\n      <td>29.146661</td>\n      <td>30.490865</td>\n    </tr>\n    <tr>\n      <th>산청군</th>\n      <td>24.698464</td>\n      <td>26.331679</td>\n      <td>24.297954</td>\n      <td>22.554195</td>\n      <td>19.320396</td>\n      <td>19.803178</td>\n      <td>19.333622</td>\n      <td>19.775306</td>\n      <td>20.040715</td>\n      <td>21.549784</td>\n      <td>...</td>\n      <td>20.900789</td>\n      <td>20.841648</td>\n      <td>18.629690</td>\n      <td>19.389100</td>\n      <td>19.346689</td>\n      <td>19.850045</td>\n      <td>19.583820</td>\n      <td>20.467382</td>\n      <td>20.590880</td>\n      <td>20.823695</td>\n    </tr>\n  </tbody>\n</table>\n<p>109 rows × 120 columns</p>\n</div>"
     },
     "execution_count": 33,
     "metadata": {},
     "output_type": "execute_result"
    }
   ],
   "source": [
    "real_final = final.loc[aa]\n",
    "real_final"
   ]
  },
  {
   "cell_type": "code",
   "execution_count": 34,
   "id": "c279359c",
   "metadata": {
    "pycharm": {
     "name": "#%%\n"
    }
   },
   "outputs": [],
   "source": [
    "real_final = real_final.reset_index()"
   ]
  },
  {
   "cell_type": "code",
   "execution_count": 35,
   "id": "f27c9769",
   "metadata": {
    "pycharm": {
     "name": "#%%\n"
    }
   },
   "outputs": [],
   "source": [
    "real_final.to_csv(\"시계열데이터.csv\", encoding='utf-8-sig')"
   ]
  },
  {
   "cell_type": "code",
   "execution_count": 35,
   "id": "d6f4f00f",
   "metadata": {
    "pycharm": {
     "name": "#%%\n"
    }
   },
   "outputs": [],
   "source": []
  },
  {
   "cell_type": "markdown",
   "source": [],
   "metadata": {
    "collapsed": false,
    "pycharm": {
     "name": "#%% md\n"
    }
   }
  },
  {
   "cell_type": "code",
   "execution_count": 35,
   "id": "71e634e2",
   "metadata": {
    "pycharm": {
     "name": "#%%\n"
    }
   },
   "outputs": [],
   "source": []
  },
  {
   "cell_type": "code",
   "execution_count": 35,
   "id": "7f8b4a15",
   "metadata": {
    "pycharm": {
     "name": "#%%\n"
    }
   },
   "outputs": [],
   "source": []
  },
  {
   "cell_type": "code",
   "execution_count": 35,
   "id": "f7476cbe",
   "metadata": {
    "pycharm": {
     "name": "#%%\n"
    }
   },
   "outputs": [],
   "source": []
  },
  {
   "cell_type": "code",
   "execution_count": 35,
   "id": "d84676f8",
   "metadata": {
    "pycharm": {
     "name": "#%%\n"
    }
   },
   "outputs": [],
   "source": []
  },
  {
   "cell_type": "code",
   "execution_count": 35,
   "id": "44a80c78",
   "metadata": {
    "pycharm": {
     "name": "#%%\n"
    }
   },
   "outputs": [],
   "source": []
  }
 ],
 "metadata": {
  "kernelspec": {
   "display_name": "Python 3 (ipykernel)",
   "language": "python",
   "name": "python3"
  },
  "language_info": {
   "codemirror_mode": {
    "name": "ipython",
    "version": 3
   },
   "file_extension": ".py",
   "mimetype": "text/x-python",
   "name": "python",
   "nbconvert_exporter": "python",
   "pygments_lexer": "ipython3",
   "version": "3.9.12"
  }
 },
 "nbformat": 4,
 "nbformat_minor": 5
}