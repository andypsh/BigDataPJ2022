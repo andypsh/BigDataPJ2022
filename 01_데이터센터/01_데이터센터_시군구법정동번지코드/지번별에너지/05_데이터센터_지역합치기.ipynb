{
 "cells": [
  {
   "cell_type": "code",
   "execution_count": 1,
   "outputs": [],
   "source": [
    "import pandas as pd\n",
    "\n",
    "pd.options.display.float_format = '{:.0f}'.format"
   ],
   "metadata": {
    "collapsed": false,
    "pycharm": {
     "name": "#%%\n"
    }
   }
  },
  {
   "cell_type": "code",
   "execution_count": 2,
   "outputs": [],
   "source": [
    "# a = [202105]\n",
    "# for i in range(11):\n",
    "#     b =a[i]+1\n",
    "#     if b % 100 > 12:\n",
    "#         b+=88\n",
    "#         a.append(b)\n",
    "#     else:\n",
    "#         a.append(b)\n",
    "#\n",
    "#\n",
    "# print(a)"
   ],
   "metadata": {
    "collapsed": false,
    "pycharm": {
     "name": "#%%\n"
    }
   }
  },
  {
   "cell_type": "code",
   "execution_count": 3,
   "outputs": [],
   "source": [
    "# a  = 202113 % 100\n",
    "# print(a)"
   ],
   "metadata": {
    "collapsed": false,
    "pycharm": {
     "name": "#%%\n"
    }
   }
  },
  {
   "cell_type": "code",
   "execution_count": 5,
   "outputs": [],
   "source": [
    "Sido = ['강원도', '경기도', '경상남도' ,'경상북도' ,'광주광역시', '대구광역시', '대전광역시' ,'부산광역시', '서울특별시',\n",
    "        '세종특별자치시', '울산광역시', '인천광역시' ,'전라남도' ,'전라북도' ,'제주특별자치도', '충청남도' ,'충청북도']\n",
    "\n",
    "DATE = [202105]\n",
    "for i in range(11):\n",
    "    b =DATE[i]+1\n",
    "    if b % 100 > 12:\n",
    "        b+=88\n",
    "        DATE.append(b)\n",
    "    else:\n",
    "        DATE.append(b)\n",
    "#Sido = ['강원도']\n",
    "df = pd.read_csv('./03_월별지역별전력사용량_전기_csv파일/202204/강원도/강원도_전력사용량.csv' , encoding='cp949')\n",
    "\n",
    "res = df.copy()\n",
    "#res = res.drop(res , axis=1)\n",
    "\n",
    "#df.columns\n",
    "# df_2 = pd.read_csv('경기도_전력사용량.csv' , encoding='cp949')\n",
    "res = res.drop(['Unnamed: 0.1' , 'Unnamed: 0'] , axis = 1)\n",
    "#es = pd.concat([res, df_2] , ignore_index = True)\n",
    "#\n",
    "#\n",
    "# res"
   ],
   "metadata": {
    "collapsed": false,
    "pycharm": {
     "name": "#%%\n"
    }
   }
  },
  {
   "cell_type": "code",
   "execution_count": 6,
   "outputs": [
    {
     "name": "stdout",
     "output_type": "stream",
     "text": [
      "경상남도_전력사용량\n"
     ]
    }
   ],
   "source": [
    "print('{}_전력사용량'.format(Sido[2]))"
   ],
   "metadata": {
    "collapsed": false,
    "pycharm": {
     "name": "#%%\n"
    }
   }
  },
  {
   "cell_type": "code",
   "execution_count": 7,
   "outputs": [
    {
     "data": {
      "text/plain": "           시군구법정동번지코드    본번  부번   사용량_KWH    시도명     시군구명     법정동명  \\\n0    4213011700204710  2047  10    920262    강원도      원주시      반곡동   \n1    4213011700204710  2047  10    920262    강원도      원주시      반곡동   \n2     421301170018946  1894   6      9600    강원도      원주시      반곡동   \n3     421103102210000  1000   0  11200967    강원도      춘천시   동면 만천리   \n4       4159013500383    38   3     48288    경기도      화성시      산척동   \n..                ...   ...  ..       ...    ...      ...      ...   \n750      282601220075     7   5   3075120  인천광역시       서구      청라동   \n751    28245101002361   236   1   1716144  인천광역시      계양구      효성동   \n752     4511311500862    86   2    165009   전라북도  전주시 덕진구    우아동3가   \n753   437703302814450  1445   0      2066   충청북도      음성군  맹동면 두성리   \n754   431121060013900  1390   0    761112   충청북도  청주시 서원구      분평동   \n\n           새주소대로로코드     새주소대로로명 새주소본번  ...  분류         기업  \\\n0      421303219082         혁신로    60  ...  공공  건강보험심사평가원   \n1      421303219082         혁신로    60  ...  공공  건강보험심사평가원   \n2      421303351211         건강로    32  ...  공공   국민건강보험공단   \n3      421102218001        순환대로  1154  ...  민간      NAVER   \n4    415904852416.0     동탄산척로2길  53.0  ...  공공     한국도로공사   \n..              ...         ...   ...  ...  ..        ...   \n750    282603156057         에코로   181  ...  금융       하나금융   \n751    282454265274   아나지로213번길    23  ...  민간     LG CNS   \n752    451134601269        신기1길    11  ...  통신      LG U+   \n753    437704541728         태정로     6  ...  공공    한국고용정보원   \n754    431124512137  1순환로1063번길    12  ...  통신         KT   \n\n                          이름                       비고 임차여부  시군구법정동번코드_x  \\\n0    건강보험심사평가원 ICT센터\\n (2사옥)                        -    -          NaN   \n1    건강보험심사평가원 ICT센터\\n (1사옥)                        -    -          NaN   \n2             국민건강보험공단 데이터센터               O 자체 데이터센터    -          NaN   \n3                네이버 데이터센터 각  수력 발전소 통해 전체 전력량 70% 수급    -          NaN   \n4                ICT운영센터(동탄)                        -    - 415901350038   \n..                       ...                      ...  ...          ...   \n750           하나금융그룹 통합데이터센터                        -    -          NaN   \n751                     인천센터                        -    -          NaN   \n752               LG U+전주 센터                     기타분류    -          NaN   \n753              한국고용정보원 전산실                        -    -          NaN   \n754                KT 청주 IDC                        -    -          NaN   \n\n    시군구법정동코드_x  시군구법정동번코드_y 시군구법정동코드_y 전력사용량  \n0          NaN          NaN        NaN   NaN  \n1          NaN          NaN        NaN   NaN  \n2          NaN          NaN        NaN   NaN  \n3          NaN          NaN        NaN   NaN  \n4   4159013500 415901350038 4159013500   NaN  \n..         ...          ...        ...   ...  \n750        NaN          NaN        NaN   NaN  \n751        NaN          NaN        NaN   NaN  \n752        NaN          NaN        NaN   NaN  \n753        NaN          NaN        NaN   NaN  \n754        NaN          NaN        NaN   NaN  \n\n[755 rows x 26 columns]",
      "text/html": "<div>\n<style scoped>\n    .dataframe tbody tr th:only-of-type {\n        vertical-align: middle;\n    }\n\n    .dataframe tbody tr th {\n        vertical-align: top;\n    }\n\n    .dataframe thead th {\n        text-align: right;\n    }\n</style>\n<table border=\"1\" class=\"dataframe\">\n  <thead>\n    <tr style=\"text-align: right;\">\n      <th></th>\n      <th>시군구법정동번지코드</th>\n      <th>본번</th>\n      <th>부번</th>\n      <th>사용량_KWH</th>\n      <th>시도명</th>\n      <th>시군구명</th>\n      <th>법정동명</th>\n      <th>새주소대로로코드</th>\n      <th>새주소대로로명</th>\n      <th>새주소본번</th>\n      <th>...</th>\n      <th>분류</th>\n      <th>기업</th>\n      <th>이름</th>\n      <th>비고</th>\n      <th>임차여부</th>\n      <th>시군구법정동번코드_x</th>\n      <th>시군구법정동코드_x</th>\n      <th>시군구법정동번코드_y</th>\n      <th>시군구법정동코드_y</th>\n      <th>전력사용량</th>\n    </tr>\n  </thead>\n  <tbody>\n    <tr>\n      <th>0</th>\n      <td>4213011700204710</td>\n      <td>2047</td>\n      <td>10</td>\n      <td>920262</td>\n      <td>강원도</td>\n      <td>원주시</td>\n      <td>반곡동</td>\n      <td>421303219082</td>\n      <td>혁신로</td>\n      <td>60</td>\n      <td>...</td>\n      <td>공공</td>\n      <td>건강보험심사평가원</td>\n      <td>건강보험심사평가원 ICT센터\\n (2사옥)</td>\n      <td>-</td>\n      <td>-</td>\n      <td>NaN</td>\n      <td>NaN</td>\n      <td>NaN</td>\n      <td>NaN</td>\n      <td>NaN</td>\n    </tr>\n    <tr>\n      <th>1</th>\n      <td>4213011700204710</td>\n      <td>2047</td>\n      <td>10</td>\n      <td>920262</td>\n      <td>강원도</td>\n      <td>원주시</td>\n      <td>반곡동</td>\n      <td>421303219082</td>\n      <td>혁신로</td>\n      <td>60</td>\n      <td>...</td>\n      <td>공공</td>\n      <td>건강보험심사평가원</td>\n      <td>건강보험심사평가원 ICT센터\\n (1사옥)</td>\n      <td>-</td>\n      <td>-</td>\n      <td>NaN</td>\n      <td>NaN</td>\n      <td>NaN</td>\n      <td>NaN</td>\n      <td>NaN</td>\n    </tr>\n    <tr>\n      <th>2</th>\n      <td>421301170018946</td>\n      <td>1894</td>\n      <td>6</td>\n      <td>9600</td>\n      <td>강원도</td>\n      <td>원주시</td>\n      <td>반곡동</td>\n      <td>421303351211</td>\n      <td>건강로</td>\n      <td>32</td>\n      <td>...</td>\n      <td>공공</td>\n      <td>국민건강보험공단</td>\n      <td>국민건강보험공단 데이터센터</td>\n      <td>O 자체 데이터센터</td>\n      <td>-</td>\n      <td>NaN</td>\n      <td>NaN</td>\n      <td>NaN</td>\n      <td>NaN</td>\n      <td>NaN</td>\n    </tr>\n    <tr>\n      <th>3</th>\n      <td>421103102210000</td>\n      <td>1000</td>\n      <td>0</td>\n      <td>11200967</td>\n      <td>강원도</td>\n      <td>춘천시</td>\n      <td>동면 만천리</td>\n      <td>421102218001</td>\n      <td>순환대로</td>\n      <td>1154</td>\n      <td>...</td>\n      <td>민간</td>\n      <td>NAVER</td>\n      <td>네이버 데이터센터 각</td>\n      <td>수력 발전소 통해 전체 전력량 70% 수급</td>\n      <td>-</td>\n      <td>NaN</td>\n      <td>NaN</td>\n      <td>NaN</td>\n      <td>NaN</td>\n      <td>NaN</td>\n    </tr>\n    <tr>\n      <th>4</th>\n      <td>4159013500383</td>\n      <td>38</td>\n      <td>3</td>\n      <td>48288</td>\n      <td>경기도</td>\n      <td>화성시</td>\n      <td>산척동</td>\n      <td>415904852416.0</td>\n      <td>동탄산척로2길</td>\n      <td>53.0</td>\n      <td>...</td>\n      <td>공공</td>\n      <td>한국도로공사</td>\n      <td>ICT운영센터(동탄)</td>\n      <td>-</td>\n      <td>-</td>\n      <td>415901350038</td>\n      <td>4159013500</td>\n      <td>415901350038</td>\n      <td>4159013500</td>\n      <td>NaN</td>\n    </tr>\n    <tr>\n      <th>...</th>\n      <td>...</td>\n      <td>...</td>\n      <td>...</td>\n      <td>...</td>\n      <td>...</td>\n      <td>...</td>\n      <td>...</td>\n      <td>...</td>\n      <td>...</td>\n      <td>...</td>\n      <td>...</td>\n      <td>...</td>\n      <td>...</td>\n      <td>...</td>\n      <td>...</td>\n      <td>...</td>\n      <td>...</td>\n      <td>...</td>\n      <td>...</td>\n      <td>...</td>\n      <td>...</td>\n    </tr>\n    <tr>\n      <th>750</th>\n      <td>282601220075</td>\n      <td>7</td>\n      <td>5</td>\n      <td>3075120</td>\n      <td>인천광역시</td>\n      <td>서구</td>\n      <td>청라동</td>\n      <td>282603156057</td>\n      <td>에코로</td>\n      <td>181</td>\n      <td>...</td>\n      <td>금융</td>\n      <td>하나금융</td>\n      <td>하나금융그룹 통합데이터센터</td>\n      <td>-</td>\n      <td>-</td>\n      <td>NaN</td>\n      <td>NaN</td>\n      <td>NaN</td>\n      <td>NaN</td>\n      <td>NaN</td>\n    </tr>\n    <tr>\n      <th>751</th>\n      <td>28245101002361</td>\n      <td>236</td>\n      <td>1</td>\n      <td>1716144</td>\n      <td>인천광역시</td>\n      <td>계양구</td>\n      <td>효성동</td>\n      <td>282454265274</td>\n      <td>아나지로213번길</td>\n      <td>23</td>\n      <td>...</td>\n      <td>민간</td>\n      <td>LG CNS</td>\n      <td>인천센터</td>\n      <td>-</td>\n      <td>-</td>\n      <td>NaN</td>\n      <td>NaN</td>\n      <td>NaN</td>\n      <td>NaN</td>\n      <td>NaN</td>\n    </tr>\n    <tr>\n      <th>752</th>\n      <td>4511311500862</td>\n      <td>86</td>\n      <td>2</td>\n      <td>165009</td>\n      <td>전라북도</td>\n      <td>전주시 덕진구</td>\n      <td>우아동3가</td>\n      <td>451134601269</td>\n      <td>신기1길</td>\n      <td>11</td>\n      <td>...</td>\n      <td>통신</td>\n      <td>LG U+</td>\n      <td>LG U+전주 센터</td>\n      <td>기타분류</td>\n      <td>-</td>\n      <td>NaN</td>\n      <td>NaN</td>\n      <td>NaN</td>\n      <td>NaN</td>\n      <td>NaN</td>\n    </tr>\n    <tr>\n      <th>753</th>\n      <td>437703302814450</td>\n      <td>1445</td>\n      <td>0</td>\n      <td>2066</td>\n      <td>충청북도</td>\n      <td>음성군</td>\n      <td>맹동면 두성리</td>\n      <td>437704541728</td>\n      <td>태정로</td>\n      <td>6</td>\n      <td>...</td>\n      <td>공공</td>\n      <td>한국고용정보원</td>\n      <td>한국고용정보원 전산실</td>\n      <td>-</td>\n      <td>-</td>\n      <td>NaN</td>\n      <td>NaN</td>\n      <td>NaN</td>\n      <td>NaN</td>\n      <td>NaN</td>\n    </tr>\n    <tr>\n      <th>754</th>\n      <td>431121060013900</td>\n      <td>1390</td>\n      <td>0</td>\n      <td>761112</td>\n      <td>충청북도</td>\n      <td>청주시 서원구</td>\n      <td>분평동</td>\n      <td>431124512137</td>\n      <td>1순환로1063번길</td>\n      <td>12</td>\n      <td>...</td>\n      <td>통신</td>\n      <td>KT</td>\n      <td>KT 청주 IDC</td>\n      <td>-</td>\n      <td>-</td>\n      <td>NaN</td>\n      <td>NaN</td>\n      <td>NaN</td>\n      <td>NaN</td>\n      <td>NaN</td>\n    </tr>\n  </tbody>\n</table>\n<p>755 rows × 26 columns</p>\n</div>"
     },
     "execution_count": 7,
     "metadata": {},
     "output_type": "execute_result"
    }
   ],
   "source": [
    "for j in range(len(DATE)):\n",
    "\n",
    "    for i in range(1, len(Sido)):\n",
    "\n",
    "        df = pd.read_csv('./04_월별데이터센터_전력량/지역별전력사용량_{}/{}_전력사용량.csv'.format(DATE[j] ,Sido[i],Sido[i]) , encoding='cp949')\n",
    "\n",
    "        df = df.drop(['Unnamed: 0.1' , 'Unnamed: 0'] , axis = 1)\n",
    "\n",
    "        res = pd.concat([res,df] ,ignore_index = True)\n",
    "    res.to_csv(\"./04_월별데이터센터_전력량/월별데이터센터전력/{}데이터센터_전력량.csv\".format(DATE[j], DATE[j]) , mode = 'w' , encoding= 'cp949')\n",
    "\n",
    "res"
   ],
   "metadata": {
    "collapsed": false,
    "pycharm": {
     "name": "#%%\n"
    }
   }
  },
  {
   "cell_type": "code",
   "execution_count": 15,
   "outputs": [],
   "source": [
    "#res.to_csv(\"./월별데이터센터_전력량/202204데이터센터_전력량.csv\" , mode = 'w' , encoding= 'cp949')"
   ],
   "metadata": {
    "collapsed": false,
    "pycharm": {
     "name": "#%%\n"
    }
   }
  },
  {
   "cell_type": "code",
   "execution_count": 16,
   "outputs": [
    {
     "name": "stdout",
     "output_type": "stream",
     "text": [
      "68\n"
     ]
    }
   ],
   "source": [
    "print(len(res))"
   ],
   "metadata": {
    "collapsed": false,
    "pycharm": {
     "name": "#%%\n"
    }
   }
  },
  {
   "cell_type": "code",
   "execution_count": null,
   "outputs": [],
   "source": [],
   "metadata": {
    "collapsed": false,
    "pycharm": {
     "name": "#%%\n"
    }
   }
  },
  {
   "cell_type": "code",
   "execution_count": null,
   "outputs": [],
   "source": [],
   "metadata": {
    "collapsed": false,
    "pycharm": {
     "name": "#%%\n"
    }
   }
  }
 ],
 "metadata": {
  "kernelspec": {
   "display_name": "Python 3",
   "language": "python",
   "name": "python3"
  },
  "language_info": {
   "codemirror_mode": {
    "name": "ipython",
    "version": 2
   },
   "file_extension": ".py",
   "mimetype": "text/x-python",
   "name": "python",
   "nbconvert_exporter": "python",
   "pygments_lexer": "ipython2",
   "version": "2.7.6"
  }
 },
 "nbformat": 4,
 "nbformat_minor": 0
}