{
 "cells": [
  {
   "cell_type": "code",
   "execution_count": 1,
   "metadata": {
    "collapsed": true,
    "pycharm": {
     "name": "#%%\n"
    }
   },
   "outputs": [
    {
     "data": {
      "text/plain": "   Unnamed: 0       시군구법정동번지코드      시군구법정동번코드    시군구법정동코드   본번  부번  사용량_KWH  \\\n0     1100179  471301260098729  4713012600987  4713012600  987  29     2267   \n1     1100171   47130126009426  4713012600942  4713012600  942   6      745   \n2     1100187    4713012600160   471301260016  4713012600   16   0     1052   \n3     1100186  471301260098760  4713012600987  4713012600  987  60     2784   \n4     1100185  471301260098757  4713012600987  4713012600  987  57     1168   \n\n    시도명 시군구명 법정동명        새주소대로로코드  새주소대로로명   새주소본번 새주소부번  \n0  경상북도  경주시  동천동  471304730228.0  백률로57번길    27.0   0.0  \n1  경상북도  경주시  동천동  471304716168.0  초당길51번길    17.0   0.0  \n2  경상북도  경주시  동천동  471303000104.0      산업로  4152.0  10.0  \n3  경상북도  경주시  동천동  471303305041.0      양정로   286.0   0.0  \n4  경상북도  경주시  동천동  471304730227.0  백률로53번길    20.0   0.0  ",
      "text/html": "<div>\n<style scoped>\n    .dataframe tbody tr th:only-of-type {\n        vertical-align: middle;\n    }\n\n    .dataframe tbody tr th {\n        vertical-align: top;\n    }\n\n    .dataframe thead th {\n        text-align: right;\n    }\n</style>\n<table border=\"1\" class=\"dataframe\">\n  <thead>\n    <tr style=\"text-align: right;\">\n      <th></th>\n      <th>Unnamed: 0</th>\n      <th>시군구법정동번지코드</th>\n      <th>시군구법정동번코드</th>\n      <th>시군구법정동코드</th>\n      <th>본번</th>\n      <th>부번</th>\n      <th>사용량_KWH</th>\n      <th>시도명</th>\n      <th>시군구명</th>\n      <th>법정동명</th>\n      <th>새주소대로로코드</th>\n      <th>새주소대로로명</th>\n      <th>새주소본번</th>\n      <th>새주소부번</th>\n    </tr>\n  </thead>\n  <tbody>\n    <tr>\n      <th>0</th>\n      <td>1100179</td>\n      <td>471301260098729</td>\n      <td>4713012600987</td>\n      <td>4713012600</td>\n      <td>987</td>\n      <td>29</td>\n      <td>2267</td>\n      <td>경상북도</td>\n      <td>경주시</td>\n      <td>동천동</td>\n      <td>471304730228.0</td>\n      <td>백률로57번길</td>\n      <td>27.0</td>\n      <td>0.0</td>\n    </tr>\n    <tr>\n      <th>1</th>\n      <td>1100171</td>\n      <td>47130126009426</td>\n      <td>4713012600942</td>\n      <td>4713012600</td>\n      <td>942</td>\n      <td>6</td>\n      <td>745</td>\n      <td>경상북도</td>\n      <td>경주시</td>\n      <td>동천동</td>\n      <td>471304716168.0</td>\n      <td>초당길51번길</td>\n      <td>17.0</td>\n      <td>0.0</td>\n    </tr>\n    <tr>\n      <th>2</th>\n      <td>1100187</td>\n      <td>4713012600160</td>\n      <td>471301260016</td>\n      <td>4713012600</td>\n      <td>16</td>\n      <td>0</td>\n      <td>1052</td>\n      <td>경상북도</td>\n      <td>경주시</td>\n      <td>동천동</td>\n      <td>471303000104.0</td>\n      <td>산업로</td>\n      <td>4152.0</td>\n      <td>10.0</td>\n    </tr>\n    <tr>\n      <th>3</th>\n      <td>1100186</td>\n      <td>471301260098760</td>\n      <td>4713012600987</td>\n      <td>4713012600</td>\n      <td>987</td>\n      <td>60</td>\n      <td>2784</td>\n      <td>경상북도</td>\n      <td>경주시</td>\n      <td>동천동</td>\n      <td>471303305041.0</td>\n      <td>양정로</td>\n      <td>286.0</td>\n      <td>0.0</td>\n    </tr>\n    <tr>\n      <th>4</th>\n      <td>1100185</td>\n      <td>471301260098757</td>\n      <td>4713012600987</td>\n      <td>4713012600</td>\n      <td>987</td>\n      <td>57</td>\n      <td>1168</td>\n      <td>경상북도</td>\n      <td>경주시</td>\n      <td>동천동</td>\n      <td>471304730227.0</td>\n      <td>백률로53번길</td>\n      <td>20.0</td>\n      <td>0.0</td>\n    </tr>\n  </tbody>\n</table>\n</div>"
     },
     "execution_count": 1,
     "metadata": {},
     "output_type": "execute_result"
    }
   ],
   "source": [
    "import pandas as pd\n",
    "\n",
    "\n",
    "df = pd.read_csv('경상북도.csv' , encoding = 'cp949')\n",
    "df_2 = pd.read_csv('../../../../데이터센터정리.csv' , encoding = 'cp949')\n",
    "\n",
    "df = df.astype({'시군구법정동번지코드' : 'str',\n",
    "                '시군구법정동번코드' : 'str'})\n",
    "df.head()"
   ]
  },
  {
   "cell_type": "code",
   "execution_count": 2,
   "outputs": [
    {
     "data": {
      "text/plain": "         시군구법정동번지코드       시군구법정동번코드    시군구법정동코드     번   지  \\\n0   421301170018946  42130117001894  4213011700  1894   6   \n1  4213011700204710  42130117002047  4213011700  2047  14   \n2  4213011700204710  42130117002047  4213011700  2047  10   \n3   421103102210000  42110310221000  4211031022  1000   0   \n4    42110126006500   4211012600650  4211012600   650   0   \n\n                            주소  분류         기업                       이름  \\\n0    강원 원주시 건강로 32(반곡동 1894-6)  공공   국민건강보험공단           국민건강보험공단 데이터센터   \n1  강원 원주시 입춘로 130(반곡동 2047-14)  공공  건강보험심사평가원  건강보험심사평가원 ICT센터\\n (2사옥)   \n2   강원 원주시 혁신로 60(반곡동 2047-10)  공공  건강보험심사평가원  건강보험심사평가원 ICT센터\\n (1사옥)   \n3          강원 춘천시 동면 순환대로 1231  민간      NAVER              네이버 데이터센터 각   \n4          강원도 춘천시 옛경춘로 409-14  민간     오라클 춘천                   오라클 춘천   \n\n                        비고 임차여부  전력사용량  \n0               O 자체 데이터센터    -    NaN  \n1                        -    -    NaN  \n2                        -    -    NaN  \n3  수력 발전소 통해 전체 전력량 70% 수급    -    NaN  \n4                        -    -    NaN  ",
      "text/html": "<div>\n<style scoped>\n    .dataframe tbody tr th:only-of-type {\n        vertical-align: middle;\n    }\n\n    .dataframe tbody tr th {\n        vertical-align: top;\n    }\n\n    .dataframe thead th {\n        text-align: right;\n    }\n</style>\n<table border=\"1\" class=\"dataframe\">\n  <thead>\n    <tr style=\"text-align: right;\">\n      <th></th>\n      <th>시군구법정동번지코드</th>\n      <th>시군구법정동번코드</th>\n      <th>시군구법정동코드</th>\n      <th>번</th>\n      <th>지</th>\n      <th>주소</th>\n      <th>분류</th>\n      <th>기업</th>\n      <th>이름</th>\n      <th>비고</th>\n      <th>임차여부</th>\n      <th>전력사용량</th>\n    </tr>\n  </thead>\n  <tbody>\n    <tr>\n      <th>0</th>\n      <td>421301170018946</td>\n      <td>42130117001894</td>\n      <td>4213011700</td>\n      <td>1894</td>\n      <td>6</td>\n      <td>강원 원주시 건강로 32(반곡동 1894-6)</td>\n      <td>공공</td>\n      <td>국민건강보험공단</td>\n      <td>국민건강보험공단 데이터센터</td>\n      <td>O 자체 데이터센터</td>\n      <td>-</td>\n      <td>NaN</td>\n    </tr>\n    <tr>\n      <th>1</th>\n      <td>4213011700204710</td>\n      <td>42130117002047</td>\n      <td>4213011700</td>\n      <td>2047</td>\n      <td>14</td>\n      <td>강원 원주시 입춘로 130(반곡동 2047-14)</td>\n      <td>공공</td>\n      <td>건강보험심사평가원</td>\n      <td>건강보험심사평가원 ICT센터\\n (2사옥)</td>\n      <td>-</td>\n      <td>-</td>\n      <td>NaN</td>\n    </tr>\n    <tr>\n      <th>2</th>\n      <td>4213011700204710</td>\n      <td>42130117002047</td>\n      <td>4213011700</td>\n      <td>2047</td>\n      <td>10</td>\n      <td>강원 원주시 혁신로 60(반곡동 2047-10)</td>\n      <td>공공</td>\n      <td>건강보험심사평가원</td>\n      <td>건강보험심사평가원 ICT센터\\n (1사옥)</td>\n      <td>-</td>\n      <td>-</td>\n      <td>NaN</td>\n    </tr>\n    <tr>\n      <th>3</th>\n      <td>421103102210000</td>\n      <td>42110310221000</td>\n      <td>4211031022</td>\n      <td>1000</td>\n      <td>0</td>\n      <td>강원 춘천시 동면 순환대로 1231</td>\n      <td>민간</td>\n      <td>NAVER</td>\n      <td>네이버 데이터센터 각</td>\n      <td>수력 발전소 통해 전체 전력량 70% 수급</td>\n      <td>-</td>\n      <td>NaN</td>\n    </tr>\n    <tr>\n      <th>4</th>\n      <td>42110126006500</td>\n      <td>4211012600650</td>\n      <td>4211012600</td>\n      <td>650</td>\n      <td>0</td>\n      <td>강원도 춘천시 옛경춘로 409-14</td>\n      <td>민간</td>\n      <td>오라클 춘천</td>\n      <td>오라클 춘천</td>\n      <td>-</td>\n      <td>-</td>\n      <td>NaN</td>\n    </tr>\n  </tbody>\n</table>\n</div>"
     },
     "execution_count": 2,
     "metadata": {},
     "output_type": "execute_result"
    }
   ],
   "source": [
    "df_2.head()"
   ],
   "metadata": {
    "collapsed": false,
    "pycharm": {
     "name": "#%%\n"
    }
   }
  },
  {
   "cell_type": "code",
   "execution_count": 3,
   "outputs": [
    {
     "data": {
      "text/plain": "   Unnamed: 0       시군구법정동번지코드     시군구법정동번코드_x  시군구법정동코드_x    본번  부번  사용량_KWH  \\\n0     1147081    4719012500941    471901250094  4719012500    94   1    44258   \n1     1121106  471303103412700  47130310341270  4713031034  1270   0    18180   \n\n    시도명 시군구명     법정동명  ...  시군구법정동코드_y     번  지  \\\n0  경상북도  구미시      임수동  ...  4719012500    94  1   \n1  경상북도  경주시  양북면 장항리  ...  4713031034  1270  0   \n\n                                              주소  분류          기업           이름  \\\n0  경상북도 구미시 3공단3로 302,경상북도 구미시 임수동 94-1 삼성전자 2공장  민간       삼성SDS     구미 데이터센터   \n1                            경북 경주시 양북면 불국로 1655  공공  한국수력원자력(주)  메인데이터센터(경주)   \n\n  비고 임차여부 전력사용량  \n0  -    -   NaN  \n1  -    -   NaN  \n\n[2 rows x 25 columns]",
      "text/html": "<div>\n<style scoped>\n    .dataframe tbody tr th:only-of-type {\n        vertical-align: middle;\n    }\n\n    .dataframe tbody tr th {\n        vertical-align: top;\n    }\n\n    .dataframe thead th {\n        text-align: right;\n    }\n</style>\n<table border=\"1\" class=\"dataframe\">\n  <thead>\n    <tr style=\"text-align: right;\">\n      <th></th>\n      <th>Unnamed: 0</th>\n      <th>시군구법정동번지코드</th>\n      <th>시군구법정동번코드_x</th>\n      <th>시군구법정동코드_x</th>\n      <th>본번</th>\n      <th>부번</th>\n      <th>사용량_KWH</th>\n      <th>시도명</th>\n      <th>시군구명</th>\n      <th>법정동명</th>\n      <th>...</th>\n      <th>시군구법정동코드_y</th>\n      <th>번</th>\n      <th>지</th>\n      <th>주소</th>\n      <th>분류</th>\n      <th>기업</th>\n      <th>이름</th>\n      <th>비고</th>\n      <th>임차여부</th>\n      <th>전력사용량</th>\n    </tr>\n  </thead>\n  <tbody>\n    <tr>\n      <th>0</th>\n      <td>1147081</td>\n      <td>4719012500941</td>\n      <td>471901250094</td>\n      <td>4719012500</td>\n      <td>94</td>\n      <td>1</td>\n      <td>44258</td>\n      <td>경상북도</td>\n      <td>구미시</td>\n      <td>임수동</td>\n      <td>...</td>\n      <td>4719012500</td>\n      <td>94</td>\n      <td>1</td>\n      <td>경상북도 구미시 3공단3로 302,경상북도 구미시 임수동 94-1 삼성전자 2공장</td>\n      <td>민간</td>\n      <td>삼성SDS</td>\n      <td>구미 데이터센터</td>\n      <td>-</td>\n      <td>-</td>\n      <td>NaN</td>\n    </tr>\n    <tr>\n      <th>1</th>\n      <td>1121106</td>\n      <td>471303103412700</td>\n      <td>47130310341270</td>\n      <td>4713031034</td>\n      <td>1270</td>\n      <td>0</td>\n      <td>18180</td>\n      <td>경상북도</td>\n      <td>경주시</td>\n      <td>양북면 장항리</td>\n      <td>...</td>\n      <td>4713031034</td>\n      <td>1270</td>\n      <td>0</td>\n      <td>경북 경주시 양북면 불국로 1655</td>\n      <td>공공</td>\n      <td>한국수력원자력(주)</td>\n      <td>메인데이터센터(경주)</td>\n      <td>-</td>\n      <td>-</td>\n      <td>NaN</td>\n    </tr>\n  </tbody>\n</table>\n<p>2 rows × 25 columns</p>\n</div>"
     },
     "execution_count": 3,
     "metadata": {},
     "output_type": "execute_result"
    }
   ],
   "source": [
    "df_3 = pd.merge(df, df_2, how='inner' , on='시군구법정동번지코드')\n",
    "\n",
    "df_3"
   ],
   "metadata": {
    "collapsed": false,
    "pycharm": {
     "name": "#%%\n"
    }
   }
  },
  {
   "cell_type": "code",
   "execution_count": 4,
   "outputs": [],
   "source": [
    "df_3.to_csv(\"경상북도_전력사용량.csv\" , mode = 'w' , encoding= 'cp949')"
   ],
   "metadata": {
    "collapsed": false,
    "pycharm": {
     "name": "#%%\n"
    }
   }
  },
  {
   "cell_type": "code",
   "execution_count": null,
   "outputs": [],
   "source": [],
   "metadata": {
    "collapsed": false,
    "pycharm": {
     "name": "#%%\n"
    }
   }
  }
 ],
 "metadata": {
  "kernelspec": {
   "display_name": "Python 3",
   "language": "python",
   "name": "python3"
  },
  "language_info": {
   "codemirror_mode": {
    "name": "ipython",
    "version": 2
   },
   "file_extension": ".py",
   "mimetype": "text/x-python",
   "name": "python",
   "nbconvert_exporter": "python",
   "pygments_lexer": "ipython2",
   "version": "2.7.6"
  }
 },
 "nbformat": 4,
 "nbformat_minor": 0
}