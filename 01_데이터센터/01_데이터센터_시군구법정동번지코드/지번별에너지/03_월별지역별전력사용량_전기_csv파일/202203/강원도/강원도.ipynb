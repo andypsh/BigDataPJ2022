{
 "cells": [
  {
   "cell_type": "code",
   "execution_count": 1,
   "metadata": {
    "collapsed": true,
    "pycharm": {
     "name": "#%%\n"
    }
   },
   "outputs": [
    {
     "data": {
      "text/plain": "   Unnamed: 0       시군구법정동번지코드      시군구법정동번코드    시군구법정동코드   본번  부번  사용량_KWH  \\\n0      680186   42130105001154  4213010500115  4213010500  115   4      930   \n1      728338   42760360211173  4276036021117  4276036021  117   3     1270   \n2      728337   42760360211168  4276036021116  4276036021  116   8      627   \n3      728336  427603602110064  4276036021100  4276036021  100  64      158   \n4      728335  427603602110046  4276036021100  4276036021  100  46      388   \n\n   시도명 시군구명      법정동명        새주소대로로코드 새주소대로로명   새주소본번 새주소부번  \n0  강원도  원주시       개운동  421303219054.0     치악로  1789.0   0.0  \n1  강원도  평창군  진부면 하진부리  427603228025.0   진부중앙로    64.0   2.0  \n2  강원도  평창군  진부면 하진부리  427603228025.0   진부중앙로    48.0   5.0  \n3  강원도  평창군  진부면 하진부리  427603228025.0   진부중앙로    82.0   1.0  \n4  강원도  평창군  진부면 하진부리  427603228025.0   진부중앙로    70.0   3.0  ",
      "text/html": "<div>\n<style scoped>\n    .dataframe tbody tr th:only-of-type {\n        vertical-align: middle;\n    }\n\n    .dataframe tbody tr th {\n        vertical-align: top;\n    }\n\n    .dataframe thead th {\n        text-align: right;\n    }\n</style>\n<table border=\"1\" class=\"dataframe\">\n  <thead>\n    <tr style=\"text-align: right;\">\n      <th></th>\n      <th>Unnamed: 0</th>\n      <th>시군구법정동번지코드</th>\n      <th>시군구법정동번코드</th>\n      <th>시군구법정동코드</th>\n      <th>본번</th>\n      <th>부번</th>\n      <th>사용량_KWH</th>\n      <th>시도명</th>\n      <th>시군구명</th>\n      <th>법정동명</th>\n      <th>새주소대로로코드</th>\n      <th>새주소대로로명</th>\n      <th>새주소본번</th>\n      <th>새주소부번</th>\n    </tr>\n  </thead>\n  <tbody>\n    <tr>\n      <th>0</th>\n      <td>680186</td>\n      <td>42130105001154</td>\n      <td>4213010500115</td>\n      <td>4213010500</td>\n      <td>115</td>\n      <td>4</td>\n      <td>930</td>\n      <td>강원도</td>\n      <td>원주시</td>\n      <td>개운동</td>\n      <td>421303219054.0</td>\n      <td>치악로</td>\n      <td>1789.0</td>\n      <td>0.0</td>\n    </tr>\n    <tr>\n      <th>1</th>\n      <td>728338</td>\n      <td>42760360211173</td>\n      <td>4276036021117</td>\n      <td>4276036021</td>\n      <td>117</td>\n      <td>3</td>\n      <td>1270</td>\n      <td>강원도</td>\n      <td>평창군</td>\n      <td>진부면 하진부리</td>\n      <td>427603228025.0</td>\n      <td>진부중앙로</td>\n      <td>64.0</td>\n      <td>2.0</td>\n    </tr>\n    <tr>\n      <th>2</th>\n      <td>728337</td>\n      <td>42760360211168</td>\n      <td>4276036021116</td>\n      <td>4276036021</td>\n      <td>116</td>\n      <td>8</td>\n      <td>627</td>\n      <td>강원도</td>\n      <td>평창군</td>\n      <td>진부면 하진부리</td>\n      <td>427603228025.0</td>\n      <td>진부중앙로</td>\n      <td>48.0</td>\n      <td>5.0</td>\n    </tr>\n    <tr>\n      <th>3</th>\n      <td>728336</td>\n      <td>427603602110064</td>\n      <td>4276036021100</td>\n      <td>4276036021</td>\n      <td>100</td>\n      <td>64</td>\n      <td>158</td>\n      <td>강원도</td>\n      <td>평창군</td>\n      <td>진부면 하진부리</td>\n      <td>427603228025.0</td>\n      <td>진부중앙로</td>\n      <td>82.0</td>\n      <td>1.0</td>\n    </tr>\n    <tr>\n      <th>4</th>\n      <td>728335</td>\n      <td>427603602110046</td>\n      <td>4276036021100</td>\n      <td>4276036021</td>\n      <td>100</td>\n      <td>46</td>\n      <td>388</td>\n      <td>강원도</td>\n      <td>평창군</td>\n      <td>진부면 하진부리</td>\n      <td>427603228025.0</td>\n      <td>진부중앙로</td>\n      <td>70.0</td>\n      <td>3.0</td>\n    </tr>\n  </tbody>\n</table>\n</div>"
     },
     "execution_count": 1,
     "metadata": {},
     "output_type": "execute_result"
    }
   ],
   "source": [
    "import pandas as pd\n",
    "\n",
    "\n",
    "df = pd.read_csv('강원도.csv' , encoding = 'cp949')\n",
    "df_2 = pd.read_csv('../../../../데이터센터정리.csv' , encoding = 'cp949')\n",
    "\n",
    "df = df.astype({'시군구법정동번지코드' : 'str',\n",
    "                 '시군구법정동번코드' : 'str'})\n",
    "df.head()"
   ]
  },
  {
   "cell_type": "code",
   "execution_count": 1,
   "outputs": [
    {
     "data": {
      "text/plain": "   Unnamed: 0       시군구법정동번지코드      시군구법정동번코드    시군구법정동코드   본번  부번  사용량_KWH  \\\n0      680186   42130105001154  4213010500115  4213010500  115   4      930   \n1      728338   42760360211173  4276036021117  4276036021  117   3     1270   \n2      728337   42760360211168  4276036021116  4276036021  116   8      627   \n3      728336  427603602110064  4276036021100  4276036021  100  64      158   \n4      728335  427603602110046  4276036021100  4276036021  100  46      388   \n\n   시도명 시군구명      법정동명        새주소대로로코드 새주소대로로명   새주소본번 새주소부번  \n0  강원도  원주시       개운동  421303219054.0     치악로  1789.0   0.0  \n1  강원도  평창군  진부면 하진부리  427603228025.0   진부중앙로    64.0   2.0  \n2  강원도  평창군  진부면 하진부리  427603228025.0   진부중앙로    48.0   5.0  \n3  강원도  평창군  진부면 하진부리  427603228025.0   진부중앙로    82.0   1.0  \n4  강원도  평창군  진부면 하진부리  427603228025.0   진부중앙로    70.0   3.0  ",
      "text/html": "<div>\n<style scoped>\n    .dataframe tbody tr th:only-of-type {\n        vertical-align: middle;\n    }\n\n    .dataframe tbody tr th {\n        vertical-align: top;\n    }\n\n    .dataframe thead th {\n        text-align: right;\n    }\n</style>\n<table border=\"1\" class=\"dataframe\">\n  <thead>\n    <tr style=\"text-align: right;\">\n      <th></th>\n      <th>Unnamed: 0</th>\n      <th>시군구법정동번지코드</th>\n      <th>시군구법정동번코드</th>\n      <th>시군구법정동코드</th>\n      <th>본번</th>\n      <th>부번</th>\n      <th>사용량_KWH</th>\n      <th>시도명</th>\n      <th>시군구명</th>\n      <th>법정동명</th>\n      <th>새주소대로로코드</th>\n      <th>새주소대로로명</th>\n      <th>새주소본번</th>\n      <th>새주소부번</th>\n    </tr>\n  </thead>\n  <tbody>\n    <tr>\n      <th>0</th>\n      <td>680186</td>\n      <td>42130105001154</td>\n      <td>4213010500115</td>\n      <td>4213010500</td>\n      <td>115</td>\n      <td>4</td>\n      <td>930</td>\n      <td>강원도</td>\n      <td>원주시</td>\n      <td>개운동</td>\n      <td>421303219054.0</td>\n      <td>치악로</td>\n      <td>1789.0</td>\n      <td>0.0</td>\n    </tr>\n    <tr>\n      <th>1</th>\n      <td>728338</td>\n      <td>42760360211173</td>\n      <td>4276036021117</td>\n      <td>4276036021</td>\n      <td>117</td>\n      <td>3</td>\n      <td>1270</td>\n      <td>강원도</td>\n      <td>평창군</td>\n      <td>진부면 하진부리</td>\n      <td>427603228025.0</td>\n      <td>진부중앙로</td>\n      <td>64.0</td>\n      <td>2.0</td>\n    </tr>\n    <tr>\n      <th>2</th>\n      <td>728337</td>\n      <td>42760360211168</td>\n      <td>4276036021116</td>\n      <td>4276036021</td>\n      <td>116</td>\n      <td>8</td>\n      <td>627</td>\n      <td>강원도</td>\n      <td>평창군</td>\n      <td>진부면 하진부리</td>\n      <td>427603228025.0</td>\n      <td>진부중앙로</td>\n      <td>48.0</td>\n      <td>5.0</td>\n    </tr>\n    <tr>\n      <th>3</th>\n      <td>728336</td>\n      <td>427603602110064</td>\n      <td>4276036021100</td>\n      <td>4276036021</td>\n      <td>100</td>\n      <td>64</td>\n      <td>158</td>\n      <td>강원도</td>\n      <td>평창군</td>\n      <td>진부면 하진부리</td>\n      <td>427603228025.0</td>\n      <td>진부중앙로</td>\n      <td>82.0</td>\n      <td>1.0</td>\n    </tr>\n    <tr>\n      <th>4</th>\n      <td>728335</td>\n      <td>427603602110046</td>\n      <td>4276036021100</td>\n      <td>4276036021</td>\n      <td>100</td>\n      <td>46</td>\n      <td>388</td>\n      <td>강원도</td>\n      <td>평창군</td>\n      <td>진부면 하진부리</td>\n      <td>427603228025.0</td>\n      <td>진부중앙로</td>\n      <td>70.0</td>\n      <td>3.0</td>\n    </tr>\n  </tbody>\n</table>\n</div>"
     },
     "execution_count": 1,
     "metadata": {},
     "output_type": "execute_result"
    }
   ],
   "source": [
    "import pandas as pd\n",
    "\n",
    "\n",
    "df = pd.read_csv('강원도.csv' , encoding = 'cp949')\n",
    "df_2 = pd.read_csv('../../../../데이터센터정리.csv' , encoding = 'cp949')\n",
    "\n",
    "df = df.astype({'시군구법정동번지코드' : 'str',\n",
    "                 '시군구법정동번코드' : 'str'})\n",
    "df.head()"
   ],
   "metadata": {
    "collapsed": false,
    "pycharm": {
     "name": "#%%\n"
    }
   }
  },
  {
   "cell_type": "code",
   "execution_count": 2,
   "outputs": [
    {
     "name": "stdout",
     "output_type": "stream",
     "text": [
      "Unnamed: 0     int64\n",
      "시군구법정동번지코드    object\n",
      "시군구법정동번코드     object\n",
      "시군구법정동코드       int64\n",
      "본번             int64\n",
      "부번             int64\n",
      "사용량_KWH        int64\n",
      "시도명           object\n",
      "시군구명          object\n",
      "법정동명          object\n",
      "새주소대로로코드      object\n",
      "새주소대로로명       object\n",
      "새주소본번         object\n",
      "새주소부번         object\n",
      "dtype: object\n"
     ]
    }
   ],
   "source": [
    "print(df.dtypes)"
   ],
   "metadata": {
    "collapsed": false,
    "pycharm": {
     "name": "#%%\n"
    }
   }
  },
  {
   "cell_type": "code",
   "execution_count": 3,
   "outputs": [],
   "source": [
    "#df_2 = df_2.astype({'시군구법정동번지코드' : 'float'})"
   ],
   "metadata": {
    "collapsed": false,
    "pycharm": {
     "name": "#%%\n"
    }
   }
  },
  {
   "cell_type": "code",
   "execution_count": 4,
   "outputs": [
    {
     "name": "stdout",
     "output_type": "stream",
     "text": [
      "시군구법정동번지코드     object\n",
      "시군구법정동번코드      object\n",
      "시군구법정동코드        int64\n",
      "번              object\n",
      "지              object\n",
      "주소             object\n",
      "분류             object\n",
      "기업             object\n",
      "이름             object\n",
      "비고             object\n",
      "임차여부           object\n",
      "전력사용량         float64\n",
      "dtype: object\n"
     ]
    }
   ],
   "source": [
    "print(df_2.dtypes)"
   ],
   "metadata": {
    "collapsed": false,
    "pycharm": {
     "name": "#%%\n"
    }
   }
  },
  {
   "cell_type": "code",
   "execution_count": 5,
   "outputs": [
    {
     "data": {
      "text/plain": "         시군구법정동번지코드       시군구법정동번코드    시군구법정동코드     번   지  \\\n0   421301170018946  42130117001894  4213011700  1894   6   \n1  4213011700204710  42130117002047  4213011700  2047  14   \n2  4213011700204710  42130117002047  4213011700  2047  10   \n3   421103102210000  42110310221000  4211031022  1000   0   \n4    42110126006500   4211012600650  4211012600   650   0   \n\n                            주소  분류         기업                       이름  \\\n0    강원 원주시 건강로 32(반곡동 1894-6)  공공   국민건강보험공단           국민건강보험공단 데이터센터   \n1  강원 원주시 입춘로 130(반곡동 2047-14)  공공  건강보험심사평가원  건강보험심사평가원 ICT센터\\n (2사옥)   \n2   강원 원주시 혁신로 60(반곡동 2047-10)  공공  건강보험심사평가원  건강보험심사평가원 ICT센터\\n (1사옥)   \n3          강원 춘천시 동면 순환대로 1231  민간      NAVER              네이버 데이터센터 각   \n4          강원도 춘천시 옛경춘로 409-14  민간     오라클 춘천                   오라클 춘천   \n\n                        비고 임차여부  전력사용량  \n0               O 자체 데이터센터    -    NaN  \n1                        -    -    NaN  \n2                        -    -    NaN  \n3  수력 발전소 통해 전체 전력량 70% 수급    -    NaN  \n4                        -    -    NaN  ",
      "text/html": "<div>\n<style scoped>\n    .dataframe tbody tr th:only-of-type {\n        vertical-align: middle;\n    }\n\n    .dataframe tbody tr th {\n        vertical-align: top;\n    }\n\n    .dataframe thead th {\n        text-align: right;\n    }\n</style>\n<table border=\"1\" class=\"dataframe\">\n  <thead>\n    <tr style=\"text-align: right;\">\n      <th></th>\n      <th>시군구법정동번지코드</th>\n      <th>시군구법정동번코드</th>\n      <th>시군구법정동코드</th>\n      <th>번</th>\n      <th>지</th>\n      <th>주소</th>\n      <th>분류</th>\n      <th>기업</th>\n      <th>이름</th>\n      <th>비고</th>\n      <th>임차여부</th>\n      <th>전력사용량</th>\n    </tr>\n  </thead>\n  <tbody>\n    <tr>\n      <th>0</th>\n      <td>421301170018946</td>\n      <td>42130117001894</td>\n      <td>4213011700</td>\n      <td>1894</td>\n      <td>6</td>\n      <td>강원 원주시 건강로 32(반곡동 1894-6)</td>\n      <td>공공</td>\n      <td>국민건강보험공단</td>\n      <td>국민건강보험공단 데이터센터</td>\n      <td>O 자체 데이터센터</td>\n      <td>-</td>\n      <td>NaN</td>\n    </tr>\n    <tr>\n      <th>1</th>\n      <td>4213011700204710</td>\n      <td>42130117002047</td>\n      <td>4213011700</td>\n      <td>2047</td>\n      <td>14</td>\n      <td>강원 원주시 입춘로 130(반곡동 2047-14)</td>\n      <td>공공</td>\n      <td>건강보험심사평가원</td>\n      <td>건강보험심사평가원 ICT센터\\n (2사옥)</td>\n      <td>-</td>\n      <td>-</td>\n      <td>NaN</td>\n    </tr>\n    <tr>\n      <th>2</th>\n      <td>4213011700204710</td>\n      <td>42130117002047</td>\n      <td>4213011700</td>\n      <td>2047</td>\n      <td>10</td>\n      <td>강원 원주시 혁신로 60(반곡동 2047-10)</td>\n      <td>공공</td>\n      <td>건강보험심사평가원</td>\n      <td>건강보험심사평가원 ICT센터\\n (1사옥)</td>\n      <td>-</td>\n      <td>-</td>\n      <td>NaN</td>\n    </tr>\n    <tr>\n      <th>3</th>\n      <td>421103102210000</td>\n      <td>42110310221000</td>\n      <td>4211031022</td>\n      <td>1000</td>\n      <td>0</td>\n      <td>강원 춘천시 동면 순환대로 1231</td>\n      <td>민간</td>\n      <td>NAVER</td>\n      <td>네이버 데이터센터 각</td>\n      <td>수력 발전소 통해 전체 전력량 70% 수급</td>\n      <td>-</td>\n      <td>NaN</td>\n    </tr>\n    <tr>\n      <th>4</th>\n      <td>42110126006500</td>\n      <td>4211012600650</td>\n      <td>4211012600</td>\n      <td>650</td>\n      <td>0</td>\n      <td>강원도 춘천시 옛경춘로 409-14</td>\n      <td>민간</td>\n      <td>오라클 춘천</td>\n      <td>오라클 춘천</td>\n      <td>-</td>\n      <td>-</td>\n      <td>NaN</td>\n    </tr>\n  </tbody>\n</table>\n</div>"
     },
     "execution_count": 5,
     "metadata": {},
     "output_type": "execute_result"
    }
   ],
   "source": [
    "df_2.head()"
   ],
   "metadata": {
    "collapsed": false,
    "pycharm": {
     "name": "#%%\n"
    }
   }
  },
  {
   "cell_type": "code",
   "execution_count": 6,
   "outputs": [
    {
     "data": {
      "text/plain": "   Unnamed: 0        시군구법정동번지코드     시군구법정동번코드_x  시군구법정동코드_x    본번  부번  \\\n0      690321   421103102210000  42110310221000  4211031022  1000   0   \n1      685803  4213011700204710  42130117002047  4213011700  2047  10   \n2      685803  4213011700204710  42130117002047  4213011700  2047  10   \n3      685778   421301170018946  42130117001894  4213011700  1894   6   \n\n    사용량_KWH  시도명 시군구명    법정동명  ...  시군구법정동코드_y     번   지  \\\n0  11463755  강원도  춘천시  동면 만천리  ...  4211031022  1000   0   \n1    972827  강원도  원주시     반곡동  ...  4213011700  2047  14   \n2    972827  강원도  원주시     반곡동  ...  4213011700  2047  10   \n3      9327  강원도  원주시     반곡동  ...  4213011700  1894   6   \n\n                            주소  분류         기업                       이름  \\\n0          강원 춘천시 동면 순환대로 1231  민간      NAVER              네이버 데이터센터 각   \n1  강원 원주시 입춘로 130(반곡동 2047-14)  공공  건강보험심사평가원  건강보험심사평가원 ICT센터\\n (2사옥)   \n2   강원 원주시 혁신로 60(반곡동 2047-10)  공공  건강보험심사평가원  건강보험심사평가원 ICT센터\\n (1사옥)   \n3    강원 원주시 건강로 32(반곡동 1894-6)  공공   국민건강보험공단           국민건강보험공단 데이터센터   \n\n                        비고 임차여부 전력사용량  \n0  수력 발전소 통해 전체 전력량 70% 수급    -   NaN  \n1                        -    -   NaN  \n2                        -    -   NaN  \n3               O 자체 데이터센터    -   NaN  \n\n[4 rows x 25 columns]",
      "text/html": "<div>\n<style scoped>\n    .dataframe tbody tr th:only-of-type {\n        vertical-align: middle;\n    }\n\n    .dataframe tbody tr th {\n        vertical-align: top;\n    }\n\n    .dataframe thead th {\n        text-align: right;\n    }\n</style>\n<table border=\"1\" class=\"dataframe\">\n  <thead>\n    <tr style=\"text-align: right;\">\n      <th></th>\n      <th>Unnamed: 0</th>\n      <th>시군구법정동번지코드</th>\n      <th>시군구법정동번코드_x</th>\n      <th>시군구법정동코드_x</th>\n      <th>본번</th>\n      <th>부번</th>\n      <th>사용량_KWH</th>\n      <th>시도명</th>\n      <th>시군구명</th>\n      <th>법정동명</th>\n      <th>...</th>\n      <th>시군구법정동코드_y</th>\n      <th>번</th>\n      <th>지</th>\n      <th>주소</th>\n      <th>분류</th>\n      <th>기업</th>\n      <th>이름</th>\n      <th>비고</th>\n      <th>임차여부</th>\n      <th>전력사용량</th>\n    </tr>\n  </thead>\n  <tbody>\n    <tr>\n      <th>0</th>\n      <td>690321</td>\n      <td>421103102210000</td>\n      <td>42110310221000</td>\n      <td>4211031022</td>\n      <td>1000</td>\n      <td>0</td>\n      <td>11463755</td>\n      <td>강원도</td>\n      <td>춘천시</td>\n      <td>동면 만천리</td>\n      <td>...</td>\n      <td>4211031022</td>\n      <td>1000</td>\n      <td>0</td>\n      <td>강원 춘천시 동면 순환대로 1231</td>\n      <td>민간</td>\n      <td>NAVER</td>\n      <td>네이버 데이터센터 각</td>\n      <td>수력 발전소 통해 전체 전력량 70% 수급</td>\n      <td>-</td>\n      <td>NaN</td>\n    </tr>\n    <tr>\n      <th>1</th>\n      <td>685803</td>\n      <td>4213011700204710</td>\n      <td>42130117002047</td>\n      <td>4213011700</td>\n      <td>2047</td>\n      <td>10</td>\n      <td>972827</td>\n      <td>강원도</td>\n      <td>원주시</td>\n      <td>반곡동</td>\n      <td>...</td>\n      <td>4213011700</td>\n      <td>2047</td>\n      <td>14</td>\n      <td>강원 원주시 입춘로 130(반곡동 2047-14)</td>\n      <td>공공</td>\n      <td>건강보험심사평가원</td>\n      <td>건강보험심사평가원 ICT센터\\n (2사옥)</td>\n      <td>-</td>\n      <td>-</td>\n      <td>NaN</td>\n    </tr>\n    <tr>\n      <th>2</th>\n      <td>685803</td>\n      <td>4213011700204710</td>\n      <td>42130117002047</td>\n      <td>4213011700</td>\n      <td>2047</td>\n      <td>10</td>\n      <td>972827</td>\n      <td>강원도</td>\n      <td>원주시</td>\n      <td>반곡동</td>\n      <td>...</td>\n      <td>4213011700</td>\n      <td>2047</td>\n      <td>10</td>\n      <td>강원 원주시 혁신로 60(반곡동 2047-10)</td>\n      <td>공공</td>\n      <td>건강보험심사평가원</td>\n      <td>건강보험심사평가원 ICT센터\\n (1사옥)</td>\n      <td>-</td>\n      <td>-</td>\n      <td>NaN</td>\n    </tr>\n    <tr>\n      <th>3</th>\n      <td>685778</td>\n      <td>421301170018946</td>\n      <td>42130117001894</td>\n      <td>4213011700</td>\n      <td>1894</td>\n      <td>6</td>\n      <td>9327</td>\n      <td>강원도</td>\n      <td>원주시</td>\n      <td>반곡동</td>\n      <td>...</td>\n      <td>4213011700</td>\n      <td>1894</td>\n      <td>6</td>\n      <td>강원 원주시 건강로 32(반곡동 1894-6)</td>\n      <td>공공</td>\n      <td>국민건강보험공단</td>\n      <td>국민건강보험공단 데이터센터</td>\n      <td>O 자체 데이터센터</td>\n      <td>-</td>\n      <td>NaN</td>\n    </tr>\n  </tbody>\n</table>\n<p>4 rows × 25 columns</p>\n</div>"
     },
     "execution_count": 6,
     "metadata": {},
     "output_type": "execute_result"
    }
   ],
   "source": [
    "df_3 = pd.merge(df, df_2, how='inner' , on='시군구법정동번지코드')\n",
    "\n",
    "df_3"
   ],
   "metadata": {
    "collapsed": false,
    "pycharm": {
     "name": "#%%\n"
    }
   }
  },
  {
   "cell_type": "code",
   "execution_count": 7,
   "outputs": [],
   "source": [
    "df_3.to_csv(\"강원도_전력사용량.csv\" , mode = 'w' , encoding= 'cp949')"
   ],
   "metadata": {
    "collapsed": false,
    "pycharm": {
     "name": "#%%\n"
    }
   }
  },
  {
   "cell_type": "code",
   "execution_count": null,
   "outputs": [],
   "source": [],
   "metadata": {
    "collapsed": false,
    "pycharm": {
     "name": "#%%\n"
    }
   }
  },
  {
   "cell_type": "markdown",
   "source": [],
   "metadata": {
    "collapsed": false,
    "pycharm": {
     "name": "#%% md\n"
    }
   }
  }
 ],
 "metadata": {
  "kernelspec": {
   "display_name": "Python 3",
   "language": "python",
   "name": "python3"
  },
  "language_info": {
   "codemirror_mode": {
    "name": "ipython",
    "version": 2
   },
   "file_extension": ".py",
   "mimetype": "text/x-python",
   "name": "python",
   "nbconvert_exporter": "python",
   "pygments_lexer": "ipython2",
   "version": "2.7.6"
  }
 },
 "nbformat": 4,
 "nbformat_minor": 0
}