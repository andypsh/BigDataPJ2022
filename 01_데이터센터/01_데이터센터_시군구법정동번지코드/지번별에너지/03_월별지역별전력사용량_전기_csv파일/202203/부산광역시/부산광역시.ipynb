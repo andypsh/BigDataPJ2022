{
 "cells": [
  {
   "cell_type": "code",
   "execution_count": 1,
   "metadata": {
    "collapsed": true,
    "pycharm": {
     "name": "#%%\n"
    }
   },
   "outputs": [
    {
     "data": {
      "text/plain": "   Unnamed: 0       시군구법정동번지코드      시군구법정동번코드    시군구법정동코드   본번  부번  사용량_KWH  \\\n0      158996  262601010014514  2626010100145  2626010100  145  14     3656   \n1      159301   26170104003193  2617010400319  2617010400  319   3     1241   \n2      159302  261701040032120  2617010400321  2617010400  321  20     4214   \n3      159303   26170104003252  2617010400325  2617010400  325   2     1234   \n4      159304   26170104003272  2617010400327  2617010400  327   2     1219   \n\n     시도명 시군구명 법정동명        새주소대로로코드  새주소대로로명 새주소본번 새주소부번  \n0  부산광역시  동래구  명장동  262604190163.0  명안로86번길  45.0   3.0  \n1  부산광역시   동구  범일동  261703127051.0      범일로  74.0   5.0  \n2  부산광역시   동구  범일동  261704181380.0  자성로75번길  33.0   0.0  \n3  부산광역시   동구  범일동  261703127051.0      범일로  64.0   4.0  \n4  부산광역시   동구  범일동  261703127051.0      범일로  62.0   0.0  ",
      "text/html": "<div>\n<style scoped>\n    .dataframe tbody tr th:only-of-type {\n        vertical-align: middle;\n    }\n\n    .dataframe tbody tr th {\n        vertical-align: top;\n    }\n\n    .dataframe thead th {\n        text-align: right;\n    }\n</style>\n<table border=\"1\" class=\"dataframe\">\n  <thead>\n    <tr style=\"text-align: right;\">\n      <th></th>\n      <th>Unnamed: 0</th>\n      <th>시군구법정동번지코드</th>\n      <th>시군구법정동번코드</th>\n      <th>시군구법정동코드</th>\n      <th>본번</th>\n      <th>부번</th>\n      <th>사용량_KWH</th>\n      <th>시도명</th>\n      <th>시군구명</th>\n      <th>법정동명</th>\n      <th>새주소대로로코드</th>\n      <th>새주소대로로명</th>\n      <th>새주소본번</th>\n      <th>새주소부번</th>\n    </tr>\n  </thead>\n  <tbody>\n    <tr>\n      <th>0</th>\n      <td>158996</td>\n      <td>262601010014514</td>\n      <td>2626010100145</td>\n      <td>2626010100</td>\n      <td>145</td>\n      <td>14</td>\n      <td>3656</td>\n      <td>부산광역시</td>\n      <td>동래구</td>\n      <td>명장동</td>\n      <td>262604190163.0</td>\n      <td>명안로86번길</td>\n      <td>45.0</td>\n      <td>3.0</td>\n    </tr>\n    <tr>\n      <th>1</th>\n      <td>159301</td>\n      <td>26170104003193</td>\n      <td>2617010400319</td>\n      <td>2617010400</td>\n      <td>319</td>\n      <td>3</td>\n      <td>1241</td>\n      <td>부산광역시</td>\n      <td>동구</td>\n      <td>범일동</td>\n      <td>261703127051.0</td>\n      <td>범일로</td>\n      <td>74.0</td>\n      <td>5.0</td>\n    </tr>\n    <tr>\n      <th>2</th>\n      <td>159302</td>\n      <td>261701040032120</td>\n      <td>2617010400321</td>\n      <td>2617010400</td>\n      <td>321</td>\n      <td>20</td>\n      <td>4214</td>\n      <td>부산광역시</td>\n      <td>동구</td>\n      <td>범일동</td>\n      <td>261704181380.0</td>\n      <td>자성로75번길</td>\n      <td>33.0</td>\n      <td>0.0</td>\n    </tr>\n    <tr>\n      <th>3</th>\n      <td>159303</td>\n      <td>26170104003252</td>\n      <td>2617010400325</td>\n      <td>2617010400</td>\n      <td>325</td>\n      <td>2</td>\n      <td>1234</td>\n      <td>부산광역시</td>\n      <td>동구</td>\n      <td>범일동</td>\n      <td>261703127051.0</td>\n      <td>범일로</td>\n      <td>64.0</td>\n      <td>4.0</td>\n    </tr>\n    <tr>\n      <th>4</th>\n      <td>159304</td>\n      <td>26170104003272</td>\n      <td>2617010400327</td>\n      <td>2617010400</td>\n      <td>327</td>\n      <td>2</td>\n      <td>1219</td>\n      <td>부산광역시</td>\n      <td>동구</td>\n      <td>범일동</td>\n      <td>261703127051.0</td>\n      <td>범일로</td>\n      <td>62.0</td>\n      <td>0.0</td>\n    </tr>\n  </tbody>\n</table>\n</div>"
     },
     "execution_count": 1,
     "metadata": {},
     "output_type": "execute_result"
    }
   ],
   "source": [
    "import pandas as pd\n",
    "\n",
    "\n",
    "df = pd.read_csv('부산광역시.csv' , encoding = 'cp949')\n",
    "df_2 = pd.read_csv('../../../../데이터센터정리.csv' , encoding = 'cp949')\n",
    "\n",
    "df = df.astype({'시군구법정동번지코드' : 'str',\n",
    "                '시군구법정동번코드' : 'str'})\n",
    "df.head()"
   ]
  },
  {
   "cell_type": "code",
   "execution_count": 2,
   "outputs": [
    {
     "data": {
      "text/plain": "         시군구법정동번지코드       시군구법정동번코드    시군구법정동코드     번   지  \\\n0   421301170018946  42130117001894  4213011700  1894   6   \n1  4213011700204710  42130117002047  4213011700  2047  14   \n2  4213011700204710  42130117002047  4213011700  2047  10   \n3   421103102210000  42110310221000  4211031022  1000   0   \n4    42110126006500   4211012600650  4211012600   650   0   \n\n                            주소  분류         기업                       이름  \\\n0    강원 원주시 건강로 32(반곡동 1894-6)  공공   국민건강보험공단           국민건강보험공단 데이터센터   \n1  강원 원주시 입춘로 130(반곡동 2047-14)  공공  건강보험심사평가원  건강보험심사평가원 ICT센터\\n (2사옥)   \n2   강원 원주시 혁신로 60(반곡동 2047-10)  공공  건강보험심사평가원  건강보험심사평가원 ICT센터\\n (1사옥)   \n3          강원 춘천시 동면 순환대로 1231  민간      NAVER              네이버 데이터센터 각   \n4          강원도 춘천시 옛경춘로 409-14  민간     오라클 춘천                   오라클 춘천   \n\n                        비고 임차여부  전력사용량  \n0               O 자체 데이터센터    -    NaN  \n1                        -    -    NaN  \n2                        -    -    NaN  \n3  수력 발전소 통해 전체 전력량 70% 수급    -    NaN  \n4                        -    -    NaN  ",
      "text/html": "<div>\n<style scoped>\n    .dataframe tbody tr th:only-of-type {\n        vertical-align: middle;\n    }\n\n    .dataframe tbody tr th {\n        vertical-align: top;\n    }\n\n    .dataframe thead th {\n        text-align: right;\n    }\n</style>\n<table border=\"1\" class=\"dataframe\">\n  <thead>\n    <tr style=\"text-align: right;\">\n      <th></th>\n      <th>시군구법정동번지코드</th>\n      <th>시군구법정동번코드</th>\n      <th>시군구법정동코드</th>\n      <th>번</th>\n      <th>지</th>\n      <th>주소</th>\n      <th>분류</th>\n      <th>기업</th>\n      <th>이름</th>\n      <th>비고</th>\n      <th>임차여부</th>\n      <th>전력사용량</th>\n    </tr>\n  </thead>\n  <tbody>\n    <tr>\n      <th>0</th>\n      <td>421301170018946</td>\n      <td>42130117001894</td>\n      <td>4213011700</td>\n      <td>1894</td>\n      <td>6</td>\n      <td>강원 원주시 건강로 32(반곡동 1894-6)</td>\n      <td>공공</td>\n      <td>국민건강보험공단</td>\n      <td>국민건강보험공단 데이터센터</td>\n      <td>O 자체 데이터센터</td>\n      <td>-</td>\n      <td>NaN</td>\n    </tr>\n    <tr>\n      <th>1</th>\n      <td>4213011700204710</td>\n      <td>42130117002047</td>\n      <td>4213011700</td>\n      <td>2047</td>\n      <td>14</td>\n      <td>강원 원주시 입춘로 130(반곡동 2047-14)</td>\n      <td>공공</td>\n      <td>건강보험심사평가원</td>\n      <td>건강보험심사평가원 ICT센터\\n (2사옥)</td>\n      <td>-</td>\n      <td>-</td>\n      <td>NaN</td>\n    </tr>\n    <tr>\n      <th>2</th>\n      <td>4213011700204710</td>\n      <td>42130117002047</td>\n      <td>4213011700</td>\n      <td>2047</td>\n      <td>10</td>\n      <td>강원 원주시 혁신로 60(반곡동 2047-10)</td>\n      <td>공공</td>\n      <td>건강보험심사평가원</td>\n      <td>건강보험심사평가원 ICT센터\\n (1사옥)</td>\n      <td>-</td>\n      <td>-</td>\n      <td>NaN</td>\n    </tr>\n    <tr>\n      <th>3</th>\n      <td>421103102210000</td>\n      <td>42110310221000</td>\n      <td>4211031022</td>\n      <td>1000</td>\n      <td>0</td>\n      <td>강원 춘천시 동면 순환대로 1231</td>\n      <td>민간</td>\n      <td>NAVER</td>\n      <td>네이버 데이터센터 각</td>\n      <td>수력 발전소 통해 전체 전력량 70% 수급</td>\n      <td>-</td>\n      <td>NaN</td>\n    </tr>\n    <tr>\n      <th>4</th>\n      <td>42110126006500</td>\n      <td>4211012600650</td>\n      <td>4211012600</td>\n      <td>650</td>\n      <td>0</td>\n      <td>강원도 춘천시 옛경춘로 409-14</td>\n      <td>민간</td>\n      <td>오라클 춘천</td>\n      <td>오라클 춘천</td>\n      <td>-</td>\n      <td>-</td>\n      <td>NaN</td>\n    </tr>\n  </tbody>\n</table>\n</div>"
     },
     "execution_count": 2,
     "metadata": {},
     "output_type": "execute_result"
    }
   ],
   "source": [
    "df_2.head()"
   ],
   "metadata": {
    "collapsed": false,
    "pycharm": {
     "name": "#%%\n"
    }
   }
  },
  {
   "cell_type": "code",
   "execution_count": 3,
   "outputs": [
    {
     "data": {
      "text/plain": "   Unnamed: 0       시군구법정동번지코드     시군구법정동번코드_x  시군구법정동코드_x    본번  부번  사용량_KWH  \\\n0      141795    2614010900301    261401090030  2614010900    30   1   127027   \n1      167877  262901090012291  26290109001229  2629010900  1229   1    43966   \n2      189564  263501050014630  26350105001463  2635010500  1463   0   158868   \n\n     시도명  시군구명   법정동명  ...  시군구법정동코드_y     번  지                        주소  분류  \\\n0  부산광역시    서구  부민동1가  ...  2614010900    30  1        부산광역시 서구 대청로6번길 14  통신   \n1  부산광역시    남구    문현동  ...  2629010900  1229  1            부산 남구 문현금융로 40  공공   \n2  부산광역시  해운대구     우동  ...  2635010500  1463  0  부산 해운대구 센텀7로 12(우동-1463)  공공   \n\n            기업               이름    비고 임차여부 전력사용량  \n0        LG U+  LG U+부산 센터 (아미)  기타분류    -   NaN  \n1     한국자산관리공사      정보시스템실 시스템팀     -    -   NaN  \n2  (재)APEC기후센터     APEC기후센터 전산실     -    -   NaN  \n\n[3 rows x 25 columns]",
      "text/html": "<div>\n<style scoped>\n    .dataframe tbody tr th:only-of-type {\n        vertical-align: middle;\n    }\n\n    .dataframe tbody tr th {\n        vertical-align: top;\n    }\n\n    .dataframe thead th {\n        text-align: right;\n    }\n</style>\n<table border=\"1\" class=\"dataframe\">\n  <thead>\n    <tr style=\"text-align: right;\">\n      <th></th>\n      <th>Unnamed: 0</th>\n      <th>시군구법정동번지코드</th>\n      <th>시군구법정동번코드_x</th>\n      <th>시군구법정동코드_x</th>\n      <th>본번</th>\n      <th>부번</th>\n      <th>사용량_KWH</th>\n      <th>시도명</th>\n      <th>시군구명</th>\n      <th>법정동명</th>\n      <th>...</th>\n      <th>시군구법정동코드_y</th>\n      <th>번</th>\n      <th>지</th>\n      <th>주소</th>\n      <th>분류</th>\n      <th>기업</th>\n      <th>이름</th>\n      <th>비고</th>\n      <th>임차여부</th>\n      <th>전력사용량</th>\n    </tr>\n  </thead>\n  <tbody>\n    <tr>\n      <th>0</th>\n      <td>141795</td>\n      <td>2614010900301</td>\n      <td>261401090030</td>\n      <td>2614010900</td>\n      <td>30</td>\n      <td>1</td>\n      <td>127027</td>\n      <td>부산광역시</td>\n      <td>서구</td>\n      <td>부민동1가</td>\n      <td>...</td>\n      <td>2614010900</td>\n      <td>30</td>\n      <td>1</td>\n      <td>부산광역시 서구 대청로6번길 14</td>\n      <td>통신</td>\n      <td>LG U+</td>\n      <td>LG U+부산 센터 (아미)</td>\n      <td>기타분류</td>\n      <td>-</td>\n      <td>NaN</td>\n    </tr>\n    <tr>\n      <th>1</th>\n      <td>167877</td>\n      <td>262901090012291</td>\n      <td>26290109001229</td>\n      <td>2629010900</td>\n      <td>1229</td>\n      <td>1</td>\n      <td>43966</td>\n      <td>부산광역시</td>\n      <td>남구</td>\n      <td>문현동</td>\n      <td>...</td>\n      <td>2629010900</td>\n      <td>1229</td>\n      <td>1</td>\n      <td>부산 남구 문현금융로 40</td>\n      <td>공공</td>\n      <td>한국자산관리공사</td>\n      <td>정보시스템실 시스템팀</td>\n      <td>-</td>\n      <td>-</td>\n      <td>NaN</td>\n    </tr>\n    <tr>\n      <th>2</th>\n      <td>189564</td>\n      <td>263501050014630</td>\n      <td>26350105001463</td>\n      <td>2635010500</td>\n      <td>1463</td>\n      <td>0</td>\n      <td>158868</td>\n      <td>부산광역시</td>\n      <td>해운대구</td>\n      <td>우동</td>\n      <td>...</td>\n      <td>2635010500</td>\n      <td>1463</td>\n      <td>0</td>\n      <td>부산 해운대구 센텀7로 12(우동-1463)</td>\n      <td>공공</td>\n      <td>(재)APEC기후센터</td>\n      <td>APEC기후센터 전산실</td>\n      <td>-</td>\n      <td>-</td>\n      <td>NaN</td>\n    </tr>\n  </tbody>\n</table>\n<p>3 rows × 25 columns</p>\n</div>"
     },
     "execution_count": 3,
     "metadata": {},
     "output_type": "execute_result"
    }
   ],
   "source": [
    "df_3 = pd.merge(df, df_2, how='inner' , on='시군구법정동번지코드')\n",
    "\n",
    "df_3"
   ],
   "metadata": {
    "collapsed": false,
    "pycharm": {
     "name": "#%%\n"
    }
   }
  },
  {
   "cell_type": "code",
   "execution_count": 4,
   "outputs": [],
   "source": [
    "df_3.to_csv(\"부산광역시_전력사용량.csv\" , mode = 'w' , encoding= 'cp949')"
   ],
   "metadata": {
    "collapsed": false,
    "pycharm": {
     "name": "#%%\n"
    }
   }
  },
  {
   "cell_type": "code",
   "execution_count": null,
   "outputs": [],
   "source": [],
   "metadata": {
    "collapsed": false,
    "pycharm": {
     "name": "#%%\n"
    }
   }
  }
 ],
 "metadata": {
  "kernelspec": {
   "display_name": "Python 3",
   "language": "python",
   "name": "python3"
  },
  "language_info": {
   "codemirror_mode": {
    "name": "ipython",
    "version": 2
   },
   "file_extension": ".py",
   "mimetype": "text/x-python",
   "name": "python",
   "nbconvert_exporter": "python",
   "pygments_lexer": "ipython2",
   "version": "2.7.6"
  }
 },
 "nbformat": 4,
 "nbformat_minor": 0
}