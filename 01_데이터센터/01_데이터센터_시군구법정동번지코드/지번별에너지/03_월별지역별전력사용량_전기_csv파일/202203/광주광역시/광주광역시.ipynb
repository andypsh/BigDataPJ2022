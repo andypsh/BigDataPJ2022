{
 "cells": [
  {
   "cell_type": "code",
   "execution_count": 1,
   "metadata": {
    "collapsed": true,
    "pycharm": {
     "name": "#%%\n"
    }
   },
   "outputs": [
    {
     "data": {
      "text/plain": "   Unnamed: 0       시군구법정동번지코드      시군구법정동번코드    시군구법정동코드   본번  부번  사용량_KWH  \\\n0      355631   29200142005972  2920014200597  2920014200  597   2      290   \n1      355630  292001420030235  2920014200302  2920014200  302  35     1368   \n2      355629  292001420030234  2920014200302  2920014200  302  34       42   \n3      355628   29200142003011  2920014200301  2920014200  301   1     2421   \n4      355633    2920014300908   292001430090  2920014300   90   8      737   \n\n     시도명 시군구명 법정동명        새주소대로로코드 새주소대로로명  새주소본번 새주소부번  \n0  광주광역시  광산구  요기동  292004289089.0   동곡요기길   42.0  19.0  \n1  광주광역시  광산구  요기동  292004289088.0   동곡신기길    7.0   0.0  \n2  광주광역시  광산구  요기동  292004289088.0   동곡신기길   19.0   0.0  \n3  광주광역시  광산구  요기동  292003163058.0   평동산단로   59.0   0.0  \n4  광주광역시  광산구  복룡동  292003163008.0     동곡로  386.0   0.0  ",
      "text/html": "<div>\n<style scoped>\n    .dataframe tbody tr th:only-of-type {\n        vertical-align: middle;\n    }\n\n    .dataframe tbody tr th {\n        vertical-align: top;\n    }\n\n    .dataframe thead th {\n        text-align: right;\n    }\n</style>\n<table border=\"1\" class=\"dataframe\">\n  <thead>\n    <tr style=\"text-align: right;\">\n      <th></th>\n      <th>Unnamed: 0</th>\n      <th>시군구법정동번지코드</th>\n      <th>시군구법정동번코드</th>\n      <th>시군구법정동코드</th>\n      <th>본번</th>\n      <th>부번</th>\n      <th>사용량_KWH</th>\n      <th>시도명</th>\n      <th>시군구명</th>\n      <th>법정동명</th>\n      <th>새주소대로로코드</th>\n      <th>새주소대로로명</th>\n      <th>새주소본번</th>\n      <th>새주소부번</th>\n    </tr>\n  </thead>\n  <tbody>\n    <tr>\n      <th>0</th>\n      <td>355631</td>\n      <td>29200142005972</td>\n      <td>2920014200597</td>\n      <td>2920014200</td>\n      <td>597</td>\n      <td>2</td>\n      <td>290</td>\n      <td>광주광역시</td>\n      <td>광산구</td>\n      <td>요기동</td>\n      <td>292004289089.0</td>\n      <td>동곡요기길</td>\n      <td>42.0</td>\n      <td>19.0</td>\n    </tr>\n    <tr>\n      <th>1</th>\n      <td>355630</td>\n      <td>292001420030235</td>\n      <td>2920014200302</td>\n      <td>2920014200</td>\n      <td>302</td>\n      <td>35</td>\n      <td>1368</td>\n      <td>광주광역시</td>\n      <td>광산구</td>\n      <td>요기동</td>\n      <td>292004289088.0</td>\n      <td>동곡신기길</td>\n      <td>7.0</td>\n      <td>0.0</td>\n    </tr>\n    <tr>\n      <th>2</th>\n      <td>355629</td>\n      <td>292001420030234</td>\n      <td>2920014200302</td>\n      <td>2920014200</td>\n      <td>302</td>\n      <td>34</td>\n      <td>42</td>\n      <td>광주광역시</td>\n      <td>광산구</td>\n      <td>요기동</td>\n      <td>292004289088.0</td>\n      <td>동곡신기길</td>\n      <td>19.0</td>\n      <td>0.0</td>\n    </tr>\n    <tr>\n      <th>3</th>\n      <td>355628</td>\n      <td>29200142003011</td>\n      <td>2920014200301</td>\n      <td>2920014200</td>\n      <td>301</td>\n      <td>1</td>\n      <td>2421</td>\n      <td>광주광역시</td>\n      <td>광산구</td>\n      <td>요기동</td>\n      <td>292003163058.0</td>\n      <td>평동산단로</td>\n      <td>59.0</td>\n      <td>0.0</td>\n    </tr>\n    <tr>\n      <th>4</th>\n      <td>355633</td>\n      <td>2920014300908</td>\n      <td>292001430090</td>\n      <td>2920014300</td>\n      <td>90</td>\n      <td>8</td>\n      <td>737</td>\n      <td>광주광역시</td>\n      <td>광산구</td>\n      <td>복룡동</td>\n      <td>292003163008.0</td>\n      <td>동곡로</td>\n      <td>386.0</td>\n      <td>0.0</td>\n    </tr>\n  </tbody>\n</table>\n</div>"
     },
     "execution_count": 1,
     "metadata": {},
     "output_type": "execute_result"
    }
   ],
   "source": [
    "import pandas as pd\n",
    "\n",
    "\n",
    "df = pd.read_csv('광주광역시.csv' , encoding = 'cp949')\n",
    "df_2 = pd.read_csv('../../../../데이터센터정리.csv' , encoding = 'cp949')\n",
    "\n",
    "df = df.astype({'시군구법정동번지코드' : 'str',\n",
    "                '시군구법정동번코드' : 'str'})\n",
    "df.head()"
   ]
  },
  {
   "cell_type": "code",
   "execution_count": 2,
   "outputs": [
    {
     "data": {
      "text/plain": "         시군구법정동번지코드       시군구법정동번코드    시군구법정동코드     번   지  \\\n0   421301170018946  42130117001894  4213011700  1894   6   \n1  4213011700204710  42130117002047  4213011700  2047  14   \n2  4213011700204710  42130117002047  4213011700  2047  10   \n3   421103102210000  42110310221000  4211031022  1000   0   \n4    42110126006500   4211012600650  4211012600   650   0   \n\n                            주소  분류         기업                       이름  \\\n0    강원 원주시 건강로 32(반곡동 1894-6)  공공   국민건강보험공단           국민건강보험공단 데이터센터   \n1  강원 원주시 입춘로 130(반곡동 2047-14)  공공  건강보험심사평가원  건강보험심사평가원 ICT센터\\n (2사옥)   \n2   강원 원주시 혁신로 60(반곡동 2047-10)  공공  건강보험심사평가원  건강보험심사평가원 ICT센터\\n (1사옥)   \n3          강원 춘천시 동면 순환대로 1231  민간      NAVER              네이버 데이터센터 각   \n4          강원도 춘천시 옛경춘로 409-14  민간     오라클 춘천                   오라클 춘천   \n\n                        비고 임차여부  전력사용량  \n0               O 자체 데이터센터    -    NaN  \n1                        -    -    NaN  \n2                        -    -    NaN  \n3  수력 발전소 통해 전체 전력량 70% 수급    -    NaN  \n4                        -    -    NaN  ",
      "text/html": "<div>\n<style scoped>\n    .dataframe tbody tr th:only-of-type {\n        vertical-align: middle;\n    }\n\n    .dataframe tbody tr th {\n        vertical-align: top;\n    }\n\n    .dataframe thead th {\n        text-align: right;\n    }\n</style>\n<table border=\"1\" class=\"dataframe\">\n  <thead>\n    <tr style=\"text-align: right;\">\n      <th></th>\n      <th>시군구법정동번지코드</th>\n      <th>시군구법정동번코드</th>\n      <th>시군구법정동코드</th>\n      <th>번</th>\n      <th>지</th>\n      <th>주소</th>\n      <th>분류</th>\n      <th>기업</th>\n      <th>이름</th>\n      <th>비고</th>\n      <th>임차여부</th>\n      <th>전력사용량</th>\n    </tr>\n  </thead>\n  <tbody>\n    <tr>\n      <th>0</th>\n      <td>421301170018946</td>\n      <td>42130117001894</td>\n      <td>4213011700</td>\n      <td>1894</td>\n      <td>6</td>\n      <td>강원 원주시 건강로 32(반곡동 1894-6)</td>\n      <td>공공</td>\n      <td>국민건강보험공단</td>\n      <td>국민건강보험공단 데이터센터</td>\n      <td>O 자체 데이터센터</td>\n      <td>-</td>\n      <td>NaN</td>\n    </tr>\n    <tr>\n      <th>1</th>\n      <td>4213011700204710</td>\n      <td>42130117002047</td>\n      <td>4213011700</td>\n      <td>2047</td>\n      <td>14</td>\n      <td>강원 원주시 입춘로 130(반곡동 2047-14)</td>\n      <td>공공</td>\n      <td>건강보험심사평가원</td>\n      <td>건강보험심사평가원 ICT센터\\n (2사옥)</td>\n      <td>-</td>\n      <td>-</td>\n      <td>NaN</td>\n    </tr>\n    <tr>\n      <th>2</th>\n      <td>4213011700204710</td>\n      <td>42130117002047</td>\n      <td>4213011700</td>\n      <td>2047</td>\n      <td>10</td>\n      <td>강원 원주시 혁신로 60(반곡동 2047-10)</td>\n      <td>공공</td>\n      <td>건강보험심사평가원</td>\n      <td>건강보험심사평가원 ICT센터\\n (1사옥)</td>\n      <td>-</td>\n      <td>-</td>\n      <td>NaN</td>\n    </tr>\n    <tr>\n      <th>3</th>\n      <td>421103102210000</td>\n      <td>42110310221000</td>\n      <td>4211031022</td>\n      <td>1000</td>\n      <td>0</td>\n      <td>강원 춘천시 동면 순환대로 1231</td>\n      <td>민간</td>\n      <td>NAVER</td>\n      <td>네이버 데이터센터 각</td>\n      <td>수력 발전소 통해 전체 전력량 70% 수급</td>\n      <td>-</td>\n      <td>NaN</td>\n    </tr>\n    <tr>\n      <th>4</th>\n      <td>42110126006500</td>\n      <td>4211012600650</td>\n      <td>4211012600</td>\n      <td>650</td>\n      <td>0</td>\n      <td>강원도 춘천시 옛경춘로 409-14</td>\n      <td>민간</td>\n      <td>오라클 춘천</td>\n      <td>오라클 춘천</td>\n      <td>-</td>\n      <td>-</td>\n      <td>NaN</td>\n    </tr>\n  </tbody>\n</table>\n</div>"
     },
     "execution_count": 2,
     "metadata": {},
     "output_type": "execute_result"
    }
   ],
   "source": [
    "df_2.head()"
   ],
   "metadata": {
    "collapsed": false,
    "pycharm": {
     "name": "#%%\n"
    }
   }
  },
  {
   "cell_type": "code",
   "execution_count": 3,
   "outputs": [
    {
     "data": {
      "text/plain": "   Unnamed: 0       시군구법정동번지코드     시군구법정동번코드_x  시군구법정동코드_x    본번  부번  사용량_KWH  \\\n0      335286  292001090015982  29200109001598  2920010900  1598   2   228276   \n1      332882  291701410011107  29170141001110  2917014100  1110   7    65396   \n2      327015    2911011800319    291101180031  2911011800    31   9   426708   \n\n     시도명 시군구명 법정동명  ...  시군구법정동코드_y     번  지                              주소  \\\n0  광주광역시  광산구  우산동  ...  2920010900  1598  2              광주광역시 광산구 무진대로 262   \n1  광주광역시   북구  오룡동  ...  2917014100  1110  7                광주 북구 첨단과기로176번길   \n2  광주광역시   동구  서석동  ...  2911011800    31  9  광주광역시 동구 제봉로82번길 16 (서석동 31-9)   \n\n   분류              기업           이름          비고 임차여부 전력사용량  \n0  통신           LG U+   LG U+광주 센터        기타분류    -   NaN  \n1  민간  NHN\\n(광주시·행안부)  국가 AI 데이터센터  2023 준공 예정    -   NaN  \n2  통신              KT    KT 광주 IDC           -    -   NaN  \n\n[3 rows x 25 columns]",
      "text/html": "<div>\n<style scoped>\n    .dataframe tbody tr th:only-of-type {\n        vertical-align: middle;\n    }\n\n    .dataframe tbody tr th {\n        vertical-align: top;\n    }\n\n    .dataframe thead th {\n        text-align: right;\n    }\n</style>\n<table border=\"1\" class=\"dataframe\">\n  <thead>\n    <tr style=\"text-align: right;\">\n      <th></th>\n      <th>Unnamed: 0</th>\n      <th>시군구법정동번지코드</th>\n      <th>시군구법정동번코드_x</th>\n      <th>시군구법정동코드_x</th>\n      <th>본번</th>\n      <th>부번</th>\n      <th>사용량_KWH</th>\n      <th>시도명</th>\n      <th>시군구명</th>\n      <th>법정동명</th>\n      <th>...</th>\n      <th>시군구법정동코드_y</th>\n      <th>번</th>\n      <th>지</th>\n      <th>주소</th>\n      <th>분류</th>\n      <th>기업</th>\n      <th>이름</th>\n      <th>비고</th>\n      <th>임차여부</th>\n      <th>전력사용량</th>\n    </tr>\n  </thead>\n  <tbody>\n    <tr>\n      <th>0</th>\n      <td>335286</td>\n      <td>292001090015982</td>\n      <td>29200109001598</td>\n      <td>2920010900</td>\n      <td>1598</td>\n      <td>2</td>\n      <td>228276</td>\n      <td>광주광역시</td>\n      <td>광산구</td>\n      <td>우산동</td>\n      <td>...</td>\n      <td>2920010900</td>\n      <td>1598</td>\n      <td>2</td>\n      <td>광주광역시 광산구 무진대로 262</td>\n      <td>통신</td>\n      <td>LG U+</td>\n      <td>LG U+광주 센터</td>\n      <td>기타분류</td>\n      <td>-</td>\n      <td>NaN</td>\n    </tr>\n    <tr>\n      <th>1</th>\n      <td>332882</td>\n      <td>291701410011107</td>\n      <td>29170141001110</td>\n      <td>2917014100</td>\n      <td>1110</td>\n      <td>7</td>\n      <td>65396</td>\n      <td>광주광역시</td>\n      <td>북구</td>\n      <td>오룡동</td>\n      <td>...</td>\n      <td>2917014100</td>\n      <td>1110</td>\n      <td>7</td>\n      <td>광주 북구 첨단과기로176번길</td>\n      <td>민간</td>\n      <td>NHN\\n(광주시·행안부)</td>\n      <td>국가 AI 데이터센터</td>\n      <td>2023 준공 예정</td>\n      <td>-</td>\n      <td>NaN</td>\n    </tr>\n    <tr>\n      <th>2</th>\n      <td>327015</td>\n      <td>2911011800319</td>\n      <td>291101180031</td>\n      <td>2911011800</td>\n      <td>31</td>\n      <td>9</td>\n      <td>426708</td>\n      <td>광주광역시</td>\n      <td>동구</td>\n      <td>서석동</td>\n      <td>...</td>\n      <td>2911011800</td>\n      <td>31</td>\n      <td>9</td>\n      <td>광주광역시 동구 제봉로82번길 16 (서석동 31-9)</td>\n      <td>통신</td>\n      <td>KT</td>\n      <td>KT 광주 IDC</td>\n      <td>-</td>\n      <td>-</td>\n      <td>NaN</td>\n    </tr>\n  </tbody>\n</table>\n<p>3 rows × 25 columns</p>\n</div>"
     },
     "execution_count": 3,
     "metadata": {},
     "output_type": "execute_result"
    }
   ],
   "source": [
    "df_3 = pd.merge(df, df_2, how='inner' , on='시군구법정동번지코드')\n",
    "\n",
    "df_3"
   ],
   "metadata": {
    "collapsed": false,
    "pycharm": {
     "name": "#%%\n"
    }
   }
  },
  {
   "cell_type": "code",
   "execution_count": 4,
   "outputs": [],
   "source": [
    "df_3.to_csv(\"광주광역시_전력사용량.csv\" , mode = 'w' , encoding= 'cp949')"
   ],
   "metadata": {
    "collapsed": false,
    "pycharm": {
     "name": "#%%\n"
    }
   }
  },
  {
   "cell_type": "code",
   "execution_count": null,
   "outputs": [],
   "source": [],
   "metadata": {
    "collapsed": false,
    "pycharm": {
     "name": "#%%\n"
    }
   }
  }
 ],
 "metadata": {
  "kernelspec": {
   "display_name": "Python 3",
   "language": "python",
   "name": "python3"
  },
  "language_info": {
   "codemirror_mode": {
    "name": "ipython",
    "version": 2
   },
   "file_extension": ".py",
   "mimetype": "text/x-python",
   "name": "python",
   "nbconvert_exporter": "python",
   "pygments_lexer": "ipython2",
   "version": "2.7.6"
  }
 },
 "nbformat": 4,
 "nbformat_minor": 0
}