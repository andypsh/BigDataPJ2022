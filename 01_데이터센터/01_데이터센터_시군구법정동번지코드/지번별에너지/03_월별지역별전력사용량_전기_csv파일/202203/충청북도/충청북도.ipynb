{
 "cells": [
  {
   "cell_type": "code",
   "execution_count": 1,
   "metadata": {
    "collapsed": true,
    "pycharm": {
     "name": "#%%\n"
    }
   },
   "outputs": [
    {
     "data": {
      "text/plain": "   Unnamed: 0       시군구법정동번지코드      시군구법정동번코드    시군구법정동코드   본번  부번  사용량_KWH  \\\n0      804124   43770253213608  4377025321360  4377025321  360   8     3491   \n1      804144   43770253215571  4377025321557  4377025321  557   1     8798   \n2      804121   43770253212941  4377025321294  4377025321  294   1      589   \n3      804143   43770253215553  4377025321555  4377025321  555   3      563   \n4      804142  437702532155125  4377025321551  4377025321  551  25     4169   \n\n    시도명 시군구명     법정동명        새주소대로로코드   새주소대로로명   새주소본번 새주소부번  \n0  충청북도  음성군  금왕읍 무극리  437703247002.0       금석로   125.0   0.0  \n1  충청북도  음성군  금왕읍 무극리  437703014058.0       대금로  1383.0   0.0  \n2  충청북도  음성군  금왕읍 무극리  437704541214.0  무극로309번길    27.0   0.0  \n3  충청북도  음성군  금왕읍 무극리               -         -       -     -  \n4  충청북도  음성군  금왕읍 무극리  437703014058.0       대금로  1421.0   0.0  ",
      "text/html": "<div>\n<style scoped>\n    .dataframe tbody tr th:only-of-type {\n        vertical-align: middle;\n    }\n\n    .dataframe tbody tr th {\n        vertical-align: top;\n    }\n\n    .dataframe thead th {\n        text-align: right;\n    }\n</style>\n<table border=\"1\" class=\"dataframe\">\n  <thead>\n    <tr style=\"text-align: right;\">\n      <th></th>\n      <th>Unnamed: 0</th>\n      <th>시군구법정동번지코드</th>\n      <th>시군구법정동번코드</th>\n      <th>시군구법정동코드</th>\n      <th>본번</th>\n      <th>부번</th>\n      <th>사용량_KWH</th>\n      <th>시도명</th>\n      <th>시군구명</th>\n      <th>법정동명</th>\n      <th>새주소대로로코드</th>\n      <th>새주소대로로명</th>\n      <th>새주소본번</th>\n      <th>새주소부번</th>\n    </tr>\n  </thead>\n  <tbody>\n    <tr>\n      <th>0</th>\n      <td>804124</td>\n      <td>43770253213608</td>\n      <td>4377025321360</td>\n      <td>4377025321</td>\n      <td>360</td>\n      <td>8</td>\n      <td>3491</td>\n      <td>충청북도</td>\n      <td>음성군</td>\n      <td>금왕읍 무극리</td>\n      <td>437703247002.0</td>\n      <td>금석로</td>\n      <td>125.0</td>\n      <td>0.0</td>\n    </tr>\n    <tr>\n      <th>1</th>\n      <td>804144</td>\n      <td>43770253215571</td>\n      <td>4377025321557</td>\n      <td>4377025321</td>\n      <td>557</td>\n      <td>1</td>\n      <td>8798</td>\n      <td>충청북도</td>\n      <td>음성군</td>\n      <td>금왕읍 무극리</td>\n      <td>437703014058.0</td>\n      <td>대금로</td>\n      <td>1383.0</td>\n      <td>0.0</td>\n    </tr>\n    <tr>\n      <th>2</th>\n      <td>804121</td>\n      <td>43770253212941</td>\n      <td>4377025321294</td>\n      <td>4377025321</td>\n      <td>294</td>\n      <td>1</td>\n      <td>589</td>\n      <td>충청북도</td>\n      <td>음성군</td>\n      <td>금왕읍 무극리</td>\n      <td>437704541214.0</td>\n      <td>무극로309번길</td>\n      <td>27.0</td>\n      <td>0.0</td>\n    </tr>\n    <tr>\n      <th>3</th>\n      <td>804143</td>\n      <td>43770253215553</td>\n      <td>4377025321555</td>\n      <td>4377025321</td>\n      <td>555</td>\n      <td>3</td>\n      <td>563</td>\n      <td>충청북도</td>\n      <td>음성군</td>\n      <td>금왕읍 무극리</td>\n      <td>-</td>\n      <td>-</td>\n      <td>-</td>\n      <td>-</td>\n    </tr>\n    <tr>\n      <th>4</th>\n      <td>804142</td>\n      <td>437702532155125</td>\n      <td>4377025321551</td>\n      <td>4377025321</td>\n      <td>551</td>\n      <td>25</td>\n      <td>4169</td>\n      <td>충청북도</td>\n      <td>음성군</td>\n      <td>금왕읍 무극리</td>\n      <td>437703014058.0</td>\n      <td>대금로</td>\n      <td>1421.0</td>\n      <td>0.0</td>\n    </tr>\n  </tbody>\n</table>\n</div>"
     },
     "execution_count": 1,
     "metadata": {},
     "output_type": "execute_result"
    }
   ],
   "source": [
    "import pandas as pd\n",
    "\n",
    "\n",
    "df = pd.read_csv('충청북도.csv' , encoding = 'cp949')\n",
    "df_2 = pd.read_csv('../../../../데이터센터정리.csv' , encoding = 'cp949')\n",
    "\n",
    "df = df.astype({'시군구법정동번지코드' : 'str',\n",
    "                '시군구법정동번코드' : 'str'})\n",
    "df.head()"
   ]
  },
  {
   "cell_type": "code",
   "execution_count": 2,
   "outputs": [
    {
     "data": {
      "text/plain": "         시군구법정동번지코드       시군구법정동번코드    시군구법정동코드     번   지  \\\n0   421301170018946  42130117001894  4213011700  1894   6   \n1  4213011700204710  42130117002047  4213011700  2047  14   \n2  4213011700204710  42130117002047  4213011700  2047  10   \n3   421103102210000  42110310221000  4211031022  1000   0   \n4    42110126006500   4211012600650  4211012600   650   0   \n\n                            주소  분류         기업                       이름  \\\n0    강원 원주시 건강로 32(반곡동 1894-6)  공공   국민건강보험공단           국민건강보험공단 데이터센터   \n1  강원 원주시 입춘로 130(반곡동 2047-14)  공공  건강보험심사평가원  건강보험심사평가원 ICT센터\\n (2사옥)   \n2   강원 원주시 혁신로 60(반곡동 2047-10)  공공  건강보험심사평가원  건강보험심사평가원 ICT센터\\n (1사옥)   \n3          강원 춘천시 동면 순환대로 1231  민간      NAVER              네이버 데이터센터 각   \n4          강원도 춘천시 옛경춘로 409-14  민간     오라클 춘천                   오라클 춘천   \n\n                        비고 임차여부  전력사용량  \n0               O 자체 데이터센터    -    NaN  \n1                        -    -    NaN  \n2                        -    -    NaN  \n3  수력 발전소 통해 전체 전력량 70% 수급    -    NaN  \n4                        -    -    NaN  ",
      "text/html": "<div>\n<style scoped>\n    .dataframe tbody tr th:only-of-type {\n        vertical-align: middle;\n    }\n\n    .dataframe tbody tr th {\n        vertical-align: top;\n    }\n\n    .dataframe thead th {\n        text-align: right;\n    }\n</style>\n<table border=\"1\" class=\"dataframe\">\n  <thead>\n    <tr style=\"text-align: right;\">\n      <th></th>\n      <th>시군구법정동번지코드</th>\n      <th>시군구법정동번코드</th>\n      <th>시군구법정동코드</th>\n      <th>번</th>\n      <th>지</th>\n      <th>주소</th>\n      <th>분류</th>\n      <th>기업</th>\n      <th>이름</th>\n      <th>비고</th>\n      <th>임차여부</th>\n      <th>전력사용량</th>\n    </tr>\n  </thead>\n  <tbody>\n    <tr>\n      <th>0</th>\n      <td>421301170018946</td>\n      <td>42130117001894</td>\n      <td>4213011700</td>\n      <td>1894</td>\n      <td>6</td>\n      <td>강원 원주시 건강로 32(반곡동 1894-6)</td>\n      <td>공공</td>\n      <td>국민건강보험공단</td>\n      <td>국민건강보험공단 데이터센터</td>\n      <td>O 자체 데이터센터</td>\n      <td>-</td>\n      <td>NaN</td>\n    </tr>\n    <tr>\n      <th>1</th>\n      <td>4213011700204710</td>\n      <td>42130117002047</td>\n      <td>4213011700</td>\n      <td>2047</td>\n      <td>14</td>\n      <td>강원 원주시 입춘로 130(반곡동 2047-14)</td>\n      <td>공공</td>\n      <td>건강보험심사평가원</td>\n      <td>건강보험심사평가원 ICT센터\\n (2사옥)</td>\n      <td>-</td>\n      <td>-</td>\n      <td>NaN</td>\n    </tr>\n    <tr>\n      <th>2</th>\n      <td>4213011700204710</td>\n      <td>42130117002047</td>\n      <td>4213011700</td>\n      <td>2047</td>\n      <td>10</td>\n      <td>강원 원주시 혁신로 60(반곡동 2047-10)</td>\n      <td>공공</td>\n      <td>건강보험심사평가원</td>\n      <td>건강보험심사평가원 ICT센터\\n (1사옥)</td>\n      <td>-</td>\n      <td>-</td>\n      <td>NaN</td>\n    </tr>\n    <tr>\n      <th>3</th>\n      <td>421103102210000</td>\n      <td>42110310221000</td>\n      <td>4211031022</td>\n      <td>1000</td>\n      <td>0</td>\n      <td>강원 춘천시 동면 순환대로 1231</td>\n      <td>민간</td>\n      <td>NAVER</td>\n      <td>네이버 데이터센터 각</td>\n      <td>수력 발전소 통해 전체 전력량 70% 수급</td>\n      <td>-</td>\n      <td>NaN</td>\n    </tr>\n    <tr>\n      <th>4</th>\n      <td>42110126006500</td>\n      <td>4211012600650</td>\n      <td>4211012600</td>\n      <td>650</td>\n      <td>0</td>\n      <td>강원도 춘천시 옛경춘로 409-14</td>\n      <td>민간</td>\n      <td>오라클 춘천</td>\n      <td>오라클 춘천</td>\n      <td>-</td>\n      <td>-</td>\n      <td>NaN</td>\n    </tr>\n  </tbody>\n</table>\n</div>"
     },
     "execution_count": 2,
     "metadata": {},
     "output_type": "execute_result"
    }
   ],
   "source": [
    "df_2.head()"
   ],
   "metadata": {
    "collapsed": false,
    "pycharm": {
     "name": "#%%\n"
    }
   }
  },
  {
   "cell_type": "code",
   "execution_count": 3,
   "outputs": [
    {
     "data": {
      "text/plain": "   Unnamed: 0       시군구법정동번지코드     시군구법정동번코드_x  시군구법정동코드_x    본번  부번  사용량_KWH  \\\n0      768429  431121060013900  43112106001390  4311210600  1390   0   585036   \n1      819033  437703302814450  43770330281445  4377033028  1445   0     1927   \n\n    시도명     시군구명     법정동명  ...  시군구법정동코드_y     번  지  \\\n0  충청북도  청주시 서원구      분평동  ...  4311210600  1390  0   \n1  충청북도      음성군  맹동면 두성리  ...  4377033028  1445  0   \n\n                                       주소  분류       기업           이름 비고 임차여부  \\\n0  충청북도 청주시 서원구 1순환로 1063번길 12 (분평동 1390)  통신       KT    KT 청주 IDC  -    -   \n1                충북 음성군 맹동면 태정로 6 한국고용정보원  공공  한국고용정보원  한국고용정보원 전산실  -    -   \n\n  전력사용량  \n0   NaN  \n1   NaN  \n\n[2 rows x 25 columns]",
      "text/html": "<div>\n<style scoped>\n    .dataframe tbody tr th:only-of-type {\n        vertical-align: middle;\n    }\n\n    .dataframe tbody tr th {\n        vertical-align: top;\n    }\n\n    .dataframe thead th {\n        text-align: right;\n    }\n</style>\n<table border=\"1\" class=\"dataframe\">\n  <thead>\n    <tr style=\"text-align: right;\">\n      <th></th>\n      <th>Unnamed: 0</th>\n      <th>시군구법정동번지코드</th>\n      <th>시군구법정동번코드_x</th>\n      <th>시군구법정동코드_x</th>\n      <th>본번</th>\n      <th>부번</th>\n      <th>사용량_KWH</th>\n      <th>시도명</th>\n      <th>시군구명</th>\n      <th>법정동명</th>\n      <th>...</th>\n      <th>시군구법정동코드_y</th>\n      <th>번</th>\n      <th>지</th>\n      <th>주소</th>\n      <th>분류</th>\n      <th>기업</th>\n      <th>이름</th>\n      <th>비고</th>\n      <th>임차여부</th>\n      <th>전력사용량</th>\n    </tr>\n  </thead>\n  <tbody>\n    <tr>\n      <th>0</th>\n      <td>768429</td>\n      <td>431121060013900</td>\n      <td>43112106001390</td>\n      <td>4311210600</td>\n      <td>1390</td>\n      <td>0</td>\n      <td>585036</td>\n      <td>충청북도</td>\n      <td>청주시 서원구</td>\n      <td>분평동</td>\n      <td>...</td>\n      <td>4311210600</td>\n      <td>1390</td>\n      <td>0</td>\n      <td>충청북도 청주시 서원구 1순환로 1063번길 12 (분평동 1390)</td>\n      <td>통신</td>\n      <td>KT</td>\n      <td>KT 청주 IDC</td>\n      <td>-</td>\n      <td>-</td>\n      <td>NaN</td>\n    </tr>\n    <tr>\n      <th>1</th>\n      <td>819033</td>\n      <td>437703302814450</td>\n      <td>43770330281445</td>\n      <td>4377033028</td>\n      <td>1445</td>\n      <td>0</td>\n      <td>1927</td>\n      <td>충청북도</td>\n      <td>음성군</td>\n      <td>맹동면 두성리</td>\n      <td>...</td>\n      <td>4377033028</td>\n      <td>1445</td>\n      <td>0</td>\n      <td>충북 음성군 맹동면 태정로 6 한국고용정보원</td>\n      <td>공공</td>\n      <td>한국고용정보원</td>\n      <td>한국고용정보원 전산실</td>\n      <td>-</td>\n      <td>-</td>\n      <td>NaN</td>\n    </tr>\n  </tbody>\n</table>\n<p>2 rows × 25 columns</p>\n</div>"
     },
     "execution_count": 3,
     "metadata": {},
     "output_type": "execute_result"
    }
   ],
   "source": [
    "df_3 = pd.merge(df, df_2, how='inner' , on='시군구법정동번지코드')\n",
    "\n",
    "df_3"
   ],
   "metadata": {
    "collapsed": false,
    "pycharm": {
     "name": "#%%\n"
    }
   }
  },
  {
   "cell_type": "code",
   "execution_count": 4,
   "outputs": [],
   "source": [
    "df_3.to_csv(\"충청북도_전력사용량.csv\" , mode = 'w' , encoding= 'cp949')"
   ],
   "metadata": {
    "collapsed": false,
    "pycharm": {
     "name": "#%%\n"
    }
   }
  },
  {
   "cell_type": "code",
   "execution_count": null,
   "outputs": [],
   "source": [],
   "metadata": {
    "collapsed": false,
    "pycharm": {
     "name": "#%%\n"
    }
   }
  }
 ],
 "metadata": {
  "kernelspec": {
   "display_name": "Python 3",
   "language": "python",
   "name": "python3"
  },
  "language_info": {
   "codemirror_mode": {
    "name": "ipython",
    "version": 2
   },
   "file_extension": ".py",
   "mimetype": "text/x-python",
   "name": "python",
   "nbconvert_exporter": "python",
   "pygments_lexer": "ipython2",
   "version": "2.7.6"
  }
 },
 "nbformat": 4,
 "nbformat_minor": 0
}