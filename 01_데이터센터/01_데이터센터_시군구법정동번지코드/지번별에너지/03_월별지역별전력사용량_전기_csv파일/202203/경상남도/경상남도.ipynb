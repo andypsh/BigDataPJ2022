{
 "cells": [
  {
   "cell_type": "code",
   "execution_count": 1,
   "metadata": {
    "collapsed": true,
    "pycharm": {
     "name": "#%%\n"
    }
   },
   "outputs": [
    {
     "data": {
      "text/plain": "   Unnamed: 0       시군구법정동번지코드      시군구법정동번코드    시군구법정동코드   본번  부번  사용량_KWH  \\\n0     1284787  483301030068813  4833010300688  4833010300  688  13    15578   \n1     1284786   48330103006856  4833010300685  4833010300  685   6    65800   \n2     1284788  483301030068816  4833010300688  4833010300  688  16     4453   \n3     1284789  483301030068817  4833010300688  4833010300  688  17    15328   \n4     1284795  483301030069111  4833010300691  4833010300  691  11     8154   \n\n    시도명 시군구명 법정동명        새주소대로로코드 새주소대로로명  새주소본번 새주소부번  \n0  경상남도  양산시  중부동  483304814602.0   양산역9길    9.0   0.0  \n1  경상남도  양산시  중부동  483303338003.0     강변로  440.0   0.0  \n2  경상남도  양산시  중부동  483304814602.0   양산역9길   17.0   0.0  \n3  경상남도  양산시  중부동  483303338074.0     중부로   16.0   0.0  \n4  경상남도  양산시  중부동  483304814597.0   양산역4길    3.0   0.0  ",
      "text/html": "<div>\n<style scoped>\n    .dataframe tbody tr th:only-of-type {\n        vertical-align: middle;\n    }\n\n    .dataframe tbody tr th {\n        vertical-align: top;\n    }\n\n    .dataframe thead th {\n        text-align: right;\n    }\n</style>\n<table border=\"1\" class=\"dataframe\">\n  <thead>\n    <tr style=\"text-align: right;\">\n      <th></th>\n      <th>Unnamed: 0</th>\n      <th>시군구법정동번지코드</th>\n      <th>시군구법정동번코드</th>\n      <th>시군구법정동코드</th>\n      <th>본번</th>\n      <th>부번</th>\n      <th>사용량_KWH</th>\n      <th>시도명</th>\n      <th>시군구명</th>\n      <th>법정동명</th>\n      <th>새주소대로로코드</th>\n      <th>새주소대로로명</th>\n      <th>새주소본번</th>\n      <th>새주소부번</th>\n    </tr>\n  </thead>\n  <tbody>\n    <tr>\n      <th>0</th>\n      <td>1284787</td>\n      <td>483301030068813</td>\n      <td>4833010300688</td>\n      <td>4833010300</td>\n      <td>688</td>\n      <td>13</td>\n      <td>15578</td>\n      <td>경상남도</td>\n      <td>양산시</td>\n      <td>중부동</td>\n      <td>483304814602.0</td>\n      <td>양산역9길</td>\n      <td>9.0</td>\n      <td>0.0</td>\n    </tr>\n    <tr>\n      <th>1</th>\n      <td>1284786</td>\n      <td>48330103006856</td>\n      <td>4833010300685</td>\n      <td>4833010300</td>\n      <td>685</td>\n      <td>6</td>\n      <td>65800</td>\n      <td>경상남도</td>\n      <td>양산시</td>\n      <td>중부동</td>\n      <td>483303338003.0</td>\n      <td>강변로</td>\n      <td>440.0</td>\n      <td>0.0</td>\n    </tr>\n    <tr>\n      <th>2</th>\n      <td>1284788</td>\n      <td>483301030068816</td>\n      <td>4833010300688</td>\n      <td>4833010300</td>\n      <td>688</td>\n      <td>16</td>\n      <td>4453</td>\n      <td>경상남도</td>\n      <td>양산시</td>\n      <td>중부동</td>\n      <td>483304814602.0</td>\n      <td>양산역9길</td>\n      <td>17.0</td>\n      <td>0.0</td>\n    </tr>\n    <tr>\n      <th>3</th>\n      <td>1284789</td>\n      <td>483301030068817</td>\n      <td>4833010300688</td>\n      <td>4833010300</td>\n      <td>688</td>\n      <td>17</td>\n      <td>15328</td>\n      <td>경상남도</td>\n      <td>양산시</td>\n      <td>중부동</td>\n      <td>483303338074.0</td>\n      <td>중부로</td>\n      <td>16.0</td>\n      <td>0.0</td>\n    </tr>\n    <tr>\n      <th>4</th>\n      <td>1284795</td>\n      <td>483301030069111</td>\n      <td>4833010300691</td>\n      <td>4833010300</td>\n      <td>691</td>\n      <td>11</td>\n      <td>8154</td>\n      <td>경상남도</td>\n      <td>양산시</td>\n      <td>중부동</td>\n      <td>483304814597.0</td>\n      <td>양산역4길</td>\n      <td>3.0</td>\n      <td>0.0</td>\n    </tr>\n  </tbody>\n</table>\n</div>"
     },
     "execution_count": 1,
     "metadata": {},
     "output_type": "execute_result"
    }
   ],
   "source": [
    "import pandas as pd\n",
    "\n",
    "\n",
    "df = pd.read_csv('경상남도.csv' , encoding = 'cp949')\n",
    "df_2 = pd.read_csv('../../../../데이터센터정리.csv' , encoding = 'cp949')\n",
    "\n",
    "df = df.astype({'시군구법정동번지코드' : 'str',\n",
    "                '시군구법정동번코드' : 'str'})\n",
    "df.head()"
   ]
  },
  {
   "cell_type": "code",
   "execution_count": 2,
   "outputs": [
    {
     "data": {
      "text/plain": "         시군구법정동번지코드       시군구법정동번코드    시군구법정동코드     번   지  \\\n0   421301170018946  42130117001894  4213011700  1894   6   \n1  4213011700204710  42130117002047  4213011700  2047  14   \n2  4213011700204710  42130117002047  4213011700  2047  10   \n3   421103102210000  42110310221000  4211031022  1000   0   \n4    42110126006500   4211012600650  4211012600   650   0   \n\n                            주소  분류         기업                       이름  \\\n0    강원 원주시 건강로 32(반곡동 1894-6)  공공   국민건강보험공단           국민건강보험공단 데이터센터   \n1  강원 원주시 입춘로 130(반곡동 2047-14)  공공  건강보험심사평가원  건강보험심사평가원 ICT센터\\n (2사옥)   \n2   강원 원주시 혁신로 60(반곡동 2047-10)  공공  건강보험심사평가원  건강보험심사평가원 ICT센터\\n (1사옥)   \n3          강원 춘천시 동면 순환대로 1231  민간      NAVER              네이버 데이터센터 각   \n4          강원도 춘천시 옛경춘로 409-14  민간     오라클 춘천                   오라클 춘천   \n\n                        비고 임차여부  전력사용량  \n0               O 자체 데이터센터    -    NaN  \n1                        -    -    NaN  \n2                        -    -    NaN  \n3  수력 발전소 통해 전체 전력량 70% 수급    -    NaN  \n4                        -    -    NaN  ",
      "text/html": "<div>\n<style scoped>\n    .dataframe tbody tr th:only-of-type {\n        vertical-align: middle;\n    }\n\n    .dataframe tbody tr th {\n        vertical-align: top;\n    }\n\n    .dataframe thead th {\n        text-align: right;\n    }\n</style>\n<table border=\"1\" class=\"dataframe\">\n  <thead>\n    <tr style=\"text-align: right;\">\n      <th></th>\n      <th>시군구법정동번지코드</th>\n      <th>시군구법정동번코드</th>\n      <th>시군구법정동코드</th>\n      <th>번</th>\n      <th>지</th>\n      <th>주소</th>\n      <th>분류</th>\n      <th>기업</th>\n      <th>이름</th>\n      <th>비고</th>\n      <th>임차여부</th>\n      <th>전력사용량</th>\n    </tr>\n  </thead>\n  <tbody>\n    <tr>\n      <th>0</th>\n      <td>421301170018946</td>\n      <td>42130117001894</td>\n      <td>4213011700</td>\n      <td>1894</td>\n      <td>6</td>\n      <td>강원 원주시 건강로 32(반곡동 1894-6)</td>\n      <td>공공</td>\n      <td>국민건강보험공단</td>\n      <td>국민건강보험공단 데이터센터</td>\n      <td>O 자체 데이터센터</td>\n      <td>-</td>\n      <td>NaN</td>\n    </tr>\n    <tr>\n      <th>1</th>\n      <td>4213011700204710</td>\n      <td>42130117002047</td>\n      <td>4213011700</td>\n      <td>2047</td>\n      <td>14</td>\n      <td>강원 원주시 입춘로 130(반곡동 2047-14)</td>\n      <td>공공</td>\n      <td>건강보험심사평가원</td>\n      <td>건강보험심사평가원 ICT센터\\n (2사옥)</td>\n      <td>-</td>\n      <td>-</td>\n      <td>NaN</td>\n    </tr>\n    <tr>\n      <th>2</th>\n      <td>4213011700204710</td>\n      <td>42130117002047</td>\n      <td>4213011700</td>\n      <td>2047</td>\n      <td>10</td>\n      <td>강원 원주시 혁신로 60(반곡동 2047-10)</td>\n      <td>공공</td>\n      <td>건강보험심사평가원</td>\n      <td>건강보험심사평가원 ICT센터\\n (1사옥)</td>\n      <td>-</td>\n      <td>-</td>\n      <td>NaN</td>\n    </tr>\n    <tr>\n      <th>3</th>\n      <td>421103102210000</td>\n      <td>42110310221000</td>\n      <td>4211031022</td>\n      <td>1000</td>\n      <td>0</td>\n      <td>강원 춘천시 동면 순환대로 1231</td>\n      <td>민간</td>\n      <td>NAVER</td>\n      <td>네이버 데이터센터 각</td>\n      <td>수력 발전소 통해 전체 전력량 70% 수급</td>\n      <td>-</td>\n      <td>NaN</td>\n    </tr>\n    <tr>\n      <th>4</th>\n      <td>42110126006500</td>\n      <td>4211012600650</td>\n      <td>4211012600</td>\n      <td>650</td>\n      <td>0</td>\n      <td>강원도 춘천시 옛경춘로 409-14</td>\n      <td>민간</td>\n      <td>오라클 춘천</td>\n      <td>오라클 춘천</td>\n      <td>-</td>\n      <td>-</td>\n      <td>NaN</td>\n    </tr>\n  </tbody>\n</table>\n</div>"
     },
     "execution_count": 2,
     "metadata": {},
     "output_type": "execute_result"
    }
   ],
   "source": [
    "df_2.head()"
   ],
   "metadata": {
    "collapsed": false,
    "pycharm": {
     "name": "#%%\n"
    }
   }
  },
  {
   "cell_type": "code",
   "execution_count": 3,
   "outputs": [
    {
     "data": {
      "text/plain": "   Unnamed: 0      시군구법정동번지코드    시군구법정동번코드_x  시군구법정동코드_x   본번  부번  사용량_KWH  \\\n0     1242666  48170137002258  4817013700225  4817013700  225   8    20733   \n\n    시도명 시군구명  법정동명  ...  시군구법정동코드_y    번  지                     주소  분류  \\\n0  경상남도  진주시  충무공동  ...  4817013700  225  8  경남 진주시 사들로 137 주택관리공단  공공   \n\n          기업          이름 비고 임차여부 전력사용량  \n0  주택관리공단(주)  주택관리공단 서버실  -    -   NaN  \n\n[1 rows x 25 columns]",
      "text/html": "<div>\n<style scoped>\n    .dataframe tbody tr th:only-of-type {\n        vertical-align: middle;\n    }\n\n    .dataframe tbody tr th {\n        vertical-align: top;\n    }\n\n    .dataframe thead th {\n        text-align: right;\n    }\n</style>\n<table border=\"1\" class=\"dataframe\">\n  <thead>\n    <tr style=\"text-align: right;\">\n      <th></th>\n      <th>Unnamed: 0</th>\n      <th>시군구법정동번지코드</th>\n      <th>시군구법정동번코드_x</th>\n      <th>시군구법정동코드_x</th>\n      <th>본번</th>\n      <th>부번</th>\n      <th>사용량_KWH</th>\n      <th>시도명</th>\n      <th>시군구명</th>\n      <th>법정동명</th>\n      <th>...</th>\n      <th>시군구법정동코드_y</th>\n      <th>번</th>\n      <th>지</th>\n      <th>주소</th>\n      <th>분류</th>\n      <th>기업</th>\n      <th>이름</th>\n      <th>비고</th>\n      <th>임차여부</th>\n      <th>전력사용량</th>\n    </tr>\n  </thead>\n  <tbody>\n    <tr>\n      <th>0</th>\n      <td>1242666</td>\n      <td>48170137002258</td>\n      <td>4817013700225</td>\n      <td>4817013700</td>\n      <td>225</td>\n      <td>8</td>\n      <td>20733</td>\n      <td>경상남도</td>\n      <td>진주시</td>\n      <td>충무공동</td>\n      <td>...</td>\n      <td>4817013700</td>\n      <td>225</td>\n      <td>8</td>\n      <td>경남 진주시 사들로 137 주택관리공단</td>\n      <td>공공</td>\n      <td>주택관리공단(주)</td>\n      <td>주택관리공단 서버실</td>\n      <td>-</td>\n      <td>-</td>\n      <td>NaN</td>\n    </tr>\n  </tbody>\n</table>\n<p>1 rows × 25 columns</p>\n</div>"
     },
     "execution_count": 3,
     "metadata": {},
     "output_type": "execute_result"
    }
   ],
   "source": [
    "df_3 = pd.merge(df, df_2, how='inner' , on='시군구법정동번지코드')\n",
    "\n",
    "df_3"
   ],
   "metadata": {
    "collapsed": false,
    "pycharm": {
     "name": "#%%\n"
    }
   }
  },
  {
   "cell_type": "code",
   "execution_count": 4,
   "outputs": [],
   "source": [
    "df_3.to_csv(\"경상남도_전력사용량.csv\" , mode = 'w' , encoding= 'cp949')"
   ],
   "metadata": {
    "collapsed": false,
    "pycharm": {
     "name": "#%%\n"
    }
   }
  },
  {
   "cell_type": "code",
   "execution_count": null,
   "outputs": [],
   "source": [],
   "metadata": {
    "collapsed": false,
    "pycharm": {
     "name": "#%%\n"
    }
   }
  }
 ],
 "metadata": {
  "kernelspec": {
   "display_name": "Python 3",
   "language": "python",
   "name": "python3"
  },
  "language_info": {
   "codemirror_mode": {
    "name": "ipython",
    "version": 2
   },
   "file_extension": ".py",
   "mimetype": "text/x-python",
   "name": "python",
   "nbconvert_exporter": "python",
   "pygments_lexer": "ipython2",
   "version": "2.7.6"
  }
 },
 "nbformat": 4,
 "nbformat_minor": 0
}