{
 "cells": [
  {
   "cell_type": "code",
   "execution_count": 1,
   "metadata": {
    "collapsed": true,
    "pycharm": {
     "name": "#%%\n"
    }
   },
   "outputs": [
    {
     "data": {
      "text/plain": "   Unnamed: 0       시군구법정동번지코드      시군구법정동번코드    시군구법정동코드   본번  부번  사용량_KWH  \\\n0      407940    4111512700940   411151270094  4111512700   94   0     2198   \n1      479530   41250103003780  4125010300378  4125010300  378   0     3795   \n2      479531  412501030038519  4125010300385  4125010300  385  19      246   \n3      479532   41250103003864  4125010300386  4125010300  386   4     2015   \n4      549179  414801010077610  4148010100776  4148010100  776  10      628   \n\n   시도명     시군구명 법정동명        새주소대로로코드     새주소대로로명  새주소본번 새주소부번  \n0  경기도  수원시 팔달구  남수동  411154328335.0    창룡대로26번길   42.0   7.0  \n1  경기도     동두천시  생연동  412503012028.0        삼육사로  991.0   0.0  \n2  경기도     동두천시  생연동  412504367054.0  삼육사로1002번길    5.0   0.0  \n3  경기도     동두천시  생연동               -           -      -     -  \n4  경기도      파주시  금촌동  414804418086.0        금정4길   35.0   0.0  ",
      "text/html": "<div>\n<style scoped>\n    .dataframe tbody tr th:only-of-type {\n        vertical-align: middle;\n    }\n\n    .dataframe tbody tr th {\n        vertical-align: top;\n    }\n\n    .dataframe thead th {\n        text-align: right;\n    }\n</style>\n<table border=\"1\" class=\"dataframe\">\n  <thead>\n    <tr style=\"text-align: right;\">\n      <th></th>\n      <th>Unnamed: 0</th>\n      <th>시군구법정동번지코드</th>\n      <th>시군구법정동번코드</th>\n      <th>시군구법정동코드</th>\n      <th>본번</th>\n      <th>부번</th>\n      <th>사용량_KWH</th>\n      <th>시도명</th>\n      <th>시군구명</th>\n      <th>법정동명</th>\n      <th>새주소대로로코드</th>\n      <th>새주소대로로명</th>\n      <th>새주소본번</th>\n      <th>새주소부번</th>\n    </tr>\n  </thead>\n  <tbody>\n    <tr>\n      <th>0</th>\n      <td>407940</td>\n      <td>4111512700940</td>\n      <td>411151270094</td>\n      <td>4111512700</td>\n      <td>94</td>\n      <td>0</td>\n      <td>2198</td>\n      <td>경기도</td>\n      <td>수원시 팔달구</td>\n      <td>남수동</td>\n      <td>411154328335.0</td>\n      <td>창룡대로26번길</td>\n      <td>42.0</td>\n      <td>7.0</td>\n    </tr>\n    <tr>\n      <th>1</th>\n      <td>479530</td>\n      <td>41250103003780</td>\n      <td>4125010300378</td>\n      <td>4125010300</td>\n      <td>378</td>\n      <td>0</td>\n      <td>3795</td>\n      <td>경기도</td>\n      <td>동두천시</td>\n      <td>생연동</td>\n      <td>412503012028.0</td>\n      <td>삼육사로</td>\n      <td>991.0</td>\n      <td>0.0</td>\n    </tr>\n    <tr>\n      <th>2</th>\n      <td>479531</td>\n      <td>412501030038519</td>\n      <td>4125010300385</td>\n      <td>4125010300</td>\n      <td>385</td>\n      <td>19</td>\n      <td>246</td>\n      <td>경기도</td>\n      <td>동두천시</td>\n      <td>생연동</td>\n      <td>412504367054.0</td>\n      <td>삼육사로1002번길</td>\n      <td>5.0</td>\n      <td>0.0</td>\n    </tr>\n    <tr>\n      <th>3</th>\n      <td>479532</td>\n      <td>41250103003864</td>\n      <td>4125010300386</td>\n      <td>4125010300</td>\n      <td>386</td>\n      <td>4</td>\n      <td>2015</td>\n      <td>경기도</td>\n      <td>동두천시</td>\n      <td>생연동</td>\n      <td>-</td>\n      <td>-</td>\n      <td>-</td>\n      <td>-</td>\n    </tr>\n    <tr>\n      <th>4</th>\n      <td>549179</td>\n      <td>414801010077610</td>\n      <td>4148010100776</td>\n      <td>4148010100</td>\n      <td>776</td>\n      <td>10</td>\n      <td>628</td>\n      <td>경기도</td>\n      <td>파주시</td>\n      <td>금촌동</td>\n      <td>414804418086.0</td>\n      <td>금정4길</td>\n      <td>35.0</td>\n      <td>0.0</td>\n    </tr>\n  </tbody>\n</table>\n</div>"
     },
     "execution_count": 1,
     "metadata": {},
     "output_type": "execute_result"
    }
   ],
   "source": [
    "import pandas as pd\n",
    "\n",
    "\n",
    "df = pd.read_csv('경기도.csv' , encoding = 'cp949')\n",
    "df_2 = pd.read_csv('../../../../데이터센터정리.csv' , encoding = 'cp949')\n",
    "\n",
    "df = df.astype({'시군구법정동번지코드' : 'str',\n",
    "                '시군구법정동번코드' : 'str'})\n",
    "df.head()"
   ]
  },
  {
   "cell_type": "code",
   "execution_count": 2,
   "outputs": [
    {
     "data": {
      "text/plain": "         시군구법정동번지코드       시군구법정동번코드    시군구법정동코드     번   지  \\\n0   421301170018946  42130117001894  4213011700  1894   6   \n1  4213011700204710  42130117002047  4213011700  2047  14   \n2  4213011700204710  42130117002047  4213011700  2047  10   \n3   421103102210000  42110310221000  4211031022  1000   0   \n4    42110126006500   4211012600650  4211012600   650   0   \n\n                            주소  분류         기업                       이름  \\\n0    강원 원주시 건강로 32(반곡동 1894-6)  공공   국민건강보험공단           국민건강보험공단 데이터센터   \n1  강원 원주시 입춘로 130(반곡동 2047-14)  공공  건강보험심사평가원  건강보험심사평가원 ICT센터\\n (2사옥)   \n2   강원 원주시 혁신로 60(반곡동 2047-10)  공공  건강보험심사평가원  건강보험심사평가원 ICT센터\\n (1사옥)   \n3          강원 춘천시 동면 순환대로 1231  민간      NAVER              네이버 데이터센터 각   \n4          강원도 춘천시 옛경춘로 409-14  민간     오라클 춘천                   오라클 춘천   \n\n                        비고 임차여부  전력사용량  \n0               O 자체 데이터센터    -    NaN  \n1                        -    -    NaN  \n2                        -    -    NaN  \n3  수력 발전소 통해 전체 전력량 70% 수급    -    NaN  \n4                        -    -    NaN  ",
      "text/html": "<div>\n<style scoped>\n    .dataframe tbody tr th:only-of-type {\n        vertical-align: middle;\n    }\n\n    .dataframe tbody tr th {\n        vertical-align: top;\n    }\n\n    .dataframe thead th {\n        text-align: right;\n    }\n</style>\n<table border=\"1\" class=\"dataframe\">\n  <thead>\n    <tr style=\"text-align: right;\">\n      <th></th>\n      <th>시군구법정동번지코드</th>\n      <th>시군구법정동번코드</th>\n      <th>시군구법정동코드</th>\n      <th>번</th>\n      <th>지</th>\n      <th>주소</th>\n      <th>분류</th>\n      <th>기업</th>\n      <th>이름</th>\n      <th>비고</th>\n      <th>임차여부</th>\n      <th>전력사용량</th>\n    </tr>\n  </thead>\n  <tbody>\n    <tr>\n      <th>0</th>\n      <td>421301170018946</td>\n      <td>42130117001894</td>\n      <td>4213011700</td>\n      <td>1894</td>\n      <td>6</td>\n      <td>강원 원주시 건강로 32(반곡동 1894-6)</td>\n      <td>공공</td>\n      <td>국민건강보험공단</td>\n      <td>국민건강보험공단 데이터센터</td>\n      <td>O 자체 데이터센터</td>\n      <td>-</td>\n      <td>NaN</td>\n    </tr>\n    <tr>\n      <th>1</th>\n      <td>4213011700204710</td>\n      <td>42130117002047</td>\n      <td>4213011700</td>\n      <td>2047</td>\n      <td>14</td>\n      <td>강원 원주시 입춘로 130(반곡동 2047-14)</td>\n      <td>공공</td>\n      <td>건강보험심사평가원</td>\n      <td>건강보험심사평가원 ICT센터\\n (2사옥)</td>\n      <td>-</td>\n      <td>-</td>\n      <td>NaN</td>\n    </tr>\n    <tr>\n      <th>2</th>\n      <td>4213011700204710</td>\n      <td>42130117002047</td>\n      <td>4213011700</td>\n      <td>2047</td>\n      <td>10</td>\n      <td>강원 원주시 혁신로 60(반곡동 2047-10)</td>\n      <td>공공</td>\n      <td>건강보험심사평가원</td>\n      <td>건강보험심사평가원 ICT센터\\n (1사옥)</td>\n      <td>-</td>\n      <td>-</td>\n      <td>NaN</td>\n    </tr>\n    <tr>\n      <th>3</th>\n      <td>421103102210000</td>\n      <td>42110310221000</td>\n      <td>4211031022</td>\n      <td>1000</td>\n      <td>0</td>\n      <td>강원 춘천시 동면 순환대로 1231</td>\n      <td>민간</td>\n      <td>NAVER</td>\n      <td>네이버 데이터센터 각</td>\n      <td>수력 발전소 통해 전체 전력량 70% 수급</td>\n      <td>-</td>\n      <td>NaN</td>\n    </tr>\n    <tr>\n      <th>4</th>\n      <td>42110126006500</td>\n      <td>4211012600650</td>\n      <td>4211012600</td>\n      <td>650</td>\n      <td>0</td>\n      <td>강원도 춘천시 옛경춘로 409-14</td>\n      <td>민간</td>\n      <td>오라클 춘천</td>\n      <td>오라클 춘천</td>\n      <td>-</td>\n      <td>-</td>\n      <td>NaN</td>\n    </tr>\n  </tbody>\n</table>\n</div>"
     },
     "execution_count": 2,
     "metadata": {},
     "output_type": "execute_result"
    }
   ],
   "source": [
    "df_2.head()"
   ],
   "metadata": {
    "collapsed": false,
    "pycharm": {
     "name": "#%%\n"
    }
   }
  },
  {
   "cell_type": "code",
   "execution_count": 3,
   "outputs": [
    {
     "data": {
      "text/plain": "    Unnamed: 0        시군구법정동번지코드     시군구법정동번코드_x  시군구법정동코드_x    본번   부번  \\\n0       547370  4146510300325230   4146510300325  4146510300   325  230   \n1       559791   414631130010218   4146311300102  4146311300   102   18   \n2       559792   414631130010218   4146311300102  4146311300   102   18   \n3       595113     4159013500383    415901350038  4159013500    38    3   \n4       597836   415701040020161  41570104002016  4157010400  2016    1   \n5       561568     4146510200236    414651020023  4146510200    23    6   \n6       522441    41390135002420   4139013500242  4139013500   242    0   \n7       528694    41450109008361   4145010900836  4145010900   836    1   \n8       528694    41450109008361   4145010900836  4145010900   836    1   \n9       497946    41285104007260   4128510400726  4128510400   726    0   \n10      497808   412851060013280  41285106001328  4128510600  1328    0   \n11      429085   411711010020012   4117110100200  4117110100   200   12   \n12      428762    41117101004101   4111710100410  4111710100   410    1   \n13      436741    41135107003431   4113510700343  4113510700   343    1   \n14      436804    41135109006110   4113510900611  4113510900   611    0   \n15      422071    41135114001922   4113511400192  4113511400   192    2   \n16      421490    41135109006950   4113510900695  4113510900   695    0   \n\n     사용량_KWH  시도명      시군구명 법정동명  ...  시군구법정동코드_y     번    지  \\\n0    1872624  경기도   용인시 수지구  동천동  ...  4146510300   325  230   \n1   16088061  경기도   용인시 기흥구  마북동  ...  4146311300   102   18   \n2   16088061  경기도   용인시 기흥구  마북동  ...  4146311300   102   18   \n3      97356  경기도       화성시  산척동  ...  4159013500    38    3   \n4       1084  경기도       김포시  장기동  ...  4157010400  2016    1   \n5    2434176  경기도   용인시 수지구  죽전동  ...  4146510200    23    6   \n6      10792  경기도       시흥시  배곧동  ...  4139013500   242    0   \n7       6920  경기도       하남시  망월동  ...  4145010900   836    1   \n8       6920  경기도       하남시  망월동  ...  4145010900   836    1   \n9    9630432  경기도  고양시 일산동구  장항동  ...  4128510400   726    0   \n10    282600  경기도  고양시 일산동구  백석동  ...  4128510600  1328    0   \n11   4827360  경기도   안양시 만안구  안양동  ...  4117110100   200   12   \n12   8163120  경기도   수원시 영통구  매탄동  ...  4111710100   410    1   \n13   2547552  경기도   성남시 분당구  야탑동  ...  4113510700   343    1   \n14  13404649  경기도   성남시 분당구  삼평동  ...  4113510900   611    0   \n15   2836656  경기도   성남시 분당구  구미동  ...  4113511400   192    2   \n16   1826640  경기도   성남시 분당구  삼평동  ...  4113510900   695    0   \n\n                                                 주소  분류  \\\n0                         경기도 용인시 수지구용구대로 2771번길 85  민간   \n1                        경기도 용인시 기흥구 마북로 240번길 17-9   -   \n2                        경기도 용인시 기흥구 마북로 240번길 17-9   -   \n3                               경기 화성시 동탄산척로2길 53-7  공공   \n4                                경기 김포시 태장로769번길 35  금융   \n5                              경기도 용인시 수지구 죽전동 23-6  금융   \n6                                 경기도 시흥시 서울대학로 173  민간   \n7                                경기 하남시 미사강변한강로 177  은행   \n8                     경기 하남시 미사강변한강로 177(망월동 836-1)  은행   \n9    경기도 고양시 일산동구 중앙로 1333 (경기도 고양시 일산동구 장항동 726번지)  통신   \n10                            경기 고양시 일산동구 호수로 358-8  공공   \n11                           경기도 안양시 만안구 덕천로48번길 37  통신   \n12   경기도 수원시 영통구 삼성로168번길 10, 경기도 수원시 영통구 매탄동 410-1  민간   \n13                     경기도 성남시 분당구 장미로 36 호스트웨이 IDC  민간   \n14                    성남시 분당구 판교로 255번길 46(삼평동 611)  민간   \n15  경기도 성남시 분당구 성남대로 2번길 12 (경기도 성남시 분당구 구미동 192-2)  통신   \n16                        경기도 성남시 분당구 대왕판교로712번길 11  민간   \n\n                                                   기업  \\\n0                                               세종텔레콤   \n1                 AWS 임차(롯데정보통신(현대정보기술) 용인 글로벌클라우드센터)   \n2                 AWS 임차(롯데정보통신(현대정보기술) 용인 글로벌클라우드센터)   \n3                                              한국도로공사   \n4                                                KB금융   \n5   동부그룹 계열사, 미래에셋 생명, 골든브릿지 증권, SC제일은행 DR센터, 미쓰비시...   \n6                                               KAKAO   \n7                                              한국산업은행   \n8                                                산업은행   \n9                                         SK브로드밴드,AWS   \n10                                            한국예탁결제원   \n11                                              LG U+   \n12                                              삼성SDS   \n13                                  KINX (인터넷 인프라 기업)   \n14                                             SK C&C   \n15                         SK브로드밴드,KINX,한국여성인권진흥원(공공)   \n16                                                NHN   \n\n                                             이름                      비고 임차여부  \\\n0                                         세종텔레콤                       -    -   \n1                                 롯데정보통신 제3,4센터                 *AWS 중복    -   \n2                                 롯데정보통신 제3,4센터                 *AWS 중복    -   \n3                                   ICT운영센터(동탄)                       -    -   \n4                                 KB국민은행 통합IT센터                       -    -   \n5                                     동부화재데이터센터                       -    -   \n6                                   카카오 제3데이터센터  2024 착공 예정\\n2026 준공 예정    -   \n7                                        디지털스퀘어                       -    -   \n8                                  한국 산업은행 IT센터                       -    -   \n9                                         일산 센터                       -    -   \n10                               한국예탁결제원 일산전산센터                       -    -   \n11                                   LG U+안양 센터                    기타분류    -   \n12                                삼성SDS ICT수원센터                       -    -   \n13                                      IDC 분당1                       -    -   \n14                                   판교 클라우드 센터                       -    -   \n15                                        분당 센터                       -    -   \n16  토스트 클라우드 센터1\\n (TOAST Cloud Center 1, TCC1)  2021 착공\\n2022.12 준공 예정    -   \n\n   전력사용량  \n0    NaN  \n1    NaN  \n2    NaN  \n3    NaN  \n4    NaN  \n5    NaN  \n6    NaN  \n7    NaN  \n8    NaN  \n9    NaN  \n10   NaN  \n11   NaN  \n12   NaN  \n13   NaN  \n14   NaN  \n15   NaN  \n16   NaN  \n\n[17 rows x 25 columns]",
      "text/html": "<div>\n<style scoped>\n    .dataframe tbody tr th:only-of-type {\n        vertical-align: middle;\n    }\n\n    .dataframe tbody tr th {\n        vertical-align: top;\n    }\n\n    .dataframe thead th {\n        text-align: right;\n    }\n</style>\n<table border=\"1\" class=\"dataframe\">\n  <thead>\n    <tr style=\"text-align: right;\">\n      <th></th>\n      <th>Unnamed: 0</th>\n      <th>시군구법정동번지코드</th>\n      <th>시군구법정동번코드_x</th>\n      <th>시군구법정동코드_x</th>\n      <th>본번</th>\n      <th>부번</th>\n      <th>사용량_KWH</th>\n      <th>시도명</th>\n      <th>시군구명</th>\n      <th>법정동명</th>\n      <th>...</th>\n      <th>시군구법정동코드_y</th>\n      <th>번</th>\n      <th>지</th>\n      <th>주소</th>\n      <th>분류</th>\n      <th>기업</th>\n      <th>이름</th>\n      <th>비고</th>\n      <th>임차여부</th>\n      <th>전력사용량</th>\n    </tr>\n  </thead>\n  <tbody>\n    <tr>\n      <th>0</th>\n      <td>547370</td>\n      <td>4146510300325230</td>\n      <td>4146510300325</td>\n      <td>4146510300</td>\n      <td>325</td>\n      <td>230</td>\n      <td>1872624</td>\n      <td>경기도</td>\n      <td>용인시 수지구</td>\n      <td>동천동</td>\n      <td>...</td>\n      <td>4146510300</td>\n      <td>325</td>\n      <td>230</td>\n      <td>경기도 용인시 수지구용구대로 2771번길 85</td>\n      <td>민간</td>\n      <td>세종텔레콤</td>\n      <td>세종텔레콤</td>\n      <td>-</td>\n      <td>-</td>\n      <td>NaN</td>\n    </tr>\n    <tr>\n      <th>1</th>\n      <td>559791</td>\n      <td>414631130010218</td>\n      <td>4146311300102</td>\n      <td>4146311300</td>\n      <td>102</td>\n      <td>18</td>\n      <td>16088061</td>\n      <td>경기도</td>\n      <td>용인시 기흥구</td>\n      <td>마북동</td>\n      <td>...</td>\n      <td>4146311300</td>\n      <td>102</td>\n      <td>18</td>\n      <td>경기도 용인시 기흥구 마북로 240번길 17-9</td>\n      <td>-</td>\n      <td>AWS 임차(롯데정보통신(현대정보기술) 용인 글로벌클라우드센터)</td>\n      <td>롯데정보통신 제3,4센터</td>\n      <td>*AWS 중복</td>\n      <td>-</td>\n      <td>NaN</td>\n    </tr>\n    <tr>\n      <th>2</th>\n      <td>559792</td>\n      <td>414631130010218</td>\n      <td>4146311300102</td>\n      <td>4146311300</td>\n      <td>102</td>\n      <td>18</td>\n      <td>16088061</td>\n      <td>경기도</td>\n      <td>용인시 기흥구</td>\n      <td>마북동</td>\n      <td>...</td>\n      <td>4146311300</td>\n      <td>102</td>\n      <td>18</td>\n      <td>경기도 용인시 기흥구 마북로 240번길 17-9</td>\n      <td>-</td>\n      <td>AWS 임차(롯데정보통신(현대정보기술) 용인 글로벌클라우드센터)</td>\n      <td>롯데정보통신 제3,4센터</td>\n      <td>*AWS 중복</td>\n      <td>-</td>\n      <td>NaN</td>\n    </tr>\n    <tr>\n      <th>3</th>\n      <td>595113</td>\n      <td>4159013500383</td>\n      <td>415901350038</td>\n      <td>4159013500</td>\n      <td>38</td>\n      <td>3</td>\n      <td>97356</td>\n      <td>경기도</td>\n      <td>화성시</td>\n      <td>산척동</td>\n      <td>...</td>\n      <td>4159013500</td>\n      <td>38</td>\n      <td>3</td>\n      <td>경기 화성시 동탄산척로2길 53-7</td>\n      <td>공공</td>\n      <td>한국도로공사</td>\n      <td>ICT운영센터(동탄)</td>\n      <td>-</td>\n      <td>-</td>\n      <td>NaN</td>\n    </tr>\n    <tr>\n      <th>4</th>\n      <td>597836</td>\n      <td>415701040020161</td>\n      <td>41570104002016</td>\n      <td>4157010400</td>\n      <td>2016</td>\n      <td>1</td>\n      <td>1084</td>\n      <td>경기도</td>\n      <td>김포시</td>\n      <td>장기동</td>\n      <td>...</td>\n      <td>4157010400</td>\n      <td>2016</td>\n      <td>1</td>\n      <td>경기 김포시 태장로769번길 35</td>\n      <td>금융</td>\n      <td>KB금융</td>\n      <td>KB국민은행 통합IT센터</td>\n      <td>-</td>\n      <td>-</td>\n      <td>NaN</td>\n    </tr>\n    <tr>\n      <th>5</th>\n      <td>561568</td>\n      <td>4146510200236</td>\n      <td>414651020023</td>\n      <td>4146510200</td>\n      <td>23</td>\n      <td>6</td>\n      <td>2434176</td>\n      <td>경기도</td>\n      <td>용인시 수지구</td>\n      <td>죽전동</td>\n      <td>...</td>\n      <td>4146510200</td>\n      <td>23</td>\n      <td>6</td>\n      <td>경기도 용인시 수지구 죽전동 23-6</td>\n      <td>금융</td>\n      <td>동부그룹 계열사, 미래에셋 생명, 골든브릿지 증권, SC제일은행 DR센터, 미쓰비시...</td>\n      <td>동부화재데이터센터</td>\n      <td>-</td>\n      <td>-</td>\n      <td>NaN</td>\n    </tr>\n    <tr>\n      <th>6</th>\n      <td>522441</td>\n      <td>41390135002420</td>\n      <td>4139013500242</td>\n      <td>4139013500</td>\n      <td>242</td>\n      <td>0</td>\n      <td>10792</td>\n      <td>경기도</td>\n      <td>시흥시</td>\n      <td>배곧동</td>\n      <td>...</td>\n      <td>4139013500</td>\n      <td>242</td>\n      <td>0</td>\n      <td>경기도 시흥시 서울대학로 173</td>\n      <td>민간</td>\n      <td>KAKAO</td>\n      <td>카카오 제3데이터센터</td>\n      <td>2024 착공 예정\\n2026 준공 예정</td>\n      <td>-</td>\n      <td>NaN</td>\n    </tr>\n    <tr>\n      <th>7</th>\n      <td>528694</td>\n      <td>41450109008361</td>\n      <td>4145010900836</td>\n      <td>4145010900</td>\n      <td>836</td>\n      <td>1</td>\n      <td>6920</td>\n      <td>경기도</td>\n      <td>하남시</td>\n      <td>망월동</td>\n      <td>...</td>\n      <td>4145010900</td>\n      <td>836</td>\n      <td>1</td>\n      <td>경기 하남시 미사강변한강로 177</td>\n      <td>은행</td>\n      <td>한국산업은행</td>\n      <td>디지털스퀘어</td>\n      <td>-</td>\n      <td>-</td>\n      <td>NaN</td>\n    </tr>\n    <tr>\n      <th>8</th>\n      <td>528694</td>\n      <td>41450109008361</td>\n      <td>4145010900836</td>\n      <td>4145010900</td>\n      <td>836</td>\n      <td>1</td>\n      <td>6920</td>\n      <td>경기도</td>\n      <td>하남시</td>\n      <td>망월동</td>\n      <td>...</td>\n      <td>4145010900</td>\n      <td>836</td>\n      <td>1</td>\n      <td>경기 하남시 미사강변한강로 177(망월동 836-1)</td>\n      <td>은행</td>\n      <td>산업은행</td>\n      <td>한국 산업은행 IT센터</td>\n      <td>-</td>\n      <td>-</td>\n      <td>NaN</td>\n    </tr>\n    <tr>\n      <th>9</th>\n      <td>497946</td>\n      <td>41285104007260</td>\n      <td>4128510400726</td>\n      <td>4128510400</td>\n      <td>726</td>\n      <td>0</td>\n      <td>9630432</td>\n      <td>경기도</td>\n      <td>고양시 일산동구</td>\n      <td>장항동</td>\n      <td>...</td>\n      <td>4128510400</td>\n      <td>726</td>\n      <td>0</td>\n      <td>경기도 고양시 일산동구 중앙로 1333 (경기도 고양시 일산동구 장항동 726번지)</td>\n      <td>통신</td>\n      <td>SK브로드밴드,AWS</td>\n      <td>일산 센터</td>\n      <td>-</td>\n      <td>-</td>\n      <td>NaN</td>\n    </tr>\n    <tr>\n      <th>10</th>\n      <td>497808</td>\n      <td>412851060013280</td>\n      <td>41285106001328</td>\n      <td>4128510600</td>\n      <td>1328</td>\n      <td>0</td>\n      <td>282600</td>\n      <td>경기도</td>\n      <td>고양시 일산동구</td>\n      <td>백석동</td>\n      <td>...</td>\n      <td>4128510600</td>\n      <td>1328</td>\n      <td>0</td>\n      <td>경기 고양시 일산동구 호수로 358-8</td>\n      <td>공공</td>\n      <td>한국예탁결제원</td>\n      <td>한국예탁결제원 일산전산센터</td>\n      <td>-</td>\n      <td>-</td>\n      <td>NaN</td>\n    </tr>\n    <tr>\n      <th>11</th>\n      <td>429085</td>\n      <td>411711010020012</td>\n      <td>4117110100200</td>\n      <td>4117110100</td>\n      <td>200</td>\n      <td>12</td>\n      <td>4827360</td>\n      <td>경기도</td>\n      <td>안양시 만안구</td>\n      <td>안양동</td>\n      <td>...</td>\n      <td>4117110100</td>\n      <td>200</td>\n      <td>12</td>\n      <td>경기도 안양시 만안구 덕천로48번길 37</td>\n      <td>통신</td>\n      <td>LG U+</td>\n      <td>LG U+안양 센터</td>\n      <td>기타분류</td>\n      <td>-</td>\n      <td>NaN</td>\n    </tr>\n    <tr>\n      <th>12</th>\n      <td>428762</td>\n      <td>41117101004101</td>\n      <td>4111710100410</td>\n      <td>4111710100</td>\n      <td>410</td>\n      <td>1</td>\n      <td>8163120</td>\n      <td>경기도</td>\n      <td>수원시 영통구</td>\n      <td>매탄동</td>\n      <td>...</td>\n      <td>4111710100</td>\n      <td>410</td>\n      <td>1</td>\n      <td>경기도 수원시 영통구 삼성로168번길 10, 경기도 수원시 영통구 매탄동 410-1</td>\n      <td>민간</td>\n      <td>삼성SDS</td>\n      <td>삼성SDS ICT수원센터</td>\n      <td>-</td>\n      <td>-</td>\n      <td>NaN</td>\n    </tr>\n    <tr>\n      <th>13</th>\n      <td>436741</td>\n      <td>41135107003431</td>\n      <td>4113510700343</td>\n      <td>4113510700</td>\n      <td>343</td>\n      <td>1</td>\n      <td>2547552</td>\n      <td>경기도</td>\n      <td>성남시 분당구</td>\n      <td>야탑동</td>\n      <td>...</td>\n      <td>4113510700</td>\n      <td>343</td>\n      <td>1</td>\n      <td>경기도 성남시 분당구 장미로 36 호스트웨이 IDC</td>\n      <td>민간</td>\n      <td>KINX (인터넷 인프라 기업)</td>\n      <td>IDC 분당1</td>\n      <td>-</td>\n      <td>-</td>\n      <td>NaN</td>\n    </tr>\n    <tr>\n      <th>14</th>\n      <td>436804</td>\n      <td>41135109006110</td>\n      <td>4113510900611</td>\n      <td>4113510900</td>\n      <td>611</td>\n      <td>0</td>\n      <td>13404649</td>\n      <td>경기도</td>\n      <td>성남시 분당구</td>\n      <td>삼평동</td>\n      <td>...</td>\n      <td>4113510900</td>\n      <td>611</td>\n      <td>0</td>\n      <td>성남시 분당구 판교로 255번길 46(삼평동 611)</td>\n      <td>민간</td>\n      <td>SK C&amp;C</td>\n      <td>판교 클라우드 센터</td>\n      <td>-</td>\n      <td>-</td>\n      <td>NaN</td>\n    </tr>\n    <tr>\n      <th>15</th>\n      <td>422071</td>\n      <td>41135114001922</td>\n      <td>4113511400192</td>\n      <td>4113511400</td>\n      <td>192</td>\n      <td>2</td>\n      <td>2836656</td>\n      <td>경기도</td>\n      <td>성남시 분당구</td>\n      <td>구미동</td>\n      <td>...</td>\n      <td>4113511400</td>\n      <td>192</td>\n      <td>2</td>\n      <td>경기도 성남시 분당구 성남대로 2번길 12 (경기도 성남시 분당구 구미동 192-2)</td>\n      <td>통신</td>\n      <td>SK브로드밴드,KINX,한국여성인권진흥원(공공)</td>\n      <td>분당 센터</td>\n      <td>-</td>\n      <td>-</td>\n      <td>NaN</td>\n    </tr>\n    <tr>\n      <th>16</th>\n      <td>421490</td>\n      <td>41135109006950</td>\n      <td>4113510900695</td>\n      <td>4113510900</td>\n      <td>695</td>\n      <td>0</td>\n      <td>1826640</td>\n      <td>경기도</td>\n      <td>성남시 분당구</td>\n      <td>삼평동</td>\n      <td>...</td>\n      <td>4113510900</td>\n      <td>695</td>\n      <td>0</td>\n      <td>경기도 성남시 분당구 대왕판교로712번길 11</td>\n      <td>민간</td>\n      <td>NHN</td>\n      <td>토스트 클라우드 센터1\\n (TOAST Cloud Center 1, TCC1)</td>\n      <td>2021 착공\\n2022.12 준공 예정</td>\n      <td>-</td>\n      <td>NaN</td>\n    </tr>\n  </tbody>\n</table>\n<p>17 rows × 25 columns</p>\n</div>"
     },
     "execution_count": 3,
     "metadata": {},
     "output_type": "execute_result"
    }
   ],
   "source": [
    "df_3 = pd.merge(df, df_2, how='inner' , on='시군구법정동번지코드')\n",
    "\n",
    "df_3"
   ],
   "metadata": {
    "collapsed": false,
    "pycharm": {
     "name": "#%%\n"
    }
   }
  },
  {
   "cell_type": "code",
   "execution_count": 4,
   "outputs": [],
   "source": [
    "df_3.to_csv(\"경기도_전력사용량.csv\" , mode = 'w' , encoding= 'cp949')"
   ],
   "metadata": {
    "collapsed": false,
    "pycharm": {
     "name": "#%%\n"
    }
   }
  },
  {
   "cell_type": "code",
   "execution_count": null,
   "outputs": [],
   "source": [],
   "metadata": {
    "collapsed": false,
    "pycharm": {
     "name": "#%%\n"
    }
   }
  }
 ],
 "metadata": {
  "kernelspec": {
   "display_name": "Python 3",
   "language": "python",
   "name": "python3"
  },
  "language_info": {
   "codemirror_mode": {
    "name": "ipython",
    "version": 2
   },
   "file_extension": ".py",
   "mimetype": "text/x-python",
   "name": "python",
   "nbconvert_exporter": "python",
   "pygments_lexer": "ipython2",
   "version": "2.7.6"
  }
 },
 "nbformat": 4,
 "nbformat_minor": 0
}