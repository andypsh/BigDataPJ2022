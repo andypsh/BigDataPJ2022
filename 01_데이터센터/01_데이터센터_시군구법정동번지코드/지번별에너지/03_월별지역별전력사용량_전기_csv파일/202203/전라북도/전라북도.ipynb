{
 "cells": [
  {
   "cell_type": "code",
   "execution_count": 1,
   "metadata": {
    "collapsed": true,
    "pycharm": {
     "name": "#%%\n"
    }
   },
   "outputs": [
    {
     "data": {
      "text/plain": "   Unnamed: 0       시군구법정동번지코드     시군구법정동번코드    시군구법정동코드  본번   부번  사용량_KWH  \\\n0      939392  451404102347125  451404102347  4514041023  47  125     2517   \n1      939393   45140410236920  451404102369  4514041023  69   20      201   \n2      939394   45140410237934  451404102379  4514041023  79   34      829   \n3      939395   45140410237942  451404102379  4514041023  79   42        7   \n4      939396   45140410239060  451404102390  4514041023  90   60        6   \n\n    시도명 시군구명     법정동명        새주소대로로코드 새주소대로로명  새주소본번 새주소부번  \n0  전라북도  익산시  왕궁면 구덕리  451404607112.0     구덕길  107.0   0.0  \n1  전라북도  익산시  왕궁면 구덕리  451404607113.0   구덕신촌길   49.0   6.0  \n2  전라북도  익산시  왕궁면 구덕리  451404607096.0     공소길    1.0  23.0  \n3  전라북도  익산시  왕궁면 구덕리  451404607096.0     공소길    1.0  38.0  \n4  전라북도  익산시  왕궁면 구덕리               -       -      -     -  ",
      "text/html": "<div>\n<style scoped>\n    .dataframe tbody tr th:only-of-type {\n        vertical-align: middle;\n    }\n\n    .dataframe tbody tr th {\n        vertical-align: top;\n    }\n\n    .dataframe thead th {\n        text-align: right;\n    }\n</style>\n<table border=\"1\" class=\"dataframe\">\n  <thead>\n    <tr style=\"text-align: right;\">\n      <th></th>\n      <th>Unnamed: 0</th>\n      <th>시군구법정동번지코드</th>\n      <th>시군구법정동번코드</th>\n      <th>시군구법정동코드</th>\n      <th>본번</th>\n      <th>부번</th>\n      <th>사용량_KWH</th>\n      <th>시도명</th>\n      <th>시군구명</th>\n      <th>법정동명</th>\n      <th>새주소대로로코드</th>\n      <th>새주소대로로명</th>\n      <th>새주소본번</th>\n      <th>새주소부번</th>\n    </tr>\n  </thead>\n  <tbody>\n    <tr>\n      <th>0</th>\n      <td>939392</td>\n      <td>451404102347125</td>\n      <td>451404102347</td>\n      <td>4514041023</td>\n      <td>47</td>\n      <td>125</td>\n      <td>2517</td>\n      <td>전라북도</td>\n      <td>익산시</td>\n      <td>왕궁면 구덕리</td>\n      <td>451404607112.0</td>\n      <td>구덕길</td>\n      <td>107.0</td>\n      <td>0.0</td>\n    </tr>\n    <tr>\n      <th>1</th>\n      <td>939393</td>\n      <td>45140410236920</td>\n      <td>451404102369</td>\n      <td>4514041023</td>\n      <td>69</td>\n      <td>20</td>\n      <td>201</td>\n      <td>전라북도</td>\n      <td>익산시</td>\n      <td>왕궁면 구덕리</td>\n      <td>451404607113.0</td>\n      <td>구덕신촌길</td>\n      <td>49.0</td>\n      <td>6.0</td>\n    </tr>\n    <tr>\n      <th>2</th>\n      <td>939394</td>\n      <td>45140410237934</td>\n      <td>451404102379</td>\n      <td>4514041023</td>\n      <td>79</td>\n      <td>34</td>\n      <td>829</td>\n      <td>전라북도</td>\n      <td>익산시</td>\n      <td>왕궁면 구덕리</td>\n      <td>451404607096.0</td>\n      <td>공소길</td>\n      <td>1.0</td>\n      <td>23.0</td>\n    </tr>\n    <tr>\n      <th>3</th>\n      <td>939395</td>\n      <td>45140410237942</td>\n      <td>451404102379</td>\n      <td>4514041023</td>\n      <td>79</td>\n      <td>42</td>\n      <td>7</td>\n      <td>전라북도</td>\n      <td>익산시</td>\n      <td>왕궁면 구덕리</td>\n      <td>451404607096.0</td>\n      <td>공소길</td>\n      <td>1.0</td>\n      <td>38.0</td>\n    </tr>\n    <tr>\n      <th>4</th>\n      <td>939396</td>\n      <td>45140410239060</td>\n      <td>451404102390</td>\n      <td>4514041023</td>\n      <td>90</td>\n      <td>60</td>\n      <td>6</td>\n      <td>전라북도</td>\n      <td>익산시</td>\n      <td>왕궁면 구덕리</td>\n      <td>-</td>\n      <td>-</td>\n      <td>-</td>\n      <td>-</td>\n    </tr>\n  </tbody>\n</table>\n</div>"
     },
     "execution_count": 1,
     "metadata": {},
     "output_type": "execute_result"
    }
   ],
   "source": [
    "import pandas as pd\n",
    "\n",
    "\n",
    "df = pd.read_csv('전라북도.csv' , encoding = 'cp949')\n",
    "df_2 = pd.read_csv('../../../../데이터센터정리.csv' , encoding = 'cp949')\n",
    "\n",
    "df = df.astype({'시군구법정동번지코드' : 'str',\n",
    "                '시군구법정동번코드' : 'str'})\n",
    "df.head()"
   ]
  },
  {
   "cell_type": "code",
   "execution_count": 2,
   "outputs": [
    {
     "data": {
      "text/plain": "         시군구법정동번지코드       시군구법정동번코드    시군구법정동코드     번   지  \\\n0   421301170018946  42130117001894  4213011700  1894   6   \n1  4213011700204710  42130117002047  4213011700  2047  14   \n2  4213011700204710  42130117002047  4213011700  2047  10   \n3   421103102210000  42110310221000  4211031022  1000   0   \n4    42110126006500   4211012600650  4211012600   650   0   \n\n                            주소  분류         기업                       이름  \\\n0    강원 원주시 건강로 32(반곡동 1894-6)  공공   국민건강보험공단           국민건강보험공단 데이터센터   \n1  강원 원주시 입춘로 130(반곡동 2047-14)  공공  건강보험심사평가원  건강보험심사평가원 ICT센터\\n (2사옥)   \n2   강원 원주시 혁신로 60(반곡동 2047-10)  공공  건강보험심사평가원  건강보험심사평가원 ICT센터\\n (1사옥)   \n3          강원 춘천시 동면 순환대로 1231  민간      NAVER              네이버 데이터센터 각   \n4          강원도 춘천시 옛경춘로 409-14  민간     오라클 춘천                   오라클 춘천   \n\n                        비고 임차여부  전력사용량  \n0               O 자체 데이터센터    -    NaN  \n1                        -    -    NaN  \n2                        -    -    NaN  \n3  수력 발전소 통해 전체 전력량 70% 수급    -    NaN  \n4                        -    -    NaN  ",
      "text/html": "<div>\n<style scoped>\n    .dataframe tbody tr th:only-of-type {\n        vertical-align: middle;\n    }\n\n    .dataframe tbody tr th {\n        vertical-align: top;\n    }\n\n    .dataframe thead th {\n        text-align: right;\n    }\n</style>\n<table border=\"1\" class=\"dataframe\">\n  <thead>\n    <tr style=\"text-align: right;\">\n      <th></th>\n      <th>시군구법정동번지코드</th>\n      <th>시군구법정동번코드</th>\n      <th>시군구법정동코드</th>\n      <th>번</th>\n      <th>지</th>\n      <th>주소</th>\n      <th>분류</th>\n      <th>기업</th>\n      <th>이름</th>\n      <th>비고</th>\n      <th>임차여부</th>\n      <th>전력사용량</th>\n    </tr>\n  </thead>\n  <tbody>\n    <tr>\n      <th>0</th>\n      <td>421301170018946</td>\n      <td>42130117001894</td>\n      <td>4213011700</td>\n      <td>1894</td>\n      <td>6</td>\n      <td>강원 원주시 건강로 32(반곡동 1894-6)</td>\n      <td>공공</td>\n      <td>국민건강보험공단</td>\n      <td>국민건강보험공단 데이터센터</td>\n      <td>O 자체 데이터센터</td>\n      <td>-</td>\n      <td>NaN</td>\n    </tr>\n    <tr>\n      <th>1</th>\n      <td>4213011700204710</td>\n      <td>42130117002047</td>\n      <td>4213011700</td>\n      <td>2047</td>\n      <td>14</td>\n      <td>강원 원주시 입춘로 130(반곡동 2047-14)</td>\n      <td>공공</td>\n      <td>건강보험심사평가원</td>\n      <td>건강보험심사평가원 ICT센터\\n (2사옥)</td>\n      <td>-</td>\n      <td>-</td>\n      <td>NaN</td>\n    </tr>\n    <tr>\n      <th>2</th>\n      <td>4213011700204710</td>\n      <td>42130117002047</td>\n      <td>4213011700</td>\n      <td>2047</td>\n      <td>10</td>\n      <td>강원 원주시 혁신로 60(반곡동 2047-10)</td>\n      <td>공공</td>\n      <td>건강보험심사평가원</td>\n      <td>건강보험심사평가원 ICT센터\\n (1사옥)</td>\n      <td>-</td>\n      <td>-</td>\n      <td>NaN</td>\n    </tr>\n    <tr>\n      <th>3</th>\n      <td>421103102210000</td>\n      <td>42110310221000</td>\n      <td>4211031022</td>\n      <td>1000</td>\n      <td>0</td>\n      <td>강원 춘천시 동면 순환대로 1231</td>\n      <td>민간</td>\n      <td>NAVER</td>\n      <td>네이버 데이터센터 각</td>\n      <td>수력 발전소 통해 전체 전력량 70% 수급</td>\n      <td>-</td>\n      <td>NaN</td>\n    </tr>\n    <tr>\n      <th>4</th>\n      <td>42110126006500</td>\n      <td>4211012600650</td>\n      <td>4211012600</td>\n      <td>650</td>\n      <td>0</td>\n      <td>강원도 춘천시 옛경춘로 409-14</td>\n      <td>민간</td>\n      <td>오라클 춘천</td>\n      <td>오라클 춘천</td>\n      <td>-</td>\n      <td>-</td>\n      <td>NaN</td>\n    </tr>\n  </tbody>\n</table>\n</div>"
     },
     "execution_count": 2,
     "metadata": {},
     "output_type": "execute_result"
    }
   ],
   "source": [
    "df_2.head()"
   ],
   "metadata": {
    "collapsed": false,
    "pycharm": {
     "name": "#%%\n"
    }
   }
  },
  {
   "cell_type": "code",
   "execution_count": 3,
   "outputs": [
    {
     "data": {
      "text/plain": "   Unnamed: 0     시군구법정동번지코드   시군구법정동번코드_x  시군구법정동코드_x  본번  부번  사용량_KWH   시도명  \\\n0      931155  4511311500862  451131150086  4511311500  86   2   144209  전라북도   \n\n      시군구명   법정동명  ...  시군구법정동코드_y   번  지                                 주소  \\\n0  전주시 덕진구  우아동3가  ...  4511311500  86  2  전라북도 전주시 덕진구 신기1길 11(우아동3가 산86-2)   \n\n   분류     기업          이름    비고 임차여부 전력사용량  \n0  통신  LG U+  LG U+전주 센터  기타분류    -   NaN  \n\n[1 rows x 25 columns]",
      "text/html": "<div>\n<style scoped>\n    .dataframe tbody tr th:only-of-type {\n        vertical-align: middle;\n    }\n\n    .dataframe tbody tr th {\n        vertical-align: top;\n    }\n\n    .dataframe thead th {\n        text-align: right;\n    }\n</style>\n<table border=\"1\" class=\"dataframe\">\n  <thead>\n    <tr style=\"text-align: right;\">\n      <th></th>\n      <th>Unnamed: 0</th>\n      <th>시군구법정동번지코드</th>\n      <th>시군구법정동번코드_x</th>\n      <th>시군구법정동코드_x</th>\n      <th>본번</th>\n      <th>부번</th>\n      <th>사용량_KWH</th>\n      <th>시도명</th>\n      <th>시군구명</th>\n      <th>법정동명</th>\n      <th>...</th>\n      <th>시군구법정동코드_y</th>\n      <th>번</th>\n      <th>지</th>\n      <th>주소</th>\n      <th>분류</th>\n      <th>기업</th>\n      <th>이름</th>\n      <th>비고</th>\n      <th>임차여부</th>\n      <th>전력사용량</th>\n    </tr>\n  </thead>\n  <tbody>\n    <tr>\n      <th>0</th>\n      <td>931155</td>\n      <td>4511311500862</td>\n      <td>451131150086</td>\n      <td>4511311500</td>\n      <td>86</td>\n      <td>2</td>\n      <td>144209</td>\n      <td>전라북도</td>\n      <td>전주시 덕진구</td>\n      <td>우아동3가</td>\n      <td>...</td>\n      <td>4511311500</td>\n      <td>86</td>\n      <td>2</td>\n      <td>전라북도 전주시 덕진구 신기1길 11(우아동3가 산86-2)</td>\n      <td>통신</td>\n      <td>LG U+</td>\n      <td>LG U+전주 센터</td>\n      <td>기타분류</td>\n      <td>-</td>\n      <td>NaN</td>\n    </tr>\n  </tbody>\n</table>\n<p>1 rows × 25 columns</p>\n</div>"
     },
     "execution_count": 3,
     "metadata": {},
     "output_type": "execute_result"
    }
   ],
   "source": [
    "df_3 = pd.merge(df, df_2, how='inner' , on='시군구법정동번지코드')\n",
    "\n",
    "df_3"
   ],
   "metadata": {
    "collapsed": false,
    "pycharm": {
     "name": "#%%\n"
    }
   }
  },
  {
   "cell_type": "code",
   "execution_count": 4,
   "outputs": [],
   "source": [
    "df_3.to_csv(\"전라북도_전력사용량.csv\" , mode = 'w' , encoding= 'cp949')"
   ],
   "metadata": {
    "collapsed": false,
    "pycharm": {
     "name": "#%%\n"
    }
   }
  },
  {
   "cell_type": "code",
   "execution_count": null,
   "outputs": [],
   "source": [],
   "metadata": {
    "collapsed": false,
    "pycharm": {
     "name": "#%%\n"
    }
   }
  }
 ],
 "metadata": {
  "kernelspec": {
   "display_name": "Python 3",
   "language": "python",
   "name": "python3"
  },
  "language_info": {
   "codemirror_mode": {
    "name": "ipython",
    "version": 2
   },
   "file_extension": ".py",
   "mimetype": "text/x-python",
   "name": "python",
   "nbconvert_exporter": "python",
   "pygments_lexer": "ipython2",
   "version": "2.7.6"
  }
 },
 "nbformat": 4,
 "nbformat_minor": 0
}