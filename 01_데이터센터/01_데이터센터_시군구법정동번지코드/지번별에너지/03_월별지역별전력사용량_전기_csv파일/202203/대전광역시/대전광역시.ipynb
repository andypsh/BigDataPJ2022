{
 "cells": [
  {
   "cell_type": "code",
   "execution_count": 1,
   "metadata": {
    "collapsed": true,
    "pycharm": {
     "name": "#%%\n"
    }
   },
   "outputs": [
    {
     "data": {
      "text/plain": "   Unnamed: 0       시군구법정동번지코드      시군구법정동번코드    시군구법정동코드   본번  부번  사용량_KWH  \\\n0      367492   30140119006578  3014011900657  3014011900  657   8      253   \n1      367501   30140119006686  3014011900668  3014011900  668   6      963   \n2      367500  301401190066710  3014011900667  3014011900  667  10      413   \n3      367499   30140119006675  3014011900667  3014011900  667   5     1108   \n4      367498   30140119006673  3014011900667  3014011900  667   3     1303   \n\n     시도명 시군구명 법정동명        새주소대로로코드  새주소대로로명  새주소본번 새주소부번  \n0  대전광역시   중구  안영동  301403165029.0      안영로   13.0   0.0  \n1  대전광역시   중구  안영동  301404295511.0   안영로6번길    3.0   0.0  \n2  대전광역시   중구  안영동  301404295512.0  안영로79번길  159.0   0.0  \n3  대전광역시   중구  안영동  301403165029.0      안영로    3.0   0.0  \n4  대전광역시   중구  안영동  301403165029.0      안영로    9.0   0.0  ",
      "text/html": "<div>\n<style scoped>\n    .dataframe tbody tr th:only-of-type {\n        vertical-align: middle;\n    }\n\n    .dataframe tbody tr th {\n        vertical-align: top;\n    }\n\n    .dataframe thead th {\n        text-align: right;\n    }\n</style>\n<table border=\"1\" class=\"dataframe\">\n  <thead>\n    <tr style=\"text-align: right;\">\n      <th></th>\n      <th>Unnamed: 0</th>\n      <th>시군구법정동번지코드</th>\n      <th>시군구법정동번코드</th>\n      <th>시군구법정동코드</th>\n      <th>본번</th>\n      <th>부번</th>\n      <th>사용량_KWH</th>\n      <th>시도명</th>\n      <th>시군구명</th>\n      <th>법정동명</th>\n      <th>새주소대로로코드</th>\n      <th>새주소대로로명</th>\n      <th>새주소본번</th>\n      <th>새주소부번</th>\n    </tr>\n  </thead>\n  <tbody>\n    <tr>\n      <th>0</th>\n      <td>367492</td>\n      <td>30140119006578</td>\n      <td>3014011900657</td>\n      <td>3014011900</td>\n      <td>657</td>\n      <td>8</td>\n      <td>253</td>\n      <td>대전광역시</td>\n      <td>중구</td>\n      <td>안영동</td>\n      <td>301403165029.0</td>\n      <td>안영로</td>\n      <td>13.0</td>\n      <td>0.0</td>\n    </tr>\n    <tr>\n      <th>1</th>\n      <td>367501</td>\n      <td>30140119006686</td>\n      <td>3014011900668</td>\n      <td>3014011900</td>\n      <td>668</td>\n      <td>6</td>\n      <td>963</td>\n      <td>대전광역시</td>\n      <td>중구</td>\n      <td>안영동</td>\n      <td>301404295511.0</td>\n      <td>안영로6번길</td>\n      <td>3.0</td>\n      <td>0.0</td>\n    </tr>\n    <tr>\n      <th>2</th>\n      <td>367500</td>\n      <td>301401190066710</td>\n      <td>3014011900667</td>\n      <td>3014011900</td>\n      <td>667</td>\n      <td>10</td>\n      <td>413</td>\n      <td>대전광역시</td>\n      <td>중구</td>\n      <td>안영동</td>\n      <td>301404295512.0</td>\n      <td>안영로79번길</td>\n      <td>159.0</td>\n      <td>0.0</td>\n    </tr>\n    <tr>\n      <th>3</th>\n      <td>367499</td>\n      <td>30140119006675</td>\n      <td>3014011900667</td>\n      <td>3014011900</td>\n      <td>667</td>\n      <td>5</td>\n      <td>1108</td>\n      <td>대전광역시</td>\n      <td>중구</td>\n      <td>안영동</td>\n      <td>301403165029.0</td>\n      <td>안영로</td>\n      <td>3.0</td>\n      <td>0.0</td>\n    </tr>\n    <tr>\n      <th>4</th>\n      <td>367498</td>\n      <td>30140119006673</td>\n      <td>3014011900667</td>\n      <td>3014011900</td>\n      <td>667</td>\n      <td>3</td>\n      <td>1303</td>\n      <td>대전광역시</td>\n      <td>중구</td>\n      <td>안영동</td>\n      <td>301403165029.0</td>\n      <td>안영로</td>\n      <td>9.0</td>\n      <td>0.0</td>\n    </tr>\n  </tbody>\n</table>\n</div>"
     },
     "execution_count": 1,
     "metadata": {},
     "output_type": "execute_result"
    }
   ],
   "source": [
    "import pandas as pd\n",
    "\n",
    "\n",
    "df = pd.read_csv('대전광역시.csv' , encoding = 'cp949')\n",
    "df_2 = pd.read_csv('../../../../데이터센터정리.csv' , encoding = 'cp949')\n",
    "\n",
    "df = df.astype({'시군구법정동번지코드' : 'str',\n",
    "                '시군구법정동번코드' : 'str'})\n",
    "df.head()"
   ]
  },
  {
   "cell_type": "code",
   "execution_count": 2,
   "outputs": [
    {
     "data": {
      "text/plain": "         시군구법정동번지코드       시군구법정동번코드    시군구법정동코드     번   지  \\\n0   421301170018946  42130117001894  4213011700  1894   6   \n1  4213011700204710  42130117002047  4213011700  2047  14   \n2  4213011700204710  42130117002047  4213011700  2047  10   \n3   421103102210000  42110310221000  4211031022  1000   0   \n4    42110126006500   4211012600650  4211012600   650   0   \n\n                            주소  분류         기업                       이름  \\\n0    강원 원주시 건강로 32(반곡동 1894-6)  공공   국민건강보험공단           국민건강보험공단 데이터센터   \n1  강원 원주시 입춘로 130(반곡동 2047-14)  공공  건강보험심사평가원  건강보험심사평가원 ICT센터\\n (2사옥)   \n2   강원 원주시 혁신로 60(반곡동 2047-10)  공공  건강보험심사평가원  건강보험심사평가원 ICT센터\\n (1사옥)   \n3          강원 춘천시 동면 순환대로 1231  민간      NAVER              네이버 데이터센터 각   \n4          강원도 춘천시 옛경춘로 409-14  민간     오라클 춘천                   오라클 춘천   \n\n                        비고 임차여부  전력사용량  \n0               O 자체 데이터센터    -    NaN  \n1                        -    -    NaN  \n2                        -    -    NaN  \n3  수력 발전소 통해 전체 전력량 70% 수급    -    NaN  \n4                        -    -    NaN  ",
      "text/html": "<div>\n<style scoped>\n    .dataframe tbody tr th:only-of-type {\n        vertical-align: middle;\n    }\n\n    .dataframe tbody tr th {\n        vertical-align: top;\n    }\n\n    .dataframe thead th {\n        text-align: right;\n    }\n</style>\n<table border=\"1\" class=\"dataframe\">\n  <thead>\n    <tr style=\"text-align: right;\">\n      <th></th>\n      <th>시군구법정동번지코드</th>\n      <th>시군구법정동번코드</th>\n      <th>시군구법정동코드</th>\n      <th>번</th>\n      <th>지</th>\n      <th>주소</th>\n      <th>분류</th>\n      <th>기업</th>\n      <th>이름</th>\n      <th>비고</th>\n      <th>임차여부</th>\n      <th>전력사용량</th>\n    </tr>\n  </thead>\n  <tbody>\n    <tr>\n      <th>0</th>\n      <td>421301170018946</td>\n      <td>42130117001894</td>\n      <td>4213011700</td>\n      <td>1894</td>\n      <td>6</td>\n      <td>강원 원주시 건강로 32(반곡동 1894-6)</td>\n      <td>공공</td>\n      <td>국민건강보험공단</td>\n      <td>국민건강보험공단 데이터센터</td>\n      <td>O 자체 데이터센터</td>\n      <td>-</td>\n      <td>NaN</td>\n    </tr>\n    <tr>\n      <th>1</th>\n      <td>4213011700204710</td>\n      <td>42130117002047</td>\n      <td>4213011700</td>\n      <td>2047</td>\n      <td>14</td>\n      <td>강원 원주시 입춘로 130(반곡동 2047-14)</td>\n      <td>공공</td>\n      <td>건강보험심사평가원</td>\n      <td>건강보험심사평가원 ICT센터\\n (2사옥)</td>\n      <td>-</td>\n      <td>-</td>\n      <td>NaN</td>\n    </tr>\n    <tr>\n      <th>2</th>\n      <td>4213011700204710</td>\n      <td>42130117002047</td>\n      <td>4213011700</td>\n      <td>2047</td>\n      <td>10</td>\n      <td>강원 원주시 혁신로 60(반곡동 2047-10)</td>\n      <td>공공</td>\n      <td>건강보험심사평가원</td>\n      <td>건강보험심사평가원 ICT센터\\n (1사옥)</td>\n      <td>-</td>\n      <td>-</td>\n      <td>NaN</td>\n    </tr>\n    <tr>\n      <th>3</th>\n      <td>421103102210000</td>\n      <td>42110310221000</td>\n      <td>4211031022</td>\n      <td>1000</td>\n      <td>0</td>\n      <td>강원 춘천시 동면 순환대로 1231</td>\n      <td>민간</td>\n      <td>NAVER</td>\n      <td>네이버 데이터센터 각</td>\n      <td>수력 발전소 통해 전체 전력량 70% 수급</td>\n      <td>-</td>\n      <td>NaN</td>\n    </tr>\n    <tr>\n      <th>4</th>\n      <td>42110126006500</td>\n      <td>4211012600650</td>\n      <td>4211012600</td>\n      <td>650</td>\n      <td>0</td>\n      <td>강원도 춘천시 옛경춘로 409-14</td>\n      <td>민간</td>\n      <td>오라클 춘천</td>\n      <td>오라클 춘천</td>\n      <td>-</td>\n      <td>-</td>\n      <td>NaN</td>\n    </tr>\n  </tbody>\n</table>\n</div>"
     },
     "execution_count": 2,
     "metadata": {},
     "output_type": "execute_result"
    }
   ],
   "source": [
    "df_2.head()"
   ],
   "metadata": {
    "collapsed": false,
    "pycharm": {
     "name": "#%%\n"
    }
   }
  },
  {
   "cell_type": "code",
   "execution_count": 3,
   "outputs": [
    {
     "data": {
      "text/plain": "   Unnamed: 0       시군구법정동번지코드    시군구법정동번코드_x  시군구법정동코드_x   본번  부번  사용량_KWH  \\\n0      362309   30200143008470  3020014300847  3020014300  847   0     1212   \n1      369892   30170106006490  3017010600649  3017010600  649   0  2214336   \n2      378448   30200142001401  3020014200140  3020014200  140   1  4078880   \n3      358633  301101130029374  3011011300293  3011011300  293  74     5000   \n4      361229    3020013000621   302001300062  3020013000   62   1     1294   \n5      361220    3020012800244   302001280024  3020012800   24   4   544032   \n6      360755    3020012300520   302001230052  3020012300   52   0  1819026   \n7      355065   30170106006630  3017010600663  3017010600  663   0   370512   \n8      375951    3020012300529   302001230052  3020012300   52   9  4077489   \n\n     시도명 시군구명 법정동명  ...  시군구법정동코드_y    번   지  \\\n0  대전광역시  유성구  탑립동  ...  3020014300  847   0   \n1  대전광역시   서구  탄방동  ...  3017010600  649   0   \n2  대전광역시  유성구  원촌동  ...  3020014200  140   1   \n3  대전광역시   동구  소제동  ...  3011011300  293  74   \n4  대전광역시  유성구  화암동  ...  3020013000   62   1   \n5  대전광역시  유성구   장동  ...  3020012800   24   4   \n6  대전광역시  유성구  어은동  ...  3020012300   52   0   \n7  대전광역시   서구  탄방동  ...  3017010600  663   0   \n8  대전광역시  유성구  어은동  ...  3020012300   52   9   \n\n                                         주소  분류         기업                이름  \\\n0                           대전 유성구 테크노10로 7  공공     한국조폐공사       성과관리처 경영정보팀   \n1   대전광역시 서구 문정로 48번길 30 KT 탄방사옥 3F 대전IDC센터  통신         KT         KT 대전 IDC   \n2         대전광역시 유성구 원촌동 엑스포로 325(원촌동 140-1)  민간     SK C&C          대덕 데이터센터   \n3                             대전 동구 중앙로 240  공공     한국철도공사            통합전산센터   \n4              대전광역시 유성구 대덕대로 755(화암동 62-1)  공공  국가정보자원관리원    국가정보자원관리원 대전센터   \n5                        대전광역시 유성구 가정북로 145   -          -       롯데정보통신 제2센터   \n6                            대전 유성구 과학로 125  공공  한국생명공학연구원            통합전산센터   \n7                      대전광역시 서구 계룡로553번길 66  통신      LG U+        LG U+대전 센터   \n8  대전 유성구 과학로 169-148 한국기초과학지원연구원(어은동 52-9)  공공    기초과학연구원  기초과학연구원 본원 데이터센터   \n\n           비고 임차여부 전력사용량  \n0           -    -   NaN  \n1           -    -   NaN  \n2           -    -   NaN  \n3           -    -   NaN  \n4  O 자체 데이터센터    -   NaN  \n5           -    -   NaN  \n6           -    -   NaN  \n7        기타분류    -   NaN  \n8  O 자체 데이터센터    -   NaN  \n\n[9 rows x 25 columns]",
      "text/html": "<div>\n<style scoped>\n    .dataframe tbody tr th:only-of-type {\n        vertical-align: middle;\n    }\n\n    .dataframe tbody tr th {\n        vertical-align: top;\n    }\n\n    .dataframe thead th {\n        text-align: right;\n    }\n</style>\n<table border=\"1\" class=\"dataframe\">\n  <thead>\n    <tr style=\"text-align: right;\">\n      <th></th>\n      <th>Unnamed: 0</th>\n      <th>시군구법정동번지코드</th>\n      <th>시군구법정동번코드_x</th>\n      <th>시군구법정동코드_x</th>\n      <th>본번</th>\n      <th>부번</th>\n      <th>사용량_KWH</th>\n      <th>시도명</th>\n      <th>시군구명</th>\n      <th>법정동명</th>\n      <th>...</th>\n      <th>시군구법정동코드_y</th>\n      <th>번</th>\n      <th>지</th>\n      <th>주소</th>\n      <th>분류</th>\n      <th>기업</th>\n      <th>이름</th>\n      <th>비고</th>\n      <th>임차여부</th>\n      <th>전력사용량</th>\n    </tr>\n  </thead>\n  <tbody>\n    <tr>\n      <th>0</th>\n      <td>362309</td>\n      <td>30200143008470</td>\n      <td>3020014300847</td>\n      <td>3020014300</td>\n      <td>847</td>\n      <td>0</td>\n      <td>1212</td>\n      <td>대전광역시</td>\n      <td>유성구</td>\n      <td>탑립동</td>\n      <td>...</td>\n      <td>3020014300</td>\n      <td>847</td>\n      <td>0</td>\n      <td>대전 유성구 테크노10로 7</td>\n      <td>공공</td>\n      <td>한국조폐공사</td>\n      <td>성과관리처 경영정보팀</td>\n      <td>-</td>\n      <td>-</td>\n      <td>NaN</td>\n    </tr>\n    <tr>\n      <th>1</th>\n      <td>369892</td>\n      <td>30170106006490</td>\n      <td>3017010600649</td>\n      <td>3017010600</td>\n      <td>649</td>\n      <td>0</td>\n      <td>2214336</td>\n      <td>대전광역시</td>\n      <td>서구</td>\n      <td>탄방동</td>\n      <td>...</td>\n      <td>3017010600</td>\n      <td>649</td>\n      <td>0</td>\n      <td>대전광역시 서구 문정로 48번길 30 KT 탄방사옥 3F 대전IDC센터</td>\n      <td>통신</td>\n      <td>KT</td>\n      <td>KT 대전 IDC</td>\n      <td>-</td>\n      <td>-</td>\n      <td>NaN</td>\n    </tr>\n    <tr>\n      <th>2</th>\n      <td>378448</td>\n      <td>30200142001401</td>\n      <td>3020014200140</td>\n      <td>3020014200</td>\n      <td>140</td>\n      <td>1</td>\n      <td>4078880</td>\n      <td>대전광역시</td>\n      <td>유성구</td>\n      <td>원촌동</td>\n      <td>...</td>\n      <td>3020014200</td>\n      <td>140</td>\n      <td>1</td>\n      <td>대전광역시 유성구 원촌동 엑스포로 325(원촌동 140-1)</td>\n      <td>민간</td>\n      <td>SK C&amp;C</td>\n      <td>대덕 데이터센터</td>\n      <td>-</td>\n      <td>-</td>\n      <td>NaN</td>\n    </tr>\n    <tr>\n      <th>3</th>\n      <td>358633</td>\n      <td>301101130029374</td>\n      <td>3011011300293</td>\n      <td>3011011300</td>\n      <td>293</td>\n      <td>74</td>\n      <td>5000</td>\n      <td>대전광역시</td>\n      <td>동구</td>\n      <td>소제동</td>\n      <td>...</td>\n      <td>3011011300</td>\n      <td>293</td>\n      <td>74</td>\n      <td>대전 동구 중앙로 240</td>\n      <td>공공</td>\n      <td>한국철도공사</td>\n      <td>통합전산센터</td>\n      <td>-</td>\n      <td>-</td>\n      <td>NaN</td>\n    </tr>\n    <tr>\n      <th>4</th>\n      <td>361229</td>\n      <td>3020013000621</td>\n      <td>302001300062</td>\n      <td>3020013000</td>\n      <td>62</td>\n      <td>1</td>\n      <td>1294</td>\n      <td>대전광역시</td>\n      <td>유성구</td>\n      <td>화암동</td>\n      <td>...</td>\n      <td>3020013000</td>\n      <td>62</td>\n      <td>1</td>\n      <td>대전광역시 유성구 대덕대로 755(화암동 62-1)</td>\n      <td>공공</td>\n      <td>국가정보자원관리원</td>\n      <td>국가정보자원관리원 대전센터</td>\n      <td>O 자체 데이터센터</td>\n      <td>-</td>\n      <td>NaN</td>\n    </tr>\n    <tr>\n      <th>5</th>\n      <td>361220</td>\n      <td>3020012800244</td>\n      <td>302001280024</td>\n      <td>3020012800</td>\n      <td>24</td>\n      <td>4</td>\n      <td>544032</td>\n      <td>대전광역시</td>\n      <td>유성구</td>\n      <td>장동</td>\n      <td>...</td>\n      <td>3020012800</td>\n      <td>24</td>\n      <td>4</td>\n      <td>대전광역시 유성구 가정북로 145</td>\n      <td>-</td>\n      <td>-</td>\n      <td>롯데정보통신 제2센터</td>\n      <td>-</td>\n      <td>-</td>\n      <td>NaN</td>\n    </tr>\n    <tr>\n      <th>6</th>\n      <td>360755</td>\n      <td>3020012300520</td>\n      <td>302001230052</td>\n      <td>3020012300</td>\n      <td>52</td>\n      <td>0</td>\n      <td>1819026</td>\n      <td>대전광역시</td>\n      <td>유성구</td>\n      <td>어은동</td>\n      <td>...</td>\n      <td>3020012300</td>\n      <td>52</td>\n      <td>0</td>\n      <td>대전 유성구 과학로 125</td>\n      <td>공공</td>\n      <td>한국생명공학연구원</td>\n      <td>통합전산센터</td>\n      <td>-</td>\n      <td>-</td>\n      <td>NaN</td>\n    </tr>\n    <tr>\n      <th>7</th>\n      <td>355065</td>\n      <td>30170106006630</td>\n      <td>3017010600663</td>\n      <td>3017010600</td>\n      <td>663</td>\n      <td>0</td>\n      <td>370512</td>\n      <td>대전광역시</td>\n      <td>서구</td>\n      <td>탄방동</td>\n      <td>...</td>\n      <td>3017010600</td>\n      <td>663</td>\n      <td>0</td>\n      <td>대전광역시 서구 계룡로553번길 66</td>\n      <td>통신</td>\n      <td>LG U+</td>\n      <td>LG U+대전 센터</td>\n      <td>기타분류</td>\n      <td>-</td>\n      <td>NaN</td>\n    </tr>\n    <tr>\n      <th>8</th>\n      <td>375951</td>\n      <td>3020012300529</td>\n      <td>302001230052</td>\n      <td>3020012300</td>\n      <td>52</td>\n      <td>9</td>\n      <td>4077489</td>\n      <td>대전광역시</td>\n      <td>유성구</td>\n      <td>어은동</td>\n      <td>...</td>\n      <td>3020012300</td>\n      <td>52</td>\n      <td>9</td>\n      <td>대전 유성구 과학로 169-148 한국기초과학지원연구원(어은동 52-9)</td>\n      <td>공공</td>\n      <td>기초과학연구원</td>\n      <td>기초과학연구원 본원 데이터센터</td>\n      <td>O 자체 데이터센터</td>\n      <td>-</td>\n      <td>NaN</td>\n    </tr>\n  </tbody>\n</table>\n<p>9 rows × 25 columns</p>\n</div>"
     },
     "execution_count": 3,
     "metadata": {},
     "output_type": "execute_result"
    }
   ],
   "source": [
    "df_3 = pd.merge(df, df_2, how='inner' , on='시군구법정동번지코드')\n",
    "\n",
    "df_3"
   ],
   "metadata": {
    "collapsed": false,
    "pycharm": {
     "name": "#%%\n"
    }
   }
  },
  {
   "cell_type": "code",
   "execution_count": 4,
   "outputs": [],
   "source": [
    "df_3.to_csv(\"대전광역시_전력사용량.csv\" , mode = 'w' , encoding= 'cp949')"
   ],
   "metadata": {
    "collapsed": false,
    "pycharm": {
     "name": "#%%\n"
    }
   }
  },
  {
   "cell_type": "code",
   "execution_count": null,
   "outputs": [],
   "source": [],
   "metadata": {
    "collapsed": false,
    "pycharm": {
     "name": "#%%\n"
    }
   }
  }
 ],
 "metadata": {
  "kernelspec": {
   "display_name": "Python 3",
   "language": "python",
   "name": "python3"
  },
  "language_info": {
   "codemirror_mode": {
    "name": "ipython",
    "version": 2
   },
   "file_extension": ".py",
   "mimetype": "text/x-python",
   "name": "python",
   "nbconvert_exporter": "python",
   "pygments_lexer": "ipython2",
   "version": "2.7.6"
  }
 },
 "nbformat": 4,
 "nbformat_minor": 0
}