{
 "cells": [
  {
   "cell_type": "code",
   "execution_count": 1,
   "metadata": {
    "collapsed": true,
    "pycharm": {
     "name": "#%%\n"
    }
   },
   "outputs": [
    {
     "data": {
      "text/plain": "   Unnamed: 0      시군구법정동번지코드   본번  부번  사용량_KWH   시도명 시군구명 법정동명  \\\n0      781253  43130104002230  223   0     4462  충청북도  충주시  충인동   \n1      781231  43130103004910  491   0     1246  충청북도  충주시  성서동   \n2      781232  43130103005050  505   0     4603  충청북도  충주시  성서동   \n3      781233  43130103005050  505   0     4603  충청북도  충주시  성서동   \n4      781234  43130103005070  507   0      926  충청북도  충주시  성서동   \n\n         새주소대로로코드 새주소대로로명  새주소본번 새주소부번  \n0  431304515371.0    충인5길   13.0   1.0  \n1  431304514805.0    성서8길    7.0   0.0  \n2  431304514804.0    성서7길    2.0   0.0  \n3  431304514804.0    성서7길    4.0   0.0  \n4  431303238029.0     사직로  191.0   3.0  ",
      "text/html": "<div>\n<style scoped>\n    .dataframe tbody tr th:only-of-type {\n        vertical-align: middle;\n    }\n\n    .dataframe tbody tr th {\n        vertical-align: top;\n    }\n\n    .dataframe thead th {\n        text-align: right;\n    }\n</style>\n<table border=\"1\" class=\"dataframe\">\n  <thead>\n    <tr style=\"text-align: right;\">\n      <th></th>\n      <th>Unnamed: 0</th>\n      <th>시군구법정동번지코드</th>\n      <th>본번</th>\n      <th>부번</th>\n      <th>사용량_KWH</th>\n      <th>시도명</th>\n      <th>시군구명</th>\n      <th>법정동명</th>\n      <th>새주소대로로코드</th>\n      <th>새주소대로로명</th>\n      <th>새주소본번</th>\n      <th>새주소부번</th>\n    </tr>\n  </thead>\n  <tbody>\n    <tr>\n      <th>0</th>\n      <td>781253</td>\n      <td>43130104002230</td>\n      <td>223</td>\n      <td>0</td>\n      <td>4462</td>\n      <td>충청북도</td>\n      <td>충주시</td>\n      <td>충인동</td>\n      <td>431304515371.0</td>\n      <td>충인5길</td>\n      <td>13.0</td>\n      <td>1.0</td>\n    </tr>\n    <tr>\n      <th>1</th>\n      <td>781231</td>\n      <td>43130103004910</td>\n      <td>491</td>\n      <td>0</td>\n      <td>1246</td>\n      <td>충청북도</td>\n      <td>충주시</td>\n      <td>성서동</td>\n      <td>431304514805.0</td>\n      <td>성서8길</td>\n      <td>7.0</td>\n      <td>0.0</td>\n    </tr>\n    <tr>\n      <th>2</th>\n      <td>781232</td>\n      <td>43130103005050</td>\n      <td>505</td>\n      <td>0</td>\n      <td>4603</td>\n      <td>충청북도</td>\n      <td>충주시</td>\n      <td>성서동</td>\n      <td>431304514804.0</td>\n      <td>성서7길</td>\n      <td>2.0</td>\n      <td>0.0</td>\n    </tr>\n    <tr>\n      <th>3</th>\n      <td>781233</td>\n      <td>43130103005050</td>\n      <td>505</td>\n      <td>0</td>\n      <td>4603</td>\n      <td>충청북도</td>\n      <td>충주시</td>\n      <td>성서동</td>\n      <td>431304514804.0</td>\n      <td>성서7길</td>\n      <td>4.0</td>\n      <td>0.0</td>\n    </tr>\n    <tr>\n      <th>4</th>\n      <td>781234</td>\n      <td>43130103005070</td>\n      <td>507</td>\n      <td>0</td>\n      <td>926</td>\n      <td>충청북도</td>\n      <td>충주시</td>\n      <td>성서동</td>\n      <td>431303238029.0</td>\n      <td>사직로</td>\n      <td>191.0</td>\n      <td>3.0</td>\n    </tr>\n  </tbody>\n</table>\n</div>"
     },
     "execution_count": 1,
     "metadata": {},
     "output_type": "execute_result"
    }
   ],
   "source": [
    "import pandas as pd\n",
    "\n",
    "\n",
    "df = pd.read_csv('충청북도.csv' , encoding = 'cp949')\n",
    "df_2 = pd.read_csv('../../../../데이터센터정리.csv' , encoding = 'cp949')\n",
    "\n",
    "df = df.astype({'시군구법정동번지코드' : 'str'})\n",
    "                 #'시군구법정동번코드' : 'str'})\n",
    "df.head()"
   ]
  },
  {
   "cell_type": "code",
   "execution_count": 2,
   "outputs": [
    {
     "name": "stdout",
     "output_type": "stream",
     "text": [
      "Unnamed: 0     int64\n",
      "시군구법정동번지코드    object\n",
      "본번             int64\n",
      "부번             int64\n",
      "사용량_KWH        int64\n",
      "시도명           object\n",
      "시군구명          object\n",
      "법정동명          object\n",
      "새주소대로로코드      object\n",
      "새주소대로로명       object\n",
      "새주소본번         object\n",
      "새주소부번         object\n",
      "dtype: object\n"
     ]
    }
   ],
   "source": [
    "print(df.dtypes)"
   ],
   "metadata": {
    "collapsed": false,
    "pycharm": {
     "name": "#%%\n"
    }
   }
  },
  {
   "cell_type": "code",
   "execution_count": 3,
   "outputs": [],
   "source": [
    "#df_2 = df_2.astype({'시군구법정동번지코드' : 'float'})"
   ],
   "metadata": {
    "collapsed": false,
    "pycharm": {
     "name": "#%%\n"
    }
   }
  },
  {
   "cell_type": "code",
   "execution_count": 4,
   "outputs": [
    {
     "name": "stdout",
     "output_type": "stream",
     "text": [
      "시군구법정동번지코드    object\n",
      "시군구법정동번코드     object\n",
      "시군구법정동코드       int64\n",
      "번             object\n",
      "지             object\n",
      "주소            object\n",
      "분류            object\n",
      "기업            object\n",
      "이름            object\n",
      "비고            object\n",
      "임차여부          object\n",
      "dtype: object\n"
     ]
    }
   ],
   "source": [
    "print(df_2.dtypes)"
   ],
   "metadata": {
    "collapsed": false,
    "pycharm": {
     "name": "#%%\n"
    }
   }
  },
  {
   "cell_type": "code",
   "execution_count": 5,
   "outputs": [
    {
     "data": {
      "text/plain": "         시군구법정동번지코드    시군구법정동번코드    시군구법정동코드     번   지  \\\n0   421301170018946  4.21301E+13  4213011700  1894   6   \n1  4213011700204710  4.21301E+13  4213011700  2047  14   \n2  4213011700204710  4.21301E+13  4213011700  2047  10   \n3   421103102210000  4.21103E+13  4211031022  1000   0   \n4    42110126006500  4.21101E+12  4211012600   650   0   \n\n                            주소  분류         기업                       이름  \\\n0    강원 원주시 건강로 32(반곡동 1894-6)  공공   국민건강보험공단           국민건강보험공단 데이터센터   \n1  강원 원주시 입춘로 130(반곡동 2047-14)  공공  건강보험심사평가원  건강보험심사평가원 ICT센터\\n (2사옥)   \n2   강원 원주시 혁신로 60(반곡동 2047-10)  공공  건강보험심사평가원  건강보험심사평가원 ICT센터\\n (1사옥)   \n3          강원 춘천시 동면 순환대로 1231  민간      NAVER              네이버 데이터센터 각   \n4          강원도 춘천시 옛경춘로 409-14  민간     오라클 춘천                   오라클 춘천   \n\n                        비고 임차여부  \n0               O 자체 데이터센터    -  \n1                        -    -  \n2                        -    -  \n3  수력 발전소 통해 전체 전력량 70% 수급    -  \n4                        -    -  ",
      "text/html": "<div>\n<style scoped>\n    .dataframe tbody tr th:only-of-type {\n        vertical-align: middle;\n    }\n\n    .dataframe tbody tr th {\n        vertical-align: top;\n    }\n\n    .dataframe thead th {\n        text-align: right;\n    }\n</style>\n<table border=\"1\" class=\"dataframe\">\n  <thead>\n    <tr style=\"text-align: right;\">\n      <th></th>\n      <th>시군구법정동번지코드</th>\n      <th>시군구법정동번코드</th>\n      <th>시군구법정동코드</th>\n      <th>번</th>\n      <th>지</th>\n      <th>주소</th>\n      <th>분류</th>\n      <th>기업</th>\n      <th>이름</th>\n      <th>비고</th>\n      <th>임차여부</th>\n    </tr>\n  </thead>\n  <tbody>\n    <tr>\n      <th>0</th>\n      <td>421301170018946</td>\n      <td>4.21301E+13</td>\n      <td>4213011700</td>\n      <td>1894</td>\n      <td>6</td>\n      <td>강원 원주시 건강로 32(반곡동 1894-6)</td>\n      <td>공공</td>\n      <td>국민건강보험공단</td>\n      <td>국민건강보험공단 데이터센터</td>\n      <td>O 자체 데이터센터</td>\n      <td>-</td>\n    </tr>\n    <tr>\n      <th>1</th>\n      <td>4213011700204710</td>\n      <td>4.21301E+13</td>\n      <td>4213011700</td>\n      <td>2047</td>\n      <td>14</td>\n      <td>강원 원주시 입춘로 130(반곡동 2047-14)</td>\n      <td>공공</td>\n      <td>건강보험심사평가원</td>\n      <td>건강보험심사평가원 ICT센터\\n (2사옥)</td>\n      <td>-</td>\n      <td>-</td>\n    </tr>\n    <tr>\n      <th>2</th>\n      <td>4213011700204710</td>\n      <td>4.21301E+13</td>\n      <td>4213011700</td>\n      <td>2047</td>\n      <td>10</td>\n      <td>강원 원주시 혁신로 60(반곡동 2047-10)</td>\n      <td>공공</td>\n      <td>건강보험심사평가원</td>\n      <td>건강보험심사평가원 ICT센터\\n (1사옥)</td>\n      <td>-</td>\n      <td>-</td>\n    </tr>\n    <tr>\n      <th>3</th>\n      <td>421103102210000</td>\n      <td>4.21103E+13</td>\n      <td>4211031022</td>\n      <td>1000</td>\n      <td>0</td>\n      <td>강원 춘천시 동면 순환대로 1231</td>\n      <td>민간</td>\n      <td>NAVER</td>\n      <td>네이버 데이터센터 각</td>\n      <td>수력 발전소 통해 전체 전력량 70% 수급</td>\n      <td>-</td>\n    </tr>\n    <tr>\n      <th>4</th>\n      <td>42110126006500</td>\n      <td>4.21101E+12</td>\n      <td>4211012600</td>\n      <td>650</td>\n      <td>0</td>\n      <td>강원도 춘천시 옛경춘로 409-14</td>\n      <td>민간</td>\n      <td>오라클 춘천</td>\n      <td>오라클 춘천</td>\n      <td>-</td>\n      <td>-</td>\n    </tr>\n  </tbody>\n</table>\n</div>"
     },
     "execution_count": 5,
     "metadata": {},
     "output_type": "execute_result"
    }
   ],
   "source": [
    "df_2.head()"
   ],
   "metadata": {
    "collapsed": false,
    "pycharm": {
     "name": "#%%\n"
    }
   }
  },
  {
   "cell_type": "code",
   "execution_count": 6,
   "outputs": [
    {
     "data": {
      "text/plain": "   Unnamed: 0       시군구법정동번지코드    본번  부번  사용량_KWH   시도명     시군구명     법정동명  \\\n0      804870  437703302814450  1445   0     2066  충청북도      음성군  맹동면 두성리   \n1      754257  431121060013900  1390   0   761112  충청북도  청주시 서원구      분평동   \n\n         새주소대로로코드     새주소대로로명  ...    시군구법정동번코드    시군구법정동코드     번  지  \\\n0  437704541728.0         태정로  ...  4.37703E+13  4377033028  1445  0   \n1  431124512137.0  1순환로1063번길  ...  4.31121E+13  4311210600  1390  0   \n\n                                       주소  분류       기업           이름 비고 임차여부  \n0                충북 음성군 맹동면 태정로 6 한국고용정보원  공공  한국고용정보원  한국고용정보원 전산실  -    -  \n1  충청북도 청주시 서원구 1순환로 1063번길 12 (분평동 1390)  통신       KT    KT 청주 IDC  -    -  \n\n[2 rows x 22 columns]",
      "text/html": "<div>\n<style scoped>\n    .dataframe tbody tr th:only-of-type {\n        vertical-align: middle;\n    }\n\n    .dataframe tbody tr th {\n        vertical-align: top;\n    }\n\n    .dataframe thead th {\n        text-align: right;\n    }\n</style>\n<table border=\"1\" class=\"dataframe\">\n  <thead>\n    <tr style=\"text-align: right;\">\n      <th></th>\n      <th>Unnamed: 0</th>\n      <th>시군구법정동번지코드</th>\n      <th>본번</th>\n      <th>부번</th>\n      <th>사용량_KWH</th>\n      <th>시도명</th>\n      <th>시군구명</th>\n      <th>법정동명</th>\n      <th>새주소대로로코드</th>\n      <th>새주소대로로명</th>\n      <th>...</th>\n      <th>시군구법정동번코드</th>\n      <th>시군구법정동코드</th>\n      <th>번</th>\n      <th>지</th>\n      <th>주소</th>\n      <th>분류</th>\n      <th>기업</th>\n      <th>이름</th>\n      <th>비고</th>\n      <th>임차여부</th>\n    </tr>\n  </thead>\n  <tbody>\n    <tr>\n      <th>0</th>\n      <td>804870</td>\n      <td>437703302814450</td>\n      <td>1445</td>\n      <td>0</td>\n      <td>2066</td>\n      <td>충청북도</td>\n      <td>음성군</td>\n      <td>맹동면 두성리</td>\n      <td>437704541728.0</td>\n      <td>태정로</td>\n      <td>...</td>\n      <td>4.37703E+13</td>\n      <td>4377033028</td>\n      <td>1445</td>\n      <td>0</td>\n      <td>충북 음성군 맹동면 태정로 6 한국고용정보원</td>\n      <td>공공</td>\n      <td>한국고용정보원</td>\n      <td>한국고용정보원 전산실</td>\n      <td>-</td>\n      <td>-</td>\n    </tr>\n    <tr>\n      <th>1</th>\n      <td>754257</td>\n      <td>431121060013900</td>\n      <td>1390</td>\n      <td>0</td>\n      <td>761112</td>\n      <td>충청북도</td>\n      <td>청주시 서원구</td>\n      <td>분평동</td>\n      <td>431124512137.0</td>\n      <td>1순환로1063번길</td>\n      <td>...</td>\n      <td>4.31121E+13</td>\n      <td>4311210600</td>\n      <td>1390</td>\n      <td>0</td>\n      <td>충청북도 청주시 서원구 1순환로 1063번길 12 (분평동 1390)</td>\n      <td>통신</td>\n      <td>KT</td>\n      <td>KT 청주 IDC</td>\n      <td>-</td>\n      <td>-</td>\n    </tr>\n  </tbody>\n</table>\n<p>2 rows × 22 columns</p>\n</div>"
     },
     "execution_count": 6,
     "metadata": {},
     "output_type": "execute_result"
    }
   ],
   "source": [
    "df_3 = pd.merge(df, df_2, how='inner' , on='시군구법정동번지코드')\n",
    "\n",
    "df_3"
   ],
   "metadata": {
    "collapsed": false,
    "pycharm": {
     "name": "#%%\n"
    }
   }
  },
  {
   "cell_type": "code",
   "execution_count": 7,
   "outputs": [],
   "source": [
    "df_3.to_csv(\"충청북도_전력사용량.csv\" , mode = 'w' , encoding= 'cp949')"
   ],
   "metadata": {
    "collapsed": false,
    "pycharm": {
     "name": "#%%\n"
    }
   }
  },
  {
   "cell_type": "code",
   "execution_count": null,
   "outputs": [],
   "source": [],
   "metadata": {
    "collapsed": false,
    "pycharm": {
     "name": "#%%\n"
    }
   }
  },
  {
   "cell_type": "markdown",
   "source": [],
   "metadata": {
    "collapsed": false,
    "pycharm": {
     "name": "#%% md\n"
    }
   }
  },
  {
   "cell_type": "markdown",
   "source": [],
   "metadata": {
    "collapsed": false,
    "pycharm": {
     "name": "#%% md\n"
    }
   }
  }
 ],
 "metadata": {
  "kernelspec": {
   "display_name": "Python 3",
   "language": "python",
   "name": "python3"
  },
  "language_info": {
   "codemirror_mode": {
    "name": "ipython",
    "version": 2
   },
   "file_extension": ".py",
   "mimetype": "text/x-python",
   "name": "python",
   "nbconvert_exporter": "python",
   "pygments_lexer": "ipython2",
   "version": "2.7.6"
  }
 },
 "nbformat": 4,
 "nbformat_minor": 0
}