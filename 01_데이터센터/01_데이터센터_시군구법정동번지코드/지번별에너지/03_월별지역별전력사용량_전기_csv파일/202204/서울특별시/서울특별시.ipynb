{
 "cells": [
  {
   "cell_type": "code",
   "execution_count": 1,
   "metadata": {
    "collapsed": true,
    "pycharm": {
     "name": "#%%\n"
    }
   },
   "outputs": [
    {
     "data": {
      "text/plain": "   Unnamed: 0       시군구법정동번지코드   본번   부번  사용량_KWH    시도명 시군구명 법정동명  \\\n0           0     111101010060    6    0      346  서울특별시  종로구  청운동   \n1      126426   11680111005830  583    0    20455  서울특별시  강남구  세곡동   \n2       66861  113801060088354   88  354      283  서울특별시  은평구  대조동   \n3       66860  113801060088242   88  242      510  서울특별시  은평구  대조동   \n4       66859  113801060087135   87  135     4831  서울특별시  은평구  대조동   \n\n         새주소대로로코드  새주소대로로명 새주소본번 새주소부번  \n0               -        -     -     -  \n1  116804166877.0  헌릉로571길   9.0   0.0  \n2  113804133133.0   역말로10길   1.0   2.0  \n3  113804133132.0  역말로10가길   5.0   1.0  \n4               -        -     -     -  ",
      "text/html": "<div>\n<style scoped>\n    .dataframe tbody tr th:only-of-type {\n        vertical-align: middle;\n    }\n\n    .dataframe tbody tr th {\n        vertical-align: top;\n    }\n\n    .dataframe thead th {\n        text-align: right;\n    }\n</style>\n<table border=\"1\" class=\"dataframe\">\n  <thead>\n    <tr style=\"text-align: right;\">\n      <th></th>\n      <th>Unnamed: 0</th>\n      <th>시군구법정동번지코드</th>\n      <th>본번</th>\n      <th>부번</th>\n      <th>사용량_KWH</th>\n      <th>시도명</th>\n      <th>시군구명</th>\n      <th>법정동명</th>\n      <th>새주소대로로코드</th>\n      <th>새주소대로로명</th>\n      <th>새주소본번</th>\n      <th>새주소부번</th>\n    </tr>\n  </thead>\n  <tbody>\n    <tr>\n      <th>0</th>\n      <td>0</td>\n      <td>111101010060</td>\n      <td>6</td>\n      <td>0</td>\n      <td>346</td>\n      <td>서울특별시</td>\n      <td>종로구</td>\n      <td>청운동</td>\n      <td>-</td>\n      <td>-</td>\n      <td>-</td>\n      <td>-</td>\n    </tr>\n    <tr>\n      <th>1</th>\n      <td>126426</td>\n      <td>11680111005830</td>\n      <td>583</td>\n      <td>0</td>\n      <td>20455</td>\n      <td>서울특별시</td>\n      <td>강남구</td>\n      <td>세곡동</td>\n      <td>116804166877.0</td>\n      <td>헌릉로571길</td>\n      <td>9.0</td>\n      <td>0.0</td>\n    </tr>\n    <tr>\n      <th>2</th>\n      <td>66861</td>\n      <td>113801060088354</td>\n      <td>88</td>\n      <td>354</td>\n      <td>283</td>\n      <td>서울특별시</td>\n      <td>은평구</td>\n      <td>대조동</td>\n      <td>113804133133.0</td>\n      <td>역말로10길</td>\n      <td>1.0</td>\n      <td>2.0</td>\n    </tr>\n    <tr>\n      <th>3</th>\n      <td>66860</td>\n      <td>113801060088242</td>\n      <td>88</td>\n      <td>242</td>\n      <td>510</td>\n      <td>서울특별시</td>\n      <td>은평구</td>\n      <td>대조동</td>\n      <td>113804133132.0</td>\n      <td>역말로10가길</td>\n      <td>5.0</td>\n      <td>1.0</td>\n    </tr>\n    <tr>\n      <th>4</th>\n      <td>66859</td>\n      <td>113801060087135</td>\n      <td>87</td>\n      <td>135</td>\n      <td>4831</td>\n      <td>서울특별시</td>\n      <td>은평구</td>\n      <td>대조동</td>\n      <td>-</td>\n      <td>-</td>\n      <td>-</td>\n      <td>-</td>\n    </tr>\n  </tbody>\n</table>\n</div>"
     },
     "execution_count": 1,
     "metadata": {},
     "output_type": "execute_result"
    }
   ],
   "source": [
    "import pandas as pd\n",
    "\n",
    "\n",
    "df = pd.read_csv('서울특별시.csv' , encoding = 'cp949')\n",
    "df_2 = pd.read_csv('../../../../데이터센터정리.csv' , encoding = 'cp949')\n",
    "\n",
    "df = df.astype({'시군구법정동번지코드' : 'str'})\n",
    "                 #'시군구법정동번코드' : 'str'})\n",
    "df.head()"
   ]
  },
  {
   "cell_type": "code",
   "execution_count": 2,
   "outputs": [
    {
     "name": "stdout",
     "output_type": "stream",
     "text": [
      "Unnamed: 0     int64\n",
      "시군구법정동번지코드    object\n",
      "본번             int64\n",
      "부번             int64\n",
      "사용량_KWH        int64\n",
      "시도명           object\n",
      "시군구명          object\n",
      "법정동명          object\n",
      "새주소대로로코드      object\n",
      "새주소대로로명       object\n",
      "새주소본번         object\n",
      "새주소부번         object\n",
      "dtype: object\n"
     ]
    }
   ],
   "source": [
    "print(df.dtypes)"
   ],
   "metadata": {
    "collapsed": false,
    "pycharm": {
     "name": "#%%\n"
    }
   }
  },
  {
   "cell_type": "code",
   "execution_count": 3,
   "outputs": [],
   "source": [
    "#df_2 = df_2.astype({'시군구법정동번지코드' : 'float'})"
   ],
   "metadata": {
    "collapsed": false,
    "pycharm": {
     "name": "#%%\n"
    }
   }
  },
  {
   "cell_type": "code",
   "execution_count": 4,
   "outputs": [
    {
     "name": "stdout",
     "output_type": "stream",
     "text": [
      "시군구법정동번지코드    object\n",
      "시군구법정동번코드     object\n",
      "시군구법정동코드       int64\n",
      "번             object\n",
      "지             object\n",
      "주소            object\n",
      "분류            object\n",
      "기업            object\n",
      "이름            object\n",
      "비고            object\n",
      "임차여부          object\n",
      "dtype: object\n"
     ]
    }
   ],
   "source": [
    "print(df_2.dtypes)"
   ],
   "metadata": {
    "collapsed": false,
    "pycharm": {
     "name": "#%%\n"
    }
   }
  },
  {
   "cell_type": "code",
   "execution_count": 5,
   "outputs": [
    {
     "data": {
      "text/plain": "         시군구법정동번지코드    시군구법정동번코드    시군구법정동코드     번   지  \\\n0   421301170018946  4.21301E+13  4213011700  1894   6   \n1  4213011700204710  4.21301E+13  4213011700  2047  14   \n2  4213011700204710  4.21301E+13  4213011700  2047  10   \n3   421103102210000  4.21103E+13  4211031022  1000   0   \n4    42110126006500  4.21101E+12  4211012600   650   0   \n\n                            주소  분류         기업                       이름  \\\n0    강원 원주시 건강로 32(반곡동 1894-6)  공공   국민건강보험공단           국민건강보험공단 데이터센터   \n1  강원 원주시 입춘로 130(반곡동 2047-14)  공공  건강보험심사평가원  건강보험심사평가원 ICT센터\\n (2사옥)   \n2   강원 원주시 혁신로 60(반곡동 2047-10)  공공  건강보험심사평가원  건강보험심사평가원 ICT센터\\n (1사옥)   \n3          강원 춘천시 동면 순환대로 1231  민간      NAVER              네이버 데이터센터 각   \n4          강원도 춘천시 옛경춘로 409-14  민간     오라클 춘천                   오라클 춘천   \n\n                        비고 임차여부  \n0               O 자체 데이터센터    -  \n1                        -    -  \n2                        -    -  \n3  수력 발전소 통해 전체 전력량 70% 수급    -  \n4                        -    -  ",
      "text/html": "<div>\n<style scoped>\n    .dataframe tbody tr th:only-of-type {\n        vertical-align: middle;\n    }\n\n    .dataframe tbody tr th {\n        vertical-align: top;\n    }\n\n    .dataframe thead th {\n        text-align: right;\n    }\n</style>\n<table border=\"1\" class=\"dataframe\">\n  <thead>\n    <tr style=\"text-align: right;\">\n      <th></th>\n      <th>시군구법정동번지코드</th>\n      <th>시군구법정동번코드</th>\n      <th>시군구법정동코드</th>\n      <th>번</th>\n      <th>지</th>\n      <th>주소</th>\n      <th>분류</th>\n      <th>기업</th>\n      <th>이름</th>\n      <th>비고</th>\n      <th>임차여부</th>\n    </tr>\n  </thead>\n  <tbody>\n    <tr>\n      <th>0</th>\n      <td>421301170018946</td>\n      <td>4.21301E+13</td>\n      <td>4213011700</td>\n      <td>1894</td>\n      <td>6</td>\n      <td>강원 원주시 건강로 32(반곡동 1894-6)</td>\n      <td>공공</td>\n      <td>국민건강보험공단</td>\n      <td>국민건강보험공단 데이터센터</td>\n      <td>O 자체 데이터센터</td>\n      <td>-</td>\n    </tr>\n    <tr>\n      <th>1</th>\n      <td>4213011700204710</td>\n      <td>4.21301E+13</td>\n      <td>4213011700</td>\n      <td>2047</td>\n      <td>14</td>\n      <td>강원 원주시 입춘로 130(반곡동 2047-14)</td>\n      <td>공공</td>\n      <td>건강보험심사평가원</td>\n      <td>건강보험심사평가원 ICT센터\\n (2사옥)</td>\n      <td>-</td>\n      <td>-</td>\n    </tr>\n    <tr>\n      <th>2</th>\n      <td>4213011700204710</td>\n      <td>4.21301E+13</td>\n      <td>4213011700</td>\n      <td>2047</td>\n      <td>10</td>\n      <td>강원 원주시 혁신로 60(반곡동 2047-10)</td>\n      <td>공공</td>\n      <td>건강보험심사평가원</td>\n      <td>건강보험심사평가원 ICT센터\\n (1사옥)</td>\n      <td>-</td>\n      <td>-</td>\n    </tr>\n    <tr>\n      <th>3</th>\n      <td>421103102210000</td>\n      <td>4.21103E+13</td>\n      <td>4211031022</td>\n      <td>1000</td>\n      <td>0</td>\n      <td>강원 춘천시 동면 순환대로 1231</td>\n      <td>민간</td>\n      <td>NAVER</td>\n      <td>네이버 데이터센터 각</td>\n      <td>수력 발전소 통해 전체 전력량 70% 수급</td>\n      <td>-</td>\n    </tr>\n    <tr>\n      <th>4</th>\n      <td>42110126006500</td>\n      <td>4.21101E+12</td>\n      <td>4211012600</td>\n      <td>650</td>\n      <td>0</td>\n      <td>강원도 춘천시 옛경춘로 409-14</td>\n      <td>민간</td>\n      <td>오라클 춘천</td>\n      <td>오라클 춘천</td>\n      <td>-</td>\n      <td>-</td>\n    </tr>\n  </tbody>\n</table>\n</div>"
     },
     "execution_count": 5,
     "metadata": {},
     "output_type": "execute_result"
    }
   ],
   "source": [
    "df_2.head()"
   ],
   "metadata": {
    "collapsed": false,
    "pycharm": {
     "name": "#%%\n"
    }
   }
  },
  {
   "cell_type": "code",
   "execution_count": 6,
   "outputs": [
    {
     "data": {
      "text/plain": "    Unnamed: 0       시군구법정동번지코드    본번  부번   사용량_KWH    시도명 시군구명   법정동명  \\\n0        67213   11440109001689   168   9    991056  서울특별시  마포구    염리동   \n1        73211  114401270016000  1600   0   5196096  서울특별시  마포구    상암동   \n2        98266   11545101004599   459   9  14658912  서울특별시  금천구    가산동   \n3       122694  116501080014211  1421   1   1503060  서울특별시  서초구    서초동   \n4       125576   11680101006753   675   3    191665  서울특별시  강남구    역삼동   \n5       124883  116501080014231  1423   1   2192745  서울특별시  서초구    서초동   \n6        84072  114401270015850  1585   0   2777072  서울특별시  마포구    상암동   \n7        80218  114401270015970  1597   0    449820  서울특별시  마포구    상암동   \n8        82628   11470102009244   924   4  16482696  서울특별시  양천구     목동   \n9        82365  114401270015860  1586   0   4673160  서울특별시  마포구    상암동   \n10       94470   11545101006029    60  29   1761760  서울특별시  금천구    가산동   \n11       88037   11545101005332   533   2   2323680  서울특별시  금천구    가산동   \n12       91969  115301020019712   197  12   1966669  서울특별시  구로구    구로동   \n13       91969  115301020019712   197  12   1966669  서울특별시  구로구    구로동   \n14      133928   11680108002611   261   1   5789804  서울특별시  강남구    논현동   \n15      126579  116501080017101  1710   1   6544202  서울특별시  서초구    서초동   \n16      137774   11680118004676   467   6   1369623  서울특별시  강남구    도곡동   \n17       27733   11215101003080    30  80    436598  서울특별시  광진구    중곡동   \n18       20648     111701170012     1   2   7137060  서울특별시  용산구  원효로3가   \n\n          새주소대로로코드     새주소대로로명  ...    시군구법정동번코드    시군구법정동코드     번   지  \\\n0   114403113005.0         독막로  ...  1.14401E+12  1144010900   168   9   \n1   114403113019.0       월드컵북로  ...  1.14401E+13  1144012700  1600   0   \n2   115453117001.0     가산디지털1로  ...  1.15451E+12  1154510100   459   9   \n3   116504163077.0  남부순환로337가길  ...  1.16501E+13  1165010800  1421   1   \n4   116803005086.0         언주로  ...  1.16801E+12  1168010100   675   3   \n5   116502000003.0       남부순환로  ...  1.16501E+13  1165010800  1423   1   \n6   114404139555.0    월드컵북로60길  ...  1.14401E+13  1144012700  1585   0   \n7   114404139549.0    월드컵북로54길  ...  1.14401E+13  1144012700  1597   0   \n8   114703114001.0        목동동로  ...  1.14701E+12  1147010200   924   4   \n9   114404139555.0    월드컵북로60길  ...  1.14401E+13  1144012700  1586   0   \n10  115454151005.0       가산로9길  ...  1.15451E+11  1154510100    60  29   \n11  115453117002.0     가산디지털2로  ...  1.15451E+12  1154510100   533   2   \n12  115304148335.0     디지털로31길  ...  1.15301E+12  1153010200   197  12   \n13  115304148335.0     디지털로31길  ...  1.15301E+12  1153010200   197  12   \n14  116803005086.0         언주로  ...  1.16801E+12  1168010800   261   1   \n15  116504163300.0       법원로1길  ...  1.16501E+13  1165010800  1710   1   \n16  116804166604.0      언주로30길  ...  1.16801E+12  1168011800   467   6   \n17               -           -  ...  1.12151E+11  1121510100    30  80   \n18  111704106245.0      원효로41길  ...  11170117001  1117011700     1   2   \n\n                                            주소  분류  \\\n0                      서울특별시 마포구 독막로 311 재화스퀘어  민간   \n1                서울특별시 마포구 월드컵북로 416(상암동 1600)  통신   \n2            서울특별시 금천구 가산디지털1로 189 (가산동 459-9)  통신   \n3              서울 서초구 남부순환로337가길 40(서초동1421-1)  통신   \n4                서울특별시 강남구 언주로 517 (역삼동 675-3)  통신   \n5             서울특별시 서초구 남부순환로 2481(서초동 1423-1)  통신   \n6                         서울시 마포구 월드컵북로 60길 17  금융   \n7             서울 마포구 월드컵북로54길 17 사보이시티 오피스동 4층  공공   \n8                서울시 양천구 목동동로 233-5 (목동 924-4)  통신   \n9   서울 특별시 마포구 월드컵북로 60길 24,서울특별시 마포구 상암동 1586  민간   \n10               서울특별시 금천구 가산동 60-29(가산로9길 80)  통신   \n11                         서울특별시 구로구 가산동 533-2  민간   \n12                          서울 구로구 디지털로 31길 61  민간   \n13            서울특별시 구로구 디지털로 31길 61 KT IDC 남구로  통신   \n14                     서울특별시 강남구 언주로 616 (논현동)  통신   \n15   서울특별시 서초구 법원로 1길 6 (서울특별시 서초구 서초동 1710-1)  통신   \n16              서울특별시 강남구 언주로 30길 13 대림아크로텔 5층  민간   \n17       서울 광진구 능동로 400 보건복지행정타운 20층 한국사회보장정보원  공공   \n18                    서울 용산구 원효로41길 33 KT국제전화국  통신   \n\n                                                   기업               이름  \\\n0                                                다우기술  다우IDC 제 1센터(마포)   \n1                                               LG U+        LG U+상암센터   \n2                                  LG U+, LG CNS,KINX        LG U+가산센터   \n3                                               LG U+      LG U+서초 2센터   \n4                                                  KT         KT 강남IDC   \n5                                               LG U+      LG U+서초 1센터   \n6                                                우리금융       우리금융 데이터센터   \n7                                            한국주택금융공사  한국주택금융공사 상암IT센터   \n8                                     KT,AWS, 메리츠금융그룹       KT 목동IDC 1   \n9   삼성SDS,KINX,에퀴닉스(리츠) (SL1 서울 Equinix Internatio...     삼성SDS 상암IT센터   \n10                                            SK브로드밴드             가산센터   \n11                                             롯데정보통신      롯데정보통신 제1센터   \n12                                               알리바바             알리바바   \n13                                                 KT       KT 남구로 IDC   \n14                                              LG U+        LG U+논현센터   \n15                 SK브로드밴드,다우기술(제2센터),코레일관광개발(주) (공공)             서초센터   \n16                                  KINX (인터넷 인프라 기업)       IDC 도곡 1센터   \n17                                          한국사회보장정보원  한국사회보장정보원 데이터센터   \n18                                                 KT        KT 용산 IDC   \n\n                                     비고 임차여부  \n0                                     -    -  \n1                                     -    -  \n2                                     -    -  \n3                                     -    -  \n4                                     -    -  \n5                                     -    -  \n6                                     -    -  \n7                                     -    -  \n8                                     -    -  \n9                                     -    -  \n10                                    -    -  \n11                                    -    -  \n12                                    -    -  \n13                                    -    -  \n14                                    -    -  \n15                                    -    -  \n16  KINX는 호스트웨이, LG CNS등의 기업을 임차하여 사용 중    -  \n17                                    -    -  \n18                                    -    -  \n\n[19 rows x 22 columns]",
      "text/html": "<div>\n<style scoped>\n    .dataframe tbody tr th:only-of-type {\n        vertical-align: middle;\n    }\n\n    .dataframe tbody tr th {\n        vertical-align: top;\n    }\n\n    .dataframe thead th {\n        text-align: right;\n    }\n</style>\n<table border=\"1\" class=\"dataframe\">\n  <thead>\n    <tr style=\"text-align: right;\">\n      <th></th>\n      <th>Unnamed: 0</th>\n      <th>시군구법정동번지코드</th>\n      <th>본번</th>\n      <th>부번</th>\n      <th>사용량_KWH</th>\n      <th>시도명</th>\n      <th>시군구명</th>\n      <th>법정동명</th>\n      <th>새주소대로로코드</th>\n      <th>새주소대로로명</th>\n      <th>...</th>\n      <th>시군구법정동번코드</th>\n      <th>시군구법정동코드</th>\n      <th>번</th>\n      <th>지</th>\n      <th>주소</th>\n      <th>분류</th>\n      <th>기업</th>\n      <th>이름</th>\n      <th>비고</th>\n      <th>임차여부</th>\n    </tr>\n  </thead>\n  <tbody>\n    <tr>\n      <th>0</th>\n      <td>67213</td>\n      <td>11440109001689</td>\n      <td>168</td>\n      <td>9</td>\n      <td>991056</td>\n      <td>서울특별시</td>\n      <td>마포구</td>\n      <td>염리동</td>\n      <td>114403113005.0</td>\n      <td>독막로</td>\n      <td>...</td>\n      <td>1.14401E+12</td>\n      <td>1144010900</td>\n      <td>168</td>\n      <td>9</td>\n      <td>서울특별시 마포구 독막로 311 재화스퀘어</td>\n      <td>민간</td>\n      <td>다우기술</td>\n      <td>다우IDC 제 1센터(마포)</td>\n      <td>-</td>\n      <td>-</td>\n    </tr>\n    <tr>\n      <th>1</th>\n      <td>73211</td>\n      <td>114401270016000</td>\n      <td>1600</td>\n      <td>0</td>\n      <td>5196096</td>\n      <td>서울특별시</td>\n      <td>마포구</td>\n      <td>상암동</td>\n      <td>114403113019.0</td>\n      <td>월드컵북로</td>\n      <td>...</td>\n      <td>1.14401E+13</td>\n      <td>1144012700</td>\n      <td>1600</td>\n      <td>0</td>\n      <td>서울특별시 마포구 월드컵북로 416(상암동 1600)</td>\n      <td>통신</td>\n      <td>LG U+</td>\n      <td>LG U+상암센터</td>\n      <td>-</td>\n      <td>-</td>\n    </tr>\n    <tr>\n      <th>2</th>\n      <td>98266</td>\n      <td>11545101004599</td>\n      <td>459</td>\n      <td>9</td>\n      <td>14658912</td>\n      <td>서울특별시</td>\n      <td>금천구</td>\n      <td>가산동</td>\n      <td>115453117001.0</td>\n      <td>가산디지털1로</td>\n      <td>...</td>\n      <td>1.15451E+12</td>\n      <td>1154510100</td>\n      <td>459</td>\n      <td>9</td>\n      <td>서울특별시 금천구 가산디지털1로 189 (가산동 459-9)</td>\n      <td>통신</td>\n      <td>LG U+, LG CNS,KINX</td>\n      <td>LG U+가산센터</td>\n      <td>-</td>\n      <td>-</td>\n    </tr>\n    <tr>\n      <th>3</th>\n      <td>122694</td>\n      <td>116501080014211</td>\n      <td>1421</td>\n      <td>1</td>\n      <td>1503060</td>\n      <td>서울특별시</td>\n      <td>서초구</td>\n      <td>서초동</td>\n      <td>116504163077.0</td>\n      <td>남부순환로337가길</td>\n      <td>...</td>\n      <td>1.16501E+13</td>\n      <td>1165010800</td>\n      <td>1421</td>\n      <td>1</td>\n      <td>서울 서초구 남부순환로337가길 40(서초동1421-1)</td>\n      <td>통신</td>\n      <td>LG U+</td>\n      <td>LG U+서초 2센터</td>\n      <td>-</td>\n      <td>-</td>\n    </tr>\n    <tr>\n      <th>4</th>\n      <td>125576</td>\n      <td>11680101006753</td>\n      <td>675</td>\n      <td>3</td>\n      <td>191665</td>\n      <td>서울특별시</td>\n      <td>강남구</td>\n      <td>역삼동</td>\n      <td>116803005086.0</td>\n      <td>언주로</td>\n      <td>...</td>\n      <td>1.16801E+12</td>\n      <td>1168010100</td>\n      <td>675</td>\n      <td>3</td>\n      <td>서울특별시 강남구 언주로 517 (역삼동 675-3)</td>\n      <td>통신</td>\n      <td>KT</td>\n      <td>KT 강남IDC</td>\n      <td>-</td>\n      <td>-</td>\n    </tr>\n    <tr>\n      <th>5</th>\n      <td>124883</td>\n      <td>116501080014231</td>\n      <td>1423</td>\n      <td>1</td>\n      <td>2192745</td>\n      <td>서울특별시</td>\n      <td>서초구</td>\n      <td>서초동</td>\n      <td>116502000003.0</td>\n      <td>남부순환로</td>\n      <td>...</td>\n      <td>1.16501E+13</td>\n      <td>1165010800</td>\n      <td>1423</td>\n      <td>1</td>\n      <td>서울특별시 서초구 남부순환로 2481(서초동 1423-1)</td>\n      <td>통신</td>\n      <td>LG U+</td>\n      <td>LG U+서초 1센터</td>\n      <td>-</td>\n      <td>-</td>\n    </tr>\n    <tr>\n      <th>6</th>\n      <td>84072</td>\n      <td>114401270015850</td>\n      <td>1585</td>\n      <td>0</td>\n      <td>2777072</td>\n      <td>서울특별시</td>\n      <td>마포구</td>\n      <td>상암동</td>\n      <td>114404139555.0</td>\n      <td>월드컵북로60길</td>\n      <td>...</td>\n      <td>1.14401E+13</td>\n      <td>1144012700</td>\n      <td>1585</td>\n      <td>0</td>\n      <td>서울시 마포구 월드컵북로 60길 17</td>\n      <td>금융</td>\n      <td>우리금융</td>\n      <td>우리금융 데이터센터</td>\n      <td>-</td>\n      <td>-</td>\n    </tr>\n    <tr>\n      <th>7</th>\n      <td>80218</td>\n      <td>114401270015970</td>\n      <td>1597</td>\n      <td>0</td>\n      <td>449820</td>\n      <td>서울특별시</td>\n      <td>마포구</td>\n      <td>상암동</td>\n      <td>114404139549.0</td>\n      <td>월드컵북로54길</td>\n      <td>...</td>\n      <td>1.14401E+13</td>\n      <td>1144012700</td>\n      <td>1597</td>\n      <td>0</td>\n      <td>서울 마포구 월드컵북로54길 17 사보이시티 오피스동 4층</td>\n      <td>공공</td>\n      <td>한국주택금융공사</td>\n      <td>한국주택금융공사 상암IT센터</td>\n      <td>-</td>\n      <td>-</td>\n    </tr>\n    <tr>\n      <th>8</th>\n      <td>82628</td>\n      <td>11470102009244</td>\n      <td>924</td>\n      <td>4</td>\n      <td>16482696</td>\n      <td>서울특별시</td>\n      <td>양천구</td>\n      <td>목동</td>\n      <td>114703114001.0</td>\n      <td>목동동로</td>\n      <td>...</td>\n      <td>1.14701E+12</td>\n      <td>1147010200</td>\n      <td>924</td>\n      <td>4</td>\n      <td>서울시 양천구 목동동로 233-5 (목동 924-4)</td>\n      <td>통신</td>\n      <td>KT,AWS, 메리츠금융그룹</td>\n      <td>KT 목동IDC 1</td>\n      <td>-</td>\n      <td>-</td>\n    </tr>\n    <tr>\n      <th>9</th>\n      <td>82365</td>\n      <td>114401270015860</td>\n      <td>1586</td>\n      <td>0</td>\n      <td>4673160</td>\n      <td>서울특별시</td>\n      <td>마포구</td>\n      <td>상암동</td>\n      <td>114404139555.0</td>\n      <td>월드컵북로60길</td>\n      <td>...</td>\n      <td>1.14401E+13</td>\n      <td>1144012700</td>\n      <td>1586</td>\n      <td>0</td>\n      <td>서울 특별시 마포구 월드컵북로 60길 24,서울특별시 마포구 상암동 1586</td>\n      <td>민간</td>\n      <td>삼성SDS,KINX,에퀴닉스(리츠) (SL1 서울 Equinix Internatio...</td>\n      <td>삼성SDS 상암IT센터</td>\n      <td>-</td>\n      <td>-</td>\n    </tr>\n    <tr>\n      <th>10</th>\n      <td>94470</td>\n      <td>11545101006029</td>\n      <td>60</td>\n      <td>29</td>\n      <td>1761760</td>\n      <td>서울특별시</td>\n      <td>금천구</td>\n      <td>가산동</td>\n      <td>115454151005.0</td>\n      <td>가산로9길</td>\n      <td>...</td>\n      <td>1.15451E+11</td>\n      <td>1154510100</td>\n      <td>60</td>\n      <td>29</td>\n      <td>서울특별시 금천구 가산동 60-29(가산로9길 80)</td>\n      <td>통신</td>\n      <td>SK브로드밴드</td>\n      <td>가산센터</td>\n      <td>-</td>\n      <td>-</td>\n    </tr>\n    <tr>\n      <th>11</th>\n      <td>88037</td>\n      <td>11545101005332</td>\n      <td>533</td>\n      <td>2</td>\n      <td>2323680</td>\n      <td>서울특별시</td>\n      <td>금천구</td>\n      <td>가산동</td>\n      <td>115453117002.0</td>\n      <td>가산디지털2로</td>\n      <td>...</td>\n      <td>1.15451E+12</td>\n      <td>1154510100</td>\n      <td>533</td>\n      <td>2</td>\n      <td>서울특별시 구로구 가산동 533-2</td>\n      <td>민간</td>\n      <td>롯데정보통신</td>\n      <td>롯데정보통신 제1센터</td>\n      <td>-</td>\n      <td>-</td>\n    </tr>\n    <tr>\n      <th>12</th>\n      <td>91969</td>\n      <td>115301020019712</td>\n      <td>197</td>\n      <td>12</td>\n      <td>1966669</td>\n      <td>서울특별시</td>\n      <td>구로구</td>\n      <td>구로동</td>\n      <td>115304148335.0</td>\n      <td>디지털로31길</td>\n      <td>...</td>\n      <td>1.15301E+12</td>\n      <td>1153010200</td>\n      <td>197</td>\n      <td>12</td>\n      <td>서울 구로구 디지털로 31길 61</td>\n      <td>민간</td>\n      <td>알리바바</td>\n      <td>알리바바</td>\n      <td>-</td>\n      <td>-</td>\n    </tr>\n    <tr>\n      <th>13</th>\n      <td>91969</td>\n      <td>115301020019712</td>\n      <td>197</td>\n      <td>12</td>\n      <td>1966669</td>\n      <td>서울특별시</td>\n      <td>구로구</td>\n      <td>구로동</td>\n      <td>115304148335.0</td>\n      <td>디지털로31길</td>\n      <td>...</td>\n      <td>1.15301E+12</td>\n      <td>1153010200</td>\n      <td>197</td>\n      <td>12</td>\n      <td>서울특별시 구로구 디지털로 31길 61 KT IDC 남구로</td>\n      <td>통신</td>\n      <td>KT</td>\n      <td>KT 남구로 IDC</td>\n      <td>-</td>\n      <td>-</td>\n    </tr>\n    <tr>\n      <th>14</th>\n      <td>133928</td>\n      <td>11680108002611</td>\n      <td>261</td>\n      <td>1</td>\n      <td>5789804</td>\n      <td>서울특별시</td>\n      <td>강남구</td>\n      <td>논현동</td>\n      <td>116803005086.0</td>\n      <td>언주로</td>\n      <td>...</td>\n      <td>1.16801E+12</td>\n      <td>1168010800</td>\n      <td>261</td>\n      <td>1</td>\n      <td>서울특별시 강남구 언주로 616 (논현동)</td>\n      <td>통신</td>\n      <td>LG U+</td>\n      <td>LG U+논현센터</td>\n      <td>-</td>\n      <td>-</td>\n    </tr>\n    <tr>\n      <th>15</th>\n      <td>126579</td>\n      <td>116501080017101</td>\n      <td>1710</td>\n      <td>1</td>\n      <td>6544202</td>\n      <td>서울특별시</td>\n      <td>서초구</td>\n      <td>서초동</td>\n      <td>116504163300.0</td>\n      <td>법원로1길</td>\n      <td>...</td>\n      <td>1.16501E+13</td>\n      <td>1165010800</td>\n      <td>1710</td>\n      <td>1</td>\n      <td>서울특별시 서초구 법원로 1길 6 (서울특별시 서초구 서초동 1710-1)</td>\n      <td>통신</td>\n      <td>SK브로드밴드,다우기술(제2센터),코레일관광개발(주) (공공)</td>\n      <td>서초센터</td>\n      <td>-</td>\n      <td>-</td>\n    </tr>\n    <tr>\n      <th>16</th>\n      <td>137774</td>\n      <td>11680118004676</td>\n      <td>467</td>\n      <td>6</td>\n      <td>1369623</td>\n      <td>서울특별시</td>\n      <td>강남구</td>\n      <td>도곡동</td>\n      <td>116804166604.0</td>\n      <td>언주로30길</td>\n      <td>...</td>\n      <td>1.16801E+12</td>\n      <td>1168011800</td>\n      <td>467</td>\n      <td>6</td>\n      <td>서울특별시 강남구 언주로 30길 13 대림아크로텔 5층</td>\n      <td>민간</td>\n      <td>KINX (인터넷 인프라 기업)</td>\n      <td>IDC 도곡 1센터</td>\n      <td>KINX는 호스트웨이, LG CNS등의 기업을 임차하여 사용 중</td>\n      <td>-</td>\n    </tr>\n    <tr>\n      <th>17</th>\n      <td>27733</td>\n      <td>11215101003080</td>\n      <td>30</td>\n      <td>80</td>\n      <td>436598</td>\n      <td>서울특별시</td>\n      <td>광진구</td>\n      <td>중곡동</td>\n      <td>-</td>\n      <td>-</td>\n      <td>...</td>\n      <td>1.12151E+11</td>\n      <td>1121510100</td>\n      <td>30</td>\n      <td>80</td>\n      <td>서울 광진구 능동로 400 보건복지행정타운 20층 한국사회보장정보원</td>\n      <td>공공</td>\n      <td>한국사회보장정보원</td>\n      <td>한국사회보장정보원 데이터센터</td>\n      <td>-</td>\n      <td>-</td>\n    </tr>\n    <tr>\n      <th>18</th>\n      <td>20648</td>\n      <td>111701170012</td>\n      <td>1</td>\n      <td>2</td>\n      <td>7137060</td>\n      <td>서울특별시</td>\n      <td>용산구</td>\n      <td>원효로3가</td>\n      <td>111704106245.0</td>\n      <td>원효로41길</td>\n      <td>...</td>\n      <td>11170117001</td>\n      <td>1117011700</td>\n      <td>1</td>\n      <td>2</td>\n      <td>서울 용산구 원효로41길 33 KT국제전화국</td>\n      <td>통신</td>\n      <td>KT</td>\n      <td>KT 용산 IDC</td>\n      <td>-</td>\n      <td>-</td>\n    </tr>\n  </tbody>\n</table>\n<p>19 rows × 22 columns</p>\n</div>"
     },
     "execution_count": 6,
     "metadata": {},
     "output_type": "execute_result"
    }
   ],
   "source": [
    "df_3 = pd.merge(df, df_2, how='inner' , on='시군구법정동번지코드')\n",
    "\n",
    "df_3"
   ],
   "metadata": {
    "collapsed": false,
    "pycharm": {
     "name": "#%%\n"
    }
   }
  },
  {
   "cell_type": "code",
   "execution_count": 7,
   "outputs": [],
   "source": [
    "df_3.to_csv(\"서울특별시_전력사용량.csv\" , mode = 'w' , encoding= 'cp949')"
   ],
   "metadata": {
    "collapsed": false,
    "pycharm": {
     "name": "#%%\n"
    }
   }
  },
  {
   "cell_type": "code",
   "execution_count": null,
   "outputs": [],
   "source": [],
   "metadata": {
    "collapsed": false,
    "pycharm": {
     "name": "#%%\n"
    }
   }
  },
  {
   "cell_type": "markdown",
   "source": [],
   "metadata": {
    "collapsed": false,
    "pycharm": {
     "name": "#%% md\n"
    }
   }
  },
  {
   "cell_type": "markdown",
   "source": [],
   "metadata": {
    "collapsed": false,
    "pycharm": {
     "name": "#%% md\n"
    }
   }
  }
 ],
 "metadata": {
  "kernelspec": {
   "display_name": "Python 3",
   "language": "python",
   "name": "python3"
  },
  "language_info": {
   "codemirror_mode": {
    "name": "ipython",
    "version": 2
   },
   "file_extension": ".py",
   "mimetype": "text/x-python",
   "name": "python",
   "nbconvert_exporter": "python",
   "pygments_lexer": "ipython2",
   "version": "2.7.6"
  }
 },
 "nbformat": 4,
 "nbformat_minor": 0
}