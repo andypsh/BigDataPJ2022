{
 "cells": [
  {
   "cell_type": "code",
   "execution_count": 1,
   "metadata": {
    "collapsed": true,
    "pycharm": {
     "name": "#%%\n"
    }
   },
   "outputs": [
    {
     "data": {
      "text/plain": "   Unnamed: 0       시군구법정동번지코드   본번  부번  사용량_KWH    시도명 시군구명 법정동명  \\\n0      349219  292001130014416  144  16      233  광주광역시  광산구  도천동   \n1      349218  292001130014313  143  13     1857  광주광역시  광산구  도천동   \n2      349209    2920011300238   23   8      367  광주광역시  광산구  도천동   \n3      349211  292001130010669  106  69      882  광주광역시  광산구  도천동   \n4      349220   29200113001454  145   4     2663  광주광역시  광산구  도천동   \n\n         새주소대로로코드 새주소대로로명  새주소본번 새주소부번  \n0  292002009005.0   임방울대로  588.0   0.0  \n1  292004289272.0     상완길  314.0  22.0  \n2  292003163014.0     사암로  827.0   9.0  \n3  292003163014.0     사암로  842.0   0.0  \n4  292002009005.0   임방울대로  580.0   1.0  ",
      "text/html": "<div>\n<style scoped>\n    .dataframe tbody tr th:only-of-type {\n        vertical-align: middle;\n    }\n\n    .dataframe tbody tr th {\n        vertical-align: top;\n    }\n\n    .dataframe thead th {\n        text-align: right;\n    }\n</style>\n<table border=\"1\" class=\"dataframe\">\n  <thead>\n    <tr style=\"text-align: right;\">\n      <th></th>\n      <th>Unnamed: 0</th>\n      <th>시군구법정동번지코드</th>\n      <th>본번</th>\n      <th>부번</th>\n      <th>사용량_KWH</th>\n      <th>시도명</th>\n      <th>시군구명</th>\n      <th>법정동명</th>\n      <th>새주소대로로코드</th>\n      <th>새주소대로로명</th>\n      <th>새주소본번</th>\n      <th>새주소부번</th>\n    </tr>\n  </thead>\n  <tbody>\n    <tr>\n      <th>0</th>\n      <td>349219</td>\n      <td>292001130014416</td>\n      <td>144</td>\n      <td>16</td>\n      <td>233</td>\n      <td>광주광역시</td>\n      <td>광산구</td>\n      <td>도천동</td>\n      <td>292002009005.0</td>\n      <td>임방울대로</td>\n      <td>588.0</td>\n      <td>0.0</td>\n    </tr>\n    <tr>\n      <th>1</th>\n      <td>349218</td>\n      <td>292001130014313</td>\n      <td>143</td>\n      <td>13</td>\n      <td>1857</td>\n      <td>광주광역시</td>\n      <td>광산구</td>\n      <td>도천동</td>\n      <td>292004289272.0</td>\n      <td>상완길</td>\n      <td>314.0</td>\n      <td>22.0</td>\n    </tr>\n    <tr>\n      <th>2</th>\n      <td>349209</td>\n      <td>2920011300238</td>\n      <td>23</td>\n      <td>8</td>\n      <td>367</td>\n      <td>광주광역시</td>\n      <td>광산구</td>\n      <td>도천동</td>\n      <td>292003163014.0</td>\n      <td>사암로</td>\n      <td>827.0</td>\n      <td>9.0</td>\n    </tr>\n    <tr>\n      <th>3</th>\n      <td>349211</td>\n      <td>292001130010669</td>\n      <td>106</td>\n      <td>69</td>\n      <td>882</td>\n      <td>광주광역시</td>\n      <td>광산구</td>\n      <td>도천동</td>\n      <td>292003163014.0</td>\n      <td>사암로</td>\n      <td>842.0</td>\n      <td>0.0</td>\n    </tr>\n    <tr>\n      <th>4</th>\n      <td>349220</td>\n      <td>29200113001454</td>\n      <td>145</td>\n      <td>4</td>\n      <td>2663</td>\n      <td>광주광역시</td>\n      <td>광산구</td>\n      <td>도천동</td>\n      <td>292002009005.0</td>\n      <td>임방울대로</td>\n      <td>580.0</td>\n      <td>1.0</td>\n    </tr>\n  </tbody>\n</table>\n</div>"
     },
     "execution_count": 1,
     "metadata": {},
     "output_type": "execute_result"
    }
   ],
   "source": [
    "import pandas as pd\n",
    "\n",
    "\n",
    "df = pd.read_csv('광주광역시.csv' , encoding = 'cp949')\n",
    "df_2 = pd.read_csv('../../../../데이터센터정리.csv' , encoding = 'cp949')\n",
    "\n",
    "df = df.astype({'시군구법정동번지코드' : 'str'})\n",
    "                 #'시군구법정동번코드' : 'str'})\n",
    "df.head()"
   ]
  },
  {
   "cell_type": "code",
   "execution_count": 2,
   "outputs": [
    {
     "name": "stdout",
     "output_type": "stream",
     "text": [
      "Unnamed: 0     int64\n",
      "시군구법정동번지코드    object\n",
      "본번             int64\n",
      "부번             int64\n",
      "사용량_KWH        int64\n",
      "시도명           object\n",
      "시군구명          object\n",
      "법정동명          object\n",
      "새주소대로로코드      object\n",
      "새주소대로로명       object\n",
      "새주소본번         object\n",
      "새주소부번         object\n",
      "dtype: object\n"
     ]
    }
   ],
   "source": [
    "print(df.dtypes)"
   ],
   "metadata": {
    "collapsed": false,
    "pycharm": {
     "name": "#%%\n"
    }
   }
  },
  {
   "cell_type": "code",
   "execution_count": 3,
   "outputs": [],
   "source": [
    "#df_2 = df_2.astype({'시군구법정동번지코드' : 'float'})"
   ],
   "metadata": {
    "collapsed": false,
    "pycharm": {
     "name": "#%%\n"
    }
   }
  },
  {
   "cell_type": "code",
   "execution_count": 4,
   "outputs": [
    {
     "name": "stdout",
     "output_type": "stream",
     "text": [
      "시군구법정동번지코드    object\n",
      "시군구법정동번코드     object\n",
      "시군구법정동코드       int64\n",
      "번             object\n",
      "지             object\n",
      "주소            object\n",
      "분류            object\n",
      "기업            object\n",
      "이름            object\n",
      "비고            object\n",
      "임차여부          object\n",
      "dtype: object\n"
     ]
    }
   ],
   "source": [
    "print(df_2.dtypes)"
   ],
   "metadata": {
    "collapsed": false,
    "pycharm": {
     "name": "#%%\n"
    }
   }
  },
  {
   "cell_type": "code",
   "execution_count": 5,
   "outputs": [
    {
     "data": {
      "text/plain": "         시군구법정동번지코드    시군구법정동번코드    시군구법정동코드     번   지  \\\n0   421301170018946  4.21301E+13  4213011700  1894   6   \n1  4213011700204710  4.21301E+13  4213011700  2047  14   \n2  4213011700204710  4.21301E+13  4213011700  2047  10   \n3   421103102210000  4.21103E+13  4211031022  1000   0   \n4    42110126006500  4.21101E+12  4211012600   650   0   \n\n                            주소  분류         기업                       이름  \\\n0    강원 원주시 건강로 32(반곡동 1894-6)  공공   국민건강보험공단           국민건강보험공단 데이터센터   \n1  강원 원주시 입춘로 130(반곡동 2047-14)  공공  건강보험심사평가원  건강보험심사평가원 ICT센터\\n (2사옥)   \n2   강원 원주시 혁신로 60(반곡동 2047-10)  공공  건강보험심사평가원  건강보험심사평가원 ICT센터\\n (1사옥)   \n3          강원 춘천시 동면 순환대로 1231  민간      NAVER              네이버 데이터센터 각   \n4          강원도 춘천시 옛경춘로 409-14  민간     오라클 춘천                   오라클 춘천   \n\n                        비고 임차여부  \n0               O 자체 데이터센터    -  \n1                        -    -  \n2                        -    -  \n3  수력 발전소 통해 전체 전력량 70% 수급    -  \n4                        -    -  ",
      "text/html": "<div>\n<style scoped>\n    .dataframe tbody tr th:only-of-type {\n        vertical-align: middle;\n    }\n\n    .dataframe tbody tr th {\n        vertical-align: top;\n    }\n\n    .dataframe thead th {\n        text-align: right;\n    }\n</style>\n<table border=\"1\" class=\"dataframe\">\n  <thead>\n    <tr style=\"text-align: right;\">\n      <th></th>\n      <th>시군구법정동번지코드</th>\n      <th>시군구법정동번코드</th>\n      <th>시군구법정동코드</th>\n      <th>번</th>\n      <th>지</th>\n      <th>주소</th>\n      <th>분류</th>\n      <th>기업</th>\n      <th>이름</th>\n      <th>비고</th>\n      <th>임차여부</th>\n    </tr>\n  </thead>\n  <tbody>\n    <tr>\n      <th>0</th>\n      <td>421301170018946</td>\n      <td>4.21301E+13</td>\n      <td>4213011700</td>\n      <td>1894</td>\n      <td>6</td>\n      <td>강원 원주시 건강로 32(반곡동 1894-6)</td>\n      <td>공공</td>\n      <td>국민건강보험공단</td>\n      <td>국민건강보험공단 데이터센터</td>\n      <td>O 자체 데이터센터</td>\n      <td>-</td>\n    </tr>\n    <tr>\n      <th>1</th>\n      <td>4213011700204710</td>\n      <td>4.21301E+13</td>\n      <td>4213011700</td>\n      <td>2047</td>\n      <td>14</td>\n      <td>강원 원주시 입춘로 130(반곡동 2047-14)</td>\n      <td>공공</td>\n      <td>건강보험심사평가원</td>\n      <td>건강보험심사평가원 ICT센터\\n (2사옥)</td>\n      <td>-</td>\n      <td>-</td>\n    </tr>\n    <tr>\n      <th>2</th>\n      <td>4213011700204710</td>\n      <td>4.21301E+13</td>\n      <td>4213011700</td>\n      <td>2047</td>\n      <td>10</td>\n      <td>강원 원주시 혁신로 60(반곡동 2047-10)</td>\n      <td>공공</td>\n      <td>건강보험심사평가원</td>\n      <td>건강보험심사평가원 ICT센터\\n (1사옥)</td>\n      <td>-</td>\n      <td>-</td>\n    </tr>\n    <tr>\n      <th>3</th>\n      <td>421103102210000</td>\n      <td>4.21103E+13</td>\n      <td>4211031022</td>\n      <td>1000</td>\n      <td>0</td>\n      <td>강원 춘천시 동면 순환대로 1231</td>\n      <td>민간</td>\n      <td>NAVER</td>\n      <td>네이버 데이터센터 각</td>\n      <td>수력 발전소 통해 전체 전력량 70% 수급</td>\n      <td>-</td>\n    </tr>\n    <tr>\n      <th>4</th>\n      <td>42110126006500</td>\n      <td>4.21101E+12</td>\n      <td>4211012600</td>\n      <td>650</td>\n      <td>0</td>\n      <td>강원도 춘천시 옛경춘로 409-14</td>\n      <td>민간</td>\n      <td>오라클 춘천</td>\n      <td>오라클 춘천</td>\n      <td>-</td>\n      <td>-</td>\n    </tr>\n  </tbody>\n</table>\n</div>"
     },
     "execution_count": 5,
     "metadata": {},
     "output_type": "execute_result"
    }
   ],
   "source": [
    "df_2.head()"
   ],
   "metadata": {
    "collapsed": false,
    "pycharm": {
     "name": "#%%\n"
    }
   }
  },
  {
   "cell_type": "code",
   "execution_count": 6,
   "outputs": [
    {
     "data": {
      "text/plain": "   Unnamed: 0       시군구법정동번지코드    본번  부번  사용량_KWH    시도명 시군구명 법정동명  \\\n0      323222    2911011800319    31   9   384156  광주광역시   동구  서석동   \n1      342270  291701410011107  1110   7    56125  광주광역시   북구  오룡동   \n2      344672  292001090015982  1598   2   266825  광주광역시  광산구  우산동   \n\n         새주소대로로코드     새주소대로로명  ...    시군구법정동번코드    시군구법정동코드     번  지  \\\n0  291104277186.0     제봉로82번길  ...  2.91101E+11  2911011800    31  9   \n1  291704286721.0  첨단과기로176번길  ...  2.91701E+13  2917014100  1110  7   \n2  292002009009.0        무진대로  ...  2.92001E+13  2920010900  1598  2   \n\n                               주소  분류              기업           이름  \\\n0  광주광역시 동구 제봉로82번길 16 (서석동 31-9)  통신              KT    KT 광주 IDC   \n1                광주 북구 첨단과기로176번길  민간  NHN\\n(광주시·행안부)  국가 AI 데이터센터   \n2              광주광역시 광산구 무진대로 262  통신           LG U+   LG U+광주 센터   \n\n           비고 임차여부  \n0           -    -  \n1  2023 준공 예정    -  \n2        기타분류    -  \n\n[3 rows x 22 columns]",
      "text/html": "<div>\n<style scoped>\n    .dataframe tbody tr th:only-of-type {\n        vertical-align: middle;\n    }\n\n    .dataframe tbody tr th {\n        vertical-align: top;\n    }\n\n    .dataframe thead th {\n        text-align: right;\n    }\n</style>\n<table border=\"1\" class=\"dataframe\">\n  <thead>\n    <tr style=\"text-align: right;\">\n      <th></th>\n      <th>Unnamed: 0</th>\n      <th>시군구법정동번지코드</th>\n      <th>본번</th>\n      <th>부번</th>\n      <th>사용량_KWH</th>\n      <th>시도명</th>\n      <th>시군구명</th>\n      <th>법정동명</th>\n      <th>새주소대로로코드</th>\n      <th>새주소대로로명</th>\n      <th>...</th>\n      <th>시군구법정동번코드</th>\n      <th>시군구법정동코드</th>\n      <th>번</th>\n      <th>지</th>\n      <th>주소</th>\n      <th>분류</th>\n      <th>기업</th>\n      <th>이름</th>\n      <th>비고</th>\n      <th>임차여부</th>\n    </tr>\n  </thead>\n  <tbody>\n    <tr>\n      <th>0</th>\n      <td>323222</td>\n      <td>2911011800319</td>\n      <td>31</td>\n      <td>9</td>\n      <td>384156</td>\n      <td>광주광역시</td>\n      <td>동구</td>\n      <td>서석동</td>\n      <td>291104277186.0</td>\n      <td>제봉로82번길</td>\n      <td>...</td>\n      <td>2.91101E+11</td>\n      <td>2911011800</td>\n      <td>31</td>\n      <td>9</td>\n      <td>광주광역시 동구 제봉로82번길 16 (서석동 31-9)</td>\n      <td>통신</td>\n      <td>KT</td>\n      <td>KT 광주 IDC</td>\n      <td>-</td>\n      <td>-</td>\n    </tr>\n    <tr>\n      <th>1</th>\n      <td>342270</td>\n      <td>291701410011107</td>\n      <td>1110</td>\n      <td>7</td>\n      <td>56125</td>\n      <td>광주광역시</td>\n      <td>북구</td>\n      <td>오룡동</td>\n      <td>291704286721.0</td>\n      <td>첨단과기로176번길</td>\n      <td>...</td>\n      <td>2.91701E+13</td>\n      <td>2917014100</td>\n      <td>1110</td>\n      <td>7</td>\n      <td>광주 북구 첨단과기로176번길</td>\n      <td>민간</td>\n      <td>NHN\\n(광주시·행안부)</td>\n      <td>국가 AI 데이터센터</td>\n      <td>2023 준공 예정</td>\n      <td>-</td>\n    </tr>\n    <tr>\n      <th>2</th>\n      <td>344672</td>\n      <td>292001090015982</td>\n      <td>1598</td>\n      <td>2</td>\n      <td>266825</td>\n      <td>광주광역시</td>\n      <td>광산구</td>\n      <td>우산동</td>\n      <td>292002009009.0</td>\n      <td>무진대로</td>\n      <td>...</td>\n      <td>2.92001E+13</td>\n      <td>2920010900</td>\n      <td>1598</td>\n      <td>2</td>\n      <td>광주광역시 광산구 무진대로 262</td>\n      <td>통신</td>\n      <td>LG U+</td>\n      <td>LG U+광주 센터</td>\n      <td>기타분류</td>\n      <td>-</td>\n    </tr>\n  </tbody>\n</table>\n<p>3 rows × 22 columns</p>\n</div>"
     },
     "execution_count": 6,
     "metadata": {},
     "output_type": "execute_result"
    }
   ],
   "source": [
    "df_3 = pd.merge(df, df_2, how='inner' , on='시군구법정동번지코드')\n",
    "\n",
    "df_3"
   ],
   "metadata": {
    "collapsed": false,
    "pycharm": {
     "name": "#%%\n"
    }
   }
  },
  {
   "cell_type": "code",
   "execution_count": 7,
   "outputs": [],
   "source": [
    "df_3.to_csv(\"광주광역시_전력사용량.csv\" , mode = 'w' , encoding= 'cp949')"
   ],
   "metadata": {
    "collapsed": false,
    "pycharm": {
     "name": "#%%\n"
    }
   }
  },
  {
   "cell_type": "code",
   "execution_count": null,
   "outputs": [],
   "source": [],
   "metadata": {
    "collapsed": false,
    "pycharm": {
     "name": "#%%\n"
    }
   }
  },
  {
   "cell_type": "markdown",
   "source": [],
   "metadata": {
    "collapsed": false,
    "pycharm": {
     "name": "#%% md\n"
    }
   }
  },
  {
   "cell_type": "markdown",
   "source": [],
   "metadata": {
    "collapsed": false,
    "pycharm": {
     "name": "#%% md\n"
    }
   }
  }
 ],
 "metadata": {
  "kernelspec": {
   "display_name": "Python 3",
   "language": "python",
   "name": "python3"
  },
  "language_info": {
   "codemirror_mode": {
    "name": "ipython",
    "version": 2
   },
   "file_extension": ".py",
   "mimetype": "text/x-python",
   "name": "python",
   "nbconvert_exporter": "python",
   "pygments_lexer": "ipython2",
   "version": "2.7.6"
  }
 },
 "nbformat": 4,
 "nbformat_minor": 0
}