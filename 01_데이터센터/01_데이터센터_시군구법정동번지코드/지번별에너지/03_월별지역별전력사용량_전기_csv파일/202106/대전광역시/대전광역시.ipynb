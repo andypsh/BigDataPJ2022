{
 "cells": [
  {
   "cell_type": "code",
   "execution_count": 1,
   "metadata": {
    "collapsed": true,
    "pycharm": {
     "name": "#%%\n"
    }
   },
   "outputs": [
    {
     "data": {
      "text/plain": "   Unnamed: 0      시군구법정동번지코드   본번  부번  사용량_KWH    시도명 시군구명 법정동명  \\\n0      368742  30200142001182  118   2        1  대전광역시  유성구  원촌동   \n1      368743  30200142001362  136   2     2607  대전광역시  유성구  원촌동   \n2      368744  30200142001401  140   1  4201993  대전광역시  유성구  원촌동   \n3      368745   3020014200351   35   1      730  대전광역시  유성구  원촌동   \n4      368746   3020014200351   35   1      730  대전광역시  유성구  원촌동   \n\n         새주소대로로코드    새주소대로로명  새주소본번 새주소부번  \n0  302004301272.0  엑스포로295번길   16.0   0.0  \n1  302003167043.0       엑스포로  315.0   0.0  \n2  302003167043.0       엑스포로  325.0   0.0  \n3  302004301270.0  엑스포로251번길   36.0   0.0  \n4  302004301271.0  엑스포로269번길   67.0   0.0  ",
      "text/html": "<div>\n<style scoped>\n    .dataframe tbody tr th:only-of-type {\n        vertical-align: middle;\n    }\n\n    .dataframe tbody tr th {\n        vertical-align: top;\n    }\n\n    .dataframe thead th {\n        text-align: right;\n    }\n</style>\n<table border=\"1\" class=\"dataframe\">\n  <thead>\n    <tr style=\"text-align: right;\">\n      <th></th>\n      <th>Unnamed: 0</th>\n      <th>시군구법정동번지코드</th>\n      <th>본번</th>\n      <th>부번</th>\n      <th>사용량_KWH</th>\n      <th>시도명</th>\n      <th>시군구명</th>\n      <th>법정동명</th>\n      <th>새주소대로로코드</th>\n      <th>새주소대로로명</th>\n      <th>새주소본번</th>\n      <th>새주소부번</th>\n    </tr>\n  </thead>\n  <tbody>\n    <tr>\n      <th>0</th>\n      <td>368742</td>\n      <td>30200142001182</td>\n      <td>118</td>\n      <td>2</td>\n      <td>1</td>\n      <td>대전광역시</td>\n      <td>유성구</td>\n      <td>원촌동</td>\n      <td>302004301272.0</td>\n      <td>엑스포로295번길</td>\n      <td>16.0</td>\n      <td>0.0</td>\n    </tr>\n    <tr>\n      <th>1</th>\n      <td>368743</td>\n      <td>30200142001362</td>\n      <td>136</td>\n      <td>2</td>\n      <td>2607</td>\n      <td>대전광역시</td>\n      <td>유성구</td>\n      <td>원촌동</td>\n      <td>302003167043.0</td>\n      <td>엑스포로</td>\n      <td>315.0</td>\n      <td>0.0</td>\n    </tr>\n    <tr>\n      <th>2</th>\n      <td>368744</td>\n      <td>30200142001401</td>\n      <td>140</td>\n      <td>1</td>\n      <td>4201993</td>\n      <td>대전광역시</td>\n      <td>유성구</td>\n      <td>원촌동</td>\n      <td>302003167043.0</td>\n      <td>엑스포로</td>\n      <td>325.0</td>\n      <td>0.0</td>\n    </tr>\n    <tr>\n      <th>3</th>\n      <td>368745</td>\n      <td>3020014200351</td>\n      <td>35</td>\n      <td>1</td>\n      <td>730</td>\n      <td>대전광역시</td>\n      <td>유성구</td>\n      <td>원촌동</td>\n      <td>302004301270.0</td>\n      <td>엑스포로251번길</td>\n      <td>36.0</td>\n      <td>0.0</td>\n    </tr>\n    <tr>\n      <th>4</th>\n      <td>368746</td>\n      <td>3020014200351</td>\n      <td>35</td>\n      <td>1</td>\n      <td>730</td>\n      <td>대전광역시</td>\n      <td>유성구</td>\n      <td>원촌동</td>\n      <td>302004301271.0</td>\n      <td>엑스포로269번길</td>\n      <td>67.0</td>\n      <td>0.0</td>\n    </tr>\n  </tbody>\n</table>\n</div>"
     },
     "execution_count": 1,
     "metadata": {},
     "output_type": "execute_result"
    }
   ],
   "source": [
    "import pandas as pd\n",
    "\n",
    "\n",
    "df = pd.read_csv('대전광역시.csv' , encoding = 'cp949')\n",
    "df_2 = pd.read_csv('../../../../데이터센터정리.csv' , encoding = 'cp949')\n",
    "\n",
    "df = df.astype({'시군구법정동번지코드' : 'str'})\n",
    "                 #'시군구법정동번코드' : 'str'})\n",
    "df.head()"
   ]
  },
  {
   "cell_type": "code",
   "execution_count": 2,
   "outputs": [
    {
     "name": "stdout",
     "output_type": "stream",
     "text": [
      "Unnamed: 0     int64\n",
      "시군구법정동번지코드    object\n",
      "본번             int64\n",
      "부번             int64\n",
      "사용량_KWH        int64\n",
      "시도명           object\n",
      "시군구명          object\n",
      "법정동명          object\n",
      "새주소대로로코드      object\n",
      "새주소대로로명       object\n",
      "새주소본번         object\n",
      "새주소부번         object\n",
      "dtype: object\n"
     ]
    }
   ],
   "source": [
    "print(df.dtypes)"
   ],
   "metadata": {
    "collapsed": false,
    "pycharm": {
     "name": "#%%\n"
    }
   }
  },
  {
   "cell_type": "code",
   "execution_count": 3,
   "outputs": [],
   "source": [
    "#df_2 = df_2.astype({'시군구법정동번지코드' : 'float'})"
   ],
   "metadata": {
    "collapsed": false,
    "pycharm": {
     "name": "#%%\n"
    }
   }
  },
  {
   "cell_type": "code",
   "execution_count": 4,
   "outputs": [
    {
     "name": "stdout",
     "output_type": "stream",
     "text": [
      "시군구법정동번지코드    object\n",
      "시군구법정동번코드     object\n",
      "시군구법정동코드       int64\n",
      "번             object\n",
      "지             object\n",
      "주소            object\n",
      "분류            object\n",
      "기업            object\n",
      "이름            object\n",
      "비고            object\n",
      "임차여부          object\n",
      "dtype: object\n"
     ]
    }
   ],
   "source": [
    "print(df_2.dtypes)"
   ],
   "metadata": {
    "collapsed": false,
    "pycharm": {
     "name": "#%%\n"
    }
   }
  },
  {
   "cell_type": "code",
   "execution_count": 5,
   "outputs": [
    {
     "data": {
      "text/plain": "         시군구법정동번지코드    시군구법정동번코드    시군구법정동코드     번   지  \\\n0   421301170018946  4.21301E+13  4213011700  1894   6   \n1  4213011700204710  4.21301E+13  4213011700  2047  14   \n2  4213011700204710  4.21301E+13  4213011700  2047  10   \n3   421103102210000  4.21103E+13  4211031022  1000   0   \n4    42110126006500  4.21101E+12  4211012600   650   0   \n\n                            주소  분류         기업                       이름  \\\n0    강원 원주시 건강로 32(반곡동 1894-6)  공공   국민건강보험공단           국민건강보험공단 데이터센터   \n1  강원 원주시 입춘로 130(반곡동 2047-14)  공공  건강보험심사평가원  건강보험심사평가원 ICT센터\\n (2사옥)   \n2   강원 원주시 혁신로 60(반곡동 2047-10)  공공  건강보험심사평가원  건강보험심사평가원 ICT센터\\n (1사옥)   \n3          강원 춘천시 동면 순환대로 1231  민간      NAVER              네이버 데이터센터 각   \n4          강원도 춘천시 옛경춘로 409-14  민간     오라클 춘천                   오라클 춘천   \n\n                        비고 임차여부  \n0               O 자체 데이터센터    -  \n1                        -    -  \n2                        -    -  \n3  수력 발전소 통해 전체 전력량 70% 수급    -  \n4                        -    -  ",
      "text/html": "<div>\n<style scoped>\n    .dataframe tbody tr th:only-of-type {\n        vertical-align: middle;\n    }\n\n    .dataframe tbody tr th {\n        vertical-align: top;\n    }\n\n    .dataframe thead th {\n        text-align: right;\n    }\n</style>\n<table border=\"1\" class=\"dataframe\">\n  <thead>\n    <tr style=\"text-align: right;\">\n      <th></th>\n      <th>시군구법정동번지코드</th>\n      <th>시군구법정동번코드</th>\n      <th>시군구법정동코드</th>\n      <th>번</th>\n      <th>지</th>\n      <th>주소</th>\n      <th>분류</th>\n      <th>기업</th>\n      <th>이름</th>\n      <th>비고</th>\n      <th>임차여부</th>\n    </tr>\n  </thead>\n  <tbody>\n    <tr>\n      <th>0</th>\n      <td>421301170018946</td>\n      <td>4.21301E+13</td>\n      <td>4213011700</td>\n      <td>1894</td>\n      <td>6</td>\n      <td>강원 원주시 건강로 32(반곡동 1894-6)</td>\n      <td>공공</td>\n      <td>국민건강보험공단</td>\n      <td>국민건강보험공단 데이터센터</td>\n      <td>O 자체 데이터센터</td>\n      <td>-</td>\n    </tr>\n    <tr>\n      <th>1</th>\n      <td>4213011700204710</td>\n      <td>4.21301E+13</td>\n      <td>4213011700</td>\n      <td>2047</td>\n      <td>14</td>\n      <td>강원 원주시 입춘로 130(반곡동 2047-14)</td>\n      <td>공공</td>\n      <td>건강보험심사평가원</td>\n      <td>건강보험심사평가원 ICT센터\\n (2사옥)</td>\n      <td>-</td>\n      <td>-</td>\n    </tr>\n    <tr>\n      <th>2</th>\n      <td>4213011700204710</td>\n      <td>4.21301E+13</td>\n      <td>4213011700</td>\n      <td>2047</td>\n      <td>10</td>\n      <td>강원 원주시 혁신로 60(반곡동 2047-10)</td>\n      <td>공공</td>\n      <td>건강보험심사평가원</td>\n      <td>건강보험심사평가원 ICT센터\\n (1사옥)</td>\n      <td>-</td>\n      <td>-</td>\n    </tr>\n    <tr>\n      <th>3</th>\n      <td>421103102210000</td>\n      <td>4.21103E+13</td>\n      <td>4211031022</td>\n      <td>1000</td>\n      <td>0</td>\n      <td>강원 춘천시 동면 순환대로 1231</td>\n      <td>민간</td>\n      <td>NAVER</td>\n      <td>네이버 데이터센터 각</td>\n      <td>수력 발전소 통해 전체 전력량 70% 수급</td>\n      <td>-</td>\n    </tr>\n    <tr>\n      <th>4</th>\n      <td>42110126006500</td>\n      <td>4.21101E+12</td>\n      <td>4211012600</td>\n      <td>650</td>\n      <td>0</td>\n      <td>강원도 춘천시 옛경춘로 409-14</td>\n      <td>민간</td>\n      <td>오라클 춘천</td>\n      <td>오라클 춘천</td>\n      <td>-</td>\n      <td>-</td>\n    </tr>\n  </tbody>\n</table>\n</div>"
     },
     "execution_count": 5,
     "metadata": {},
     "output_type": "execute_result"
    }
   ],
   "source": [
    "df_2.head()"
   ],
   "metadata": {
    "collapsed": false,
    "pycharm": {
     "name": "#%%\n"
    }
   }
  },
  {
   "cell_type": "code",
   "execution_count": 6,
   "outputs": [
    {
     "data": {
      "text/plain": "   Unnamed: 0       시군구법정동번지코드   본번  부번  사용량_KWH    시도명 시군구명 법정동명  \\\n0      368744   30200142001401  140   1  4201993  대전광역시  유성구  원촌동   \n1      368671   30170106006490  649   0  2176944  대전광역시   서구  탄방동   \n2      371404    3020012300520   52   0  2032998  대전광역시  유성구  어은동   \n3      352045   30170106006630  663   0   423624  대전광역시   서구  탄방동   \n4      374631    3020012300529   52   9  6043758  대전광역시  유성구  어은동   \n5      348801  301101130029374  293  74     5000  대전광역시   동구  소제동   \n6      359303   30200143008470  847   0     1202  대전광역시  유성구  탑립동   \n7      358674    3020012800244   24   4   571860  대전광역시  유성구   장동   \n8      358682    3020013000621   62   1      662  대전광역시  유성구  화암동   \n\n         새주소대로로코드   새주소대로로명  ...    시군구법정동번코드    시군구법정동코드    번   지  \\\n0  302003167043.0      엑스포로  ...  3.02001E+12  3020014200  140   1   \n1  301704298367.0   문정로48번길  ...  3.01701E+12  3017010600  649   0   \n2  302003167005.0       과학로  ...  3.02001E+11  3020012300   52   0   \n3  301704298073.0  계룡로553번길  ...  3.01701E+12  3017010600  663   0   \n4  302003167005.0       과학로  ...  3.02001E+11  3020012300   52   9   \n5  301103164033.0       중앙로  ...  3.01101E+12  3011011300  293  74   \n6  302003167069.0    테크노10로  ...  3.02001E+12  3020014300  847   0   \n7  302003167002.0      가정북로  ...  3.02001E+11  3020012800   24   4   \n8  302002010001.0      대덕대로  ...  3.02001E+11  3020013000   62   1   \n\n                                         주소  분류         기업                이름  \\\n0         대전광역시 유성구 원촌동 엑스포로 325(원촌동 140-1)  민간     SK C&C          대덕 데이터센터   \n1   대전광역시 서구 문정로 48번길 30 KT 탄방사옥 3F 대전IDC센터  통신         KT         KT 대전 IDC   \n2                            대전 유성구 과학로 125  공공  한국생명공학연구원            통합전산센터   \n3                      대전광역시 서구 계룡로553번길 66  통신      LG U+        LG U+대전 센터   \n4  대전 유성구 과학로 169-148 한국기초과학지원연구원(어은동 52-9)  공공    기초과학연구원  기초과학연구원 본원 데이터센터   \n5                             대전 동구 중앙로 240  공공     한국철도공사            통합전산센터   \n6                           대전 유성구 테크노10로 7  공공     한국조폐공사       성과관리처 경영정보팀   \n7                        대전광역시 유성구 가정북로 145   -          -       롯데정보통신 제2센터   \n8              대전광역시 유성구 대덕대로 755(화암동 62-1)  공공  국가정보자원관리원    국가정보자원관리원 대전센터   \n\n           비고 임차여부  \n0           -    -  \n1           -    -  \n2           -    -  \n3        기타분류    -  \n4  O 자체 데이터센터    -  \n5           -    -  \n6           -    -  \n7           -    -  \n8  O 자체 데이터센터    -  \n\n[9 rows x 22 columns]",
      "text/html": "<div>\n<style scoped>\n    .dataframe tbody tr th:only-of-type {\n        vertical-align: middle;\n    }\n\n    .dataframe tbody tr th {\n        vertical-align: top;\n    }\n\n    .dataframe thead th {\n        text-align: right;\n    }\n</style>\n<table border=\"1\" class=\"dataframe\">\n  <thead>\n    <tr style=\"text-align: right;\">\n      <th></th>\n      <th>Unnamed: 0</th>\n      <th>시군구법정동번지코드</th>\n      <th>본번</th>\n      <th>부번</th>\n      <th>사용량_KWH</th>\n      <th>시도명</th>\n      <th>시군구명</th>\n      <th>법정동명</th>\n      <th>새주소대로로코드</th>\n      <th>새주소대로로명</th>\n      <th>...</th>\n      <th>시군구법정동번코드</th>\n      <th>시군구법정동코드</th>\n      <th>번</th>\n      <th>지</th>\n      <th>주소</th>\n      <th>분류</th>\n      <th>기업</th>\n      <th>이름</th>\n      <th>비고</th>\n      <th>임차여부</th>\n    </tr>\n  </thead>\n  <tbody>\n    <tr>\n      <th>0</th>\n      <td>368744</td>\n      <td>30200142001401</td>\n      <td>140</td>\n      <td>1</td>\n      <td>4201993</td>\n      <td>대전광역시</td>\n      <td>유성구</td>\n      <td>원촌동</td>\n      <td>302003167043.0</td>\n      <td>엑스포로</td>\n      <td>...</td>\n      <td>3.02001E+12</td>\n      <td>3020014200</td>\n      <td>140</td>\n      <td>1</td>\n      <td>대전광역시 유성구 원촌동 엑스포로 325(원촌동 140-1)</td>\n      <td>민간</td>\n      <td>SK C&amp;C</td>\n      <td>대덕 데이터센터</td>\n      <td>-</td>\n      <td>-</td>\n    </tr>\n    <tr>\n      <th>1</th>\n      <td>368671</td>\n      <td>30170106006490</td>\n      <td>649</td>\n      <td>0</td>\n      <td>2176944</td>\n      <td>대전광역시</td>\n      <td>서구</td>\n      <td>탄방동</td>\n      <td>301704298367.0</td>\n      <td>문정로48번길</td>\n      <td>...</td>\n      <td>3.01701E+12</td>\n      <td>3017010600</td>\n      <td>649</td>\n      <td>0</td>\n      <td>대전광역시 서구 문정로 48번길 30 KT 탄방사옥 3F 대전IDC센터</td>\n      <td>통신</td>\n      <td>KT</td>\n      <td>KT 대전 IDC</td>\n      <td>-</td>\n      <td>-</td>\n    </tr>\n    <tr>\n      <th>2</th>\n      <td>371404</td>\n      <td>3020012300520</td>\n      <td>52</td>\n      <td>0</td>\n      <td>2032998</td>\n      <td>대전광역시</td>\n      <td>유성구</td>\n      <td>어은동</td>\n      <td>302003167005.0</td>\n      <td>과학로</td>\n      <td>...</td>\n      <td>3.02001E+11</td>\n      <td>3020012300</td>\n      <td>52</td>\n      <td>0</td>\n      <td>대전 유성구 과학로 125</td>\n      <td>공공</td>\n      <td>한국생명공학연구원</td>\n      <td>통합전산센터</td>\n      <td>-</td>\n      <td>-</td>\n    </tr>\n    <tr>\n      <th>3</th>\n      <td>352045</td>\n      <td>30170106006630</td>\n      <td>663</td>\n      <td>0</td>\n      <td>423624</td>\n      <td>대전광역시</td>\n      <td>서구</td>\n      <td>탄방동</td>\n      <td>301704298073.0</td>\n      <td>계룡로553번길</td>\n      <td>...</td>\n      <td>3.01701E+12</td>\n      <td>3017010600</td>\n      <td>663</td>\n      <td>0</td>\n      <td>대전광역시 서구 계룡로553번길 66</td>\n      <td>통신</td>\n      <td>LG U+</td>\n      <td>LG U+대전 센터</td>\n      <td>기타분류</td>\n      <td>-</td>\n    </tr>\n    <tr>\n      <th>4</th>\n      <td>374631</td>\n      <td>3020012300529</td>\n      <td>52</td>\n      <td>9</td>\n      <td>6043758</td>\n      <td>대전광역시</td>\n      <td>유성구</td>\n      <td>어은동</td>\n      <td>302003167005.0</td>\n      <td>과학로</td>\n      <td>...</td>\n      <td>3.02001E+11</td>\n      <td>3020012300</td>\n      <td>52</td>\n      <td>9</td>\n      <td>대전 유성구 과학로 169-148 한국기초과학지원연구원(어은동 52-9)</td>\n      <td>공공</td>\n      <td>기초과학연구원</td>\n      <td>기초과학연구원 본원 데이터센터</td>\n      <td>O 자체 데이터센터</td>\n      <td>-</td>\n    </tr>\n    <tr>\n      <th>5</th>\n      <td>348801</td>\n      <td>301101130029374</td>\n      <td>293</td>\n      <td>74</td>\n      <td>5000</td>\n      <td>대전광역시</td>\n      <td>동구</td>\n      <td>소제동</td>\n      <td>301103164033.0</td>\n      <td>중앙로</td>\n      <td>...</td>\n      <td>3.01101E+12</td>\n      <td>3011011300</td>\n      <td>293</td>\n      <td>74</td>\n      <td>대전 동구 중앙로 240</td>\n      <td>공공</td>\n      <td>한국철도공사</td>\n      <td>통합전산센터</td>\n      <td>-</td>\n      <td>-</td>\n    </tr>\n    <tr>\n      <th>6</th>\n      <td>359303</td>\n      <td>30200143008470</td>\n      <td>847</td>\n      <td>0</td>\n      <td>1202</td>\n      <td>대전광역시</td>\n      <td>유성구</td>\n      <td>탑립동</td>\n      <td>302003167069.0</td>\n      <td>테크노10로</td>\n      <td>...</td>\n      <td>3.02001E+12</td>\n      <td>3020014300</td>\n      <td>847</td>\n      <td>0</td>\n      <td>대전 유성구 테크노10로 7</td>\n      <td>공공</td>\n      <td>한국조폐공사</td>\n      <td>성과관리처 경영정보팀</td>\n      <td>-</td>\n      <td>-</td>\n    </tr>\n    <tr>\n      <th>7</th>\n      <td>358674</td>\n      <td>3020012800244</td>\n      <td>24</td>\n      <td>4</td>\n      <td>571860</td>\n      <td>대전광역시</td>\n      <td>유성구</td>\n      <td>장동</td>\n      <td>302003167002.0</td>\n      <td>가정북로</td>\n      <td>...</td>\n      <td>3.02001E+11</td>\n      <td>3020012800</td>\n      <td>24</td>\n      <td>4</td>\n      <td>대전광역시 유성구 가정북로 145</td>\n      <td>-</td>\n      <td>-</td>\n      <td>롯데정보통신 제2센터</td>\n      <td>-</td>\n      <td>-</td>\n    </tr>\n    <tr>\n      <th>8</th>\n      <td>358682</td>\n      <td>3020013000621</td>\n      <td>62</td>\n      <td>1</td>\n      <td>662</td>\n      <td>대전광역시</td>\n      <td>유성구</td>\n      <td>화암동</td>\n      <td>302002010001.0</td>\n      <td>대덕대로</td>\n      <td>...</td>\n      <td>3.02001E+11</td>\n      <td>3020013000</td>\n      <td>62</td>\n      <td>1</td>\n      <td>대전광역시 유성구 대덕대로 755(화암동 62-1)</td>\n      <td>공공</td>\n      <td>국가정보자원관리원</td>\n      <td>국가정보자원관리원 대전센터</td>\n      <td>O 자체 데이터센터</td>\n      <td>-</td>\n    </tr>\n  </tbody>\n</table>\n<p>9 rows × 22 columns</p>\n</div>"
     },
     "execution_count": 6,
     "metadata": {},
     "output_type": "execute_result"
    }
   ],
   "source": [
    "df_3 = pd.merge(df, df_2, how='inner' , on='시군구법정동번지코드')\n",
    "\n",
    "df_3"
   ],
   "metadata": {
    "collapsed": false,
    "pycharm": {
     "name": "#%%\n"
    }
   }
  },
  {
   "cell_type": "code",
   "execution_count": 7,
   "outputs": [],
   "source": [
    "df_3.to_csv(\"대전광역시_전력사용량.csv\" , mode = 'w' , encoding= 'cp949')"
   ],
   "metadata": {
    "collapsed": false,
    "pycharm": {
     "name": "#%%\n"
    }
   }
  },
  {
   "cell_type": "code",
   "execution_count": null,
   "outputs": [],
   "source": [],
   "metadata": {
    "collapsed": false,
    "pycharm": {
     "name": "#%%\n"
    }
   }
  },
  {
   "cell_type": "markdown",
   "source": [],
   "metadata": {
    "collapsed": false,
    "pycharm": {
     "name": "#%% md\n"
    }
   }
  },
  {
   "cell_type": "markdown",
   "source": [],
   "metadata": {
    "collapsed": false,
    "pycharm": {
     "name": "#%% md\n"
    }
   }
  }
 ],
 "metadata": {
  "kernelspec": {
   "display_name": "Python 3",
   "language": "python",
   "name": "python3"
  },
  "language_info": {
   "codemirror_mode": {
    "name": "ipython",
    "version": 2
   },
   "file_extension": ".py",
   "mimetype": "text/x-python",
   "name": "python",
   "nbconvert_exporter": "python",
   "pygments_lexer": "ipython2",
   "version": "2.7.6"
  }
 },
 "nbformat": 4,
 "nbformat_minor": 0
}