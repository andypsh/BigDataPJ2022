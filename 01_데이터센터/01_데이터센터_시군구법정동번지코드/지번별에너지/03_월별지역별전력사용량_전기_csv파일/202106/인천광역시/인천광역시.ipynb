{
 "cells": [
  {
   "cell_type": "code",
   "execution_count": 1,
   "metadata": {
    "collapsed": true,
    "pycharm": {
     "name": "#%%\n"
    }
   },
   "outputs": [
    {
     "data": {
      "text/plain": "   Unnamed: 0       시군구법정동번지코드   본번  부번  사용량_KWH    시도명 시군구명 법정동명  \\\n0      287990  282001030098211  982  11     1761  인천광역시  남동구  만수동   \n1      287988   28200103009825  982   5     7231  인천광역시  남동구  만수동   \n2      287987   28200103009824  982   4     1649  인천광역시  남동구  만수동   \n3      287984   28200103009806  980   6     5470  인천광역시  남동구  만수동   \n4      287986   28200103009815  981   5     1068  인천광역시  남동구  만수동   \n\n         새주소대로로코드 새주소대로로명  새주소본번 새주소부번  \n0  282002008004.0    인주대로  833.0   0.0  \n1  282002008004.0    인주대로  841.0   0.0  \n2  282002008004.0    인주대로  841.0   1.0  \n3  282003153079.0     하촌로    6.0   0.0  \n4  282003153079.0     하촌로   20.0   9.0  ",
      "text/html": "<div>\n<style scoped>\n    .dataframe tbody tr th:only-of-type {\n        vertical-align: middle;\n    }\n\n    .dataframe tbody tr th {\n        vertical-align: top;\n    }\n\n    .dataframe thead th {\n        text-align: right;\n    }\n</style>\n<table border=\"1\" class=\"dataframe\">\n  <thead>\n    <tr style=\"text-align: right;\">\n      <th></th>\n      <th>Unnamed: 0</th>\n      <th>시군구법정동번지코드</th>\n      <th>본번</th>\n      <th>부번</th>\n      <th>사용량_KWH</th>\n      <th>시도명</th>\n      <th>시군구명</th>\n      <th>법정동명</th>\n      <th>새주소대로로코드</th>\n      <th>새주소대로로명</th>\n      <th>새주소본번</th>\n      <th>새주소부번</th>\n    </tr>\n  </thead>\n  <tbody>\n    <tr>\n      <th>0</th>\n      <td>287990</td>\n      <td>282001030098211</td>\n      <td>982</td>\n      <td>11</td>\n      <td>1761</td>\n      <td>인천광역시</td>\n      <td>남동구</td>\n      <td>만수동</td>\n      <td>282002008004.0</td>\n      <td>인주대로</td>\n      <td>833.0</td>\n      <td>0.0</td>\n    </tr>\n    <tr>\n      <th>1</th>\n      <td>287988</td>\n      <td>28200103009825</td>\n      <td>982</td>\n      <td>5</td>\n      <td>7231</td>\n      <td>인천광역시</td>\n      <td>남동구</td>\n      <td>만수동</td>\n      <td>282002008004.0</td>\n      <td>인주대로</td>\n      <td>841.0</td>\n      <td>0.0</td>\n    </tr>\n    <tr>\n      <th>2</th>\n      <td>287987</td>\n      <td>28200103009824</td>\n      <td>982</td>\n      <td>4</td>\n      <td>1649</td>\n      <td>인천광역시</td>\n      <td>남동구</td>\n      <td>만수동</td>\n      <td>282002008004.0</td>\n      <td>인주대로</td>\n      <td>841.0</td>\n      <td>1.0</td>\n    </tr>\n    <tr>\n      <th>3</th>\n      <td>287984</td>\n      <td>28200103009806</td>\n      <td>980</td>\n      <td>6</td>\n      <td>5470</td>\n      <td>인천광역시</td>\n      <td>남동구</td>\n      <td>만수동</td>\n      <td>282003153079.0</td>\n      <td>하촌로</td>\n      <td>6.0</td>\n      <td>0.0</td>\n    </tr>\n    <tr>\n      <th>4</th>\n      <td>287986</td>\n      <td>28200103009815</td>\n      <td>981</td>\n      <td>5</td>\n      <td>1068</td>\n      <td>인천광역시</td>\n      <td>남동구</td>\n      <td>만수동</td>\n      <td>282003153079.0</td>\n      <td>하촌로</td>\n      <td>20.0</td>\n      <td>9.0</td>\n    </tr>\n  </tbody>\n</table>\n</div>"
     },
     "execution_count": 1,
     "metadata": {},
     "output_type": "execute_result"
    }
   ],
   "source": [
    "import pandas as pd\n",
    "\n",
    "\n",
    "df = pd.read_csv('인천광역시.csv' , encoding = 'cp949')\n",
    "df_2 = pd.read_csv('../../../../데이터센터정리.csv' , encoding = 'cp949')\n",
    "\n",
    "df = df.astype({'시군구법정동번지코드' : 'str'})\n",
    "                 #'시군구법정동번코드' : 'str'})\n",
    "df.head()"
   ]
  },
  {
   "cell_type": "code",
   "execution_count": 2,
   "outputs": [
    {
     "name": "stdout",
     "output_type": "stream",
     "text": [
      "Unnamed: 0     int64\n",
      "시군구법정동번지코드    object\n",
      "본번             int64\n",
      "부번             int64\n",
      "사용량_KWH        int64\n",
      "시도명           object\n",
      "시군구명          object\n",
      "법정동명          object\n",
      "새주소대로로코드      object\n",
      "새주소대로로명       object\n",
      "새주소본번         object\n",
      "새주소부번         object\n",
      "dtype: object\n"
     ]
    }
   ],
   "source": [
    "print(df.dtypes)"
   ],
   "metadata": {
    "collapsed": false,
    "pycharm": {
     "name": "#%%\n"
    }
   }
  },
  {
   "cell_type": "code",
   "execution_count": 3,
   "outputs": [],
   "source": [
    "#df_2 = df_2.astype({'시군구법정동번지코드' : 'float'})"
   ],
   "metadata": {
    "collapsed": false,
    "pycharm": {
     "name": "#%%\n"
    }
   }
  },
  {
   "cell_type": "code",
   "execution_count": 4,
   "outputs": [
    {
     "name": "stdout",
     "output_type": "stream",
     "text": [
      "시군구법정동번지코드    object\n",
      "시군구법정동번코드     object\n",
      "시군구법정동코드       int64\n",
      "번             object\n",
      "지             object\n",
      "주소            object\n",
      "분류            object\n",
      "기업            object\n",
      "이름            object\n",
      "비고            object\n",
      "임차여부          object\n",
      "dtype: object\n"
     ]
    }
   ],
   "source": [
    "print(df_2.dtypes)"
   ],
   "metadata": {
    "collapsed": false,
    "pycharm": {
     "name": "#%%\n"
    }
   }
  },
  {
   "cell_type": "code",
   "execution_count": 5,
   "outputs": [
    {
     "data": {
      "text/plain": "         시군구법정동번지코드    시군구법정동번코드    시군구법정동코드     번   지  \\\n0   421301170018946  4.21301E+13  4213011700  1894   6   \n1  4213011700204710  4.21301E+13  4213011700  2047  14   \n2  4213011700204710  4.21301E+13  4213011700  2047  10   \n3   421103102210000  4.21103E+13  4211031022  1000   0   \n4    42110126006500  4.21101E+12  4211012600   650   0   \n\n                            주소  분류         기업                       이름  \\\n0    강원 원주시 건강로 32(반곡동 1894-6)  공공   국민건강보험공단           국민건강보험공단 데이터센터   \n1  강원 원주시 입춘로 130(반곡동 2047-14)  공공  건강보험심사평가원  건강보험심사평가원 ICT센터\\n (2사옥)   \n2   강원 원주시 혁신로 60(반곡동 2047-10)  공공  건강보험심사평가원  건강보험심사평가원 ICT센터\\n (1사옥)   \n3          강원 춘천시 동면 순환대로 1231  민간      NAVER              네이버 데이터센터 각   \n4          강원도 춘천시 옛경춘로 409-14  민간     오라클 춘천                   오라클 춘천   \n\n                        비고 임차여부  \n0               O 자체 데이터센터    -  \n1                        -    -  \n2                        -    -  \n3  수력 발전소 통해 전체 전력량 70% 수급    -  \n4                        -    -  ",
      "text/html": "<div>\n<style scoped>\n    .dataframe tbody tr th:only-of-type {\n        vertical-align: middle;\n    }\n\n    .dataframe tbody tr th {\n        vertical-align: top;\n    }\n\n    .dataframe thead th {\n        text-align: right;\n    }\n</style>\n<table border=\"1\" class=\"dataframe\">\n  <thead>\n    <tr style=\"text-align: right;\">\n      <th></th>\n      <th>시군구법정동번지코드</th>\n      <th>시군구법정동번코드</th>\n      <th>시군구법정동코드</th>\n      <th>번</th>\n      <th>지</th>\n      <th>주소</th>\n      <th>분류</th>\n      <th>기업</th>\n      <th>이름</th>\n      <th>비고</th>\n      <th>임차여부</th>\n    </tr>\n  </thead>\n  <tbody>\n    <tr>\n      <th>0</th>\n      <td>421301170018946</td>\n      <td>4.21301E+13</td>\n      <td>4213011700</td>\n      <td>1894</td>\n      <td>6</td>\n      <td>강원 원주시 건강로 32(반곡동 1894-6)</td>\n      <td>공공</td>\n      <td>국민건강보험공단</td>\n      <td>국민건강보험공단 데이터센터</td>\n      <td>O 자체 데이터센터</td>\n      <td>-</td>\n    </tr>\n    <tr>\n      <th>1</th>\n      <td>4213011700204710</td>\n      <td>4.21301E+13</td>\n      <td>4213011700</td>\n      <td>2047</td>\n      <td>14</td>\n      <td>강원 원주시 입춘로 130(반곡동 2047-14)</td>\n      <td>공공</td>\n      <td>건강보험심사평가원</td>\n      <td>건강보험심사평가원 ICT센터\\n (2사옥)</td>\n      <td>-</td>\n      <td>-</td>\n    </tr>\n    <tr>\n      <th>2</th>\n      <td>4213011700204710</td>\n      <td>4.21301E+13</td>\n      <td>4213011700</td>\n      <td>2047</td>\n      <td>10</td>\n      <td>강원 원주시 혁신로 60(반곡동 2047-10)</td>\n      <td>공공</td>\n      <td>건강보험심사평가원</td>\n      <td>건강보험심사평가원 ICT센터\\n (1사옥)</td>\n      <td>-</td>\n      <td>-</td>\n    </tr>\n    <tr>\n      <th>3</th>\n      <td>421103102210000</td>\n      <td>4.21103E+13</td>\n      <td>4211031022</td>\n      <td>1000</td>\n      <td>0</td>\n      <td>강원 춘천시 동면 순환대로 1231</td>\n      <td>민간</td>\n      <td>NAVER</td>\n      <td>네이버 데이터센터 각</td>\n      <td>수력 발전소 통해 전체 전력량 70% 수급</td>\n      <td>-</td>\n    </tr>\n    <tr>\n      <th>4</th>\n      <td>42110126006500</td>\n      <td>4.21101E+12</td>\n      <td>4211012600</td>\n      <td>650</td>\n      <td>0</td>\n      <td>강원도 춘천시 옛경춘로 409-14</td>\n      <td>민간</td>\n      <td>오라클 춘천</td>\n      <td>오라클 춘천</td>\n      <td>-</td>\n      <td>-</td>\n    </tr>\n  </tbody>\n</table>\n</div>"
     },
     "execution_count": 5,
     "metadata": {},
     "output_type": "execute_result"
    }
   ],
   "source": [
    "df_2.head()"
   ],
   "metadata": {
    "collapsed": false,
    "pycharm": {
     "name": "#%%\n"
    }
   }
  },
  {
   "cell_type": "code",
   "execution_count": 6,
   "outputs": [
    {
     "data": {
      "text/plain": "   Unnamed: 0       시군구법정동번지코드    본번  부번   사용량_KWH    시도명 시군구명 법정동명  \\\n0      279078  281101470028500  2850   0  36782002  인천광역시   중구  운서동   \n1      279078  281101470028500  2850   0  36782002  인천광역시   중구  운서동   \n2      279078  281101470028500  2850   0  36782002  인천광역시   중구  운서동   \n3      306616     282601220075     7   5   3284352  인천광역시   서구  청라동   \n4      296952   28245101002361   236   1   1901712  인천광역시  계양구  효성동   \n\n         새주소대로로코드    새주소대로로명  ...    시군구법정동번코드    시군구법정동코드     번  지  \\\n0  281104247013.0   공항로424번길  ...  2.81101E+13  2811014700  2850  0   \n1  281104247013.0   공항로424번길  ...  2.81101E+13  2811014700  2850  0   \n2  281104247013.0   공항로424번길  ...  2.81101E+13  2811014700  2850  0   \n3  282603156057.0        에코로  ...  28260122007  2826012200     7  5   \n4  282454265274.0  아나지로213번길  ...  2.82451E+12  2824510100   236  1   \n\n                                         주소  분류            기업              이름  \\\n0                 인천 중구 공항로 272 인천국제공항여객터미널  공공  인천공항출입국·외국인청          T1 전산실   \n1                 인천 중구 공항로 272 인천국제공항여객터미널  공공  인천공항출입국·외국인청          T2 전산실   \n2                         인천 중구 공항로424번길 47  공공      인천국제공항공사           서버실-1   \n3                          인천광역시 서구 에코로 181  금융          하나금융  하나금융그룹 통합데이터센터   \n4  인천 계양구 아나지로213번길 23, 인천광역시 계양구 효성동 236-1  민간        LG CNS            인천센터   \n\n  비고 임차여부  \n0  -    -  \n1  -    -  \n2  -    -  \n3  -    -  \n4  -    -  \n\n[5 rows x 22 columns]",
      "text/html": "<div>\n<style scoped>\n    .dataframe tbody tr th:only-of-type {\n        vertical-align: middle;\n    }\n\n    .dataframe tbody tr th {\n        vertical-align: top;\n    }\n\n    .dataframe thead th {\n        text-align: right;\n    }\n</style>\n<table border=\"1\" class=\"dataframe\">\n  <thead>\n    <tr style=\"text-align: right;\">\n      <th></th>\n      <th>Unnamed: 0</th>\n      <th>시군구법정동번지코드</th>\n      <th>본번</th>\n      <th>부번</th>\n      <th>사용량_KWH</th>\n      <th>시도명</th>\n      <th>시군구명</th>\n      <th>법정동명</th>\n      <th>새주소대로로코드</th>\n      <th>새주소대로로명</th>\n      <th>...</th>\n      <th>시군구법정동번코드</th>\n      <th>시군구법정동코드</th>\n      <th>번</th>\n      <th>지</th>\n      <th>주소</th>\n      <th>분류</th>\n      <th>기업</th>\n      <th>이름</th>\n      <th>비고</th>\n      <th>임차여부</th>\n    </tr>\n  </thead>\n  <tbody>\n    <tr>\n      <th>0</th>\n      <td>279078</td>\n      <td>281101470028500</td>\n      <td>2850</td>\n      <td>0</td>\n      <td>36782002</td>\n      <td>인천광역시</td>\n      <td>중구</td>\n      <td>운서동</td>\n      <td>281104247013.0</td>\n      <td>공항로424번길</td>\n      <td>...</td>\n      <td>2.81101E+13</td>\n      <td>2811014700</td>\n      <td>2850</td>\n      <td>0</td>\n      <td>인천 중구 공항로 272 인천국제공항여객터미널</td>\n      <td>공공</td>\n      <td>인천공항출입국·외국인청</td>\n      <td>T1 전산실</td>\n      <td>-</td>\n      <td>-</td>\n    </tr>\n    <tr>\n      <th>1</th>\n      <td>279078</td>\n      <td>281101470028500</td>\n      <td>2850</td>\n      <td>0</td>\n      <td>36782002</td>\n      <td>인천광역시</td>\n      <td>중구</td>\n      <td>운서동</td>\n      <td>281104247013.0</td>\n      <td>공항로424번길</td>\n      <td>...</td>\n      <td>2.81101E+13</td>\n      <td>2811014700</td>\n      <td>2850</td>\n      <td>0</td>\n      <td>인천 중구 공항로 272 인천국제공항여객터미널</td>\n      <td>공공</td>\n      <td>인천공항출입국·외국인청</td>\n      <td>T2 전산실</td>\n      <td>-</td>\n      <td>-</td>\n    </tr>\n    <tr>\n      <th>2</th>\n      <td>279078</td>\n      <td>281101470028500</td>\n      <td>2850</td>\n      <td>0</td>\n      <td>36782002</td>\n      <td>인천광역시</td>\n      <td>중구</td>\n      <td>운서동</td>\n      <td>281104247013.0</td>\n      <td>공항로424번길</td>\n      <td>...</td>\n      <td>2.81101E+13</td>\n      <td>2811014700</td>\n      <td>2850</td>\n      <td>0</td>\n      <td>인천 중구 공항로424번길 47</td>\n      <td>공공</td>\n      <td>인천국제공항공사</td>\n      <td>서버실-1</td>\n      <td>-</td>\n      <td>-</td>\n    </tr>\n    <tr>\n      <th>3</th>\n      <td>306616</td>\n      <td>282601220075</td>\n      <td>7</td>\n      <td>5</td>\n      <td>3284352</td>\n      <td>인천광역시</td>\n      <td>서구</td>\n      <td>청라동</td>\n      <td>282603156057.0</td>\n      <td>에코로</td>\n      <td>...</td>\n      <td>28260122007</td>\n      <td>2826012200</td>\n      <td>7</td>\n      <td>5</td>\n      <td>인천광역시 서구 에코로 181</td>\n      <td>금융</td>\n      <td>하나금융</td>\n      <td>하나금융그룹 통합데이터센터</td>\n      <td>-</td>\n      <td>-</td>\n    </tr>\n    <tr>\n      <th>4</th>\n      <td>296952</td>\n      <td>28245101002361</td>\n      <td>236</td>\n      <td>1</td>\n      <td>1901712</td>\n      <td>인천광역시</td>\n      <td>계양구</td>\n      <td>효성동</td>\n      <td>282454265274.0</td>\n      <td>아나지로213번길</td>\n      <td>...</td>\n      <td>2.82451E+12</td>\n      <td>2824510100</td>\n      <td>236</td>\n      <td>1</td>\n      <td>인천 계양구 아나지로213번길 23, 인천광역시 계양구 효성동 236-1</td>\n      <td>민간</td>\n      <td>LG CNS</td>\n      <td>인천센터</td>\n      <td>-</td>\n      <td>-</td>\n    </tr>\n  </tbody>\n</table>\n<p>5 rows × 22 columns</p>\n</div>"
     },
     "execution_count": 6,
     "metadata": {},
     "output_type": "execute_result"
    }
   ],
   "source": [
    "df_3 = pd.merge(df, df_2, how='inner' , on='시군구법정동번지코드')\n",
    "\n",
    "df_3"
   ],
   "metadata": {
    "collapsed": false,
    "pycharm": {
     "name": "#%%\n"
    }
   }
  },
  {
   "cell_type": "code",
   "execution_count": 7,
   "outputs": [],
   "source": [
    "df_3.to_csv(\"인천광역시_전력사용량.csv\" , mode = 'w' , encoding= 'cp949')"
   ],
   "metadata": {
    "collapsed": false,
    "pycharm": {
     "name": "#%%\n"
    }
   }
  },
  {
   "cell_type": "code",
   "execution_count": null,
   "outputs": [],
   "source": [],
   "metadata": {
    "collapsed": false,
    "pycharm": {
     "name": "#%%\n"
    }
   }
  },
  {
   "cell_type": "markdown",
   "source": [],
   "metadata": {
    "collapsed": false,
    "pycharm": {
     "name": "#%% md\n"
    }
   }
  },
  {
   "cell_type": "markdown",
   "source": [],
   "metadata": {
    "collapsed": false,
    "pycharm": {
     "name": "#%% md\n"
    }
   }
  }
 ],
 "metadata": {
  "kernelspec": {
   "display_name": "Python 3",
   "language": "python",
   "name": "python3"
  },
  "language_info": {
   "codemirror_mode": {
    "name": "ipython",
    "version": 2
   },
   "file_extension": ".py",
   "mimetype": "text/x-python",
   "name": "python",
   "nbconvert_exporter": "python",
   "pygments_lexer": "ipython2",
   "version": "2.7.6"
  }
 },
 "nbformat": 4,
 "nbformat_minor": 0
}