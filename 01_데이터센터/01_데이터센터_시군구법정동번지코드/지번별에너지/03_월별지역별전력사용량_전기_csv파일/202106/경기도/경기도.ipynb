{
 "cells": [
  {
   "cell_type": "code",
   "execution_count": 1,
   "metadata": {
    "collapsed": true,
    "pycharm": {
     "name": "#%%\n"
    }
   },
   "outputs": [
    {
     "data": {
      "text/plain": "   Unnamed: 0       시군구법정동번지코드   본번  부번  사용량_KWH  시도명     시군구명 법정동명  \\\n0      484185  412811190013624  136  24     1521  경기도  고양시 덕양구  내유동   \n1      543608  414631170048210  482  10    13769  경기도  용인시 기흥구  상하동   \n2      543609   41463117004976  497   6     7232  경기도  용인시 기흥구  상하동   \n3      543610   41463117005112  511   2     6965  경기도  용인시 기흥구  상하동   \n4      543611   41463117005123  512   3     3581  경기도  용인시 기흥구  상하동   \n\n         새주소대로로코드 새주소대로로명  새주소본번 새주소부번  \n0  412814376036.0     내유길  305.0   0.0  \n1  414633204047.0     언동로  220.0   0.0  \n2  414633204047.0     언동로  210.0   7.0  \n3  414633204047.0     언동로  126.0   0.0  \n4               -       -      -     -  ",
      "text/html": "<div>\n<style scoped>\n    .dataframe tbody tr th:only-of-type {\n        vertical-align: middle;\n    }\n\n    .dataframe tbody tr th {\n        vertical-align: top;\n    }\n\n    .dataframe thead th {\n        text-align: right;\n    }\n</style>\n<table border=\"1\" class=\"dataframe\">\n  <thead>\n    <tr style=\"text-align: right;\">\n      <th></th>\n      <th>Unnamed: 0</th>\n      <th>시군구법정동번지코드</th>\n      <th>본번</th>\n      <th>부번</th>\n      <th>사용량_KWH</th>\n      <th>시도명</th>\n      <th>시군구명</th>\n      <th>법정동명</th>\n      <th>새주소대로로코드</th>\n      <th>새주소대로로명</th>\n      <th>새주소본번</th>\n      <th>새주소부번</th>\n    </tr>\n  </thead>\n  <tbody>\n    <tr>\n      <th>0</th>\n      <td>484185</td>\n      <td>412811190013624</td>\n      <td>136</td>\n      <td>24</td>\n      <td>1521</td>\n      <td>경기도</td>\n      <td>고양시 덕양구</td>\n      <td>내유동</td>\n      <td>412814376036.0</td>\n      <td>내유길</td>\n      <td>305.0</td>\n      <td>0.0</td>\n    </tr>\n    <tr>\n      <th>1</th>\n      <td>543608</td>\n      <td>414631170048210</td>\n      <td>482</td>\n      <td>10</td>\n      <td>13769</td>\n      <td>경기도</td>\n      <td>용인시 기흥구</td>\n      <td>상하동</td>\n      <td>414633204047.0</td>\n      <td>언동로</td>\n      <td>220.0</td>\n      <td>0.0</td>\n    </tr>\n    <tr>\n      <th>2</th>\n      <td>543609</td>\n      <td>41463117004976</td>\n      <td>497</td>\n      <td>6</td>\n      <td>7232</td>\n      <td>경기도</td>\n      <td>용인시 기흥구</td>\n      <td>상하동</td>\n      <td>414633204047.0</td>\n      <td>언동로</td>\n      <td>210.0</td>\n      <td>7.0</td>\n    </tr>\n    <tr>\n      <th>3</th>\n      <td>543610</td>\n      <td>41463117005112</td>\n      <td>511</td>\n      <td>2</td>\n      <td>6965</td>\n      <td>경기도</td>\n      <td>용인시 기흥구</td>\n      <td>상하동</td>\n      <td>414633204047.0</td>\n      <td>언동로</td>\n      <td>126.0</td>\n      <td>0.0</td>\n    </tr>\n    <tr>\n      <th>4</th>\n      <td>543611</td>\n      <td>41463117005123</td>\n      <td>512</td>\n      <td>3</td>\n      <td>3581</td>\n      <td>경기도</td>\n      <td>용인시 기흥구</td>\n      <td>상하동</td>\n      <td>-</td>\n      <td>-</td>\n      <td>-</td>\n      <td>-</td>\n    </tr>\n  </tbody>\n</table>\n</div>"
     },
     "execution_count": 1,
     "metadata": {},
     "output_type": "execute_result"
    }
   ],
   "source": [
    "import pandas as pd\n",
    "\n",
    "\n",
    "df = pd.read_csv('경기도.csv' , encoding = 'cp949')\n",
    "df_2 = pd.read_csv('../../../../데이터센터정리.csv' , encoding = 'cp949')\n",
    "\n",
    "df = df.astype({'시군구법정동번지코드' : 'str'})\n",
    "                 #'시군구법정동번코드' : 'str'})\n",
    "df.head()"
   ]
  },
  {
   "cell_type": "code",
   "execution_count": 2,
   "outputs": [
    {
     "name": "stdout",
     "output_type": "stream",
     "text": [
      "Unnamed: 0     int64\n",
      "시군구법정동번지코드    object\n",
      "본번             int64\n",
      "부번             int64\n",
      "사용량_KWH        int64\n",
      "시도명           object\n",
      "시군구명          object\n",
      "법정동명          object\n",
      "새주소대로로코드      object\n",
      "새주소대로로명       object\n",
      "새주소본번         object\n",
      "새주소부번         object\n",
      "dtype: object\n"
     ]
    }
   ],
   "source": [
    "print(df.dtypes)"
   ],
   "metadata": {
    "collapsed": false,
    "pycharm": {
     "name": "#%%\n"
    }
   }
  },
  {
   "cell_type": "code",
   "execution_count": 3,
   "outputs": [],
   "source": [
    "#df_2 = df_2.astype({'시군구법정동번지코드' : 'float'})"
   ],
   "metadata": {
    "collapsed": false,
    "pycharm": {
     "name": "#%%\n"
    }
   }
  },
  {
   "cell_type": "code",
   "execution_count": 4,
   "outputs": [
    {
     "name": "stdout",
     "output_type": "stream",
     "text": [
      "시군구법정동번지코드    object\n",
      "시군구법정동번코드     object\n",
      "시군구법정동코드       int64\n",
      "번             object\n",
      "지             object\n",
      "주소            object\n",
      "분류            object\n",
      "기업            object\n",
      "이름            object\n",
      "비고            object\n",
      "임차여부          object\n",
      "dtype: object\n"
     ]
    }
   ],
   "source": [
    "print(df_2.dtypes)"
   ],
   "metadata": {
    "collapsed": false,
    "pycharm": {
     "name": "#%%\n"
    }
   }
  },
  {
   "cell_type": "code",
   "execution_count": 5,
   "outputs": [
    {
     "data": {
      "text/plain": "         시군구법정동번지코드    시군구법정동번코드    시군구법정동코드     번   지  \\\n0   421301170018946  4.21301E+13  4213011700  1894   6   \n1  4213011700204710  4.21301E+13  4213011700  2047  14   \n2  4213011700204710  4.21301E+13  4213011700  2047  10   \n3   421103102210000  4.21103E+13  4211031022  1000   0   \n4    42110126006500  4.21101E+12  4211012600   650   0   \n\n                            주소  분류         기업                       이름  \\\n0    강원 원주시 건강로 32(반곡동 1894-6)  공공   국민건강보험공단           국민건강보험공단 데이터센터   \n1  강원 원주시 입춘로 130(반곡동 2047-14)  공공  건강보험심사평가원  건강보험심사평가원 ICT센터\\n (2사옥)   \n2   강원 원주시 혁신로 60(반곡동 2047-10)  공공  건강보험심사평가원  건강보험심사평가원 ICT센터\\n (1사옥)   \n3          강원 춘천시 동면 순환대로 1231  민간      NAVER              네이버 데이터센터 각   \n4          강원도 춘천시 옛경춘로 409-14  민간     오라클 춘천                   오라클 춘천   \n\n                        비고 임차여부  \n0               O 자체 데이터센터    -  \n1                        -    -  \n2                        -    -  \n3  수력 발전소 통해 전체 전력량 70% 수급    -  \n4                        -    -  ",
      "text/html": "<div>\n<style scoped>\n    .dataframe tbody tr th:only-of-type {\n        vertical-align: middle;\n    }\n\n    .dataframe tbody tr th {\n        vertical-align: top;\n    }\n\n    .dataframe thead th {\n        text-align: right;\n    }\n</style>\n<table border=\"1\" class=\"dataframe\">\n  <thead>\n    <tr style=\"text-align: right;\">\n      <th></th>\n      <th>시군구법정동번지코드</th>\n      <th>시군구법정동번코드</th>\n      <th>시군구법정동코드</th>\n      <th>번</th>\n      <th>지</th>\n      <th>주소</th>\n      <th>분류</th>\n      <th>기업</th>\n      <th>이름</th>\n      <th>비고</th>\n      <th>임차여부</th>\n    </tr>\n  </thead>\n  <tbody>\n    <tr>\n      <th>0</th>\n      <td>421301170018946</td>\n      <td>4.21301E+13</td>\n      <td>4213011700</td>\n      <td>1894</td>\n      <td>6</td>\n      <td>강원 원주시 건강로 32(반곡동 1894-6)</td>\n      <td>공공</td>\n      <td>국민건강보험공단</td>\n      <td>국민건강보험공단 데이터센터</td>\n      <td>O 자체 데이터센터</td>\n      <td>-</td>\n    </tr>\n    <tr>\n      <th>1</th>\n      <td>4213011700204710</td>\n      <td>4.21301E+13</td>\n      <td>4213011700</td>\n      <td>2047</td>\n      <td>14</td>\n      <td>강원 원주시 입춘로 130(반곡동 2047-14)</td>\n      <td>공공</td>\n      <td>건강보험심사평가원</td>\n      <td>건강보험심사평가원 ICT센터\\n (2사옥)</td>\n      <td>-</td>\n      <td>-</td>\n    </tr>\n    <tr>\n      <th>2</th>\n      <td>4213011700204710</td>\n      <td>4.21301E+13</td>\n      <td>4213011700</td>\n      <td>2047</td>\n      <td>10</td>\n      <td>강원 원주시 혁신로 60(반곡동 2047-10)</td>\n      <td>공공</td>\n      <td>건강보험심사평가원</td>\n      <td>건강보험심사평가원 ICT센터\\n (1사옥)</td>\n      <td>-</td>\n      <td>-</td>\n    </tr>\n    <tr>\n      <th>3</th>\n      <td>421103102210000</td>\n      <td>4.21103E+13</td>\n      <td>4211031022</td>\n      <td>1000</td>\n      <td>0</td>\n      <td>강원 춘천시 동면 순환대로 1231</td>\n      <td>민간</td>\n      <td>NAVER</td>\n      <td>네이버 데이터센터 각</td>\n      <td>수력 발전소 통해 전체 전력량 70% 수급</td>\n      <td>-</td>\n    </tr>\n    <tr>\n      <th>4</th>\n      <td>42110126006500</td>\n      <td>4.21101E+12</td>\n      <td>4211012600</td>\n      <td>650</td>\n      <td>0</td>\n      <td>강원도 춘천시 옛경춘로 409-14</td>\n      <td>민간</td>\n      <td>오라클 춘천</td>\n      <td>오라클 춘천</td>\n      <td>-</td>\n      <td>-</td>\n    </tr>\n  </tbody>\n</table>\n</div>"
     },
     "execution_count": 5,
     "metadata": {},
     "output_type": "execute_result"
    }
   ],
   "source": [
    "df_2.head()"
   ],
   "metadata": {
    "collapsed": false,
    "pycharm": {
     "name": "#%%\n"
    }
   }
  },
  {
   "cell_type": "code",
   "execution_count": 6,
   "outputs": [
    {
     "data": {
      "text/plain": "    Unnamed: 0        시군구법정동번지코드    본번   부번   사용량_KWH  시도명      시군구명 법정동명  \\\n0       544837  4146510300325230   325  230   1868832  경기도   용인시 수지구  동천동   \n1       550536   414631130010218   102   18  13610076  경기도   용인시 기흥구  마북동   \n2       550537   414631130010218   102   18  13610076  경기도   용인시 기흥구  마북동   \n3       587904   415701040020161  2016    1      1084  경기도       김포시  장기동   \n4       605131     4159013500383    38    3     66696  경기도       화성시  산척동   \n5       519860    41390135002420   242    0     56851  경기도       시흥시  배곧동   \n6       526571    41450109008361   836    1      2941  경기도       하남시  망월동   \n7       526571    41450109008361   836    1      2941  경기도       하남시  망월동   \n8       488330    41285104007260   726    0  10155648  경기도  고양시 일산동구  장항동   \n9       496445   412851060013280  1328    0    331728  경기도  고양시 일산동구  백석동   \n10      431825    41135109006950   695    0   1824480  경기도   성남시 분당구  삼평동   \n11      439543   411711010020012   200   12   4800000  경기도   안양시 만안구  안양동   \n12      432408    41135114001922   192    2   3467376  경기도   성남시 분당구  구미동   \n13      435529    41135107003431   343    1   2931456  경기도   성남시 분당구  야탑동   \n14      436056    41135109006110   611    0  10949756  경기도   성남시 분당구  삼평동   \n15      419189    41117101004101   410    1   7745160  경기도   수원시 영통구  매탄동   \n\n          새주소대로로코드     새주소대로로명  ...    시군구법정동번코드    시군구법정동코드     번    지  \\\n0   414654415118.0  용구대로2771번길  ...  4.14651E+12  4146510300   325  230   \n1   414634412125.0    마북로240번길  ...  4.14631E+12  4146311300   102   18   \n2   414634412125.0    마북로240번길  ...  4.14631E+12  4146311300   102   18   \n3                -           -  ...  4.15701E+13  4157010400  2016    1   \n4   415904852416.0     동탄산척로2길  ...  4.15901E+11  4159013500    38    3   \n5                -           -  ...  4.13901E+12  4139013500   242    0   \n6                -           -  ...  4.14501E+12  4145010900   836    1   \n7                -           -  ...  4.14501E+12  4145010900   836    1   \n8   412853192094.0         중앙로  ...  4.12851E+12  4128510400   726    0   \n9   412853192096.0         호수로  ...  4.12851E+13  4128510600  1328    0   \n10  411354340056.0  대왕판교로712번길  ...  4.11351E+12  4113510900   695    0   \n11  411714346054.0     덕천로48번길  ...  4.11711E+12  4117110100   200   12   \n12  411354340263.0     성남대로2번길  ...  4.11351E+12  4113511400   192    2   \n13  411353180048.0         장미로  ...  4.11351E+12  4113510700   343    1   \n14  411354340514.0    판교로255번길  ...  4.11351E+12  4113510900   611    0   \n15  411174331102.0    삼성로168번길  ...  4.11171E+12  4111710100   410    1   \n\n                                                 주소  분류  \\\n0                         경기도 용인시 수지구용구대로 2771번길 85  민간   \n1                        경기도 용인시 기흥구 마북로 240번길 17-9   -   \n2                        경기도 용인시 기흥구 마북로 240번길 17-9   -   \n3                                경기 김포시 태장로769번길 35  금융   \n4                               경기 화성시 동탄산척로2길 53-7  공공   \n5                                 경기도 시흥시 서울대학로 173  민간   \n6                                경기 하남시 미사강변한강로 177  은행   \n7                     경기 하남시 미사강변한강로 177(망월동 836-1)  은행   \n8    경기도 고양시 일산동구 중앙로 1333 (경기도 고양시 일산동구 장항동 726번지)  통신   \n9                             경기 고양시 일산동구 호수로 358-8  공공   \n10                        경기도 성남시 분당구 대왕판교로712번길 11  민간   \n11                           경기도 안양시 만안구 덕천로48번길 37  통신   \n12  경기도 성남시 분당구 성남대로 2번길 12 (경기도 성남시 분당구 구미동 192-2)  통신   \n13                     경기도 성남시 분당구 장미로 36 호스트웨이 IDC  민간   \n14                    성남시 분당구 판교로 255번길 46(삼평동 611)  민간   \n15   경기도 수원시 영통구 삼성로168번길 10, 경기도 수원시 영통구 매탄동 410-1  민간   \n\n                                     기업  \\\n0                                 세종텔레콤   \n1   AWS 임차(롯데정보통신(현대정보기술) 용인 글로벌클라우드센터)   \n2   AWS 임차(롯데정보통신(현대정보기술) 용인 글로벌클라우드센터)   \n3                                  KB금융   \n4                                한국도로공사   \n5                                 KAKAO   \n6                                한국산업은행   \n7                                  산업은행   \n8                           SK브로드밴드,AWS   \n9                               한국예탁결제원   \n10                                  NHN   \n11                                LG U+   \n12           SK브로드밴드,KINX,한국여성인권진흥원(공공)   \n13                    KINX (인터넷 인프라 기업)   \n14                               SK C&C   \n15                                삼성SDS   \n\n                                             이름                      비고 임차여부  \n0                                         세종텔레콤                       -    -  \n1                                 롯데정보통신 제3,4센터                 *AWS 중복    -  \n2                                 롯데정보통신 제3,4센터                 *AWS 중복    -  \n3                                 KB국민은행 통합IT센터                       -    -  \n4                                   ICT운영센터(동탄)                       -    -  \n5                                   카카오 제3데이터센터  2024 착공 예정\\n2026 준공 예정    -  \n6                                        디지털스퀘어                       -    -  \n7                                  한국 산업은행 IT센터                       -    -  \n8                                         일산 센터                       -    -  \n9                                한국예탁결제원 일산전산센터                       -    -  \n10  토스트 클라우드 센터1\\n (TOAST Cloud Center 1, TCC1)  2021 착공\\n2022.12 준공 예정    -  \n11                                   LG U+안양 센터                    기타분류    -  \n12                                        분당 센터                       -    -  \n13                                      IDC 분당1                       -    -  \n14                                   판교 클라우드 센터                       -    -  \n15                                삼성SDS ICT수원센터                       -    -  \n\n[16 rows x 22 columns]",
      "text/html": "<div>\n<style scoped>\n    .dataframe tbody tr th:only-of-type {\n        vertical-align: middle;\n    }\n\n    .dataframe tbody tr th {\n        vertical-align: top;\n    }\n\n    .dataframe thead th {\n        text-align: right;\n    }\n</style>\n<table border=\"1\" class=\"dataframe\">\n  <thead>\n    <tr style=\"text-align: right;\">\n      <th></th>\n      <th>Unnamed: 0</th>\n      <th>시군구법정동번지코드</th>\n      <th>본번</th>\n      <th>부번</th>\n      <th>사용량_KWH</th>\n      <th>시도명</th>\n      <th>시군구명</th>\n      <th>법정동명</th>\n      <th>새주소대로로코드</th>\n      <th>새주소대로로명</th>\n      <th>...</th>\n      <th>시군구법정동번코드</th>\n      <th>시군구법정동코드</th>\n      <th>번</th>\n      <th>지</th>\n      <th>주소</th>\n      <th>분류</th>\n      <th>기업</th>\n      <th>이름</th>\n      <th>비고</th>\n      <th>임차여부</th>\n    </tr>\n  </thead>\n  <tbody>\n    <tr>\n      <th>0</th>\n      <td>544837</td>\n      <td>4146510300325230</td>\n      <td>325</td>\n      <td>230</td>\n      <td>1868832</td>\n      <td>경기도</td>\n      <td>용인시 수지구</td>\n      <td>동천동</td>\n      <td>414654415118.0</td>\n      <td>용구대로2771번길</td>\n      <td>...</td>\n      <td>4.14651E+12</td>\n      <td>4146510300</td>\n      <td>325</td>\n      <td>230</td>\n      <td>경기도 용인시 수지구용구대로 2771번길 85</td>\n      <td>민간</td>\n      <td>세종텔레콤</td>\n      <td>세종텔레콤</td>\n      <td>-</td>\n      <td>-</td>\n    </tr>\n    <tr>\n      <th>1</th>\n      <td>550536</td>\n      <td>414631130010218</td>\n      <td>102</td>\n      <td>18</td>\n      <td>13610076</td>\n      <td>경기도</td>\n      <td>용인시 기흥구</td>\n      <td>마북동</td>\n      <td>414634412125.0</td>\n      <td>마북로240번길</td>\n      <td>...</td>\n      <td>4.14631E+12</td>\n      <td>4146311300</td>\n      <td>102</td>\n      <td>18</td>\n      <td>경기도 용인시 기흥구 마북로 240번길 17-9</td>\n      <td>-</td>\n      <td>AWS 임차(롯데정보통신(현대정보기술) 용인 글로벌클라우드센터)</td>\n      <td>롯데정보통신 제3,4센터</td>\n      <td>*AWS 중복</td>\n      <td>-</td>\n    </tr>\n    <tr>\n      <th>2</th>\n      <td>550537</td>\n      <td>414631130010218</td>\n      <td>102</td>\n      <td>18</td>\n      <td>13610076</td>\n      <td>경기도</td>\n      <td>용인시 기흥구</td>\n      <td>마북동</td>\n      <td>414634412125.0</td>\n      <td>마북로240번길</td>\n      <td>...</td>\n      <td>4.14631E+12</td>\n      <td>4146311300</td>\n      <td>102</td>\n      <td>18</td>\n      <td>경기도 용인시 기흥구 마북로 240번길 17-9</td>\n      <td>-</td>\n      <td>AWS 임차(롯데정보통신(현대정보기술) 용인 글로벌클라우드센터)</td>\n      <td>롯데정보통신 제3,4센터</td>\n      <td>*AWS 중복</td>\n      <td>-</td>\n    </tr>\n    <tr>\n      <th>3</th>\n      <td>587904</td>\n      <td>415701040020161</td>\n      <td>2016</td>\n      <td>1</td>\n      <td>1084</td>\n      <td>경기도</td>\n      <td>김포시</td>\n      <td>장기동</td>\n      <td>-</td>\n      <td>-</td>\n      <td>...</td>\n      <td>4.15701E+13</td>\n      <td>4157010400</td>\n      <td>2016</td>\n      <td>1</td>\n      <td>경기 김포시 태장로769번길 35</td>\n      <td>금융</td>\n      <td>KB금융</td>\n      <td>KB국민은행 통합IT센터</td>\n      <td>-</td>\n      <td>-</td>\n    </tr>\n    <tr>\n      <th>4</th>\n      <td>605131</td>\n      <td>4159013500383</td>\n      <td>38</td>\n      <td>3</td>\n      <td>66696</td>\n      <td>경기도</td>\n      <td>화성시</td>\n      <td>산척동</td>\n      <td>415904852416.0</td>\n      <td>동탄산척로2길</td>\n      <td>...</td>\n      <td>4.15901E+11</td>\n      <td>4159013500</td>\n      <td>38</td>\n      <td>3</td>\n      <td>경기 화성시 동탄산척로2길 53-7</td>\n      <td>공공</td>\n      <td>한국도로공사</td>\n      <td>ICT운영센터(동탄)</td>\n      <td>-</td>\n      <td>-</td>\n    </tr>\n    <tr>\n      <th>5</th>\n      <td>519860</td>\n      <td>41390135002420</td>\n      <td>242</td>\n      <td>0</td>\n      <td>56851</td>\n      <td>경기도</td>\n      <td>시흥시</td>\n      <td>배곧동</td>\n      <td>-</td>\n      <td>-</td>\n      <td>...</td>\n      <td>4.13901E+12</td>\n      <td>4139013500</td>\n      <td>242</td>\n      <td>0</td>\n      <td>경기도 시흥시 서울대학로 173</td>\n      <td>민간</td>\n      <td>KAKAO</td>\n      <td>카카오 제3데이터센터</td>\n      <td>2024 착공 예정\\n2026 준공 예정</td>\n      <td>-</td>\n    </tr>\n    <tr>\n      <th>6</th>\n      <td>526571</td>\n      <td>41450109008361</td>\n      <td>836</td>\n      <td>1</td>\n      <td>2941</td>\n      <td>경기도</td>\n      <td>하남시</td>\n      <td>망월동</td>\n      <td>-</td>\n      <td>-</td>\n      <td>...</td>\n      <td>4.14501E+12</td>\n      <td>4145010900</td>\n      <td>836</td>\n      <td>1</td>\n      <td>경기 하남시 미사강변한강로 177</td>\n      <td>은행</td>\n      <td>한국산업은행</td>\n      <td>디지털스퀘어</td>\n      <td>-</td>\n      <td>-</td>\n    </tr>\n    <tr>\n      <th>7</th>\n      <td>526571</td>\n      <td>41450109008361</td>\n      <td>836</td>\n      <td>1</td>\n      <td>2941</td>\n      <td>경기도</td>\n      <td>하남시</td>\n      <td>망월동</td>\n      <td>-</td>\n      <td>-</td>\n      <td>...</td>\n      <td>4.14501E+12</td>\n      <td>4145010900</td>\n      <td>836</td>\n      <td>1</td>\n      <td>경기 하남시 미사강변한강로 177(망월동 836-1)</td>\n      <td>은행</td>\n      <td>산업은행</td>\n      <td>한국 산업은행 IT센터</td>\n      <td>-</td>\n      <td>-</td>\n    </tr>\n    <tr>\n      <th>8</th>\n      <td>488330</td>\n      <td>41285104007260</td>\n      <td>726</td>\n      <td>0</td>\n      <td>10155648</td>\n      <td>경기도</td>\n      <td>고양시 일산동구</td>\n      <td>장항동</td>\n      <td>412853192094.0</td>\n      <td>중앙로</td>\n      <td>...</td>\n      <td>4.12851E+12</td>\n      <td>4128510400</td>\n      <td>726</td>\n      <td>0</td>\n      <td>경기도 고양시 일산동구 중앙로 1333 (경기도 고양시 일산동구 장항동 726번지)</td>\n      <td>통신</td>\n      <td>SK브로드밴드,AWS</td>\n      <td>일산 센터</td>\n      <td>-</td>\n      <td>-</td>\n    </tr>\n    <tr>\n      <th>9</th>\n      <td>496445</td>\n      <td>412851060013280</td>\n      <td>1328</td>\n      <td>0</td>\n      <td>331728</td>\n      <td>경기도</td>\n      <td>고양시 일산동구</td>\n      <td>백석동</td>\n      <td>412853192096.0</td>\n      <td>호수로</td>\n      <td>...</td>\n      <td>4.12851E+13</td>\n      <td>4128510600</td>\n      <td>1328</td>\n      <td>0</td>\n      <td>경기 고양시 일산동구 호수로 358-8</td>\n      <td>공공</td>\n      <td>한국예탁결제원</td>\n      <td>한국예탁결제원 일산전산센터</td>\n      <td>-</td>\n      <td>-</td>\n    </tr>\n    <tr>\n      <th>10</th>\n      <td>431825</td>\n      <td>41135109006950</td>\n      <td>695</td>\n      <td>0</td>\n      <td>1824480</td>\n      <td>경기도</td>\n      <td>성남시 분당구</td>\n      <td>삼평동</td>\n      <td>411354340056.0</td>\n      <td>대왕판교로712번길</td>\n      <td>...</td>\n      <td>4.11351E+12</td>\n      <td>4113510900</td>\n      <td>695</td>\n      <td>0</td>\n      <td>경기도 성남시 분당구 대왕판교로712번길 11</td>\n      <td>민간</td>\n      <td>NHN</td>\n      <td>토스트 클라우드 센터1\\n (TOAST Cloud Center 1, TCC1)</td>\n      <td>2021 착공\\n2022.12 준공 예정</td>\n      <td>-</td>\n    </tr>\n    <tr>\n      <th>11</th>\n      <td>439543</td>\n      <td>411711010020012</td>\n      <td>200</td>\n      <td>12</td>\n      <td>4800000</td>\n      <td>경기도</td>\n      <td>안양시 만안구</td>\n      <td>안양동</td>\n      <td>411714346054.0</td>\n      <td>덕천로48번길</td>\n      <td>...</td>\n      <td>4.11711E+12</td>\n      <td>4117110100</td>\n      <td>200</td>\n      <td>12</td>\n      <td>경기도 안양시 만안구 덕천로48번길 37</td>\n      <td>통신</td>\n      <td>LG U+</td>\n      <td>LG U+안양 센터</td>\n      <td>기타분류</td>\n      <td>-</td>\n    </tr>\n    <tr>\n      <th>12</th>\n      <td>432408</td>\n      <td>41135114001922</td>\n      <td>192</td>\n      <td>2</td>\n      <td>3467376</td>\n      <td>경기도</td>\n      <td>성남시 분당구</td>\n      <td>구미동</td>\n      <td>411354340263.0</td>\n      <td>성남대로2번길</td>\n      <td>...</td>\n      <td>4.11351E+12</td>\n      <td>4113511400</td>\n      <td>192</td>\n      <td>2</td>\n      <td>경기도 성남시 분당구 성남대로 2번길 12 (경기도 성남시 분당구 구미동 192-2)</td>\n      <td>통신</td>\n      <td>SK브로드밴드,KINX,한국여성인권진흥원(공공)</td>\n      <td>분당 센터</td>\n      <td>-</td>\n      <td>-</td>\n    </tr>\n    <tr>\n      <th>13</th>\n      <td>435529</td>\n      <td>41135107003431</td>\n      <td>343</td>\n      <td>1</td>\n      <td>2931456</td>\n      <td>경기도</td>\n      <td>성남시 분당구</td>\n      <td>야탑동</td>\n      <td>411353180048.0</td>\n      <td>장미로</td>\n      <td>...</td>\n      <td>4.11351E+12</td>\n      <td>4113510700</td>\n      <td>343</td>\n      <td>1</td>\n      <td>경기도 성남시 분당구 장미로 36 호스트웨이 IDC</td>\n      <td>민간</td>\n      <td>KINX (인터넷 인프라 기업)</td>\n      <td>IDC 분당1</td>\n      <td>-</td>\n      <td>-</td>\n    </tr>\n    <tr>\n      <th>14</th>\n      <td>436056</td>\n      <td>41135109006110</td>\n      <td>611</td>\n      <td>0</td>\n      <td>10949756</td>\n      <td>경기도</td>\n      <td>성남시 분당구</td>\n      <td>삼평동</td>\n      <td>411354340514.0</td>\n      <td>판교로255번길</td>\n      <td>...</td>\n      <td>4.11351E+12</td>\n      <td>4113510900</td>\n      <td>611</td>\n      <td>0</td>\n      <td>성남시 분당구 판교로 255번길 46(삼평동 611)</td>\n      <td>민간</td>\n      <td>SK C&amp;C</td>\n      <td>판교 클라우드 센터</td>\n      <td>-</td>\n      <td>-</td>\n    </tr>\n    <tr>\n      <th>15</th>\n      <td>419189</td>\n      <td>41117101004101</td>\n      <td>410</td>\n      <td>1</td>\n      <td>7745160</td>\n      <td>경기도</td>\n      <td>수원시 영통구</td>\n      <td>매탄동</td>\n      <td>411174331102.0</td>\n      <td>삼성로168번길</td>\n      <td>...</td>\n      <td>4.11171E+12</td>\n      <td>4111710100</td>\n      <td>410</td>\n      <td>1</td>\n      <td>경기도 수원시 영통구 삼성로168번길 10, 경기도 수원시 영통구 매탄동 410-1</td>\n      <td>민간</td>\n      <td>삼성SDS</td>\n      <td>삼성SDS ICT수원센터</td>\n      <td>-</td>\n      <td>-</td>\n    </tr>\n  </tbody>\n</table>\n<p>16 rows × 22 columns</p>\n</div>"
     },
     "execution_count": 6,
     "metadata": {},
     "output_type": "execute_result"
    }
   ],
   "source": [
    "df_3 = pd.merge(df, df_2, how='inner' , on='시군구법정동번지코드')\n",
    "\n",
    "df_3"
   ],
   "metadata": {
    "collapsed": false,
    "pycharm": {
     "name": "#%%\n"
    }
   }
  },
  {
   "cell_type": "code",
   "execution_count": 7,
   "outputs": [],
   "source": [
    "df_3.to_csv(\"경기도_전력사용량.csv\" , mode = 'w' , encoding= 'cp949')"
   ],
   "metadata": {
    "collapsed": false,
    "pycharm": {
     "name": "#%%\n"
    }
   }
  },
  {
   "cell_type": "code",
   "execution_count": null,
   "outputs": [],
   "source": [],
   "metadata": {
    "collapsed": false,
    "pycharm": {
     "name": "#%%\n"
    }
   }
  },
  {
   "cell_type": "markdown",
   "source": [],
   "metadata": {
    "collapsed": false,
    "pycharm": {
     "name": "#%% md\n"
    }
   }
  },
  {
   "cell_type": "markdown",
   "source": [],
   "metadata": {
    "collapsed": false,
    "pycharm": {
     "name": "#%% md\n"
    }
   }
  }
 ],
 "metadata": {
  "kernelspec": {
   "display_name": "Python 3",
   "language": "python",
   "name": "python3"
  },
  "language_info": {
   "codemirror_mode": {
    "name": "ipython",
    "version": 2
   },
   "file_extension": ".py",
   "mimetype": "text/x-python",
   "name": "python",
   "nbconvert_exporter": "python",
   "pygments_lexer": "ipython2",
   "version": "2.7.6"
  }
 },
 "nbformat": 4,
 "nbformat_minor": 0
}