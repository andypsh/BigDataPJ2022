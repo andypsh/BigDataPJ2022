{
 "cells": [
  {
   "cell_type": "code",
   "execution_count": 1,
   "outputs": [],
   "source": [
    "import pandas as pd\n",
    "\n",
    "pd.options.display.float_format = '{:.0f}'.format\n"
   ],
   "metadata": {
    "collapsed": false,
    "pycharm": {
     "name": "#%%\n"
    }
   }
  },
  {
   "cell_type": "code",
   "execution_count": 2,
   "outputs": [],
   "source": [
    "# file['시군구코드'].head()"
   ],
   "metadata": {
    "collapsed": false,
    "pycharm": {
     "name": "#%%\n"
    }
   }
  },
  {
   "cell_type": "code",
   "execution_count": 3,
   "outputs": [
    {
     "data": {
      "text/plain": "         시군구코드  법정동코드      시도명  시군구명     법정동명    본번  부번     새주소대로로코드  \\\n0        11110  10100    서울특별시   종로구      청운동     5   0 111103100012   \n1        11110  10100    서울특별시   종로구      청운동     7   3          NaN   \n2        11110  10100    서울특별시   종로구      청운동     8   3 111104100288   \n3        11110  10100    서울특별시   종로구      청운동    15   5 111104100458   \n4        11110  10100    서울특별시   종로구      청운동    39   6 111103100012   \n...        ...    ...      ...   ...      ...   ...  ..          ...   \n1352133  50130  32026  제주특별자치도  서귀포시  표선면 토산리   934   1 501303349238   \n1352134  50130  32026  제주특별자치도  서귀포시  표선면 토산리  1263   0          NaN   \n1352135  50130  32026  제주특별자치도  서귀포시  표선면 토산리  1310   0 501303350275   \n1352136  50130  32026  제주특별자치도  서귀포시  표선면 토산리  1366   1 501303349238   \n1352137  50130  32026  제주특별자치도  서귀포시  표선면 토산리  1550   6 501304850977   \n\n            새주소대로로명  새주소지상지하코드 새주소지상지하명  새주소본번  새주소부번  사용량_KWH  \n0              자하문로          0       지상    152      0     2551  \n1               NaN        NaN      NaN    NaN    NaN      402  \n2           자하문로35길          0       지상      5      0      214  \n3            창의문로1길          0       지상     12      0      676  \n4              자하문로          0       지상    131      0     1976  \n...             ...        ...      ...    ...    ...      ...  \n1352133       중산간동로          0       지상   5503      0      434  \n1352134         NaN        NaN      NaN    NaN    NaN       15  \n1352135       토산중앙로          0       지상    201     38      343  \n1352136       중산간동로          0       지상   5564      1     6164  \n1352137  토산중앙로346번길          0       지상     21      0      154  \n\n[1352138 rows x 14 columns]",
      "text/html": "<div>\n<style scoped>\n    .dataframe tbody tr th:only-of-type {\n        vertical-align: middle;\n    }\n\n    .dataframe tbody tr th {\n        vertical-align: top;\n    }\n\n    .dataframe thead th {\n        text-align: right;\n    }\n</style>\n<table border=\"1\" class=\"dataframe\">\n  <thead>\n    <tr style=\"text-align: right;\">\n      <th></th>\n      <th>시군구코드</th>\n      <th>법정동코드</th>\n      <th>시도명</th>\n      <th>시군구명</th>\n      <th>법정동명</th>\n      <th>본번</th>\n      <th>부번</th>\n      <th>새주소대로로코드</th>\n      <th>새주소대로로명</th>\n      <th>새주소지상지하코드</th>\n      <th>새주소지상지하명</th>\n      <th>새주소본번</th>\n      <th>새주소부번</th>\n      <th>사용량_KWH</th>\n    </tr>\n  </thead>\n  <tbody>\n    <tr>\n      <th>0</th>\n      <td>11110</td>\n      <td>10100</td>\n      <td>서울특별시</td>\n      <td>종로구</td>\n      <td>청운동</td>\n      <td>5</td>\n      <td>0</td>\n      <td>111103100012</td>\n      <td>자하문로</td>\n      <td>0</td>\n      <td>지상</td>\n      <td>152</td>\n      <td>0</td>\n      <td>2551</td>\n    </tr>\n    <tr>\n      <th>1</th>\n      <td>11110</td>\n      <td>10100</td>\n      <td>서울특별시</td>\n      <td>종로구</td>\n      <td>청운동</td>\n      <td>7</td>\n      <td>3</td>\n      <td>NaN</td>\n      <td>NaN</td>\n      <td>NaN</td>\n      <td>NaN</td>\n      <td>NaN</td>\n      <td>NaN</td>\n      <td>402</td>\n    </tr>\n    <tr>\n      <th>2</th>\n      <td>11110</td>\n      <td>10100</td>\n      <td>서울특별시</td>\n      <td>종로구</td>\n      <td>청운동</td>\n      <td>8</td>\n      <td>3</td>\n      <td>111104100288</td>\n      <td>자하문로35길</td>\n      <td>0</td>\n      <td>지상</td>\n      <td>5</td>\n      <td>0</td>\n      <td>214</td>\n    </tr>\n    <tr>\n      <th>3</th>\n      <td>11110</td>\n      <td>10100</td>\n      <td>서울특별시</td>\n      <td>종로구</td>\n      <td>청운동</td>\n      <td>15</td>\n      <td>5</td>\n      <td>111104100458</td>\n      <td>창의문로1길</td>\n      <td>0</td>\n      <td>지상</td>\n      <td>12</td>\n      <td>0</td>\n      <td>676</td>\n    </tr>\n    <tr>\n      <th>4</th>\n      <td>11110</td>\n      <td>10100</td>\n      <td>서울특별시</td>\n      <td>종로구</td>\n      <td>청운동</td>\n      <td>39</td>\n      <td>6</td>\n      <td>111103100012</td>\n      <td>자하문로</td>\n      <td>0</td>\n      <td>지상</td>\n      <td>131</td>\n      <td>0</td>\n      <td>1976</td>\n    </tr>\n    <tr>\n      <th>...</th>\n      <td>...</td>\n      <td>...</td>\n      <td>...</td>\n      <td>...</td>\n      <td>...</td>\n      <td>...</td>\n      <td>...</td>\n      <td>...</td>\n      <td>...</td>\n      <td>...</td>\n      <td>...</td>\n      <td>...</td>\n      <td>...</td>\n      <td>...</td>\n    </tr>\n    <tr>\n      <th>1352133</th>\n      <td>50130</td>\n      <td>32026</td>\n      <td>제주특별자치도</td>\n      <td>서귀포시</td>\n      <td>표선면 토산리</td>\n      <td>934</td>\n      <td>1</td>\n      <td>501303349238</td>\n      <td>중산간동로</td>\n      <td>0</td>\n      <td>지상</td>\n      <td>5503</td>\n      <td>0</td>\n      <td>434</td>\n    </tr>\n    <tr>\n      <th>1352134</th>\n      <td>50130</td>\n      <td>32026</td>\n      <td>제주특별자치도</td>\n      <td>서귀포시</td>\n      <td>표선면 토산리</td>\n      <td>1263</td>\n      <td>0</td>\n      <td>NaN</td>\n      <td>NaN</td>\n      <td>NaN</td>\n      <td>NaN</td>\n      <td>NaN</td>\n      <td>NaN</td>\n      <td>15</td>\n    </tr>\n    <tr>\n      <th>1352135</th>\n      <td>50130</td>\n      <td>32026</td>\n      <td>제주특별자치도</td>\n      <td>서귀포시</td>\n      <td>표선면 토산리</td>\n      <td>1310</td>\n      <td>0</td>\n      <td>501303350275</td>\n      <td>토산중앙로</td>\n      <td>0</td>\n      <td>지상</td>\n      <td>201</td>\n      <td>38</td>\n      <td>343</td>\n    </tr>\n    <tr>\n      <th>1352136</th>\n      <td>50130</td>\n      <td>32026</td>\n      <td>제주특별자치도</td>\n      <td>서귀포시</td>\n      <td>표선면 토산리</td>\n      <td>1366</td>\n      <td>1</td>\n      <td>501303349238</td>\n      <td>중산간동로</td>\n      <td>0</td>\n      <td>지상</td>\n      <td>5564</td>\n      <td>1</td>\n      <td>6164</td>\n    </tr>\n    <tr>\n      <th>1352137</th>\n      <td>50130</td>\n      <td>32026</td>\n      <td>제주특별자치도</td>\n      <td>서귀포시</td>\n      <td>표선면 토산리</td>\n      <td>1550</td>\n      <td>6</td>\n      <td>501304850977</td>\n      <td>토산중앙로346번길</td>\n      <td>0</td>\n      <td>지상</td>\n      <td>21</td>\n      <td>0</td>\n      <td>154</td>\n    </tr>\n  </tbody>\n</table>\n<p>1352138 rows × 14 columns</p>\n</div>"
     },
     "execution_count": 3,
     "metadata": {},
     "output_type": "execute_result"
    }
   ],
   "source": [
    "df = pd.read_table('../지번별에너지/01_월별지번별에너지사용량_전기/지번별에너지사용량_전기_202106/eais_elcty_202106.txt' , sep ='|')\n",
    "\n",
    "\n",
    "df_2 = pd.DataFrame(df ,  columns = df.columns)\n",
    "\n",
    "df_2.drop(['사용년월' , '순번' , '대지구분코드'] , axis = 1 , inplace = True)\n",
    "a = df_2.copy()\n",
    "a"
   ],
   "metadata": {
    "collapsed": false,
    "pycharm": {
     "name": "#%%\n"
    }
   }
  },
  {
   "cell_type": "code",
   "execution_count": 4,
   "outputs": [
    {
     "name": "stdout",
     "output_type": "stream",
     "text": [
      "<class 'pandas.core.frame.DataFrame'>\n",
      "<class 'pandas.core.series.Series'>\n"
     ]
    }
   ],
   "source": [
    "print(type(a))\n",
    "\n",
    "print(type(a['시군구코드']))"
   ],
   "metadata": {
    "collapsed": false,
    "pycharm": {
     "name": "#%%\n"
    }
   }
  },
  {
   "cell_type": "code",
   "execution_count": 5,
   "outputs": [
    {
     "name": "stdout",
     "output_type": "stream",
     "text": [
      "시군구코드         object\n",
      "법정동코드         object\n",
      "시도명           object\n",
      "시군구명          object\n",
      "법정동명          object\n",
      "본번            object\n",
      "부번            object\n",
      "새주소대로로코드     float64\n",
      "새주소대로로명       object\n",
      "새주소지상지하코드    float64\n",
      "새주소지상지하명      object\n",
      "새주소본번        float64\n",
      "새주소부번        float64\n",
      "사용량_KWH        int64\n",
      "dtype: object\n"
     ]
    }
   ],
   "source": [
    "a = a.astype({'시군구코드' : 'str' ,\n",
    "              '법정동코드' : 'str',\n",
    "              '본번' : 'str' ,\n",
    "              '부번' : 'str'})\n",
    "\n",
    "print(a.dtypes)"
   ],
   "metadata": {
    "collapsed": false,
    "pycharm": {
     "name": "#%%\n"
    }
   }
  },
  {
   "cell_type": "code",
   "execution_count": 6,
   "outputs": [
    {
     "data": {
      "text/plain": "         시군구코드  법정동코드      시도명  시군구명     법정동명    본번 부번     새주소대로로코드  \\\n0        11110  10100    서울특별시   종로구      청운동     5  0 111103100012   \n1        11110  10100    서울특별시   종로구      청운동     7  3          NaN   \n2        11110  10100    서울특별시   종로구      청운동     8  3 111104100288   \n3        11110  10100    서울특별시   종로구      청운동    15  5 111104100458   \n4        11110  10100    서울특별시   종로구      청운동    39  6 111103100012   \n...        ...    ...      ...   ...      ...   ... ..          ...   \n1352133  50130  32026  제주특별자치도  서귀포시  표선면 토산리   934  1 501303349238   \n1352134  50130  32026  제주특별자치도  서귀포시  표선면 토산리  1263  0          NaN   \n1352135  50130  32026  제주특별자치도  서귀포시  표선면 토산리  1310  0 501303350275   \n1352136  50130  32026  제주특별자치도  서귀포시  표선면 토산리  1366  1 501303349238   \n1352137  50130  32026  제주특별자치도  서귀포시  표선면 토산리  1550  6 501304850977   \n\n            새주소대로로명  새주소지상지하코드 새주소지상지하명  새주소본번  새주소부번  사용량_KWH  \n0              자하문로          0       지상    152      0     2551  \n1               NaN        NaN      NaN    NaN    NaN      402  \n2           자하문로35길          0       지상      5      0      214  \n3            창의문로1길          0       지상     12      0      676  \n4              자하문로          0       지상    131      0     1976  \n...             ...        ...      ...    ...    ...      ...  \n1352133       중산간동로          0       지상   5503      0      434  \n1352134         NaN        NaN      NaN    NaN    NaN       15  \n1352135       토산중앙로          0       지상    201     38      343  \n1352136       중산간동로          0       지상   5564      1     6164  \n1352137  토산중앙로346번길          0       지상     21      0      154  \n\n[1352138 rows x 14 columns]",
      "text/html": "<div>\n<style scoped>\n    .dataframe tbody tr th:only-of-type {\n        vertical-align: middle;\n    }\n\n    .dataframe tbody tr th {\n        vertical-align: top;\n    }\n\n    .dataframe thead th {\n        text-align: right;\n    }\n</style>\n<table border=\"1\" class=\"dataframe\">\n  <thead>\n    <tr style=\"text-align: right;\">\n      <th></th>\n      <th>시군구코드</th>\n      <th>법정동코드</th>\n      <th>시도명</th>\n      <th>시군구명</th>\n      <th>법정동명</th>\n      <th>본번</th>\n      <th>부번</th>\n      <th>새주소대로로코드</th>\n      <th>새주소대로로명</th>\n      <th>새주소지상지하코드</th>\n      <th>새주소지상지하명</th>\n      <th>새주소본번</th>\n      <th>새주소부번</th>\n      <th>사용량_KWH</th>\n    </tr>\n  </thead>\n  <tbody>\n    <tr>\n      <th>0</th>\n      <td>11110</td>\n      <td>10100</td>\n      <td>서울특별시</td>\n      <td>종로구</td>\n      <td>청운동</td>\n      <td>5</td>\n      <td>0</td>\n      <td>111103100012</td>\n      <td>자하문로</td>\n      <td>0</td>\n      <td>지상</td>\n      <td>152</td>\n      <td>0</td>\n      <td>2551</td>\n    </tr>\n    <tr>\n      <th>1</th>\n      <td>11110</td>\n      <td>10100</td>\n      <td>서울특별시</td>\n      <td>종로구</td>\n      <td>청운동</td>\n      <td>7</td>\n      <td>3</td>\n      <td>NaN</td>\n      <td>NaN</td>\n      <td>NaN</td>\n      <td>NaN</td>\n      <td>NaN</td>\n      <td>NaN</td>\n      <td>402</td>\n    </tr>\n    <tr>\n      <th>2</th>\n      <td>11110</td>\n      <td>10100</td>\n      <td>서울특별시</td>\n      <td>종로구</td>\n      <td>청운동</td>\n      <td>8</td>\n      <td>3</td>\n      <td>111104100288</td>\n      <td>자하문로35길</td>\n      <td>0</td>\n      <td>지상</td>\n      <td>5</td>\n      <td>0</td>\n      <td>214</td>\n    </tr>\n    <tr>\n      <th>3</th>\n      <td>11110</td>\n      <td>10100</td>\n      <td>서울특별시</td>\n      <td>종로구</td>\n      <td>청운동</td>\n      <td>15</td>\n      <td>5</td>\n      <td>111104100458</td>\n      <td>창의문로1길</td>\n      <td>0</td>\n      <td>지상</td>\n      <td>12</td>\n      <td>0</td>\n      <td>676</td>\n    </tr>\n    <tr>\n      <th>4</th>\n      <td>11110</td>\n      <td>10100</td>\n      <td>서울특별시</td>\n      <td>종로구</td>\n      <td>청운동</td>\n      <td>39</td>\n      <td>6</td>\n      <td>111103100012</td>\n      <td>자하문로</td>\n      <td>0</td>\n      <td>지상</td>\n      <td>131</td>\n      <td>0</td>\n      <td>1976</td>\n    </tr>\n    <tr>\n      <th>...</th>\n      <td>...</td>\n      <td>...</td>\n      <td>...</td>\n      <td>...</td>\n      <td>...</td>\n      <td>...</td>\n      <td>...</td>\n      <td>...</td>\n      <td>...</td>\n      <td>...</td>\n      <td>...</td>\n      <td>...</td>\n      <td>...</td>\n      <td>...</td>\n    </tr>\n    <tr>\n      <th>1352133</th>\n      <td>50130</td>\n      <td>32026</td>\n      <td>제주특별자치도</td>\n      <td>서귀포시</td>\n      <td>표선면 토산리</td>\n      <td>934</td>\n      <td>1</td>\n      <td>501303349238</td>\n      <td>중산간동로</td>\n      <td>0</td>\n      <td>지상</td>\n      <td>5503</td>\n      <td>0</td>\n      <td>434</td>\n    </tr>\n    <tr>\n      <th>1352134</th>\n      <td>50130</td>\n      <td>32026</td>\n      <td>제주특별자치도</td>\n      <td>서귀포시</td>\n      <td>표선면 토산리</td>\n      <td>1263</td>\n      <td>0</td>\n      <td>NaN</td>\n      <td>NaN</td>\n      <td>NaN</td>\n      <td>NaN</td>\n      <td>NaN</td>\n      <td>NaN</td>\n      <td>15</td>\n    </tr>\n    <tr>\n      <th>1352135</th>\n      <td>50130</td>\n      <td>32026</td>\n      <td>제주특별자치도</td>\n      <td>서귀포시</td>\n      <td>표선면 토산리</td>\n      <td>1310</td>\n      <td>0</td>\n      <td>501303350275</td>\n      <td>토산중앙로</td>\n      <td>0</td>\n      <td>지상</td>\n      <td>201</td>\n      <td>38</td>\n      <td>343</td>\n    </tr>\n    <tr>\n      <th>1352136</th>\n      <td>50130</td>\n      <td>32026</td>\n      <td>제주특별자치도</td>\n      <td>서귀포시</td>\n      <td>표선면 토산리</td>\n      <td>1366</td>\n      <td>1</td>\n      <td>501303349238</td>\n      <td>중산간동로</td>\n      <td>0</td>\n      <td>지상</td>\n      <td>5564</td>\n      <td>1</td>\n      <td>6164</td>\n    </tr>\n    <tr>\n      <th>1352137</th>\n      <td>50130</td>\n      <td>32026</td>\n      <td>제주특별자치도</td>\n      <td>서귀포시</td>\n      <td>표선면 토산리</td>\n      <td>1550</td>\n      <td>6</td>\n      <td>501304850977</td>\n      <td>토산중앙로346번길</td>\n      <td>0</td>\n      <td>지상</td>\n      <td>21</td>\n      <td>0</td>\n      <td>154</td>\n    </tr>\n  </tbody>\n</table>\n<p>1352138 rows × 14 columns</p>\n</div>"
     },
     "execution_count": 6,
     "metadata": {},
     "output_type": "execute_result"
    }
   ],
   "source": [
    "a"
   ],
   "metadata": {
    "collapsed": false,
    "pycharm": {
     "name": "#%%\n"
    }
   }
  },
  {
   "cell_type": "code",
   "execution_count": 7,
   "outputs": [
    {
     "data": {
      "text/plain": "              시군구법정동번지코드    본번 부번  사용량_KWH      시도명  시군구명     법정동명  \\\n0           111101010050     5  0     2551    서울특별시   종로구      청운동   \n1           111101010073     7  3      402    서울특별시   종로구      청운동   \n2           111101010083     8  3      214    서울특별시   종로구      청운동   \n3          1111010100155    15  5      676    서울특별시   종로구      청운동   \n4          1111010100396    39  6     1976    서울특별시   종로구      청운동   \n...                  ...   ... ..      ...      ...   ...      ...   \n1352133   50130320269341   934  1      434  제주특별자치도  서귀포시  표선면 토산리   \n1352134  501303202612630  1263  0       15  제주특별자치도  서귀포시  표선면 토산리   \n1352135  501303202613100  1310  0      343  제주특별자치도  서귀포시  표선면 토산리   \n1352136  501303202613661  1366  1     6164  제주특별자치도  서귀포시  표선면 토산리   \n1352137  501303202615506  1550  6      154  제주특별자치도  서귀포시  표선면 토산리   \n\n            새주소대로로코드     새주소대로로명 새주소본번 새주소부번  \n0       111103100012        자하문로   152     0  \n1                  -           -     -     -  \n2       111104100288     자하문로35길     5     0  \n3       111104100458      창의문로1길    12     0  \n4       111103100012        자하문로   131     0  \n...              ...         ...   ...   ...  \n1352133 501303349238       중산간동로  5503     0  \n1352134            -           -     -     -  \n1352135 501303350275       토산중앙로   201    38  \n1352136 501303349238       중산간동로  5564     1  \n1352137 501304850977  토산중앙로346번길    21     0  \n\n[1352138 rows x 11 columns]",
      "text/html": "<div>\n<style scoped>\n    .dataframe tbody tr th:only-of-type {\n        vertical-align: middle;\n    }\n\n    .dataframe tbody tr th {\n        vertical-align: top;\n    }\n\n    .dataframe thead th {\n        text-align: right;\n    }\n</style>\n<table border=\"1\" class=\"dataframe\">\n  <thead>\n    <tr style=\"text-align: right;\">\n      <th></th>\n      <th>시군구법정동번지코드</th>\n      <th>본번</th>\n      <th>부번</th>\n      <th>사용량_KWH</th>\n      <th>시도명</th>\n      <th>시군구명</th>\n      <th>법정동명</th>\n      <th>새주소대로로코드</th>\n      <th>새주소대로로명</th>\n      <th>새주소본번</th>\n      <th>새주소부번</th>\n    </tr>\n  </thead>\n  <tbody>\n    <tr>\n      <th>0</th>\n      <td>111101010050</td>\n      <td>5</td>\n      <td>0</td>\n      <td>2551</td>\n      <td>서울특별시</td>\n      <td>종로구</td>\n      <td>청운동</td>\n      <td>111103100012</td>\n      <td>자하문로</td>\n      <td>152</td>\n      <td>0</td>\n    </tr>\n    <tr>\n      <th>1</th>\n      <td>111101010073</td>\n      <td>7</td>\n      <td>3</td>\n      <td>402</td>\n      <td>서울특별시</td>\n      <td>종로구</td>\n      <td>청운동</td>\n      <td>-</td>\n      <td>-</td>\n      <td>-</td>\n      <td>-</td>\n    </tr>\n    <tr>\n      <th>2</th>\n      <td>111101010083</td>\n      <td>8</td>\n      <td>3</td>\n      <td>214</td>\n      <td>서울특별시</td>\n      <td>종로구</td>\n      <td>청운동</td>\n      <td>111104100288</td>\n      <td>자하문로35길</td>\n      <td>5</td>\n      <td>0</td>\n    </tr>\n    <tr>\n      <th>3</th>\n      <td>1111010100155</td>\n      <td>15</td>\n      <td>5</td>\n      <td>676</td>\n      <td>서울특별시</td>\n      <td>종로구</td>\n      <td>청운동</td>\n      <td>111104100458</td>\n      <td>창의문로1길</td>\n      <td>12</td>\n      <td>0</td>\n    </tr>\n    <tr>\n      <th>4</th>\n      <td>1111010100396</td>\n      <td>39</td>\n      <td>6</td>\n      <td>1976</td>\n      <td>서울특별시</td>\n      <td>종로구</td>\n      <td>청운동</td>\n      <td>111103100012</td>\n      <td>자하문로</td>\n      <td>131</td>\n      <td>0</td>\n    </tr>\n    <tr>\n      <th>...</th>\n      <td>...</td>\n      <td>...</td>\n      <td>...</td>\n      <td>...</td>\n      <td>...</td>\n      <td>...</td>\n      <td>...</td>\n      <td>...</td>\n      <td>...</td>\n      <td>...</td>\n      <td>...</td>\n    </tr>\n    <tr>\n      <th>1352133</th>\n      <td>50130320269341</td>\n      <td>934</td>\n      <td>1</td>\n      <td>434</td>\n      <td>제주특별자치도</td>\n      <td>서귀포시</td>\n      <td>표선면 토산리</td>\n      <td>501303349238</td>\n      <td>중산간동로</td>\n      <td>5503</td>\n      <td>0</td>\n    </tr>\n    <tr>\n      <th>1352134</th>\n      <td>501303202612630</td>\n      <td>1263</td>\n      <td>0</td>\n      <td>15</td>\n      <td>제주특별자치도</td>\n      <td>서귀포시</td>\n      <td>표선면 토산리</td>\n      <td>-</td>\n      <td>-</td>\n      <td>-</td>\n      <td>-</td>\n    </tr>\n    <tr>\n      <th>1352135</th>\n      <td>501303202613100</td>\n      <td>1310</td>\n      <td>0</td>\n      <td>343</td>\n      <td>제주특별자치도</td>\n      <td>서귀포시</td>\n      <td>표선면 토산리</td>\n      <td>501303350275</td>\n      <td>토산중앙로</td>\n      <td>201</td>\n      <td>38</td>\n    </tr>\n    <tr>\n      <th>1352136</th>\n      <td>501303202613661</td>\n      <td>1366</td>\n      <td>1</td>\n      <td>6164</td>\n      <td>제주특별자치도</td>\n      <td>서귀포시</td>\n      <td>표선면 토산리</td>\n      <td>501303349238</td>\n      <td>중산간동로</td>\n      <td>5564</td>\n      <td>1</td>\n    </tr>\n    <tr>\n      <th>1352137</th>\n      <td>501303202615506</td>\n      <td>1550</td>\n      <td>6</td>\n      <td>154</td>\n      <td>제주특별자치도</td>\n      <td>서귀포시</td>\n      <td>표선면 토산리</td>\n      <td>501304850977</td>\n      <td>토산중앙로346번길</td>\n      <td>21</td>\n      <td>0</td>\n    </tr>\n  </tbody>\n</table>\n<p>1352138 rows × 11 columns</p>\n</div>"
     },
     "execution_count": 7,
     "metadata": {},
     "output_type": "execute_result"
    }
   ],
   "source": [
    "df_3 = a.copy()\n",
    "\n",
    "df_3[\"시군구법정동코드\"]= a['시군구코드'] + a['법정동코드']\n",
    "df_3.drop(['시군구코드' , '법정동코드' , '새주소지상지하코드' , '새주소지상지하명'] ,axis = 1 , inplace = True)\n",
    "df_3[\"시군구법정동번지코드\"] = df_3[\"시군구법정동코드\"] + df_3[\"본번\"] + df_3[\"부번\"]\n",
    "columns2 = [\"시군구법정동번지코드\" ,\n",
    "             \"본번\", \"부번\" ,\"사용량_KWH\",\"시도명\"\t,\"시군구명\",\t\"법정동명\" ,\t\"새주소대로로코드\"\t,\"새주소대로로명\",\t\"새주소본번\"\t,\"새주소부번\"]\n",
    "df_3 = pd.DataFrame(df_3 ,  columns = columns2)\n",
    "df_3 = df_3.fillna('-')\n",
    "df_3"
   ],
   "metadata": {
    "collapsed": false,
    "pycharm": {
     "name": "#%%\n"
    }
   }
  },
  {
   "cell_type": "code",
   "execution_count": 8,
   "outputs": [
    {
     "name": "stdout",
     "output_type": "stream",
     "text": [
      "['강원도' '경기도' '경상남도' '경상북도' '광주광역시' '대구광역시' '대전광역시' '부산광역시' '서울특별시'\n",
      " '세종특별자치시' '울산광역시' '인천광역시' '전라남도' '전라북도' '제주특별자치도' '충청남도' '충청북도']\n",
      "<class 'numpy.ndarray'>\n"
     ]
    },
    {
     "data": {
      "text/plain": "             시군구법정동번지코드   본번  부번  사용량_KWH   시도명     시군구명     법정동명  \\\n676068  421301020032316  323  16     3007   강원도      원주시      평원동   \n725933   42770250211970  197   0      461   강원도      정선군  정선읍 봉양리   \n725932  427702502114710  147  10      203   강원도      정선군  정선읍 봉양리   \n725931  427702502114710  147  10      203   강원도      정선군  정선읍 봉양리   \n725930  427702502114610  146  10      503   강원도      정선군  정선읍 봉양리   \n...                 ...  ...  ..      ...   ...      ...      ...   \n772309   43114103008820  882   0     5810  충청북도  청주시 청원구      율량동   \n772310   43114103008820  882   0     5810  충청북도  청주시 청원구      율량동   \n772311   43114103008820  882   0     5810  충청북도  청주시 청원구      율량동   \n772313   43114103008930  893   0     1520  충청북도  청주시 청원구      율량동   \n772985   43113310303521  352   1       98  충청북도  청주시 흥덕구  강내면 월탄리   \n\n           새주소대로로코드   새주소대로로명 새주소본번 새주소부번  \n676068 421304457618      평원안길    25     0  \n725933 427704487142      봉양2길    11    20  \n725932 427704487144      봉양4길     8     0  \n725931 427704487144      봉양4길     6     0  \n725930 427704487145      봉양5길    13     0  \n...             ...       ...   ...   ...  \n772309 431144508575  율봉로175번길     6     0  \n772310 431144508575  율봉로175번길    10     0  \n772311 431144508575  율봉로175번길    10     6  \n772313 431143236064       공항로   134     0  \n772985 431134520541      월탄2길    11    24  \n\n[1352138 rows x 11 columns]",
      "text/html": "<div>\n<style scoped>\n    .dataframe tbody tr th:only-of-type {\n        vertical-align: middle;\n    }\n\n    .dataframe tbody tr th {\n        vertical-align: top;\n    }\n\n    .dataframe thead th {\n        text-align: right;\n    }\n</style>\n<table border=\"1\" class=\"dataframe\">\n  <thead>\n    <tr style=\"text-align: right;\">\n      <th></th>\n      <th>시군구법정동번지코드</th>\n      <th>본번</th>\n      <th>부번</th>\n      <th>사용량_KWH</th>\n      <th>시도명</th>\n      <th>시군구명</th>\n      <th>법정동명</th>\n      <th>새주소대로로코드</th>\n      <th>새주소대로로명</th>\n      <th>새주소본번</th>\n      <th>새주소부번</th>\n    </tr>\n  </thead>\n  <tbody>\n    <tr>\n      <th>676068</th>\n      <td>421301020032316</td>\n      <td>323</td>\n      <td>16</td>\n      <td>3007</td>\n      <td>강원도</td>\n      <td>원주시</td>\n      <td>평원동</td>\n      <td>421304457618</td>\n      <td>평원안길</td>\n      <td>25</td>\n      <td>0</td>\n    </tr>\n    <tr>\n      <th>725933</th>\n      <td>42770250211970</td>\n      <td>197</td>\n      <td>0</td>\n      <td>461</td>\n      <td>강원도</td>\n      <td>정선군</td>\n      <td>정선읍 봉양리</td>\n      <td>427704487142</td>\n      <td>봉양2길</td>\n      <td>11</td>\n      <td>20</td>\n    </tr>\n    <tr>\n      <th>725932</th>\n      <td>427702502114710</td>\n      <td>147</td>\n      <td>10</td>\n      <td>203</td>\n      <td>강원도</td>\n      <td>정선군</td>\n      <td>정선읍 봉양리</td>\n      <td>427704487144</td>\n      <td>봉양4길</td>\n      <td>8</td>\n      <td>0</td>\n    </tr>\n    <tr>\n      <th>725931</th>\n      <td>427702502114710</td>\n      <td>147</td>\n      <td>10</td>\n      <td>203</td>\n      <td>강원도</td>\n      <td>정선군</td>\n      <td>정선읍 봉양리</td>\n      <td>427704487144</td>\n      <td>봉양4길</td>\n      <td>6</td>\n      <td>0</td>\n    </tr>\n    <tr>\n      <th>725930</th>\n      <td>427702502114610</td>\n      <td>146</td>\n      <td>10</td>\n      <td>503</td>\n      <td>강원도</td>\n      <td>정선군</td>\n      <td>정선읍 봉양리</td>\n      <td>427704487145</td>\n      <td>봉양5길</td>\n      <td>13</td>\n      <td>0</td>\n    </tr>\n    <tr>\n      <th>...</th>\n      <td>...</td>\n      <td>...</td>\n      <td>...</td>\n      <td>...</td>\n      <td>...</td>\n      <td>...</td>\n      <td>...</td>\n      <td>...</td>\n      <td>...</td>\n      <td>...</td>\n      <td>...</td>\n    </tr>\n    <tr>\n      <th>772309</th>\n      <td>43114103008820</td>\n      <td>882</td>\n      <td>0</td>\n      <td>5810</td>\n      <td>충청북도</td>\n      <td>청주시 청원구</td>\n      <td>율량동</td>\n      <td>431144508575</td>\n      <td>율봉로175번길</td>\n      <td>6</td>\n      <td>0</td>\n    </tr>\n    <tr>\n      <th>772310</th>\n      <td>43114103008820</td>\n      <td>882</td>\n      <td>0</td>\n      <td>5810</td>\n      <td>충청북도</td>\n      <td>청주시 청원구</td>\n      <td>율량동</td>\n      <td>431144508575</td>\n      <td>율봉로175번길</td>\n      <td>10</td>\n      <td>0</td>\n    </tr>\n    <tr>\n      <th>772311</th>\n      <td>43114103008820</td>\n      <td>882</td>\n      <td>0</td>\n      <td>5810</td>\n      <td>충청북도</td>\n      <td>청주시 청원구</td>\n      <td>율량동</td>\n      <td>431144508575</td>\n      <td>율봉로175번길</td>\n      <td>10</td>\n      <td>6</td>\n    </tr>\n    <tr>\n      <th>772313</th>\n      <td>43114103008930</td>\n      <td>893</td>\n      <td>0</td>\n      <td>1520</td>\n      <td>충청북도</td>\n      <td>청주시 청원구</td>\n      <td>율량동</td>\n      <td>431143236064</td>\n      <td>공항로</td>\n      <td>134</td>\n      <td>0</td>\n    </tr>\n    <tr>\n      <th>772985</th>\n      <td>43113310303521</td>\n      <td>352</td>\n      <td>1</td>\n      <td>98</td>\n      <td>충청북도</td>\n      <td>청주시 흥덕구</td>\n      <td>강내면 월탄리</td>\n      <td>431134520541</td>\n      <td>월탄2길</td>\n      <td>11</td>\n      <td>24</td>\n    </tr>\n  </tbody>\n</table>\n<p>1352138 rows × 11 columns</p>\n</div>"
     },
     "execution_count": 8,
     "metadata": {},
     "output_type": "execute_result"
    }
   ],
   "source": [
    "df_3  = df_3.sort_values(by=['시도명'])\n",
    "Sido = df_3[\"시도명\"].unique()\n",
    "print(Sido)\n",
    "print(type(Sido))\n",
    "\n",
    "df_3"
   ],
   "metadata": {
    "collapsed": false,
    "pycharm": {
     "name": "#%%\n"
    }
   }
  },
  {
   "cell_type": "code",
   "execution_count": 33,
   "outputs": [],
   "source": [
    "for i in range(len(Sido)):\n",
    "    Sido_2 = (df_3['시도명'] == Sido[i])\n",
    "\n",
    "    a = df_3.loc[Sido_2]\n",
    "\n",
    "    a.to_csv(\"{}.csv\".format(Sido[i]) , mode = 'w' , encoding= 'cp949')"
   ],
   "metadata": {
    "collapsed": false,
    "pycharm": {
     "name": "#%%\n"
    }
   }
  },
  {
   "cell_type": "code",
   "execution_count": null,
   "outputs": [],
   "source": [],
   "metadata": {
    "collapsed": false,
    "pycharm": {
     "name": "#%%\n"
    }
   }
  }
 ],
 "metadata": {
  "kernelspec": {
   "display_name": "Python 3",
   "language": "python",
   "name": "python3"
  },
  "language_info": {
   "codemirror_mode": {
    "name": "ipython",
    "version": 2
   },
   "file_extension": ".py",
   "mimetype": "text/x-python",
   "name": "python",
   "nbconvert_exporter": "python",
   "pygments_lexer": "ipython2",
   "version": "2.7.6"
  }
 },
 "nbformat": 4,
 "nbformat_minor": 0
}